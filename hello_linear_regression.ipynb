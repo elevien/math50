{
  "nbformat": 4,
  "nbformat_minor": 0,
  "metadata": {
    "colab": {
      "name": "hello_linear_regression.ipynb",
      "provenance": [],
      "collapsed_sections": [],
      "toc_visible": true,
      "authorship_tag": "ABX9TyPekkDqFux97C2XscAEhtqf",
      "include_colab_link": true
    },
    "kernelspec": {
      "name": "python3",
      "display_name": "Python 3"
    },
    "language_info": {
      "name": "python"
    }
  },
  "cells": [
    {
      "cell_type": "markdown",
      "metadata": {
        "id": "view-in-github",
        "colab_type": "text"
      },
      "source": [
        "<a href=\"https://colab.research.google.com/github/elevien/math50/blob/main/hello_linear_regression.ipynb\" target=\"_parent\"><img src=\"https://colab.research.google.com/assets/colab-badge.svg\" alt=\"Open In Colab\"/></a>"
      ]
    },
    {
      "cell_type": "code",
      "metadata": {
        "id": "t_DNSvwMROSj"
      },
      "source": [
        "import numpy as np\n",
        "import statsmodels.api as sm\n",
        "import matplotlib.pyplot as plt\n",
        "import pandas as pd # for working with data\n",
        "%config InlineBackend.figure_format = \"svg\""
      ],
      "execution_count": null,
      "outputs": []
    },
    {
      "cell_type": "markdown",
      "metadata": {
        "id": "sN3ikicNbAw_"
      },
      "source": [
        "# Introduction\n",
        "\n",
        "\n",
        "\n",
        "In In this notebook, we will learn how to implement a simple linear regression in python notebook, we will learn how to implement a simple linear regression in pythonIn this notebook, we will learn how to implement a simple linear regression in python. The basic idea of a linear regression (or really any regression model) is that we make some observation ${\\bf y} = (y_1,y_2,\\dots,y_N)^T$ corresponding to another set of observation ${\\bf x} = (x_1,\\dots,x_N)^T$. What we are interested in, is the relaltionship between $x$ and $y$. The goal is often to make predictions about the value of $y$ corresponding to some $x$ we did not measure. Or, we might be interested in a causal relationship between $x$ and $y$. For a linear regression model, we will *assume* that the relationship between $x$ and $y$ is linear:\n",
        "\\begin{equation}\n",
        "y = ax + b. \n",
        "\\end{equation}\n",
        "\n",
        "What we want to learn: \n",
        "* How do we find $a$ and $b$ from the data? We will mostly be doing this with a computer, but it's good to understand the theory (the equations) as well. \n",
        "* What assumptions do we make when we obtian these estimates of $a$ and $b$? What happens if the assumptions are not satisfied in the real data? (they never are!)\n",
        "* Once we find $a$ and $b$, how do we quantify the uncertianty in our estimates? \n",
        "\n",
        "\n",
        "\n",
        "\n",
        "**Reading**\n",
        "\n",
        " Gleman, Hill and Vehtari - Chap. 6, 7 and 8\n",
        "\n",
        " <a href = \"https://www.bostonglobe.com/2020/06/11/opinion/statistical-paradox-police-killings/\"> The statistical paradox of police killings </a>\n",
        "\n",
        "**Due date**\n",
        "\n",
        " TBD\n"
      ]
    },
    {
      "cell_type": "markdown",
      "metadata": {
        "id": "VbTeMzro0fTU"
      },
      "source": [
        "# Performing a linear regression on fake data"
      ]
    },
    {
      "cell_type": "markdown",
      "metadata": {
        "id": "vOAeq5ymRrh_"
      },
      "source": [
        " Whenever I learn a new statistical technique, I always like to start with fake, or simulated data. When we use simulated data, we know the growth truth and can therefore see exactly what aspects of the data the method can and cannot help us understand. Generating fake data also forces us to make our assumptions explicit. For now, let's generate fake data which obeys the assumptions of a linear regression (what are these assumptions?)\n",
        "\n",
        "\n"
      ]
    },
    {
      "cell_type": "code",
      "metadata": {
        "id": "m0mVVxJ6SMav"
      },
      "source": [
        "# we already saw this in the first python notebook\n",
        "# but here is a fake linear regression data\n",
        "x = np.linspace(0,1,5)\n",
        "a = 1.  # the slope\n",
        "b = 2. # the intercept\n",
        "sigma = 0.1\n",
        "y = a*x + b + np.random.normal(0,sigma,len(x)) "
      ],
      "execution_count": null,
      "outputs": []
    },
    {
      "cell_type": "code",
      "metadata": {
        "colab": {
          "base_uri": "https://localhost:8080/",
          "height": 243
        },
        "id": "npIoHh-XSgfM",
        "outputId": "46e38605-bdc9-4330-87b3-2697ee0fafcb"
      },
      "source": [
        "fig,ax = plt.subplots(figsize=(5,2))\n",
        "ax.plot(x,y,\"o\",label=\"noisy measurments\")\n",
        "ax.plot(x,a*x + b,\"-\",label=\"true relation\")\n",
        "ax.set_xlabel(\"x\")\n",
        "ax.set_ylabel(\"y\")\n",
        "ax.legend()"
      ],
      "execution_count": null,
      "outputs": [
        {
          "output_type": "execute_result",
          "data": {
            "text/plain": [
              "<matplotlib.legend.Legend at 0x7fce63d2efd0>"
            ]
          },
          "metadata": {
            "tags": []
          },
          "execution_count": 30
        },
        {
          "output_type": "display_data",
          "data": {
            "text/plain": [
              "<Figure size 360x144 with 1 Axes>"
            ],
            "image/svg+xml": "<?xml version=\"1.0\" encoding=\"utf-8\" standalone=\"no\"?>\n<!DOCTYPE svg PUBLIC \"-//W3C//DTD SVG 1.1//EN\"\n  \"http://www.w3.org/Graphics/SVG/1.1/DTD/svg11.dtd\">\n<!-- Created with matplotlib (https://matplotlib.org/) -->\n<svg height=\"153.47625pt\" version=\"1.1\" viewBox=\"0 0 336.34375 153.47625\" width=\"336.34375pt\" xmlns=\"http://www.w3.org/2000/svg\" xmlns:xlink=\"http://www.w3.org/1999/xlink\">\n <defs>\n  <style type=\"text/css\">\n*{stroke-linecap:butt;stroke-linejoin:round;}\n  </style>\n </defs>\n <g id=\"figure_1\">\n  <g id=\"patch_1\">\n   <path d=\"M 0 153.47625 \nL 336.34375 153.47625 \nL 336.34375 0 \nL 0 0 \nz\n\" style=\"fill:none;\"/>\n  </g>\n  <g id=\"axes_1\">\n   <g id=\"patch_2\">\n    <path d=\"M 50.14375 115.92 \nL 329.14375 115.92 \nL 329.14375 7.2 \nL 50.14375 7.2 \nz\n\" style=\"fill:#ffffff;\"/>\n   </g>\n   <g id=\"matplotlib.axis_1\">\n    <g id=\"xtick_1\">\n     <g id=\"line2d_1\">\n      <defs>\n       <path d=\"M 0 0 \nL 0 3.5 \n\" id=\"m4e4192e9d0\" style=\"stroke:#000000;stroke-width:0.8;\"/>\n      </defs>\n      <g>\n       <use style=\"stroke:#000000;stroke-width:0.8;\" x=\"62.825568\" xlink:href=\"#m4e4192e9d0\" y=\"115.92\"/>\n      </g>\n     </g>\n     <g id=\"text_1\">\n      <!-- 0.0 -->\n      <defs>\n       <path d=\"M 31.78125 66.40625 \nQ 24.171875 66.40625 20.328125 58.90625 \nQ 16.5 51.421875 16.5 36.375 \nQ 16.5 21.390625 20.328125 13.890625 \nQ 24.171875 6.390625 31.78125 6.390625 \nQ 39.453125 6.390625 43.28125 13.890625 \nQ 47.125 21.390625 47.125 36.375 \nQ 47.125 51.421875 43.28125 58.90625 \nQ 39.453125 66.40625 31.78125 66.40625 \nz\nM 31.78125 74.21875 \nQ 44.046875 74.21875 50.515625 64.515625 \nQ 56.984375 54.828125 56.984375 36.375 \nQ 56.984375 17.96875 50.515625 8.265625 \nQ 44.046875 -1.421875 31.78125 -1.421875 \nQ 19.53125 -1.421875 13.0625 8.265625 \nQ 6.59375 17.96875 6.59375 36.375 \nQ 6.59375 54.828125 13.0625 64.515625 \nQ 19.53125 74.21875 31.78125 74.21875 \nz\n\" id=\"DejaVuSans-48\"/>\n       <path d=\"M 10.6875 12.40625 \nL 21 12.40625 \nL 21 0 \nL 10.6875 0 \nz\n\" id=\"DejaVuSans-46\"/>\n      </defs>\n      <g transform=\"translate(54.874006 130.518438)scale(0.1 -0.1)\">\n       <use xlink:href=\"#DejaVuSans-48\"/>\n       <use x=\"63.623047\" xlink:href=\"#DejaVuSans-46\"/>\n       <use x=\"95.410156\" xlink:href=\"#DejaVuSans-48\"/>\n      </g>\n     </g>\n    </g>\n    <g id=\"xtick_2\">\n     <g id=\"line2d_2\">\n      <g>\n       <use style=\"stroke:#000000;stroke-width:0.8;\" x=\"113.552841\" xlink:href=\"#m4e4192e9d0\" y=\"115.92\"/>\n      </g>\n     </g>\n     <g id=\"text_2\">\n      <!-- 0.2 -->\n      <defs>\n       <path d=\"M 19.1875 8.296875 \nL 53.609375 8.296875 \nL 53.609375 0 \nL 7.328125 0 \nL 7.328125 8.296875 \nQ 12.9375 14.109375 22.625 23.890625 \nQ 32.328125 33.6875 34.8125 36.53125 \nQ 39.546875 41.84375 41.421875 45.53125 \nQ 43.3125 49.21875 43.3125 52.78125 \nQ 43.3125 58.59375 39.234375 62.25 \nQ 35.15625 65.921875 28.609375 65.921875 \nQ 23.96875 65.921875 18.8125 64.3125 \nQ 13.671875 62.703125 7.8125 59.421875 \nL 7.8125 69.390625 \nQ 13.765625 71.78125 18.9375 73 \nQ 24.125 74.21875 28.421875 74.21875 \nQ 39.75 74.21875 46.484375 68.546875 \nQ 53.21875 62.890625 53.21875 53.421875 \nQ 53.21875 48.921875 51.53125 44.890625 \nQ 49.859375 40.875 45.40625 35.40625 \nQ 44.1875 33.984375 37.640625 27.21875 \nQ 31.109375 20.453125 19.1875 8.296875 \nz\n\" id=\"DejaVuSans-50\"/>\n      </defs>\n      <g transform=\"translate(105.601278 130.518438)scale(0.1 -0.1)\">\n       <use xlink:href=\"#DejaVuSans-48\"/>\n       <use x=\"63.623047\" xlink:href=\"#DejaVuSans-46\"/>\n       <use x=\"95.410156\" xlink:href=\"#DejaVuSans-50\"/>\n      </g>\n     </g>\n    </g>\n    <g id=\"xtick_3\">\n     <g id=\"line2d_3\">\n      <g>\n       <use style=\"stroke:#000000;stroke-width:0.8;\" x=\"164.280114\" xlink:href=\"#m4e4192e9d0\" y=\"115.92\"/>\n      </g>\n     </g>\n     <g id=\"text_3\">\n      <!-- 0.4 -->\n      <defs>\n       <path d=\"M 37.796875 64.3125 \nL 12.890625 25.390625 \nL 37.796875 25.390625 \nz\nM 35.203125 72.90625 \nL 47.609375 72.90625 \nL 47.609375 25.390625 \nL 58.015625 25.390625 \nL 58.015625 17.1875 \nL 47.609375 17.1875 \nL 47.609375 0 \nL 37.796875 0 \nL 37.796875 17.1875 \nL 4.890625 17.1875 \nL 4.890625 26.703125 \nz\n\" id=\"DejaVuSans-52\"/>\n      </defs>\n      <g transform=\"translate(156.328551 130.518438)scale(0.1 -0.1)\">\n       <use xlink:href=\"#DejaVuSans-48\"/>\n       <use x=\"63.623047\" xlink:href=\"#DejaVuSans-46\"/>\n       <use x=\"95.410156\" xlink:href=\"#DejaVuSans-52\"/>\n      </g>\n     </g>\n    </g>\n    <g id=\"xtick_4\">\n     <g id=\"line2d_4\">\n      <g>\n       <use style=\"stroke:#000000;stroke-width:0.8;\" x=\"215.007386\" xlink:href=\"#m4e4192e9d0\" y=\"115.92\"/>\n      </g>\n     </g>\n     <g id=\"text_4\">\n      <!-- 0.6 -->\n      <defs>\n       <path d=\"M 33.015625 40.375 \nQ 26.375 40.375 22.484375 35.828125 \nQ 18.609375 31.296875 18.609375 23.390625 \nQ 18.609375 15.53125 22.484375 10.953125 \nQ 26.375 6.390625 33.015625 6.390625 \nQ 39.65625 6.390625 43.53125 10.953125 \nQ 47.40625 15.53125 47.40625 23.390625 \nQ 47.40625 31.296875 43.53125 35.828125 \nQ 39.65625 40.375 33.015625 40.375 \nz\nM 52.59375 71.296875 \nL 52.59375 62.3125 \nQ 48.875 64.0625 45.09375 64.984375 \nQ 41.3125 65.921875 37.59375 65.921875 \nQ 27.828125 65.921875 22.671875 59.328125 \nQ 17.53125 52.734375 16.796875 39.40625 \nQ 19.671875 43.65625 24.015625 45.921875 \nQ 28.375 48.1875 33.59375 48.1875 \nQ 44.578125 48.1875 50.953125 41.515625 \nQ 57.328125 34.859375 57.328125 23.390625 \nQ 57.328125 12.15625 50.6875 5.359375 \nQ 44.046875 -1.421875 33.015625 -1.421875 \nQ 20.359375 -1.421875 13.671875 8.265625 \nQ 6.984375 17.96875 6.984375 36.375 \nQ 6.984375 53.65625 15.1875 63.9375 \nQ 23.390625 74.21875 37.203125 74.21875 \nQ 40.921875 74.21875 44.703125 73.484375 \nQ 48.484375 72.75 52.59375 71.296875 \nz\n\" id=\"DejaVuSans-54\"/>\n      </defs>\n      <g transform=\"translate(207.055824 130.518438)scale(0.1 -0.1)\">\n       <use xlink:href=\"#DejaVuSans-48\"/>\n       <use x=\"63.623047\" xlink:href=\"#DejaVuSans-46\"/>\n       <use x=\"95.410156\" xlink:href=\"#DejaVuSans-54\"/>\n      </g>\n     </g>\n    </g>\n    <g id=\"xtick_5\">\n     <g id=\"line2d_5\">\n      <g>\n       <use style=\"stroke:#000000;stroke-width:0.8;\" x=\"265.734659\" xlink:href=\"#m4e4192e9d0\" y=\"115.92\"/>\n      </g>\n     </g>\n     <g id=\"text_5\">\n      <!-- 0.8 -->\n      <defs>\n       <path d=\"M 31.78125 34.625 \nQ 24.75 34.625 20.71875 30.859375 \nQ 16.703125 27.09375 16.703125 20.515625 \nQ 16.703125 13.921875 20.71875 10.15625 \nQ 24.75 6.390625 31.78125 6.390625 \nQ 38.8125 6.390625 42.859375 10.171875 \nQ 46.921875 13.96875 46.921875 20.515625 \nQ 46.921875 27.09375 42.890625 30.859375 \nQ 38.875 34.625 31.78125 34.625 \nz\nM 21.921875 38.8125 \nQ 15.578125 40.375 12.03125 44.71875 \nQ 8.5 49.078125 8.5 55.328125 \nQ 8.5 64.0625 14.71875 69.140625 \nQ 20.953125 74.21875 31.78125 74.21875 \nQ 42.671875 74.21875 48.875 69.140625 \nQ 55.078125 64.0625 55.078125 55.328125 \nQ 55.078125 49.078125 51.53125 44.71875 \nQ 48 40.375 41.703125 38.8125 \nQ 48.828125 37.15625 52.796875 32.3125 \nQ 56.78125 27.484375 56.78125 20.515625 \nQ 56.78125 9.90625 50.3125 4.234375 \nQ 43.84375 -1.421875 31.78125 -1.421875 \nQ 19.734375 -1.421875 13.25 4.234375 \nQ 6.78125 9.90625 6.78125 20.515625 \nQ 6.78125 27.484375 10.78125 32.3125 \nQ 14.796875 37.15625 21.921875 38.8125 \nz\nM 18.3125 54.390625 \nQ 18.3125 48.734375 21.84375 45.5625 \nQ 25.390625 42.390625 31.78125 42.390625 \nQ 38.140625 42.390625 41.71875 45.5625 \nQ 45.3125 48.734375 45.3125 54.390625 \nQ 45.3125 60.0625 41.71875 63.234375 \nQ 38.140625 66.40625 31.78125 66.40625 \nQ 25.390625 66.40625 21.84375 63.234375 \nQ 18.3125 60.0625 18.3125 54.390625 \nz\n\" id=\"DejaVuSans-56\"/>\n      </defs>\n      <g transform=\"translate(257.783097 130.518438)scale(0.1 -0.1)\">\n       <use xlink:href=\"#DejaVuSans-48\"/>\n       <use x=\"63.623047\" xlink:href=\"#DejaVuSans-46\"/>\n       <use x=\"95.410156\" xlink:href=\"#DejaVuSans-56\"/>\n      </g>\n     </g>\n    </g>\n    <g id=\"xtick_6\">\n     <g id=\"line2d_6\">\n      <g>\n       <use style=\"stroke:#000000;stroke-width:0.8;\" x=\"316.461932\" xlink:href=\"#m4e4192e9d0\" y=\"115.92\"/>\n      </g>\n     </g>\n     <g id=\"text_6\">\n      <!-- 1.0 -->\n      <defs>\n       <path d=\"M 12.40625 8.296875 \nL 28.515625 8.296875 \nL 28.515625 63.921875 \nL 10.984375 60.40625 \nL 10.984375 69.390625 \nL 28.421875 72.90625 \nL 38.28125 72.90625 \nL 38.28125 8.296875 \nL 54.390625 8.296875 \nL 54.390625 0 \nL 12.40625 0 \nz\n\" id=\"DejaVuSans-49\"/>\n      </defs>\n      <g transform=\"translate(308.510369 130.518438)scale(0.1 -0.1)\">\n       <use xlink:href=\"#DejaVuSans-49\"/>\n       <use x=\"63.623047\" xlink:href=\"#DejaVuSans-46\"/>\n       <use x=\"95.410156\" xlink:href=\"#DejaVuSans-48\"/>\n      </g>\n     </g>\n    </g>\n    <g id=\"text_7\">\n     <!-- x -->\n     <defs>\n      <path d=\"M 54.890625 54.6875 \nL 35.109375 28.078125 \nL 55.90625 0 \nL 45.3125 0 \nL 29.390625 21.484375 \nL 13.484375 0 \nL 2.875 0 \nL 24.125 28.609375 \nL 4.6875 54.6875 \nL 15.28125 54.6875 \nL 29.78125 35.203125 \nL 44.28125 54.6875 \nz\n\" id=\"DejaVuSans-120\"/>\n     </defs>\n     <g transform=\"translate(186.684375 144.196562)scale(0.1 -0.1)\">\n      <use xlink:href=\"#DejaVuSans-120\"/>\n     </g>\n    </g>\n   </g>\n   <g id=\"matplotlib.axis_2\">\n    <g id=\"ytick_1\">\n     <g id=\"line2d_7\">\n      <defs>\n       <path d=\"M 0 0 \nL -3.5 0 \n\" id=\"m3dde7de5da\" style=\"stroke:#000000;stroke-width:0.8;\"/>\n      </defs>\n      <g>\n       <use style=\"stroke:#000000;stroke-width:0.8;\" x=\"50.14375\" xlink:href=\"#m3dde7de5da\" y=\"110.978182\"/>\n      </g>\n     </g>\n     <g id=\"text_8\">\n      <!-- 2.00 -->\n      <g transform=\"translate(20.878125 114.777401)scale(0.1 -0.1)\">\n       <use xlink:href=\"#DejaVuSans-50\"/>\n       <use x=\"63.623047\" xlink:href=\"#DejaVuSans-46\"/>\n       <use x=\"95.410156\" xlink:href=\"#DejaVuSans-48\"/>\n       <use x=\"159.033203\" xlink:href=\"#DejaVuSans-48\"/>\n      </g>\n     </g>\n    </g>\n    <g id=\"ytick_2\">\n     <g id=\"line2d_8\">\n      <g>\n       <use style=\"stroke:#000000;stroke-width:0.8;\" x=\"50.14375\" xlink:href=\"#m3dde7de5da\" y=\"88.454345\"/>\n      </g>\n     </g>\n     <g id=\"text_9\">\n      <!-- 2.25 -->\n      <defs>\n       <path d=\"M 10.796875 72.90625 \nL 49.515625 72.90625 \nL 49.515625 64.59375 \nL 19.828125 64.59375 \nL 19.828125 46.734375 \nQ 21.96875 47.46875 24.109375 47.828125 \nQ 26.265625 48.1875 28.421875 48.1875 \nQ 40.625 48.1875 47.75 41.5 \nQ 54.890625 34.8125 54.890625 23.390625 \nQ 54.890625 11.625 47.5625 5.09375 \nQ 40.234375 -1.421875 26.90625 -1.421875 \nQ 22.3125 -1.421875 17.546875 -0.640625 \nQ 12.796875 0.140625 7.71875 1.703125 \nL 7.71875 11.625 \nQ 12.109375 9.234375 16.796875 8.0625 \nQ 21.484375 6.890625 26.703125 6.890625 \nQ 35.15625 6.890625 40.078125 11.328125 \nQ 45.015625 15.765625 45.015625 23.390625 \nQ 45.015625 31 40.078125 35.4375 \nQ 35.15625 39.890625 26.703125 39.890625 \nQ 22.75 39.890625 18.8125 39.015625 \nQ 14.890625 38.140625 10.796875 36.28125 \nz\n\" id=\"DejaVuSans-53\"/>\n      </defs>\n      <g transform=\"translate(20.878125 92.253564)scale(0.1 -0.1)\">\n       <use xlink:href=\"#DejaVuSans-50\"/>\n       <use x=\"63.623047\" xlink:href=\"#DejaVuSans-46\"/>\n       <use x=\"95.410156\" xlink:href=\"#DejaVuSans-50\"/>\n       <use x=\"159.033203\" xlink:href=\"#DejaVuSans-53\"/>\n      </g>\n     </g>\n    </g>\n    <g id=\"ytick_3\">\n     <g id=\"line2d_9\">\n      <g>\n       <use style=\"stroke:#000000;stroke-width:0.8;\" x=\"50.14375\" xlink:href=\"#m3dde7de5da\" y=\"65.930508\"/>\n      </g>\n     </g>\n     <g id=\"text_10\">\n      <!-- 2.50 -->\n      <g transform=\"translate(20.878125 69.729727)scale(0.1 -0.1)\">\n       <use xlink:href=\"#DejaVuSans-50\"/>\n       <use x=\"63.623047\" xlink:href=\"#DejaVuSans-46\"/>\n       <use x=\"95.410156\" xlink:href=\"#DejaVuSans-53\"/>\n       <use x=\"159.033203\" xlink:href=\"#DejaVuSans-48\"/>\n      </g>\n     </g>\n    </g>\n    <g id=\"ytick_4\">\n     <g id=\"line2d_10\">\n      <g>\n       <use style=\"stroke:#000000;stroke-width:0.8;\" x=\"50.14375\" xlink:href=\"#m3dde7de5da\" y=\"43.406671\"/>\n      </g>\n     </g>\n     <g id=\"text_11\">\n      <!-- 2.75 -->\n      <defs>\n       <path d=\"M 8.203125 72.90625 \nL 55.078125 72.90625 \nL 55.078125 68.703125 \nL 28.609375 0 \nL 18.3125 0 \nL 43.21875 64.59375 \nL 8.203125 64.59375 \nz\n\" id=\"DejaVuSans-55\"/>\n      </defs>\n      <g transform=\"translate(20.878125 47.20589)scale(0.1 -0.1)\">\n       <use xlink:href=\"#DejaVuSans-50\"/>\n       <use x=\"63.623047\" xlink:href=\"#DejaVuSans-46\"/>\n       <use x=\"95.410156\" xlink:href=\"#DejaVuSans-55\"/>\n       <use x=\"159.033203\" xlink:href=\"#DejaVuSans-53\"/>\n      </g>\n     </g>\n    </g>\n    <g id=\"ytick_5\">\n     <g id=\"line2d_11\">\n      <g>\n       <use style=\"stroke:#000000;stroke-width:0.8;\" x=\"50.14375\" xlink:href=\"#m3dde7de5da\" y=\"20.882834\"/>\n      </g>\n     </g>\n     <g id=\"text_12\">\n      <!-- 3.00 -->\n      <defs>\n       <path d=\"M 40.578125 39.3125 \nQ 47.65625 37.796875 51.625 33 \nQ 55.609375 28.21875 55.609375 21.1875 \nQ 55.609375 10.40625 48.1875 4.484375 \nQ 40.765625 -1.421875 27.09375 -1.421875 \nQ 22.515625 -1.421875 17.65625 -0.515625 \nQ 12.796875 0.390625 7.625 2.203125 \nL 7.625 11.71875 \nQ 11.71875 9.328125 16.59375 8.109375 \nQ 21.484375 6.890625 26.8125 6.890625 \nQ 36.078125 6.890625 40.9375 10.546875 \nQ 45.796875 14.203125 45.796875 21.1875 \nQ 45.796875 27.640625 41.28125 31.265625 \nQ 36.765625 34.90625 28.71875 34.90625 \nL 20.21875 34.90625 \nL 20.21875 43.015625 \nL 29.109375 43.015625 \nQ 36.375 43.015625 40.234375 45.921875 \nQ 44.09375 48.828125 44.09375 54.296875 \nQ 44.09375 59.90625 40.109375 62.90625 \nQ 36.140625 65.921875 28.71875 65.921875 \nQ 24.65625 65.921875 20.015625 65.03125 \nQ 15.375 64.15625 9.8125 62.3125 \nL 9.8125 71.09375 \nQ 15.4375 72.65625 20.34375 73.4375 \nQ 25.25 74.21875 29.59375 74.21875 \nQ 40.828125 74.21875 47.359375 69.109375 \nQ 53.90625 64.015625 53.90625 55.328125 \nQ 53.90625 49.265625 50.4375 45.09375 \nQ 46.96875 40.921875 40.578125 39.3125 \nz\n\" id=\"DejaVuSans-51\"/>\n      </defs>\n      <g transform=\"translate(20.878125 24.682053)scale(0.1 -0.1)\">\n       <use xlink:href=\"#DejaVuSans-51\"/>\n       <use x=\"63.623047\" xlink:href=\"#DejaVuSans-46\"/>\n       <use x=\"95.410156\" xlink:href=\"#DejaVuSans-48\"/>\n       <use x=\"159.033203\" xlink:href=\"#DejaVuSans-48\"/>\n      </g>\n     </g>\n    </g>\n    <g id=\"text_13\">\n     <!-- y -->\n     <defs>\n      <path d=\"M 32.171875 -5.078125 \nQ 28.375 -14.84375 24.75 -17.8125 \nQ 21.140625 -20.796875 15.09375 -20.796875 \nL 7.90625 -20.796875 \nL 7.90625 -13.28125 \nL 13.1875 -13.28125 \nQ 16.890625 -13.28125 18.9375 -11.515625 \nQ 21 -9.765625 23.484375 -3.21875 \nL 25.09375 0.875 \nL 2.984375 54.6875 \nL 12.5 54.6875 \nL 29.59375 11.921875 \nL 46.6875 54.6875 \nL 56.203125 54.6875 \nz\n\" id=\"DejaVuSans-121\"/>\n     </defs>\n     <g transform=\"translate(14.798438 64.519375)rotate(-90)scale(0.1 -0.1)\">\n      <use xlink:href=\"#DejaVuSans-121\"/>\n     </g>\n    </g>\n   </g>\n   <g id=\"line2d_12\">\n    <defs>\n     <path d=\"M 0 3 \nC 0.795609 3 1.55874 2.683901 2.12132 2.12132 \nC 2.683901 1.55874 3 0.795609 3 0 \nC 3 -0.795609 2.683901 -1.55874 2.12132 -2.12132 \nC 1.55874 -2.683901 0.795609 -3 0 -3 \nC -0.795609 -3 -1.55874 -2.683901 -2.12132 -2.12132 \nC -2.683901 -1.55874 -3 -0.795609 -3 0 \nC -3 0.795609 -2.683901 1.55874 -2.12132 2.12132 \nC -1.55874 2.683901 -0.795609 3 0 3 \nz\n\" id=\"m552c7dd6a6\" style=\"stroke:#1f77b4;\"/>\n    </defs>\n    <g clip-path=\"url(#pb3c1aeac8d)\">\n     <use style=\"fill:#1f77b4;stroke:#1f77b4;\" x=\"62.825568\" xlink:href=\"#m552c7dd6a6\" y=\"102.894037\"/>\n     <use style=\"fill:#1f77b4;stroke:#1f77b4;\" x=\"126.234659\" xlink:href=\"#m552c7dd6a6\" y=\"105.926979\"/>\n     <use style=\"fill:#1f77b4;stroke:#1f77b4;\" x=\"189.64375\" xlink:href=\"#m552c7dd6a6\" y=\"61.028992\"/>\n     <use style=\"fill:#1f77b4;stroke:#1f77b4;\" x=\"253.052841\" xlink:href=\"#m552c7dd6a6\" y=\"33.624846\"/>\n     <use style=\"fill:#1f77b4;stroke:#1f77b4;\" x=\"316.461932\" xlink:href=\"#m552c7dd6a6\" y=\"12.141818\"/>\n    </g>\n   </g>\n   <g id=\"line2d_13\">\n    <path clip-path=\"url(#pb3c1aeac8d)\" d=\"M 62.825568 110.978182 \nL 126.234659 88.454345 \nL 189.64375 65.930508 \nL 253.052841 43.406671 \nL 316.461932 20.882834 \n\" style=\"fill:none;stroke:#ff7f0e;stroke-linecap:square;stroke-width:1.5;\"/>\n   </g>\n   <g id=\"patch_3\">\n    <path d=\"M 50.14375 115.92 \nL 50.14375 7.2 \n\" style=\"fill:none;stroke:#000000;stroke-linecap:square;stroke-linejoin:miter;stroke-width:0.8;\"/>\n   </g>\n   <g id=\"patch_4\">\n    <path d=\"M 329.14375 115.92 \nL 329.14375 7.2 \n\" style=\"fill:none;stroke:#000000;stroke-linecap:square;stroke-linejoin:miter;stroke-width:0.8;\"/>\n   </g>\n   <g id=\"patch_5\">\n    <path d=\"M 50.14375 115.92 \nL 329.14375 115.92 \n\" style=\"fill:none;stroke:#000000;stroke-linecap:square;stroke-linejoin:miter;stroke-width:0.8;\"/>\n   </g>\n   <g id=\"patch_6\">\n    <path d=\"M 50.14375 7.2 \nL 329.14375 7.2 \n\" style=\"fill:none;stroke:#000000;stroke-linecap:square;stroke-linejoin:miter;stroke-width:0.8;\"/>\n   </g>\n   <g id=\"legend_1\">\n    <g id=\"patch_7\">\n     <path d=\"M 57.14375 44.55625 \nL 187.55 44.55625 \nQ 189.55 44.55625 189.55 42.55625 \nL 189.55 14.2 \nQ 189.55 12.2 187.55 12.2 \nL 57.14375 12.2 \nQ 55.14375 12.2 55.14375 14.2 \nL 55.14375 42.55625 \nQ 55.14375 44.55625 57.14375 44.55625 \nz\n\" style=\"fill:#ffffff;opacity:0.8;stroke:#cccccc;stroke-linejoin:miter;\"/>\n    </g>\n    <g id=\"line2d_14\"/>\n    <g id=\"line2d_15\">\n     <g>\n      <use style=\"fill:#1f77b4;stroke:#1f77b4;\" x=\"69.14375\" xlink:href=\"#m552c7dd6a6\" y=\"20.298437\"/>\n     </g>\n    </g>\n    <g id=\"text_14\">\n     <!-- noisy measurments -->\n     <defs>\n      <path d=\"M 54.890625 33.015625 \nL 54.890625 0 \nL 45.90625 0 \nL 45.90625 32.71875 \nQ 45.90625 40.484375 42.875 44.328125 \nQ 39.84375 48.1875 33.796875 48.1875 \nQ 26.515625 48.1875 22.3125 43.546875 \nQ 18.109375 38.921875 18.109375 30.90625 \nL 18.109375 0 \nL 9.078125 0 \nL 9.078125 54.6875 \nL 18.109375 54.6875 \nL 18.109375 46.1875 \nQ 21.34375 51.125 25.703125 53.5625 \nQ 30.078125 56 35.796875 56 \nQ 45.21875 56 50.046875 50.171875 \nQ 54.890625 44.34375 54.890625 33.015625 \nz\n\" id=\"DejaVuSans-110\"/>\n      <path d=\"M 30.609375 48.390625 \nQ 23.390625 48.390625 19.1875 42.75 \nQ 14.984375 37.109375 14.984375 27.296875 \nQ 14.984375 17.484375 19.15625 11.84375 \nQ 23.34375 6.203125 30.609375 6.203125 \nQ 37.796875 6.203125 41.984375 11.859375 \nQ 46.1875 17.53125 46.1875 27.296875 \nQ 46.1875 37.015625 41.984375 42.703125 \nQ 37.796875 48.390625 30.609375 48.390625 \nz\nM 30.609375 56 \nQ 42.328125 56 49.015625 48.375 \nQ 55.71875 40.765625 55.71875 27.296875 \nQ 55.71875 13.875 49.015625 6.21875 \nQ 42.328125 -1.421875 30.609375 -1.421875 \nQ 18.84375 -1.421875 12.171875 6.21875 \nQ 5.515625 13.875 5.515625 27.296875 \nQ 5.515625 40.765625 12.171875 48.375 \nQ 18.84375 56 30.609375 56 \nz\n\" id=\"DejaVuSans-111\"/>\n      <path d=\"M 9.421875 54.6875 \nL 18.40625 54.6875 \nL 18.40625 0 \nL 9.421875 0 \nz\nM 9.421875 75.984375 \nL 18.40625 75.984375 \nL 18.40625 64.59375 \nL 9.421875 64.59375 \nz\n\" id=\"DejaVuSans-105\"/>\n      <path d=\"M 44.28125 53.078125 \nL 44.28125 44.578125 \nQ 40.484375 46.53125 36.375 47.5 \nQ 32.28125 48.484375 27.875 48.484375 \nQ 21.1875 48.484375 17.84375 46.4375 \nQ 14.5 44.390625 14.5 40.28125 \nQ 14.5 37.15625 16.890625 35.375 \nQ 19.28125 33.59375 26.515625 31.984375 \nL 29.59375 31.296875 \nQ 39.15625 29.25 43.1875 25.515625 \nQ 47.21875 21.78125 47.21875 15.09375 \nQ 47.21875 7.46875 41.1875 3.015625 \nQ 35.15625 -1.421875 24.609375 -1.421875 \nQ 20.21875 -1.421875 15.453125 -0.5625 \nQ 10.6875 0.296875 5.421875 2 \nL 5.421875 11.28125 \nQ 10.40625 8.6875 15.234375 7.390625 \nQ 20.0625 6.109375 24.8125 6.109375 \nQ 31.15625 6.109375 34.5625 8.28125 \nQ 37.984375 10.453125 37.984375 14.40625 \nQ 37.984375 18.0625 35.515625 20.015625 \nQ 33.0625 21.96875 24.703125 23.78125 \nL 21.578125 24.515625 \nQ 13.234375 26.265625 9.515625 29.90625 \nQ 5.8125 33.546875 5.8125 39.890625 \nQ 5.8125 47.609375 11.28125 51.796875 \nQ 16.75 56 26.8125 56 \nQ 31.78125 56 36.171875 55.265625 \nQ 40.578125 54.546875 44.28125 53.078125 \nz\n\" id=\"DejaVuSans-115\"/>\n      <path id=\"DejaVuSans-32\"/>\n      <path d=\"M 52 44.1875 \nQ 55.375 50.25 60.0625 53.125 \nQ 64.75 56 71.09375 56 \nQ 79.640625 56 84.28125 50.015625 \nQ 88.921875 44.046875 88.921875 33.015625 \nL 88.921875 0 \nL 79.890625 0 \nL 79.890625 32.71875 \nQ 79.890625 40.578125 77.09375 44.375 \nQ 74.3125 48.1875 68.609375 48.1875 \nQ 61.625 48.1875 57.5625 43.546875 \nQ 53.515625 38.921875 53.515625 30.90625 \nL 53.515625 0 \nL 44.484375 0 \nL 44.484375 32.71875 \nQ 44.484375 40.625 41.703125 44.40625 \nQ 38.921875 48.1875 33.109375 48.1875 \nQ 26.21875 48.1875 22.15625 43.53125 \nQ 18.109375 38.875 18.109375 30.90625 \nL 18.109375 0 \nL 9.078125 0 \nL 9.078125 54.6875 \nL 18.109375 54.6875 \nL 18.109375 46.1875 \nQ 21.1875 51.21875 25.484375 53.609375 \nQ 29.78125 56 35.6875 56 \nQ 41.65625 56 45.828125 52.96875 \nQ 50 49.953125 52 44.1875 \nz\n\" id=\"DejaVuSans-109\"/>\n      <path d=\"M 56.203125 29.59375 \nL 56.203125 25.203125 \nL 14.890625 25.203125 \nQ 15.484375 15.921875 20.484375 11.0625 \nQ 25.484375 6.203125 34.421875 6.203125 \nQ 39.59375 6.203125 44.453125 7.46875 \nQ 49.3125 8.734375 54.109375 11.28125 \nL 54.109375 2.78125 \nQ 49.265625 0.734375 44.1875 -0.34375 \nQ 39.109375 -1.421875 33.890625 -1.421875 \nQ 20.796875 -1.421875 13.15625 6.1875 \nQ 5.515625 13.8125 5.515625 26.8125 \nQ 5.515625 40.234375 12.765625 48.109375 \nQ 20.015625 56 32.328125 56 \nQ 43.359375 56 49.78125 48.890625 \nQ 56.203125 41.796875 56.203125 29.59375 \nz\nM 47.21875 32.234375 \nQ 47.125 39.59375 43.09375 43.984375 \nQ 39.0625 48.390625 32.421875 48.390625 \nQ 24.90625 48.390625 20.390625 44.140625 \nQ 15.875 39.890625 15.1875 32.171875 \nz\n\" id=\"DejaVuSans-101\"/>\n      <path d=\"M 34.28125 27.484375 \nQ 23.390625 27.484375 19.1875 25 \nQ 14.984375 22.515625 14.984375 16.5 \nQ 14.984375 11.71875 18.140625 8.90625 \nQ 21.296875 6.109375 26.703125 6.109375 \nQ 34.1875 6.109375 38.703125 11.40625 \nQ 43.21875 16.703125 43.21875 25.484375 \nL 43.21875 27.484375 \nz\nM 52.203125 31.203125 \nL 52.203125 0 \nL 43.21875 0 \nL 43.21875 8.296875 \nQ 40.140625 3.328125 35.546875 0.953125 \nQ 30.953125 -1.421875 24.3125 -1.421875 \nQ 15.921875 -1.421875 10.953125 3.296875 \nQ 6 8.015625 6 15.921875 \nQ 6 25.140625 12.171875 29.828125 \nQ 18.359375 34.515625 30.609375 34.515625 \nL 43.21875 34.515625 \nL 43.21875 35.40625 \nQ 43.21875 41.609375 39.140625 45 \nQ 35.0625 48.390625 27.6875 48.390625 \nQ 23 48.390625 18.546875 47.265625 \nQ 14.109375 46.140625 10.015625 43.890625 \nL 10.015625 52.203125 \nQ 14.9375 54.109375 19.578125 55.046875 \nQ 24.21875 56 28.609375 56 \nQ 40.484375 56 46.34375 49.84375 \nQ 52.203125 43.703125 52.203125 31.203125 \nz\n\" id=\"DejaVuSans-97\"/>\n      <path d=\"M 8.5 21.578125 \nL 8.5 54.6875 \nL 17.484375 54.6875 \nL 17.484375 21.921875 \nQ 17.484375 14.15625 20.5 10.265625 \nQ 23.53125 6.390625 29.59375 6.390625 \nQ 36.859375 6.390625 41.078125 11.03125 \nQ 45.3125 15.671875 45.3125 23.6875 \nL 45.3125 54.6875 \nL 54.296875 54.6875 \nL 54.296875 0 \nL 45.3125 0 \nL 45.3125 8.40625 \nQ 42.046875 3.421875 37.71875 1 \nQ 33.40625 -1.421875 27.6875 -1.421875 \nQ 18.265625 -1.421875 13.375 4.4375 \nQ 8.5 10.296875 8.5 21.578125 \nz\nM 31.109375 56 \nz\n\" id=\"DejaVuSans-117\"/>\n      <path d=\"M 41.109375 46.296875 \nQ 39.59375 47.171875 37.8125 47.578125 \nQ 36.03125 48 33.890625 48 \nQ 26.265625 48 22.1875 43.046875 \nQ 18.109375 38.09375 18.109375 28.8125 \nL 18.109375 0 \nL 9.078125 0 \nL 9.078125 54.6875 \nL 18.109375 54.6875 \nL 18.109375 46.1875 \nQ 20.953125 51.171875 25.484375 53.578125 \nQ 30.03125 56 36.53125 56 \nQ 37.453125 56 38.578125 55.875 \nQ 39.703125 55.765625 41.0625 55.515625 \nz\n\" id=\"DejaVuSans-114\"/>\n      <path d=\"M 18.3125 70.21875 \nL 18.3125 54.6875 \nL 36.8125 54.6875 \nL 36.8125 47.703125 \nL 18.3125 47.703125 \nL 18.3125 18.015625 \nQ 18.3125 11.328125 20.140625 9.421875 \nQ 21.96875 7.515625 27.59375 7.515625 \nL 36.8125 7.515625 \nL 36.8125 0 \nL 27.59375 0 \nQ 17.1875 0 13.234375 3.875 \nQ 9.28125 7.765625 9.28125 18.015625 \nL 9.28125 47.703125 \nL 2.6875 47.703125 \nL 2.6875 54.6875 \nL 9.28125 54.6875 \nL 9.28125 70.21875 \nz\n\" id=\"DejaVuSans-116\"/>\n     </defs>\n     <g transform=\"translate(87.14375 23.798437)scale(0.1 -0.1)\">\n      <use xlink:href=\"#DejaVuSans-110\"/>\n      <use x=\"63.378906\" xlink:href=\"#DejaVuSans-111\"/>\n      <use x=\"124.560547\" xlink:href=\"#DejaVuSans-105\"/>\n      <use x=\"152.34375\" xlink:href=\"#DejaVuSans-115\"/>\n      <use x=\"204.443359\" xlink:href=\"#DejaVuSans-121\"/>\n      <use x=\"263.623047\" xlink:href=\"#DejaVuSans-32\"/>\n      <use x=\"295.410156\" xlink:href=\"#DejaVuSans-109\"/>\n      <use x=\"392.822266\" xlink:href=\"#DejaVuSans-101\"/>\n      <use x=\"454.345703\" xlink:href=\"#DejaVuSans-97\"/>\n      <use x=\"515.625\" xlink:href=\"#DejaVuSans-115\"/>\n      <use x=\"567.724609\" xlink:href=\"#DejaVuSans-117\"/>\n      <use x=\"631.103516\" xlink:href=\"#DejaVuSans-114\"/>\n      <use x=\"670.466797\" xlink:href=\"#DejaVuSans-109\"/>\n      <use x=\"767.878906\" xlink:href=\"#DejaVuSans-101\"/>\n      <use x=\"829.402344\" xlink:href=\"#DejaVuSans-110\"/>\n      <use x=\"892.78125\" xlink:href=\"#DejaVuSans-116\"/>\n      <use x=\"931.990234\" xlink:href=\"#DejaVuSans-115\"/>\n     </g>\n    </g>\n    <g id=\"line2d_16\">\n     <path d=\"M 59.14375 34.976562 \nL 79.14375 34.976562 \n\" style=\"fill:none;stroke:#ff7f0e;stroke-linecap:square;stroke-width:1.5;\"/>\n    </g>\n    <g id=\"line2d_17\"/>\n    <g id=\"text_15\">\n     <!-- true relation -->\n     <defs>\n      <path d=\"M 9.421875 75.984375 \nL 18.40625 75.984375 \nL 18.40625 0 \nL 9.421875 0 \nz\n\" id=\"DejaVuSans-108\"/>\n     </defs>\n     <g transform=\"translate(87.14375 38.476562)scale(0.1 -0.1)\">\n      <use xlink:href=\"#DejaVuSans-116\"/>\n      <use x=\"39.208984\" xlink:href=\"#DejaVuSans-114\"/>\n      <use x=\"80.322266\" xlink:href=\"#DejaVuSans-117\"/>\n      <use x=\"143.701172\" xlink:href=\"#DejaVuSans-101\"/>\n      <use x=\"205.224609\" xlink:href=\"#DejaVuSans-32\"/>\n      <use x=\"237.011719\" xlink:href=\"#DejaVuSans-114\"/>\n      <use x=\"275.875\" xlink:href=\"#DejaVuSans-101\"/>\n      <use x=\"337.398438\" xlink:href=\"#DejaVuSans-108\"/>\n      <use x=\"365.181641\" xlink:href=\"#DejaVuSans-97\"/>\n      <use x=\"426.460938\" xlink:href=\"#DejaVuSans-116\"/>\n      <use x=\"465.669922\" xlink:href=\"#DejaVuSans-105\"/>\n      <use x=\"493.453125\" xlink:href=\"#DejaVuSans-111\"/>\n      <use x=\"554.634766\" xlink:href=\"#DejaVuSans-110\"/>\n     </g>\n    </g>\n   </g>\n  </g>\n </g>\n <defs>\n  <clipPath id=\"pb3c1aeac8d\">\n   <rect height=\"108.72\" width=\"279\" x=\"50.14375\" y=\"7.2\"/>\n  </clipPath>\n </defs>\n</svg>\n"
          },
          "metadata": {
            "tags": [],
            "needs_background": "light"
          }
        }
      ]
    },
    {
      "cell_type": "code",
      "metadata": {
        "colab": {
          "base_uri": "https://localhost:8080/"
        },
        "id": "Xd5noqy4TfFu",
        "outputId": "5ba1d392-0b21-4f8b-ffdc-ba66d35b8cf0"
      },
      "source": [
        "# we will use the statsmodels package imported above to fit the linear regression \n",
        "# the command is sm.OLS(y, X), you can check out the help by typing help(sm.OLS)\n",
        "# and you'll see there is a lot going on, the import thing is the parameters.\n",
        " \n",
        "# We need to give OLS y, the observed or response variable, and x, the input variable. \n",
        "# but it likes the input to be in a matrix form where each row contains the numbers \n",
        "# that appear in front of the coefficents a,b\n",
        "X = sm.add_constant(x)\n",
        "X"
      ],
      "execution_count": null,
      "outputs": [
        {
          "output_type": "execute_result",
          "data": {
            "text/plain": [
              "array([[1.  , 0.  ],\n",
              "       [1.  , 0.25],\n",
              "       [1.  , 0.5 ],\n",
              "       [1.  , 0.75],\n",
              "       [1.  , 1.  ]])"
            ]
          },
          "metadata": {
            "tags": []
          },
          "execution_count": 8
        }
      ]
    },
    {
      "cell_type": "code",
      "metadata": {
        "id": "aAVTTrsuUYRR"
      },
      "source": [
        " # this first command creates the \"model\" object, which is all the information \n",
        " # about the data and the statistical model (linear regression)\n",
        " # (compare this to r code in the textbook)\n",
        " model= sm.OLS(y,X) \n",
        " # and this commend actually does the computations which give the results\n",
        "results = model.fit()"
      ],
      "execution_count": null,
      "outputs": []
    },
    {
      "cell_type": "code",
      "metadata": {
        "colab": {
          "base_uri": "https://localhost:8080/"
        },
        "id": "sQvxkK4GUnwZ",
        "outputId": "fdd02e07-07dd-4996-c428-12265ec33ca2"
      },
      "source": [
        "print(results.summary())"
      ],
      "execution_count": null,
      "outputs": [
        {
          "output_type": "stream",
          "text": [
            "                            OLS Regression Results                            \n",
            "==============================================================================\n",
            "Dep. Variable:                      y   R-squared:                       0.939\n",
            "Model:                            OLS   Adj. R-squared:                  0.919\n",
            "Method:                 Least Squares   F-statistic:                     46.24\n",
            "Date:                Tue, 27 Jul 2021   Prob (F-statistic):            0.00650\n",
            "Time:                        00:46:07   Log-Likelihood:                 4.5783\n",
            "No. Observations:                   5   AIC:                            -5.157\n",
            "Df Residuals:                       3   BIC:                            -5.938\n",
            "Df Model:                           1                                         \n",
            "Covariance Type:            nonrobust                                         \n",
            "==============================================================================\n",
            "                 coef    std err          t      P>|t|      [0.025      0.975]\n",
            "------------------------------------------------------------------------------\n",
            "const          1.9288      0.097     19.916      0.000       1.621       2.237\n",
            "x1             1.0755      0.158      6.800      0.007       0.572       1.579\n",
            "==============================================================================\n",
            "Omnibus:                          nan   Durbin-Watson:                   2.753\n",
            "Prob(Omnibus):                    nan   Jarque-Bera (JB):                0.798\n",
            "Skew:                           0.962   Prob(JB):                        0.671\n",
            "Kurtosis:                       2.638   Cond. No.                         3.61\n",
            "==============================================================================\n",
            "\n",
            "Warnings:\n",
            "[1] Standard Errors assume that the covariance matrix of the errors is correctly specified.\n"
          ],
          "name": "stdout"
        },
        {
          "output_type": "stream",
          "text": [
            "/usr/local/lib/python3.7/dist-packages/statsmodels/stats/stattools.py:71: ValueWarning: omni_normtest is not valid with less than 8 observations; 5 samples were given.\n",
            "  \"samples were given.\" % int(n), ValueWarning)\n"
          ],
          "name": "stderr"
        }
      ]
    },
    {
      "cell_type": "code",
      "metadata": {
        "colab": {
          "base_uri": "https://localhost:8080/"
        },
        "id": "_j6r-mxgVpfB",
        "outputId": "e47b0cd4-6003-4aaa-d76d-f6e41ff4d940"
      },
      "source": [
        ""
      ],
      "execution_count": null,
      "outputs": [
        {
          "output_type": "execute_result",
          "data": {
            "text/plain": [
              "<statsmodels.regression.linear_model.RegressionResultsWrapper at 0x7f37ac5c58d0>"
            ]
          },
          "metadata": {
            "tags": []
          },
          "execution_count": 33
        }
      ]
    },
    {
      "cell_type": "code",
      "metadata": {
        "id": "cIz_NRCCWAW0"
      },
      "source": [
        "# there is lot going on here, but the most important thing is \n",
        "# the parameters cont (the intercept b) and x1 (the slope)\n",
        "# we can get these using the params attribute of results:\n",
        "b_fit,a_fit = results.params"
      ],
      "execution_count": null,
      "outputs": []
    },
    {
      "cell_type": "code",
      "metadata": {
        "colab": {
          "base_uri": "https://localhost:8080/",
          "height": 243
        },
        "id": "OcVEXqw6WL1H",
        "outputId": "7d7038d6-0e34-4c87-c9be-e2247f3c4450"
      },
      "source": [
        "# now let's plot it and compare to the data\n",
        "fig,ax = plt.subplots(figsize=(5,2))\n",
        "ax.plot(x,y,\"o\",label=\"noisy measurments\")\n",
        "ax.plot(x,a*x + b,\"-\",label=\"true relation\")\n",
        "ax.plot(x,a_fit*x + b_fit,\"--\",label=\"fit\")\n",
        "ax.set_xlabel(\"x\")\n",
        "ax.set_ylabel(\"y\")\n",
        "ax.legend()"
      ],
      "execution_count": null,
      "outputs": [
        {
          "output_type": "execute_result",
          "data": {
            "text/plain": [
              "<matplotlib.legend.Legend at 0x7f37abbc8150>"
            ]
          },
          "metadata": {
            "tags": []
          },
          "execution_count": 68
        },
        {
          "output_type": "display_data",
          "data": {
            "text/plain": [
              "<Figure size 360x144 with 1 Axes>"
            ],
            "image/svg+xml": "<?xml version=\"1.0\" encoding=\"utf-8\" standalone=\"no\"?>\n<!DOCTYPE svg PUBLIC \"-//W3C//DTD SVG 1.1//EN\"\n  \"http://www.w3.org/Graphics/SVG/1.1/DTD/svg11.dtd\">\n<!-- Created with matplotlib (https://matplotlib.org/) -->\n<svg height=\"153.47625pt\" version=\"1.1\" viewBox=\"0 0 336.34375 153.47625\" width=\"336.34375pt\" xmlns=\"http://www.w3.org/2000/svg\" xmlns:xlink=\"http://www.w3.org/1999/xlink\">\n <defs>\n  <style type=\"text/css\">\n*{stroke-linecap:butt;stroke-linejoin:round;}\n  </style>\n </defs>\n <g id=\"figure_1\">\n  <g id=\"patch_1\">\n   <path d=\"M 0 153.47625 \nL 336.34375 153.47625 \nL 336.34375 0 \nL 0 0 \nz\n\" style=\"fill:none;\"/>\n  </g>\n  <g id=\"axes_1\">\n   <g id=\"patch_2\">\n    <path d=\"M 50.14375 115.92 \nL 329.14375 115.92 \nL 329.14375 7.2 \nL 50.14375 7.2 \nz\n\" style=\"fill:#ffffff;\"/>\n   </g>\n   <g id=\"matplotlib.axis_1\">\n    <g id=\"xtick_1\">\n     <g id=\"line2d_1\">\n      <defs>\n       <path d=\"M 0 0 \nL 0 3.5 \n\" id=\"m7a7d81bef8\" style=\"stroke:#000000;stroke-width:0.8;\"/>\n      </defs>\n      <g>\n       <use style=\"stroke:#000000;stroke-width:0.8;\" x=\"62.825568\" xlink:href=\"#m7a7d81bef8\" y=\"115.92\"/>\n      </g>\n     </g>\n     <g id=\"text_1\">\n      <!-- 0.0 -->\n      <defs>\n       <path d=\"M 31.78125 66.40625 \nQ 24.171875 66.40625 20.328125 58.90625 \nQ 16.5 51.421875 16.5 36.375 \nQ 16.5 21.390625 20.328125 13.890625 \nQ 24.171875 6.390625 31.78125 6.390625 \nQ 39.453125 6.390625 43.28125 13.890625 \nQ 47.125 21.390625 47.125 36.375 \nQ 47.125 51.421875 43.28125 58.90625 \nQ 39.453125 66.40625 31.78125 66.40625 \nz\nM 31.78125 74.21875 \nQ 44.046875 74.21875 50.515625 64.515625 \nQ 56.984375 54.828125 56.984375 36.375 \nQ 56.984375 17.96875 50.515625 8.265625 \nQ 44.046875 -1.421875 31.78125 -1.421875 \nQ 19.53125 -1.421875 13.0625 8.265625 \nQ 6.59375 17.96875 6.59375 36.375 \nQ 6.59375 54.828125 13.0625 64.515625 \nQ 19.53125 74.21875 31.78125 74.21875 \nz\n\" id=\"DejaVuSans-48\"/>\n       <path d=\"M 10.6875 12.40625 \nL 21 12.40625 \nL 21 0 \nL 10.6875 0 \nz\n\" id=\"DejaVuSans-46\"/>\n      </defs>\n      <g transform=\"translate(54.874006 130.518438)scale(0.1 -0.1)\">\n       <use xlink:href=\"#DejaVuSans-48\"/>\n       <use x=\"63.623047\" xlink:href=\"#DejaVuSans-46\"/>\n       <use x=\"95.410156\" xlink:href=\"#DejaVuSans-48\"/>\n      </g>\n     </g>\n    </g>\n    <g id=\"xtick_2\">\n     <g id=\"line2d_2\">\n      <g>\n       <use style=\"stroke:#000000;stroke-width:0.8;\" x=\"113.552841\" xlink:href=\"#m7a7d81bef8\" y=\"115.92\"/>\n      </g>\n     </g>\n     <g id=\"text_2\">\n      <!-- 0.2 -->\n      <defs>\n       <path d=\"M 19.1875 8.296875 \nL 53.609375 8.296875 \nL 53.609375 0 \nL 7.328125 0 \nL 7.328125 8.296875 \nQ 12.9375 14.109375 22.625 23.890625 \nQ 32.328125 33.6875 34.8125 36.53125 \nQ 39.546875 41.84375 41.421875 45.53125 \nQ 43.3125 49.21875 43.3125 52.78125 \nQ 43.3125 58.59375 39.234375 62.25 \nQ 35.15625 65.921875 28.609375 65.921875 \nQ 23.96875 65.921875 18.8125 64.3125 \nQ 13.671875 62.703125 7.8125 59.421875 \nL 7.8125 69.390625 \nQ 13.765625 71.78125 18.9375 73 \nQ 24.125 74.21875 28.421875 74.21875 \nQ 39.75 74.21875 46.484375 68.546875 \nQ 53.21875 62.890625 53.21875 53.421875 \nQ 53.21875 48.921875 51.53125 44.890625 \nQ 49.859375 40.875 45.40625 35.40625 \nQ 44.1875 33.984375 37.640625 27.21875 \nQ 31.109375 20.453125 19.1875 8.296875 \nz\n\" id=\"DejaVuSans-50\"/>\n      </defs>\n      <g transform=\"translate(105.601278 130.518438)scale(0.1 -0.1)\">\n       <use xlink:href=\"#DejaVuSans-48\"/>\n       <use x=\"63.623047\" xlink:href=\"#DejaVuSans-46\"/>\n       <use x=\"95.410156\" xlink:href=\"#DejaVuSans-50\"/>\n      </g>\n     </g>\n    </g>\n    <g id=\"xtick_3\">\n     <g id=\"line2d_3\">\n      <g>\n       <use style=\"stroke:#000000;stroke-width:0.8;\" x=\"164.280114\" xlink:href=\"#m7a7d81bef8\" y=\"115.92\"/>\n      </g>\n     </g>\n     <g id=\"text_3\">\n      <!-- 0.4 -->\n      <defs>\n       <path d=\"M 37.796875 64.3125 \nL 12.890625 25.390625 \nL 37.796875 25.390625 \nz\nM 35.203125 72.90625 \nL 47.609375 72.90625 \nL 47.609375 25.390625 \nL 58.015625 25.390625 \nL 58.015625 17.1875 \nL 47.609375 17.1875 \nL 47.609375 0 \nL 37.796875 0 \nL 37.796875 17.1875 \nL 4.890625 17.1875 \nL 4.890625 26.703125 \nz\n\" id=\"DejaVuSans-52\"/>\n      </defs>\n      <g transform=\"translate(156.328551 130.518438)scale(0.1 -0.1)\">\n       <use xlink:href=\"#DejaVuSans-48\"/>\n       <use x=\"63.623047\" xlink:href=\"#DejaVuSans-46\"/>\n       <use x=\"95.410156\" xlink:href=\"#DejaVuSans-52\"/>\n      </g>\n     </g>\n    </g>\n    <g id=\"xtick_4\">\n     <g id=\"line2d_4\">\n      <g>\n       <use style=\"stroke:#000000;stroke-width:0.8;\" x=\"215.007386\" xlink:href=\"#m7a7d81bef8\" y=\"115.92\"/>\n      </g>\n     </g>\n     <g id=\"text_4\">\n      <!-- 0.6 -->\n      <defs>\n       <path d=\"M 33.015625 40.375 \nQ 26.375 40.375 22.484375 35.828125 \nQ 18.609375 31.296875 18.609375 23.390625 \nQ 18.609375 15.53125 22.484375 10.953125 \nQ 26.375 6.390625 33.015625 6.390625 \nQ 39.65625 6.390625 43.53125 10.953125 \nQ 47.40625 15.53125 47.40625 23.390625 \nQ 47.40625 31.296875 43.53125 35.828125 \nQ 39.65625 40.375 33.015625 40.375 \nz\nM 52.59375 71.296875 \nL 52.59375 62.3125 \nQ 48.875 64.0625 45.09375 64.984375 \nQ 41.3125 65.921875 37.59375 65.921875 \nQ 27.828125 65.921875 22.671875 59.328125 \nQ 17.53125 52.734375 16.796875 39.40625 \nQ 19.671875 43.65625 24.015625 45.921875 \nQ 28.375 48.1875 33.59375 48.1875 \nQ 44.578125 48.1875 50.953125 41.515625 \nQ 57.328125 34.859375 57.328125 23.390625 \nQ 57.328125 12.15625 50.6875 5.359375 \nQ 44.046875 -1.421875 33.015625 -1.421875 \nQ 20.359375 -1.421875 13.671875 8.265625 \nQ 6.984375 17.96875 6.984375 36.375 \nQ 6.984375 53.65625 15.1875 63.9375 \nQ 23.390625 74.21875 37.203125 74.21875 \nQ 40.921875 74.21875 44.703125 73.484375 \nQ 48.484375 72.75 52.59375 71.296875 \nz\n\" id=\"DejaVuSans-54\"/>\n      </defs>\n      <g transform=\"translate(207.055824 130.518438)scale(0.1 -0.1)\">\n       <use xlink:href=\"#DejaVuSans-48\"/>\n       <use x=\"63.623047\" xlink:href=\"#DejaVuSans-46\"/>\n       <use x=\"95.410156\" xlink:href=\"#DejaVuSans-54\"/>\n      </g>\n     </g>\n    </g>\n    <g id=\"xtick_5\">\n     <g id=\"line2d_5\">\n      <g>\n       <use style=\"stroke:#000000;stroke-width:0.8;\" x=\"265.734659\" xlink:href=\"#m7a7d81bef8\" y=\"115.92\"/>\n      </g>\n     </g>\n     <g id=\"text_5\">\n      <!-- 0.8 -->\n      <defs>\n       <path d=\"M 31.78125 34.625 \nQ 24.75 34.625 20.71875 30.859375 \nQ 16.703125 27.09375 16.703125 20.515625 \nQ 16.703125 13.921875 20.71875 10.15625 \nQ 24.75 6.390625 31.78125 6.390625 \nQ 38.8125 6.390625 42.859375 10.171875 \nQ 46.921875 13.96875 46.921875 20.515625 \nQ 46.921875 27.09375 42.890625 30.859375 \nQ 38.875 34.625 31.78125 34.625 \nz\nM 21.921875 38.8125 \nQ 15.578125 40.375 12.03125 44.71875 \nQ 8.5 49.078125 8.5 55.328125 \nQ 8.5 64.0625 14.71875 69.140625 \nQ 20.953125 74.21875 31.78125 74.21875 \nQ 42.671875 74.21875 48.875 69.140625 \nQ 55.078125 64.0625 55.078125 55.328125 \nQ 55.078125 49.078125 51.53125 44.71875 \nQ 48 40.375 41.703125 38.8125 \nQ 48.828125 37.15625 52.796875 32.3125 \nQ 56.78125 27.484375 56.78125 20.515625 \nQ 56.78125 9.90625 50.3125 4.234375 \nQ 43.84375 -1.421875 31.78125 -1.421875 \nQ 19.734375 -1.421875 13.25 4.234375 \nQ 6.78125 9.90625 6.78125 20.515625 \nQ 6.78125 27.484375 10.78125 32.3125 \nQ 14.796875 37.15625 21.921875 38.8125 \nz\nM 18.3125 54.390625 \nQ 18.3125 48.734375 21.84375 45.5625 \nQ 25.390625 42.390625 31.78125 42.390625 \nQ 38.140625 42.390625 41.71875 45.5625 \nQ 45.3125 48.734375 45.3125 54.390625 \nQ 45.3125 60.0625 41.71875 63.234375 \nQ 38.140625 66.40625 31.78125 66.40625 \nQ 25.390625 66.40625 21.84375 63.234375 \nQ 18.3125 60.0625 18.3125 54.390625 \nz\n\" id=\"DejaVuSans-56\"/>\n      </defs>\n      <g transform=\"translate(257.783097 130.518438)scale(0.1 -0.1)\">\n       <use xlink:href=\"#DejaVuSans-48\"/>\n       <use x=\"63.623047\" xlink:href=\"#DejaVuSans-46\"/>\n       <use x=\"95.410156\" xlink:href=\"#DejaVuSans-56\"/>\n      </g>\n     </g>\n    </g>\n    <g id=\"xtick_6\">\n     <g id=\"line2d_6\">\n      <g>\n       <use style=\"stroke:#000000;stroke-width:0.8;\" x=\"316.461932\" xlink:href=\"#m7a7d81bef8\" y=\"115.92\"/>\n      </g>\n     </g>\n     <g id=\"text_6\">\n      <!-- 1.0 -->\n      <defs>\n       <path d=\"M 12.40625 8.296875 \nL 28.515625 8.296875 \nL 28.515625 63.921875 \nL 10.984375 60.40625 \nL 10.984375 69.390625 \nL 28.421875 72.90625 \nL 38.28125 72.90625 \nL 38.28125 8.296875 \nL 54.390625 8.296875 \nL 54.390625 0 \nL 12.40625 0 \nz\n\" id=\"DejaVuSans-49\"/>\n      </defs>\n      <g transform=\"translate(308.510369 130.518438)scale(0.1 -0.1)\">\n       <use xlink:href=\"#DejaVuSans-49\"/>\n       <use x=\"63.623047\" xlink:href=\"#DejaVuSans-46\"/>\n       <use x=\"95.410156\" xlink:href=\"#DejaVuSans-48\"/>\n      </g>\n     </g>\n    </g>\n    <g id=\"text_7\">\n     <!-- x -->\n     <defs>\n      <path d=\"M 54.890625 54.6875 \nL 35.109375 28.078125 \nL 55.90625 0 \nL 45.3125 0 \nL 29.390625 21.484375 \nL 13.484375 0 \nL 2.875 0 \nL 24.125 28.609375 \nL 4.6875 54.6875 \nL 15.28125 54.6875 \nL 29.78125 35.203125 \nL 44.28125 54.6875 \nz\n\" id=\"DejaVuSans-120\"/>\n     </defs>\n     <g transform=\"translate(186.684375 144.196562)scale(0.1 -0.1)\">\n      <use xlink:href=\"#DejaVuSans-120\"/>\n     </g>\n    </g>\n   </g>\n   <g id=\"matplotlib.axis_2\">\n    <g id=\"ytick_1\">\n     <g id=\"line2d_7\">\n      <defs>\n       <path d=\"M 0 0 \nL -3.5 0 \n\" id=\"mb8354fa9ec\" style=\"stroke:#000000;stroke-width:0.8;\"/>\n      </defs>\n      <g>\n       <use style=\"stroke:#000000;stroke-width:0.8;\" x=\"50.14375\" xlink:href=\"#mb8354fa9ec\" y=\"110.978182\"/>\n      </g>\n     </g>\n     <g id=\"text_8\">\n      <!-- 2.00 -->\n      <g transform=\"translate(20.878125 114.777401)scale(0.1 -0.1)\">\n       <use xlink:href=\"#DejaVuSans-50\"/>\n       <use x=\"63.623047\" xlink:href=\"#DejaVuSans-46\"/>\n       <use x=\"95.410156\" xlink:href=\"#DejaVuSans-48\"/>\n       <use x=\"159.033203\" xlink:href=\"#DejaVuSans-48\"/>\n      </g>\n     </g>\n    </g>\n    <g id=\"ytick_2\">\n     <g id=\"line2d_8\">\n      <g>\n       <use style=\"stroke:#000000;stroke-width:0.8;\" x=\"50.14375\" xlink:href=\"#mb8354fa9ec\" y=\"87.99352\"/>\n      </g>\n     </g>\n     <g id=\"text_9\">\n      <!-- 2.25 -->\n      <defs>\n       <path d=\"M 10.796875 72.90625 \nL 49.515625 72.90625 \nL 49.515625 64.59375 \nL 19.828125 64.59375 \nL 19.828125 46.734375 \nQ 21.96875 47.46875 24.109375 47.828125 \nQ 26.265625 48.1875 28.421875 48.1875 \nQ 40.625 48.1875 47.75 41.5 \nQ 54.890625 34.8125 54.890625 23.390625 \nQ 54.890625 11.625 47.5625 5.09375 \nQ 40.234375 -1.421875 26.90625 -1.421875 \nQ 22.3125 -1.421875 17.546875 -0.640625 \nQ 12.796875 0.140625 7.71875 1.703125 \nL 7.71875 11.625 \nQ 12.109375 9.234375 16.796875 8.0625 \nQ 21.484375 6.890625 26.703125 6.890625 \nQ 35.15625 6.890625 40.078125 11.328125 \nQ 45.015625 15.765625 45.015625 23.390625 \nQ 45.015625 31 40.078125 35.4375 \nQ 35.15625 39.890625 26.703125 39.890625 \nQ 22.75 39.890625 18.8125 39.015625 \nQ 14.890625 38.140625 10.796875 36.28125 \nz\n\" id=\"DejaVuSans-53\"/>\n      </defs>\n      <g transform=\"translate(20.878125 91.792739)scale(0.1 -0.1)\">\n       <use xlink:href=\"#DejaVuSans-50\"/>\n       <use x=\"63.623047\" xlink:href=\"#DejaVuSans-46\"/>\n       <use x=\"95.410156\" xlink:href=\"#DejaVuSans-50\"/>\n       <use x=\"159.033203\" xlink:href=\"#DejaVuSans-53\"/>\n      </g>\n     </g>\n    </g>\n    <g id=\"ytick_3\">\n     <g id=\"line2d_9\">\n      <g>\n       <use style=\"stroke:#000000;stroke-width:0.8;\" x=\"50.14375\" xlink:href=\"#mb8354fa9ec\" y=\"65.008858\"/>\n      </g>\n     </g>\n     <g id=\"text_10\">\n      <!-- 2.50 -->\n      <g transform=\"translate(20.878125 68.808077)scale(0.1 -0.1)\">\n       <use xlink:href=\"#DejaVuSans-50\"/>\n       <use x=\"63.623047\" xlink:href=\"#DejaVuSans-46\"/>\n       <use x=\"95.410156\" xlink:href=\"#DejaVuSans-53\"/>\n       <use x=\"159.033203\" xlink:href=\"#DejaVuSans-48\"/>\n      </g>\n     </g>\n    </g>\n    <g id=\"ytick_4\">\n     <g id=\"line2d_10\">\n      <g>\n       <use style=\"stroke:#000000;stroke-width:0.8;\" x=\"50.14375\" xlink:href=\"#mb8354fa9ec\" y=\"42.024196\"/>\n      </g>\n     </g>\n     <g id=\"text_11\">\n      <!-- 2.75 -->\n      <defs>\n       <path d=\"M 8.203125 72.90625 \nL 55.078125 72.90625 \nL 55.078125 68.703125 \nL 28.609375 0 \nL 18.3125 0 \nL 43.21875 64.59375 \nL 8.203125 64.59375 \nz\n\" id=\"DejaVuSans-55\"/>\n      </defs>\n      <g transform=\"translate(20.878125 45.823415)scale(0.1 -0.1)\">\n       <use xlink:href=\"#DejaVuSans-50\"/>\n       <use x=\"63.623047\" xlink:href=\"#DejaVuSans-46\"/>\n       <use x=\"95.410156\" xlink:href=\"#DejaVuSans-55\"/>\n       <use x=\"159.033203\" xlink:href=\"#DejaVuSans-53\"/>\n      </g>\n     </g>\n    </g>\n    <g id=\"ytick_5\">\n     <g id=\"line2d_11\">\n      <g>\n       <use style=\"stroke:#000000;stroke-width:0.8;\" x=\"50.14375\" xlink:href=\"#mb8354fa9ec\" y=\"19.039535\"/>\n      </g>\n     </g>\n     <g id=\"text_12\">\n      <!-- 3.00 -->\n      <defs>\n       <path d=\"M 40.578125 39.3125 \nQ 47.65625 37.796875 51.625 33 \nQ 55.609375 28.21875 55.609375 21.1875 \nQ 55.609375 10.40625 48.1875 4.484375 \nQ 40.765625 -1.421875 27.09375 -1.421875 \nQ 22.515625 -1.421875 17.65625 -0.515625 \nQ 12.796875 0.390625 7.625 2.203125 \nL 7.625 11.71875 \nQ 11.71875 9.328125 16.59375 8.109375 \nQ 21.484375 6.890625 26.8125 6.890625 \nQ 36.078125 6.890625 40.9375 10.546875 \nQ 45.796875 14.203125 45.796875 21.1875 \nQ 45.796875 27.640625 41.28125 31.265625 \nQ 36.765625 34.90625 28.71875 34.90625 \nL 20.21875 34.90625 \nL 20.21875 43.015625 \nL 29.109375 43.015625 \nQ 36.375 43.015625 40.234375 45.921875 \nQ 44.09375 48.828125 44.09375 54.296875 \nQ 44.09375 59.90625 40.109375 62.90625 \nQ 36.140625 65.921875 28.71875 65.921875 \nQ 24.65625 65.921875 20.015625 65.03125 \nQ 15.375 64.15625 9.8125 62.3125 \nL 9.8125 71.09375 \nQ 15.4375 72.65625 20.34375 73.4375 \nQ 25.25 74.21875 29.59375 74.21875 \nQ 40.828125 74.21875 47.359375 69.109375 \nQ 53.90625 64.015625 53.90625 55.328125 \nQ 53.90625 49.265625 50.4375 45.09375 \nQ 46.96875 40.921875 40.578125 39.3125 \nz\n\" id=\"DejaVuSans-51\"/>\n      </defs>\n      <g transform=\"translate(20.878125 22.838753)scale(0.1 -0.1)\">\n       <use xlink:href=\"#DejaVuSans-51\"/>\n       <use x=\"63.623047\" xlink:href=\"#DejaVuSans-46\"/>\n       <use x=\"95.410156\" xlink:href=\"#DejaVuSans-48\"/>\n       <use x=\"159.033203\" xlink:href=\"#DejaVuSans-48\"/>\n      </g>\n     </g>\n    </g>\n    <g id=\"text_13\">\n     <!-- y -->\n     <defs>\n      <path d=\"M 32.171875 -5.078125 \nQ 28.375 -14.84375 24.75 -17.8125 \nQ 21.140625 -20.796875 15.09375 -20.796875 \nL 7.90625 -20.796875 \nL 7.90625 -13.28125 \nL 13.1875 -13.28125 \nQ 16.890625 -13.28125 18.9375 -11.515625 \nQ 21 -9.765625 23.484375 -3.21875 \nL 25.09375 0.875 \nL 2.984375 54.6875 \nL 12.5 54.6875 \nL 29.59375 11.921875 \nL 46.6875 54.6875 \nL 56.203125 54.6875 \nz\n\" id=\"DejaVuSans-121\"/>\n     </defs>\n     <g transform=\"translate(14.798438 64.519375)rotate(-90)scale(0.1 -0.1)\">\n      <use xlink:href=\"#DejaVuSans-121\"/>\n     </g>\n    </g>\n   </g>\n   <g id=\"line2d_12\">\n    <defs>\n     <path d=\"M 0 3 \nC 0.795609 3 1.55874 2.683901 2.12132 2.12132 \nC 2.683901 1.55874 3 0.795609 3 0 \nC 3 -0.795609 2.683901 -1.55874 2.12132 -2.12132 \nC 1.55874 -2.683901 0.795609 -3 0 -3 \nC -0.795609 -3 -1.55874 -2.683901 -2.12132 -2.12132 \nC -2.683901 -1.55874 -3 -0.795609 -3 0 \nC -3 0.795609 -2.683901 1.55874 -2.12132 2.12132 \nC -1.55874 2.683901 -0.795609 3 0 3 \nz\n\" id=\"m47882dae8a\" style=\"stroke:#1f77b4;\"/>\n    </defs>\n    <g clip-path=\"url(#pb0180fb358)\">\n     <use style=\"fill:#1f77b4;stroke:#1f77b4;\" x=\"62.825568\" xlink:href=\"#m47882dae8a\" y=\"103.495642\"/>\n     <use style=\"fill:#1f77b4;stroke:#1f77b4;\" x=\"126.234659\" xlink:href=\"#m47882dae8a\" y=\"92.472615\"/>\n     <use style=\"fill:#1f77b4;stroke:#1f77b4;\" x=\"189.64375\" xlink:href=\"#m47882dae8a\" y=\"57.451677\"/>\n     <use style=\"fill:#1f77b4;stroke:#1f77b4;\" x=\"253.052841\" xlink:href=\"#m47882dae8a\" y=\"21.836448\"/>\n     <use style=\"fill:#1f77b4;stroke:#1f77b4;\" x=\"316.461932\" xlink:href=\"#m47882dae8a\" y=\"21.02672\"/>\n    </g>\n   </g>\n   <g id=\"line2d_13\">\n    <path clip-path=\"url(#pb0180fb358)\" d=\"M 62.825568 110.978182 \nL 126.234659 87.99352 \nL 189.64375 65.008858 \nL 253.052841 42.024196 \nL 316.461932 19.039535 \n\" style=\"fill:none;stroke:#ff7f0e;stroke-linecap:square;stroke-width:1.5;\"/>\n   </g>\n   <g id=\"line2d_14\">\n    <path clip-path=\"url(#pb0180fb358)\" d=\"M 62.825568 106.371423 \nL 126.234659 82.814022 \nL 189.64375 59.25662 \nL 253.052841 35.699219 \nL 316.461932 12.141818 \n\" style=\"fill:none;stroke:#2ca02c;stroke-dasharray:5.55,2.4;stroke-dashoffset:0;stroke-width:1.5;\"/>\n   </g>\n   <g id=\"patch_3\">\n    <path d=\"M 50.14375 115.92 \nL 50.14375 7.2 \n\" style=\"fill:none;stroke:#000000;stroke-linecap:square;stroke-linejoin:miter;stroke-width:0.8;\"/>\n   </g>\n   <g id=\"patch_4\">\n    <path d=\"M 329.14375 115.92 \nL 329.14375 7.2 \n\" style=\"fill:none;stroke:#000000;stroke-linecap:square;stroke-linejoin:miter;stroke-width:0.8;\"/>\n   </g>\n   <g id=\"patch_5\">\n    <path d=\"M 50.14375 115.92 \nL 329.14375 115.92 \n\" style=\"fill:none;stroke:#000000;stroke-linecap:square;stroke-linejoin:miter;stroke-width:0.8;\"/>\n   </g>\n   <g id=\"patch_6\">\n    <path d=\"M 50.14375 7.2 \nL 329.14375 7.2 \n\" style=\"fill:none;stroke:#000000;stroke-linecap:square;stroke-linejoin:miter;stroke-width:0.8;\"/>\n   </g>\n   <g id=\"legend_1\">\n    <g id=\"patch_7\">\n     <path d=\"M 57.14375 59.234375 \nL 187.55 59.234375 \nQ 189.55 59.234375 189.55 57.234375 \nL 189.55 14.2 \nQ 189.55 12.2 187.55 12.2 \nL 57.14375 12.2 \nQ 55.14375 12.2 55.14375 14.2 \nL 55.14375 57.234375 \nQ 55.14375 59.234375 57.14375 59.234375 \nz\n\" style=\"fill:#ffffff;opacity:0.8;stroke:#cccccc;stroke-linejoin:miter;\"/>\n    </g>\n    <g id=\"line2d_15\"/>\n    <g id=\"line2d_16\">\n     <g>\n      <use style=\"fill:#1f77b4;stroke:#1f77b4;\" x=\"69.14375\" xlink:href=\"#m47882dae8a\" y=\"20.298438\"/>\n     </g>\n    </g>\n    <g id=\"text_14\">\n     <!-- noisy measurments -->\n     <defs>\n      <path d=\"M 54.890625 33.015625 \nL 54.890625 0 \nL 45.90625 0 \nL 45.90625 32.71875 \nQ 45.90625 40.484375 42.875 44.328125 \nQ 39.84375 48.1875 33.796875 48.1875 \nQ 26.515625 48.1875 22.3125 43.546875 \nQ 18.109375 38.921875 18.109375 30.90625 \nL 18.109375 0 \nL 9.078125 0 \nL 9.078125 54.6875 \nL 18.109375 54.6875 \nL 18.109375 46.1875 \nQ 21.34375 51.125 25.703125 53.5625 \nQ 30.078125 56 35.796875 56 \nQ 45.21875 56 50.046875 50.171875 \nQ 54.890625 44.34375 54.890625 33.015625 \nz\n\" id=\"DejaVuSans-110\"/>\n      <path d=\"M 30.609375 48.390625 \nQ 23.390625 48.390625 19.1875 42.75 \nQ 14.984375 37.109375 14.984375 27.296875 \nQ 14.984375 17.484375 19.15625 11.84375 \nQ 23.34375 6.203125 30.609375 6.203125 \nQ 37.796875 6.203125 41.984375 11.859375 \nQ 46.1875 17.53125 46.1875 27.296875 \nQ 46.1875 37.015625 41.984375 42.703125 \nQ 37.796875 48.390625 30.609375 48.390625 \nz\nM 30.609375 56 \nQ 42.328125 56 49.015625 48.375 \nQ 55.71875 40.765625 55.71875 27.296875 \nQ 55.71875 13.875 49.015625 6.21875 \nQ 42.328125 -1.421875 30.609375 -1.421875 \nQ 18.84375 -1.421875 12.171875 6.21875 \nQ 5.515625 13.875 5.515625 27.296875 \nQ 5.515625 40.765625 12.171875 48.375 \nQ 18.84375 56 30.609375 56 \nz\n\" id=\"DejaVuSans-111\"/>\n      <path d=\"M 9.421875 54.6875 \nL 18.40625 54.6875 \nL 18.40625 0 \nL 9.421875 0 \nz\nM 9.421875 75.984375 \nL 18.40625 75.984375 \nL 18.40625 64.59375 \nL 9.421875 64.59375 \nz\n\" id=\"DejaVuSans-105\"/>\n      <path d=\"M 44.28125 53.078125 \nL 44.28125 44.578125 \nQ 40.484375 46.53125 36.375 47.5 \nQ 32.28125 48.484375 27.875 48.484375 \nQ 21.1875 48.484375 17.84375 46.4375 \nQ 14.5 44.390625 14.5 40.28125 \nQ 14.5 37.15625 16.890625 35.375 \nQ 19.28125 33.59375 26.515625 31.984375 \nL 29.59375 31.296875 \nQ 39.15625 29.25 43.1875 25.515625 \nQ 47.21875 21.78125 47.21875 15.09375 \nQ 47.21875 7.46875 41.1875 3.015625 \nQ 35.15625 -1.421875 24.609375 -1.421875 \nQ 20.21875 -1.421875 15.453125 -0.5625 \nQ 10.6875 0.296875 5.421875 2 \nL 5.421875 11.28125 \nQ 10.40625 8.6875 15.234375 7.390625 \nQ 20.0625 6.109375 24.8125 6.109375 \nQ 31.15625 6.109375 34.5625 8.28125 \nQ 37.984375 10.453125 37.984375 14.40625 \nQ 37.984375 18.0625 35.515625 20.015625 \nQ 33.0625 21.96875 24.703125 23.78125 \nL 21.578125 24.515625 \nQ 13.234375 26.265625 9.515625 29.90625 \nQ 5.8125 33.546875 5.8125 39.890625 \nQ 5.8125 47.609375 11.28125 51.796875 \nQ 16.75 56 26.8125 56 \nQ 31.78125 56 36.171875 55.265625 \nQ 40.578125 54.546875 44.28125 53.078125 \nz\n\" id=\"DejaVuSans-115\"/>\n      <path id=\"DejaVuSans-32\"/>\n      <path d=\"M 52 44.1875 \nQ 55.375 50.25 60.0625 53.125 \nQ 64.75 56 71.09375 56 \nQ 79.640625 56 84.28125 50.015625 \nQ 88.921875 44.046875 88.921875 33.015625 \nL 88.921875 0 \nL 79.890625 0 \nL 79.890625 32.71875 \nQ 79.890625 40.578125 77.09375 44.375 \nQ 74.3125 48.1875 68.609375 48.1875 \nQ 61.625 48.1875 57.5625 43.546875 \nQ 53.515625 38.921875 53.515625 30.90625 \nL 53.515625 0 \nL 44.484375 0 \nL 44.484375 32.71875 \nQ 44.484375 40.625 41.703125 44.40625 \nQ 38.921875 48.1875 33.109375 48.1875 \nQ 26.21875 48.1875 22.15625 43.53125 \nQ 18.109375 38.875 18.109375 30.90625 \nL 18.109375 0 \nL 9.078125 0 \nL 9.078125 54.6875 \nL 18.109375 54.6875 \nL 18.109375 46.1875 \nQ 21.1875 51.21875 25.484375 53.609375 \nQ 29.78125 56 35.6875 56 \nQ 41.65625 56 45.828125 52.96875 \nQ 50 49.953125 52 44.1875 \nz\n\" id=\"DejaVuSans-109\"/>\n      <path d=\"M 56.203125 29.59375 \nL 56.203125 25.203125 \nL 14.890625 25.203125 \nQ 15.484375 15.921875 20.484375 11.0625 \nQ 25.484375 6.203125 34.421875 6.203125 \nQ 39.59375 6.203125 44.453125 7.46875 \nQ 49.3125 8.734375 54.109375 11.28125 \nL 54.109375 2.78125 \nQ 49.265625 0.734375 44.1875 -0.34375 \nQ 39.109375 -1.421875 33.890625 -1.421875 \nQ 20.796875 -1.421875 13.15625 6.1875 \nQ 5.515625 13.8125 5.515625 26.8125 \nQ 5.515625 40.234375 12.765625 48.109375 \nQ 20.015625 56 32.328125 56 \nQ 43.359375 56 49.78125 48.890625 \nQ 56.203125 41.796875 56.203125 29.59375 \nz\nM 47.21875 32.234375 \nQ 47.125 39.59375 43.09375 43.984375 \nQ 39.0625 48.390625 32.421875 48.390625 \nQ 24.90625 48.390625 20.390625 44.140625 \nQ 15.875 39.890625 15.1875 32.171875 \nz\n\" id=\"DejaVuSans-101\"/>\n      <path d=\"M 34.28125 27.484375 \nQ 23.390625 27.484375 19.1875 25 \nQ 14.984375 22.515625 14.984375 16.5 \nQ 14.984375 11.71875 18.140625 8.90625 \nQ 21.296875 6.109375 26.703125 6.109375 \nQ 34.1875 6.109375 38.703125 11.40625 \nQ 43.21875 16.703125 43.21875 25.484375 \nL 43.21875 27.484375 \nz\nM 52.203125 31.203125 \nL 52.203125 0 \nL 43.21875 0 \nL 43.21875 8.296875 \nQ 40.140625 3.328125 35.546875 0.953125 \nQ 30.953125 -1.421875 24.3125 -1.421875 \nQ 15.921875 -1.421875 10.953125 3.296875 \nQ 6 8.015625 6 15.921875 \nQ 6 25.140625 12.171875 29.828125 \nQ 18.359375 34.515625 30.609375 34.515625 \nL 43.21875 34.515625 \nL 43.21875 35.40625 \nQ 43.21875 41.609375 39.140625 45 \nQ 35.0625 48.390625 27.6875 48.390625 \nQ 23 48.390625 18.546875 47.265625 \nQ 14.109375 46.140625 10.015625 43.890625 \nL 10.015625 52.203125 \nQ 14.9375 54.109375 19.578125 55.046875 \nQ 24.21875 56 28.609375 56 \nQ 40.484375 56 46.34375 49.84375 \nQ 52.203125 43.703125 52.203125 31.203125 \nz\n\" id=\"DejaVuSans-97\"/>\n      <path d=\"M 8.5 21.578125 \nL 8.5 54.6875 \nL 17.484375 54.6875 \nL 17.484375 21.921875 \nQ 17.484375 14.15625 20.5 10.265625 \nQ 23.53125 6.390625 29.59375 6.390625 \nQ 36.859375 6.390625 41.078125 11.03125 \nQ 45.3125 15.671875 45.3125 23.6875 \nL 45.3125 54.6875 \nL 54.296875 54.6875 \nL 54.296875 0 \nL 45.3125 0 \nL 45.3125 8.40625 \nQ 42.046875 3.421875 37.71875 1 \nQ 33.40625 -1.421875 27.6875 -1.421875 \nQ 18.265625 -1.421875 13.375 4.4375 \nQ 8.5 10.296875 8.5 21.578125 \nz\nM 31.109375 56 \nz\n\" id=\"DejaVuSans-117\"/>\n      <path d=\"M 41.109375 46.296875 \nQ 39.59375 47.171875 37.8125 47.578125 \nQ 36.03125 48 33.890625 48 \nQ 26.265625 48 22.1875 43.046875 \nQ 18.109375 38.09375 18.109375 28.8125 \nL 18.109375 0 \nL 9.078125 0 \nL 9.078125 54.6875 \nL 18.109375 54.6875 \nL 18.109375 46.1875 \nQ 20.953125 51.171875 25.484375 53.578125 \nQ 30.03125 56 36.53125 56 \nQ 37.453125 56 38.578125 55.875 \nQ 39.703125 55.765625 41.0625 55.515625 \nz\n\" id=\"DejaVuSans-114\"/>\n      <path d=\"M 18.3125 70.21875 \nL 18.3125 54.6875 \nL 36.8125 54.6875 \nL 36.8125 47.703125 \nL 18.3125 47.703125 \nL 18.3125 18.015625 \nQ 18.3125 11.328125 20.140625 9.421875 \nQ 21.96875 7.515625 27.59375 7.515625 \nL 36.8125 7.515625 \nL 36.8125 0 \nL 27.59375 0 \nQ 17.1875 0 13.234375 3.875 \nQ 9.28125 7.765625 9.28125 18.015625 \nL 9.28125 47.703125 \nL 2.6875 47.703125 \nL 2.6875 54.6875 \nL 9.28125 54.6875 \nL 9.28125 70.21875 \nz\n\" id=\"DejaVuSans-116\"/>\n     </defs>\n     <g transform=\"translate(87.14375 23.798438)scale(0.1 -0.1)\">\n      <use xlink:href=\"#DejaVuSans-110\"/>\n      <use x=\"63.378906\" xlink:href=\"#DejaVuSans-111\"/>\n      <use x=\"124.560547\" xlink:href=\"#DejaVuSans-105\"/>\n      <use x=\"152.34375\" xlink:href=\"#DejaVuSans-115\"/>\n      <use x=\"204.443359\" xlink:href=\"#DejaVuSans-121\"/>\n      <use x=\"263.623047\" xlink:href=\"#DejaVuSans-32\"/>\n      <use x=\"295.410156\" xlink:href=\"#DejaVuSans-109\"/>\n      <use x=\"392.822266\" xlink:href=\"#DejaVuSans-101\"/>\n      <use x=\"454.345703\" xlink:href=\"#DejaVuSans-97\"/>\n      <use x=\"515.625\" xlink:href=\"#DejaVuSans-115\"/>\n      <use x=\"567.724609\" xlink:href=\"#DejaVuSans-117\"/>\n      <use x=\"631.103516\" xlink:href=\"#DejaVuSans-114\"/>\n      <use x=\"670.466797\" xlink:href=\"#DejaVuSans-109\"/>\n      <use x=\"767.878906\" xlink:href=\"#DejaVuSans-101\"/>\n      <use x=\"829.402344\" xlink:href=\"#DejaVuSans-110\"/>\n      <use x=\"892.78125\" xlink:href=\"#DejaVuSans-116\"/>\n      <use x=\"931.990234\" xlink:href=\"#DejaVuSans-115\"/>\n     </g>\n    </g>\n    <g id=\"line2d_17\">\n     <path d=\"M 59.14375 34.976562 \nL 79.14375 34.976562 \n\" style=\"fill:none;stroke:#ff7f0e;stroke-linecap:square;stroke-width:1.5;\"/>\n    </g>\n    <g id=\"line2d_18\"/>\n    <g id=\"text_15\">\n     <!-- true relation -->\n     <defs>\n      <path d=\"M 9.421875 75.984375 \nL 18.40625 75.984375 \nL 18.40625 0 \nL 9.421875 0 \nz\n\" id=\"DejaVuSans-108\"/>\n     </defs>\n     <g transform=\"translate(87.14375 38.476562)scale(0.1 -0.1)\">\n      <use xlink:href=\"#DejaVuSans-116\"/>\n      <use x=\"39.208984\" xlink:href=\"#DejaVuSans-114\"/>\n      <use x=\"80.322266\" xlink:href=\"#DejaVuSans-117\"/>\n      <use x=\"143.701172\" xlink:href=\"#DejaVuSans-101\"/>\n      <use x=\"205.224609\" xlink:href=\"#DejaVuSans-32\"/>\n      <use x=\"237.011719\" xlink:href=\"#DejaVuSans-114\"/>\n      <use x=\"275.875\" xlink:href=\"#DejaVuSans-101\"/>\n      <use x=\"337.398438\" xlink:href=\"#DejaVuSans-108\"/>\n      <use x=\"365.181641\" xlink:href=\"#DejaVuSans-97\"/>\n      <use x=\"426.460938\" xlink:href=\"#DejaVuSans-116\"/>\n      <use x=\"465.669922\" xlink:href=\"#DejaVuSans-105\"/>\n      <use x=\"493.453125\" xlink:href=\"#DejaVuSans-111\"/>\n      <use x=\"554.634766\" xlink:href=\"#DejaVuSans-110\"/>\n     </g>\n    </g>\n    <g id=\"line2d_19\">\n     <path d=\"M 59.14375 49.654688 \nL 79.14375 49.654688 \n\" style=\"fill:none;stroke:#2ca02c;stroke-dasharray:5.55,2.4;stroke-dashoffset:0;stroke-width:1.5;\"/>\n    </g>\n    <g id=\"line2d_20\"/>\n    <g id=\"text_16\">\n     <!-- fit -->\n     <defs>\n      <path d=\"M 37.109375 75.984375 \nL 37.109375 68.5 \nL 28.515625 68.5 \nQ 23.6875 68.5 21.796875 66.546875 \nQ 19.921875 64.59375 19.921875 59.515625 \nL 19.921875 54.6875 \nL 34.71875 54.6875 \nL 34.71875 47.703125 \nL 19.921875 47.703125 \nL 19.921875 0 \nL 10.890625 0 \nL 10.890625 47.703125 \nL 2.296875 47.703125 \nL 2.296875 54.6875 \nL 10.890625 54.6875 \nL 10.890625 58.5 \nQ 10.890625 67.625 15.140625 71.796875 \nQ 19.390625 75.984375 28.609375 75.984375 \nz\n\" id=\"DejaVuSans-102\"/>\n     </defs>\n     <g transform=\"translate(87.14375 53.154688)scale(0.1 -0.1)\">\n      <use xlink:href=\"#DejaVuSans-102\"/>\n      <use x=\"35.205078\" xlink:href=\"#DejaVuSans-105\"/>\n      <use x=\"62.988281\" xlink:href=\"#DejaVuSans-116\"/>\n     </g>\n    </g>\n   </g>\n  </g>\n </g>\n <defs>\n  <clipPath id=\"pb0180fb358\">\n   <rect height=\"108.72\" width=\"279\" x=\"50.14375\" y=\"7.2\"/>\n  </clipPath>\n </defs>\n</svg>\n"
          },
          "metadata": {
            "tags": [],
            "needs_background": "light"
          }
        }
      ]
    },
    {
      "cell_type": "code",
      "metadata": {
        "colab": {
          "base_uri": "https://localhost:8080/"
        },
        "id": "bCOI_yJKXzVZ",
        "outputId": "a2e6da20-3063-4fda-95ef-d46d9ef6c182"
      },
      "source": [
        "results.rsquared"
      ],
      "execution_count": null,
      "outputs": [
        {
          "output_type": "execute_result",
          "data": {
            "text/plain": [
              "0.9365559518408088"
            ]
          },
          "metadata": {
            "tags": []
          },
          "execution_count": 71
        }
      ]
    },
    {
      "cell_type": "markdown",
      "metadata": {
        "id": "up7xDdsyp1dt"
      },
      "source": [
        "**EXERCISES**\n",
        "\n",
        "1.  Using the code above, write a function `simulated_data_lr(a,b,sigma,n)` which does the following: First, it generates data from a simulated linear regression with slope a, intercept b, measurment noise sigma and n data points. It then performs a linear regression on the simulated data and outputs the estimated slope, intercept, the $R^2$ value, the $p$-value and the F statistic. \n",
        "2. Make a plot of the p-value vs. n using the values of a, b and sigma from above. Make the same plot with $a = 0.1$\n",
        "3. Repeat 2. but plotting $R^2$ instead of the $p$-values\n",
        "4. Try to understand the behavoir in the plots above. How does these plots make sense in light of the different meanings of $R^2$ and the $p$-value. What might be a reason to use one over the other?  \n",
        "\n",
        "\n",
        "\n"
      ]
    },
    {
      "cell_type": "code",
      "metadata": {
        "id": "HO7yAyfhxISO"
      },
      "source": [
        "def sim(a,b,sigma,n):\n",
        "  x = np.linspace(0,1,n)\n",
        "  y = a*x + b + np.random.normal(0,sigma,len(x)) \n",
        "  X = sm.add_constant(x)\n",
        "  model= sm.OLS(y,X) \n",
        " # and this commend actually does the computations which give the results\n",
        "  results = model.fit() \n",
        "  return results.rsquared\n"
      ],
      "execution_count": null,
      "outputs": []
    },
    {
      "cell_type": "code",
      "metadata": {
        "id": "scm7yp6YxmDD"
      },
      "source": [
        "n_range = np.linspace(2,500,100,dtype=int)\n",
        "rsquareds = [sim(0,1,0.5,n) for n in n_range]"
      ],
      "execution_count": null,
      "outputs": []
    },
    {
      "cell_type": "code",
      "metadata": {
        "colab": {
          "base_uri": "https://localhost:8080/",
          "height": 369
        },
        "id": "gnPi9AA-x4s2",
        "outputId": "bc56f026-8904-4598-8b89-99fae2735900"
      },
      "source": [
        "n_range = np.linspace(2,500,100,dtype=int)\n",
        "rsquareds = [sim(0,1,0.5,n) for n in n_range]\n",
        "\n",
        "plt.semilogy(n_range,rsquareds,'o',fillstyle=\"none\")"
      ],
      "execution_count": null,
      "outputs": [
        {
          "output_type": "execute_result",
          "data": {
            "text/plain": [
              "[<matplotlib.lines.Line2D at 0x7f37a2312e90>]"
            ]
          },
          "metadata": {
            "tags": []
          },
          "execution_count": 128
        },
        {
          "output_type": "display_data",
          "data": {
            "text/plain": [
              "<Figure size 432x288 with 1 Axes>"
            ],
            "image/svg+xml": "<?xml version=\"1.0\" encoding=\"utf-8\" standalone=\"no\"?>\n<!DOCTYPE svg PUBLIC \"-//W3C//DTD SVG 1.1//EN\"\n  \"http://www.w3.org/Graphics/SVG/1.1/DTD/svg11.dtd\">\n<!-- Created with matplotlib (https://matplotlib.org/) -->\n<svg height=\"248.518125pt\" version=\"1.1\" viewBox=\"0 0 379.7 248.518125\" width=\"379.7pt\" xmlns=\"http://www.w3.org/2000/svg\" xmlns:xlink=\"http://www.w3.org/1999/xlink\">\n <defs>\n  <style type=\"text/css\">\n*{stroke-linecap:butt;stroke-linejoin:round;}\n  </style>\n </defs>\n <g id=\"figure_1\">\n  <g id=\"patch_1\">\n   <path d=\"M 0 248.518125 \nL 379.7 248.518125 \nL 379.7 0 \nL 0 0 \nz\n\" style=\"fill:none;\"/>\n  </g>\n  <g id=\"axes_1\">\n   <g id=\"patch_2\">\n    <path d=\"M 37.7 224.64 \nL 372.5 224.64 \nL 372.5 7.2 \nL 37.7 7.2 \nz\n\" style=\"fill:#ffffff;\"/>\n   </g>\n   <g id=\"matplotlib.axis_1\">\n    <g id=\"xtick_1\">\n     <g id=\"line2d_1\">\n      <defs>\n       <path d=\"M 0 0 \nL 0 3.5 \n\" id=\"m5b1ff42e7d\" style=\"stroke:#000000;stroke-width:0.8;\"/>\n      </defs>\n      <g>\n       <use style=\"stroke:#000000;stroke-width:0.8;\" x=\"51.695838\" xlink:href=\"#m5b1ff42e7d\" y=\"224.64\"/>\n      </g>\n     </g>\n     <g id=\"text_1\">\n      <!-- 0 -->\n      <defs>\n       <path d=\"M 31.78125 66.40625 \nQ 24.171875 66.40625 20.328125 58.90625 \nQ 16.5 51.421875 16.5 36.375 \nQ 16.5 21.390625 20.328125 13.890625 \nQ 24.171875 6.390625 31.78125 6.390625 \nQ 39.453125 6.390625 43.28125 13.890625 \nQ 47.125 21.390625 47.125 36.375 \nQ 47.125 51.421875 43.28125 58.90625 \nQ 39.453125 66.40625 31.78125 66.40625 \nz\nM 31.78125 74.21875 \nQ 44.046875 74.21875 50.515625 64.515625 \nQ 56.984375 54.828125 56.984375 36.375 \nQ 56.984375 17.96875 50.515625 8.265625 \nQ 44.046875 -1.421875 31.78125 -1.421875 \nQ 19.53125 -1.421875 13.0625 8.265625 \nQ 6.59375 17.96875 6.59375 36.375 \nQ 6.59375 54.828125 13.0625 64.515625 \nQ 19.53125 74.21875 31.78125 74.21875 \nz\n\" id=\"DejaVuSans-48\"/>\n      </defs>\n      <g transform=\"translate(48.514588 239.238437)scale(0.1 -0.1)\">\n       <use xlink:href=\"#DejaVuSans-48\"/>\n      </g>\n     </g>\n    </g>\n    <g id=\"xtick_2\">\n     <g id=\"line2d_2\">\n      <g>\n       <use style=\"stroke:#000000;stroke-width:0.8;\" x=\"112.813034\" xlink:href=\"#m5b1ff42e7d\" y=\"224.64\"/>\n      </g>\n     </g>\n     <g id=\"text_2\">\n      <!-- 100 -->\n      <defs>\n       <path d=\"M 12.40625 8.296875 \nL 28.515625 8.296875 \nL 28.515625 63.921875 \nL 10.984375 60.40625 \nL 10.984375 69.390625 \nL 28.421875 72.90625 \nL 38.28125 72.90625 \nL 38.28125 8.296875 \nL 54.390625 8.296875 \nL 54.390625 0 \nL 12.40625 0 \nz\n\" id=\"DejaVuSans-49\"/>\n      </defs>\n      <g transform=\"translate(103.269284 239.238437)scale(0.1 -0.1)\">\n       <use xlink:href=\"#DejaVuSans-49\"/>\n       <use x=\"63.623047\" xlink:href=\"#DejaVuSans-48\"/>\n       <use x=\"127.246094\" xlink:href=\"#DejaVuSans-48\"/>\n      </g>\n     </g>\n    </g>\n    <g id=\"xtick_3\">\n     <g id=\"line2d_3\">\n      <g>\n       <use style=\"stroke:#000000;stroke-width:0.8;\" x=\"173.93023\" xlink:href=\"#m5b1ff42e7d\" y=\"224.64\"/>\n      </g>\n     </g>\n     <g id=\"text_3\">\n      <!-- 200 -->\n      <defs>\n       <path d=\"M 19.1875 8.296875 \nL 53.609375 8.296875 \nL 53.609375 0 \nL 7.328125 0 \nL 7.328125 8.296875 \nQ 12.9375 14.109375 22.625 23.890625 \nQ 32.328125 33.6875 34.8125 36.53125 \nQ 39.546875 41.84375 41.421875 45.53125 \nQ 43.3125 49.21875 43.3125 52.78125 \nQ 43.3125 58.59375 39.234375 62.25 \nQ 35.15625 65.921875 28.609375 65.921875 \nQ 23.96875 65.921875 18.8125 64.3125 \nQ 13.671875 62.703125 7.8125 59.421875 \nL 7.8125 69.390625 \nQ 13.765625 71.78125 18.9375 73 \nQ 24.125 74.21875 28.421875 74.21875 \nQ 39.75 74.21875 46.484375 68.546875 \nQ 53.21875 62.890625 53.21875 53.421875 \nQ 53.21875 48.921875 51.53125 44.890625 \nQ 49.859375 40.875 45.40625 35.40625 \nQ 44.1875 33.984375 37.640625 27.21875 \nQ 31.109375 20.453125 19.1875 8.296875 \nz\n\" id=\"DejaVuSans-50\"/>\n      </defs>\n      <g transform=\"translate(164.38648 239.238437)scale(0.1 -0.1)\">\n       <use xlink:href=\"#DejaVuSans-50\"/>\n       <use x=\"63.623047\" xlink:href=\"#DejaVuSans-48\"/>\n       <use x=\"127.246094\" xlink:href=\"#DejaVuSans-48\"/>\n      </g>\n     </g>\n    </g>\n    <g id=\"xtick_4\">\n     <g id=\"line2d_4\">\n      <g>\n       <use style=\"stroke:#000000;stroke-width:0.8;\" x=\"235.047426\" xlink:href=\"#m5b1ff42e7d\" y=\"224.64\"/>\n      </g>\n     </g>\n     <g id=\"text_4\">\n      <!-- 300 -->\n      <defs>\n       <path d=\"M 40.578125 39.3125 \nQ 47.65625 37.796875 51.625 33 \nQ 55.609375 28.21875 55.609375 21.1875 \nQ 55.609375 10.40625 48.1875 4.484375 \nQ 40.765625 -1.421875 27.09375 -1.421875 \nQ 22.515625 -1.421875 17.65625 -0.515625 \nQ 12.796875 0.390625 7.625 2.203125 \nL 7.625 11.71875 \nQ 11.71875 9.328125 16.59375 8.109375 \nQ 21.484375 6.890625 26.8125 6.890625 \nQ 36.078125 6.890625 40.9375 10.546875 \nQ 45.796875 14.203125 45.796875 21.1875 \nQ 45.796875 27.640625 41.28125 31.265625 \nQ 36.765625 34.90625 28.71875 34.90625 \nL 20.21875 34.90625 \nL 20.21875 43.015625 \nL 29.109375 43.015625 \nQ 36.375 43.015625 40.234375 45.921875 \nQ 44.09375 48.828125 44.09375 54.296875 \nQ 44.09375 59.90625 40.109375 62.90625 \nQ 36.140625 65.921875 28.71875 65.921875 \nQ 24.65625 65.921875 20.015625 65.03125 \nQ 15.375 64.15625 9.8125 62.3125 \nL 9.8125 71.09375 \nQ 15.4375 72.65625 20.34375 73.4375 \nQ 25.25 74.21875 29.59375 74.21875 \nQ 40.828125 74.21875 47.359375 69.109375 \nQ 53.90625 64.015625 53.90625 55.328125 \nQ 53.90625 49.265625 50.4375 45.09375 \nQ 46.96875 40.921875 40.578125 39.3125 \nz\n\" id=\"DejaVuSans-51\"/>\n      </defs>\n      <g transform=\"translate(225.503676 239.238437)scale(0.1 -0.1)\">\n       <use xlink:href=\"#DejaVuSans-51\"/>\n       <use x=\"63.623047\" xlink:href=\"#DejaVuSans-48\"/>\n       <use x=\"127.246094\" xlink:href=\"#DejaVuSans-48\"/>\n      </g>\n     </g>\n    </g>\n    <g id=\"xtick_5\">\n     <g id=\"line2d_5\">\n      <g>\n       <use style=\"stroke:#000000;stroke-width:0.8;\" x=\"296.164622\" xlink:href=\"#m5b1ff42e7d\" y=\"224.64\"/>\n      </g>\n     </g>\n     <g id=\"text_5\">\n      <!-- 400 -->\n      <defs>\n       <path d=\"M 37.796875 64.3125 \nL 12.890625 25.390625 \nL 37.796875 25.390625 \nz\nM 35.203125 72.90625 \nL 47.609375 72.90625 \nL 47.609375 25.390625 \nL 58.015625 25.390625 \nL 58.015625 17.1875 \nL 47.609375 17.1875 \nL 47.609375 0 \nL 37.796875 0 \nL 37.796875 17.1875 \nL 4.890625 17.1875 \nL 4.890625 26.703125 \nz\n\" id=\"DejaVuSans-52\"/>\n      </defs>\n      <g transform=\"translate(286.620872 239.238437)scale(0.1 -0.1)\">\n       <use xlink:href=\"#DejaVuSans-52\"/>\n       <use x=\"63.623047\" xlink:href=\"#DejaVuSans-48\"/>\n       <use x=\"127.246094\" xlink:href=\"#DejaVuSans-48\"/>\n      </g>\n     </g>\n    </g>\n    <g id=\"xtick_6\">\n     <g id=\"line2d_6\">\n      <g>\n       <use style=\"stroke:#000000;stroke-width:0.8;\" x=\"357.281818\" xlink:href=\"#m5b1ff42e7d\" y=\"224.64\"/>\n      </g>\n     </g>\n     <g id=\"text_6\">\n      <!-- 500 -->\n      <defs>\n       <path d=\"M 10.796875 72.90625 \nL 49.515625 72.90625 \nL 49.515625 64.59375 \nL 19.828125 64.59375 \nL 19.828125 46.734375 \nQ 21.96875 47.46875 24.109375 47.828125 \nQ 26.265625 48.1875 28.421875 48.1875 \nQ 40.625 48.1875 47.75 41.5 \nQ 54.890625 34.8125 54.890625 23.390625 \nQ 54.890625 11.625 47.5625 5.09375 \nQ 40.234375 -1.421875 26.90625 -1.421875 \nQ 22.3125 -1.421875 17.546875 -0.640625 \nQ 12.796875 0.140625 7.71875 1.703125 \nL 7.71875 11.625 \nQ 12.109375 9.234375 16.796875 8.0625 \nQ 21.484375 6.890625 26.703125 6.890625 \nQ 35.15625 6.890625 40.078125 11.328125 \nQ 45.015625 15.765625 45.015625 23.390625 \nQ 45.015625 31 40.078125 35.4375 \nQ 35.15625 39.890625 26.703125 39.890625 \nQ 22.75 39.890625 18.8125 39.015625 \nQ 14.890625 38.140625 10.796875 36.28125 \nz\n\" id=\"DejaVuSans-53\"/>\n      </defs>\n      <g transform=\"translate(347.738068 239.238437)scale(0.1 -0.1)\">\n       <use xlink:href=\"#DejaVuSans-53\"/>\n       <use x=\"63.623047\" xlink:href=\"#DejaVuSans-48\"/>\n       <use x=\"127.246094\" xlink:href=\"#DejaVuSans-48\"/>\n      </g>\n     </g>\n    </g>\n   </g>\n   <g id=\"matplotlib.axis_2\">\n    <g id=\"ytick_1\">\n     <g id=\"line2d_7\">\n      <defs>\n       <path d=\"M 0 0 \nL -3.5 0 \n\" id=\"m19cdf41c9c\" style=\"stroke:#000000;stroke-width:0.8;\"/>\n      </defs>\n      <g>\n       <use style=\"stroke:#000000;stroke-width:0.8;\" x=\"37.7\" xlink:href=\"#m19cdf41c9c\" y=\"221.580221\"/>\n      </g>\n     </g>\n     <g id=\"text_7\">\n      <!-- $\\mathdefault{10^{-5}}$ -->\n      <defs>\n       <path d=\"M 10.59375 35.5 \nL 73.1875 35.5 \nL 73.1875 27.203125 \nL 10.59375 27.203125 \nz\n\" id=\"DejaVuSans-8722\"/>\n      </defs>\n      <g transform=\"translate(7.2 225.379439)scale(0.1 -0.1)\">\n       <use transform=\"translate(0 0.684375)\" xlink:href=\"#DejaVuSans-49\"/>\n       <use transform=\"translate(63.623047 0.684375)\" xlink:href=\"#DejaVuSans-48\"/>\n       <use transform=\"translate(128.203125 38.965625)scale(0.7)\" xlink:href=\"#DejaVuSans-8722\"/>\n       <use transform=\"translate(186.855469 38.965625)scale(0.7)\" xlink:href=\"#DejaVuSans-53\"/>\n      </g>\n     </g>\n    </g>\n    <g id=\"ytick_2\">\n     <g id=\"line2d_8\">\n      <g>\n       <use style=\"stroke:#000000;stroke-width:0.8;\" x=\"37.7\" xlink:href=\"#m19cdf41c9c\" y=\"180.680904\"/>\n      </g>\n     </g>\n     <g id=\"text_8\">\n      <!-- $\\mathdefault{10^{-4}}$ -->\n      <g transform=\"translate(7.2 184.480123)scale(0.1 -0.1)\">\n       <use transform=\"translate(0 0.684375)\" xlink:href=\"#DejaVuSans-49\"/>\n       <use transform=\"translate(63.623047 0.684375)\" xlink:href=\"#DejaVuSans-48\"/>\n       <use transform=\"translate(128.203125 38.965625)scale(0.7)\" xlink:href=\"#DejaVuSans-8722\"/>\n       <use transform=\"translate(186.855469 38.965625)scale(0.7)\" xlink:href=\"#DejaVuSans-52\"/>\n      </g>\n     </g>\n    </g>\n    <g id=\"ytick_3\">\n     <g id=\"line2d_9\">\n      <g>\n       <use style=\"stroke:#000000;stroke-width:0.8;\" x=\"37.7\" xlink:href=\"#m19cdf41c9c\" y=\"139.781587\"/>\n      </g>\n     </g>\n     <g id=\"text_9\">\n      <!-- $\\mathdefault{10^{-3}}$ -->\n      <g transform=\"translate(7.2 143.580806)scale(0.1 -0.1)\">\n       <use transform=\"translate(0 0.765625)\" xlink:href=\"#DejaVuSans-49\"/>\n       <use transform=\"translate(63.623047 0.765625)\" xlink:href=\"#DejaVuSans-48\"/>\n       <use transform=\"translate(128.203125 39.046875)scale(0.7)\" xlink:href=\"#DejaVuSans-8722\"/>\n       <use transform=\"translate(186.855469 39.046875)scale(0.7)\" xlink:href=\"#DejaVuSans-51\"/>\n      </g>\n     </g>\n    </g>\n    <g id=\"ytick_4\">\n     <g id=\"line2d_10\">\n      <g>\n       <use style=\"stroke:#000000;stroke-width:0.8;\" x=\"37.7\" xlink:href=\"#m19cdf41c9c\" y=\"98.88227\"/>\n      </g>\n     </g>\n     <g id=\"text_10\">\n      <!-- $\\mathdefault{10^{-2}}$ -->\n      <g transform=\"translate(7.2 102.681489)scale(0.1 -0.1)\">\n       <use transform=\"translate(0 0.765625)\" xlink:href=\"#DejaVuSans-49\"/>\n       <use transform=\"translate(63.623047 0.765625)\" xlink:href=\"#DejaVuSans-48\"/>\n       <use transform=\"translate(128.203125 39.046875)scale(0.7)\" xlink:href=\"#DejaVuSans-8722\"/>\n       <use transform=\"translate(186.855469 39.046875)scale(0.7)\" xlink:href=\"#DejaVuSans-50\"/>\n      </g>\n     </g>\n    </g>\n    <g id=\"ytick_5\">\n     <g id=\"line2d_11\">\n      <g>\n       <use style=\"stroke:#000000;stroke-width:0.8;\" x=\"37.7\" xlink:href=\"#m19cdf41c9c\" y=\"57.982953\"/>\n      </g>\n     </g>\n     <g id=\"text_11\">\n      <!-- $\\mathdefault{10^{-1}}$ -->\n      <g transform=\"translate(7.2 61.782172)scale(0.1 -0.1)\">\n       <use transform=\"translate(0 0.684375)\" xlink:href=\"#DejaVuSans-49\"/>\n       <use transform=\"translate(63.623047 0.684375)\" xlink:href=\"#DejaVuSans-48\"/>\n       <use transform=\"translate(128.203125 38.965625)scale(0.7)\" xlink:href=\"#DejaVuSans-8722\"/>\n       <use transform=\"translate(186.855469 38.965625)scale(0.7)\" xlink:href=\"#DejaVuSans-49\"/>\n      </g>\n     </g>\n    </g>\n    <g id=\"ytick_6\">\n     <g id=\"line2d_12\">\n      <g>\n       <use style=\"stroke:#000000;stroke-width:0.8;\" x=\"37.7\" xlink:href=\"#m19cdf41c9c\" y=\"17.083636\"/>\n      </g>\n     </g>\n     <g id=\"text_12\">\n      <!-- $\\mathdefault{10^{0}}$ -->\n      <g transform=\"translate(13.1 20.882855)scale(0.1 -0.1)\">\n       <use transform=\"translate(0 0.765625)\" xlink:href=\"#DejaVuSans-49\"/>\n       <use transform=\"translate(63.623047 0.765625)\" xlink:href=\"#DejaVuSans-48\"/>\n       <use transform=\"translate(128.203125 39.046875)scale(0.7)\" xlink:href=\"#DejaVuSans-48\"/>\n      </g>\n     </g>\n    </g>\n    <g id=\"ytick_7\">\n     <g id=\"line2d_13\">\n      <defs>\n       <path d=\"M 0 0 \nL -2 0 \n\" id=\"m5ca0a5d171\" style=\"stroke:#000000;stroke-width:0.6;\"/>\n      </defs>\n      <g>\n       <use style=\"stroke:#000000;stroke-width:0.6;\" x=\"37.7\" xlink:href=\"#m5ca0a5d171\" y=\"223.451671\"/>\n      </g>\n     </g>\n    </g>\n    <g id=\"ytick_8\">\n     <g id=\"line2d_14\">\n      <g>\n       <use style=\"stroke:#000000;stroke-width:0.6;\" x=\"37.7\" xlink:href=\"#m5ca0a5d171\" y=\"209.2683\"/>\n      </g>\n     </g>\n    </g>\n    <g id=\"ytick_9\">\n     <g id=\"line2d_15\">\n      <g>\n       <use style=\"stroke:#000000;stroke-width:0.6;\" x=\"37.7\" xlink:href=\"#m5ca0a5d171\" y=\"202.066287\"/>\n      </g>\n     </g>\n    </g>\n    <g id=\"ytick_10\">\n     <g id=\"line2d_16\">\n      <g>\n       <use style=\"stroke:#000000;stroke-width:0.6;\" x=\"37.7\" xlink:href=\"#m5ca0a5d171\" y=\"196.956378\"/>\n      </g>\n     </g>\n    </g>\n    <g id=\"ytick_11\">\n     <g id=\"line2d_17\">\n      <g>\n       <use style=\"stroke:#000000;stroke-width:0.6;\" x=\"37.7\" xlink:href=\"#m5ca0a5d171\" y=\"192.992825\"/>\n      </g>\n     </g>\n    </g>\n    <g id=\"ytick_12\">\n     <g id=\"line2d_18\">\n      <g>\n       <use style=\"stroke:#000000;stroke-width:0.6;\" x=\"37.7\" xlink:href=\"#m5ca0a5d171\" y=\"189.754366\"/>\n      </g>\n     </g>\n    </g>\n    <g id=\"ytick_13\">\n     <g id=\"line2d_19\">\n      <g>\n       <use style=\"stroke:#000000;stroke-width:0.6;\" x=\"37.7\" xlink:href=\"#m5ca0a5d171\" y=\"187.016288\"/>\n      </g>\n     </g>\n    </g>\n    <g id=\"ytick_14\">\n     <g id=\"line2d_20\">\n      <g>\n       <use style=\"stroke:#000000;stroke-width:0.6;\" x=\"37.7\" xlink:href=\"#m5ca0a5d171\" y=\"184.644457\"/>\n      </g>\n     </g>\n    </g>\n    <g id=\"ytick_15\">\n     <g id=\"line2d_21\">\n      <g>\n       <use style=\"stroke:#000000;stroke-width:0.6;\" x=\"37.7\" xlink:href=\"#m5ca0a5d171\" y=\"182.552354\"/>\n      </g>\n     </g>\n    </g>\n    <g id=\"ytick_16\">\n     <g id=\"line2d_22\">\n      <g>\n       <use style=\"stroke:#000000;stroke-width:0.6;\" x=\"37.7\" xlink:href=\"#m5ca0a5d171\" y=\"168.368983\"/>\n      </g>\n     </g>\n    </g>\n    <g id=\"ytick_17\">\n     <g id=\"line2d_23\">\n      <g>\n       <use style=\"stroke:#000000;stroke-width:0.6;\" x=\"37.7\" xlink:href=\"#m5ca0a5d171\" y=\"161.16697\"/>\n      </g>\n     </g>\n    </g>\n    <g id=\"ytick_18\">\n     <g id=\"line2d_24\">\n      <g>\n       <use style=\"stroke:#000000;stroke-width:0.6;\" x=\"37.7\" xlink:href=\"#m5ca0a5d171\" y=\"156.057061\"/>\n      </g>\n     </g>\n    </g>\n    <g id=\"ytick_19\">\n     <g id=\"line2d_25\">\n      <g>\n       <use style=\"stroke:#000000;stroke-width:0.6;\" x=\"37.7\" xlink:href=\"#m5ca0a5d171\" y=\"152.093508\"/>\n      </g>\n     </g>\n    </g>\n    <g id=\"ytick_20\">\n     <g id=\"line2d_26\">\n      <g>\n       <use style=\"stroke:#000000;stroke-width:0.6;\" x=\"37.7\" xlink:href=\"#m5ca0a5d171\" y=\"148.855049\"/>\n      </g>\n     </g>\n    </g>\n    <g id=\"ytick_21\">\n     <g id=\"line2d_27\">\n      <g>\n       <use style=\"stroke:#000000;stroke-width:0.6;\" x=\"37.7\" xlink:href=\"#m5ca0a5d171\" y=\"146.116971\"/>\n      </g>\n     </g>\n    </g>\n    <g id=\"ytick_22\">\n     <g id=\"line2d_28\">\n      <g>\n       <use style=\"stroke:#000000;stroke-width:0.6;\" x=\"37.7\" xlink:href=\"#m5ca0a5d171\" y=\"143.74514\"/>\n      </g>\n     </g>\n    </g>\n    <g id=\"ytick_23\">\n     <g id=\"line2d_29\">\n      <g>\n       <use style=\"stroke:#000000;stroke-width:0.6;\" x=\"37.7\" xlink:href=\"#m5ca0a5d171\" y=\"141.653037\"/>\n      </g>\n     </g>\n    </g>\n    <g id=\"ytick_24\">\n     <g id=\"line2d_30\">\n      <g>\n       <use style=\"stroke:#000000;stroke-width:0.6;\" x=\"37.7\" xlink:href=\"#m5ca0a5d171\" y=\"127.469666\"/>\n      </g>\n     </g>\n    </g>\n    <g id=\"ytick_25\">\n     <g id=\"line2d_31\">\n      <g>\n       <use style=\"stroke:#000000;stroke-width:0.6;\" x=\"37.7\" xlink:href=\"#m5ca0a5d171\" y=\"120.267654\"/>\n      </g>\n     </g>\n    </g>\n    <g id=\"ytick_26\">\n     <g id=\"line2d_32\">\n      <g>\n       <use style=\"stroke:#000000;stroke-width:0.6;\" x=\"37.7\" xlink:href=\"#m5ca0a5d171\" y=\"115.157745\"/>\n      </g>\n     </g>\n    </g>\n    <g id=\"ytick_27\">\n     <g id=\"line2d_33\">\n      <g>\n       <use style=\"stroke:#000000;stroke-width:0.6;\" x=\"37.7\" xlink:href=\"#m5ca0a5d171\" y=\"111.194191\"/>\n      </g>\n     </g>\n    </g>\n    <g id=\"ytick_28\">\n     <g id=\"line2d_34\">\n      <g>\n       <use style=\"stroke:#000000;stroke-width:0.6;\" x=\"37.7\" xlink:href=\"#m5ca0a5d171\" y=\"107.955732\"/>\n      </g>\n     </g>\n    </g>\n    <g id=\"ytick_29\">\n     <g id=\"line2d_35\">\n      <g>\n       <use style=\"stroke:#000000;stroke-width:0.6;\" x=\"37.7\" xlink:href=\"#m5ca0a5d171\" y=\"105.217654\"/>\n      </g>\n     </g>\n    </g>\n    <g id=\"ytick_30\">\n     <g id=\"line2d_36\">\n      <g>\n       <use style=\"stroke:#000000;stroke-width:0.6;\" x=\"37.7\" xlink:href=\"#m5ca0a5d171\" y=\"102.845823\"/>\n      </g>\n     </g>\n    </g>\n    <g id=\"ytick_31\">\n     <g id=\"line2d_37\">\n      <g>\n       <use style=\"stroke:#000000;stroke-width:0.6;\" x=\"37.7\" xlink:href=\"#m5ca0a5d171\" y=\"100.75372\"/>\n      </g>\n     </g>\n    </g>\n    <g id=\"ytick_32\">\n     <g id=\"line2d_38\">\n      <g>\n       <use style=\"stroke:#000000;stroke-width:0.6;\" x=\"37.7\" xlink:href=\"#m5ca0a5d171\" y=\"86.570349\"/>\n      </g>\n     </g>\n    </g>\n    <g id=\"ytick_33\">\n     <g id=\"line2d_39\">\n      <g>\n       <use style=\"stroke:#000000;stroke-width:0.6;\" x=\"37.7\" xlink:href=\"#m5ca0a5d171\" y=\"79.368337\"/>\n      </g>\n     </g>\n    </g>\n    <g id=\"ytick_34\">\n     <g id=\"line2d_40\">\n      <g>\n       <use style=\"stroke:#000000;stroke-width:0.6;\" x=\"37.7\" xlink:href=\"#m5ca0a5d171\" y=\"74.258428\"/>\n      </g>\n     </g>\n    </g>\n    <g id=\"ytick_35\">\n     <g id=\"line2d_41\">\n      <g>\n       <use style=\"stroke:#000000;stroke-width:0.6;\" x=\"37.7\" xlink:href=\"#m5ca0a5d171\" y=\"70.294874\"/>\n      </g>\n     </g>\n    </g>\n    <g id=\"ytick_36\">\n     <g id=\"line2d_42\">\n      <g>\n       <use style=\"stroke:#000000;stroke-width:0.6;\" x=\"37.7\" xlink:href=\"#m5ca0a5d171\" y=\"67.056416\"/>\n      </g>\n     </g>\n    </g>\n    <g id=\"ytick_37\">\n     <g id=\"line2d_43\">\n      <g>\n       <use style=\"stroke:#000000;stroke-width:0.6;\" x=\"37.7\" xlink:href=\"#m5ca0a5d171\" y=\"64.318338\"/>\n      </g>\n     </g>\n    </g>\n    <g id=\"ytick_38\">\n     <g id=\"line2d_44\">\n      <g>\n       <use style=\"stroke:#000000;stroke-width:0.6;\" x=\"37.7\" xlink:href=\"#m5ca0a5d171\" y=\"61.946507\"/>\n      </g>\n     </g>\n    </g>\n    <g id=\"ytick_39\">\n     <g id=\"line2d_45\">\n      <g>\n       <use style=\"stroke:#000000;stroke-width:0.6;\" x=\"37.7\" xlink:href=\"#m5ca0a5d171\" y=\"59.854403\"/>\n      </g>\n     </g>\n    </g>\n    <g id=\"ytick_40\">\n     <g id=\"line2d_46\">\n      <g>\n       <use style=\"stroke:#000000;stroke-width:0.6;\" x=\"37.7\" xlink:href=\"#m5ca0a5d171\" y=\"45.671032\"/>\n      </g>\n     </g>\n    </g>\n    <g id=\"ytick_41\">\n     <g id=\"line2d_47\">\n      <g>\n       <use style=\"stroke:#000000;stroke-width:0.6;\" x=\"37.7\" xlink:href=\"#m5ca0a5d171\" y=\"38.46902\"/>\n      </g>\n     </g>\n    </g>\n    <g id=\"ytick_42\">\n     <g id=\"line2d_48\">\n      <g>\n       <use style=\"stroke:#000000;stroke-width:0.6;\" x=\"37.7\" xlink:href=\"#m5ca0a5d171\" y=\"33.359111\"/>\n      </g>\n     </g>\n    </g>\n    <g id=\"ytick_43\">\n     <g id=\"line2d_49\">\n      <g>\n       <use style=\"stroke:#000000;stroke-width:0.6;\" x=\"37.7\" xlink:href=\"#m5ca0a5d171\" y=\"29.395558\"/>\n      </g>\n     </g>\n    </g>\n    <g id=\"ytick_44\">\n     <g id=\"line2d_50\">\n      <g>\n       <use style=\"stroke:#000000;stroke-width:0.6;\" x=\"37.7\" xlink:href=\"#m5ca0a5d171\" y=\"26.157099\"/>\n      </g>\n     </g>\n    </g>\n    <g id=\"ytick_45\">\n     <g id=\"line2d_51\">\n      <g>\n       <use style=\"stroke:#000000;stroke-width:0.6;\" x=\"37.7\" xlink:href=\"#m5ca0a5d171\" y=\"23.419021\"/>\n      </g>\n     </g>\n    </g>\n    <g id=\"ytick_46\">\n     <g id=\"line2d_52\">\n      <g>\n       <use style=\"stroke:#000000;stroke-width:0.6;\" x=\"37.7\" xlink:href=\"#m5ca0a5d171\" y=\"21.04719\"/>\n      </g>\n     </g>\n    </g>\n    <g id=\"ytick_47\">\n     <g id=\"line2d_53\">\n      <g>\n       <use style=\"stroke:#000000;stroke-width:0.6;\" x=\"37.7\" xlink:href=\"#m5ca0a5d171\" y=\"18.955086\"/>\n      </g>\n     </g>\n    </g>\n   </g>\n   <g id=\"line2d_54\">\n    <defs>\n     <path d=\"M 0 3 \nC 0.795609 3 1.55874 2.683901 2.12132 2.12132 \nC 2.683901 1.55874 3 0.795609 3 0 \nC 3 -0.795609 2.683901 -1.55874 2.12132 -2.12132 \nC 1.55874 -2.683901 0.795609 -3 0 -3 \nC -0.795609 -3 -1.55874 -2.683901 -2.12132 -2.12132 \nC -2.683901 -1.55874 -3 -0.795609 -3 0 \nC -3 0.795609 -2.683901 1.55874 -2.12132 2.12132 \nC -1.55874 2.683901 -0.795609 3 0 3 \nz\n\" id=\"mf4a0142a1a\" style=\"stroke:#1f77b4;\"/>\n    </defs>\n    <g clip-path=\"url(#pe36df88973)\">\n     <use style=\"fill-opacity:0;stroke:#1f77b4;\" x=\"52.918182\" xlink:href=\"#mf4a0142a1a\" y=\"17.083636\"/>\n     <use style=\"fill-opacity:0;stroke:#1f77b4;\" x=\"55.974042\" xlink:href=\"#mf4a0142a1a\" y=\"51.175548\"/>\n     <use style=\"fill-opacity:0;stroke:#1f77b4;\" x=\"59.029901\" xlink:href=\"#mf4a0142a1a\" y=\"36.160124\"/>\n     <use style=\"fill-opacity:0;stroke:#1f77b4;\" x=\"62.085761\" xlink:href=\"#mf4a0142a1a\" y=\"92.706336\"/>\n     <use style=\"fill-opacity:0;stroke:#1f77b4;\" x=\"65.141621\" xlink:href=\"#mf4a0142a1a\" y=\"127.239957\"/>\n     <use style=\"fill-opacity:0;stroke:#1f77b4;\" x=\"68.197481\" xlink:href=\"#mf4a0142a1a\" y=\"85.148233\"/>\n     <use style=\"fill-opacity:0;stroke:#1f77b4;\" x=\"71.253341\" xlink:href=\"#mf4a0142a1a\" y=\"207.765752\"/>\n     <use style=\"fill-opacity:0;stroke:#1f77b4;\" x=\"74.3092\" xlink:href=\"#mf4a0142a1a\" y=\"113.733067\"/>\n     <use style=\"fill-opacity:0;stroke:#1f77b4;\" x=\"77.36506\" xlink:href=\"#mf4a0142a1a\" y=\"140.132885\"/>\n     <use style=\"fill-opacity:0;stroke:#1f77b4;\" x=\"80.42092\" xlink:href=\"#mf4a0142a1a\" y=\"121.091197\"/>\n     <use style=\"fill-opacity:0;stroke:#1f77b4;\" x=\"83.47678\" xlink:href=\"#mf4a0142a1a\" y=\"89.894602\"/>\n     <use style=\"fill-opacity:0;stroke:#1f77b4;\" x=\"86.53264\" xlink:href=\"#mf4a0142a1a\" y=\"102.076691\"/>\n     <use style=\"fill-opacity:0;stroke:#1f77b4;\" x=\"89.588499\" xlink:href=\"#mf4a0142a1a\" y=\"102.925178\"/>\n     <use style=\"fill-opacity:0;stroke:#1f77b4;\" x=\"92.644359\" xlink:href=\"#mf4a0142a1a\" y=\"90.344731\"/>\n     <use style=\"fill-opacity:0;stroke:#1f77b4;\" x=\"95.700219\" xlink:href=\"#mf4a0142a1a\" y=\"118.269523\"/>\n     <use style=\"fill-opacity:0;stroke:#1f77b4;\" x=\"98.756079\" xlink:href=\"#mf4a0142a1a\" y=\"118.949845\"/>\n     <use style=\"fill-opacity:0;stroke:#1f77b4;\" x=\"101.811939\" xlink:href=\"#mf4a0142a1a\" y=\"84.548707\"/>\n     <use style=\"fill-opacity:0;stroke:#1f77b4;\" x=\"104.867798\" xlink:href=\"#mf4a0142a1a\" y=\"87.625091\"/>\n     <use style=\"fill-opacity:0;stroke:#1f77b4;\" x=\"107.923658\" xlink:href=\"#mf4a0142a1a\" y=\"90.730562\"/>\n     <use style=\"fill-opacity:0;stroke:#1f77b4;\" x=\"110.979518\" xlink:href=\"#mf4a0142a1a\" y=\"116.897481\"/>\n     <use style=\"fill-opacity:0;stroke:#1f77b4;\" x=\"114.035378\" xlink:href=\"#mf4a0142a1a\" y=\"151.408385\"/>\n     <use style=\"fill-opacity:0;stroke:#1f77b4;\" x=\"117.091238\" xlink:href=\"#mf4a0142a1a\" y=\"126.56289\"/>\n     <use style=\"fill-opacity:0;stroke:#1f77b4;\" x=\"120.147097\" xlink:href=\"#mf4a0142a1a\" y=\"91.810666\"/>\n     <use style=\"fill-opacity:0;stroke:#1f77b4;\" x=\"123.202957\" xlink:href=\"#mf4a0142a1a\" y=\"139.939873\"/>\n     <use style=\"fill-opacity:0;stroke:#1f77b4;\" x=\"126.258817\" xlink:href=\"#mf4a0142a1a\" y=\"101.512294\"/>\n     <use style=\"fill-opacity:0;stroke:#1f77b4;\" x=\"129.314677\" xlink:href=\"#mf4a0142a1a\" y=\"102.128848\"/>\n     <use style=\"fill-opacity:0;stroke:#1f77b4;\" x=\"132.370537\" xlink:href=\"#mf4a0142a1a\" y=\"92.358163\"/>\n     <use style=\"fill-opacity:0;stroke:#1f77b4;\" x=\"135.426396\" xlink:href=\"#mf4a0142a1a\" y=\"107.929119\"/>\n     <use style=\"fill-opacity:0;stroke:#1f77b4;\" x=\"138.482256\" xlink:href=\"#mf4a0142a1a\" y=\"117.009907\"/>\n     <use style=\"fill-opacity:0;stroke:#1f77b4;\" x=\"141.538116\" xlink:href=\"#mf4a0142a1a\" y=\"86.62605\"/>\n     <use style=\"fill-opacity:0;stroke:#1f77b4;\" x=\"144.593976\" xlink:href=\"#mf4a0142a1a\" y=\"161.868011\"/>\n     <use style=\"fill-opacity:0;stroke:#1f77b4;\" x=\"147.649836\" xlink:href=\"#mf4a0142a1a\" y=\"94.521441\"/>\n     <use style=\"fill-opacity:0;stroke:#1f77b4;\" x=\"150.705696\" xlink:href=\"#mf4a0142a1a\" y=\"149.643029\"/>\n     <use style=\"fill-opacity:0;stroke:#1f77b4;\" x=\"154.372727\" xlink:href=\"#mf4a0142a1a\" y=\"117.052397\"/>\n     <use style=\"fill-opacity:0;stroke:#1f77b4;\" x=\"157.428587\" xlink:href=\"#mf4a0142a1a\" y=\"187.771615\"/>\n     <use style=\"fill-opacity:0;stroke:#1f77b4;\" x=\"160.484447\" xlink:href=\"#mf4a0142a1a\" y=\"95.828142\"/>\n     <use style=\"fill-opacity:0;stroke:#1f77b4;\" x=\"163.540307\" xlink:href=\"#mf4a0142a1a\" y=\"130.858638\"/>\n     <use style=\"fill-opacity:0;stroke:#1f77b4;\" x=\"166.596166\" xlink:href=\"#mf4a0142a1a\" y=\"168.890028\"/>\n     <use style=\"fill-opacity:0;stroke:#1f77b4;\" x=\"169.652026\" xlink:href=\"#mf4a0142a1a\" y=\"134.731521\"/>\n     <use style=\"fill-opacity:0;stroke:#1f77b4;\" x=\"172.707886\" xlink:href=\"#mf4a0142a1a\" y=\"96.732077\"/>\n     <use style=\"fill-opacity:0;stroke:#1f77b4;\" x=\"175.763746\" xlink:href=\"#mf4a0142a1a\" y=\"128.463382\"/>\n     <use style=\"fill-opacity:0;stroke:#1f77b4;\" x=\"178.819606\" xlink:href=\"#mf4a0142a1a\" y=\"98.036789\"/>\n     <use style=\"fill-opacity:0;stroke:#1f77b4;\" x=\"181.875465\" xlink:href=\"#mf4a0142a1a\" y=\"160.944333\"/>\n     <use style=\"fill-opacity:0;stroke:#1f77b4;\" x=\"184.931325\" xlink:href=\"#mf4a0142a1a\" y=\"113.825555\"/>\n     <use style=\"fill-opacity:0;stroke:#1f77b4;\" x=\"187.987185\" xlink:href=\"#mf4a0142a1a\" y=\"141.962697\"/>\n     <use style=\"fill-opacity:0;stroke:#1f77b4;\" x=\"191.043045\" xlink:href=\"#mf4a0142a1a\" y=\"120.16856\"/>\n     <use style=\"fill-opacity:0;stroke:#1f77b4;\" x=\"194.098905\" xlink:href=\"#mf4a0142a1a\" y=\"89.879634\"/>\n     <use style=\"fill-opacity:0;stroke:#1f77b4;\" x=\"197.154765\" xlink:href=\"#mf4a0142a1a\" y=\"90.58259\"/>\n     <use style=\"fill-opacity:0;stroke:#1f77b4;\" x=\"200.210624\" xlink:href=\"#mf4a0142a1a\" y=\"121.762528\"/>\n     <use style=\"fill-opacity:0;stroke:#1f77b4;\" x=\"203.266484\" xlink:href=\"#mf4a0142a1a\" y=\"131.316773\"/>\n     <use style=\"fill-opacity:0;stroke:#1f77b4;\" x=\"206.322344\" xlink:href=\"#mf4a0142a1a\" y=\"108.826538\"/>\n     <use style=\"fill-opacity:0;stroke:#1f77b4;\" x=\"209.378204\" xlink:href=\"#mf4a0142a1a\" y=\"112.490906\"/>\n     <use style=\"fill-opacity:0;stroke:#1f77b4;\" x=\"212.434064\" xlink:href=\"#mf4a0142a1a\" y=\"105.769236\"/>\n     <use style=\"fill-opacity:0;stroke:#1f77b4;\" x=\"215.489923\" xlink:href=\"#mf4a0142a1a\" y=\"123.08252\"/>\n     <use style=\"fill-opacity:0;stroke:#1f77b4;\" x=\"218.545783\" xlink:href=\"#mf4a0142a1a\" y=\"173.714804\"/>\n     <use style=\"fill-opacity:0;stroke:#1f77b4;\" x=\"221.601643\" xlink:href=\"#mf4a0142a1a\" y=\"140.341424\"/>\n     <use style=\"fill-opacity:0;stroke:#1f77b4;\" x=\"224.657503\" xlink:href=\"#mf4a0142a1a\" y=\"160.900607\"/>\n     <use style=\"fill-opacity:0;stroke:#1f77b4;\" x=\"227.713363\" xlink:href=\"#mf4a0142a1a\" y=\"98.327943\"/>\n     <use style=\"fill-opacity:0;stroke:#1f77b4;\" x=\"230.769222\" xlink:href=\"#mf4a0142a1a\" y=\"121.803496\"/>\n     <use style=\"fill-opacity:0;stroke:#1f77b4;\" x=\"233.825082\" xlink:href=\"#mf4a0142a1a\" y=\"145.850946\"/>\n     <use style=\"fill-opacity:0;stroke:#1f77b4;\" x=\"236.880942\" xlink:href=\"#mf4a0142a1a\" y=\"125.877423\"/>\n     <use style=\"fill-opacity:0;stroke:#1f77b4;\" x=\"239.936802\" xlink:href=\"#mf4a0142a1a\" y=\"124.55043\"/>\n     <use style=\"fill-opacity:0;stroke:#1f77b4;\" x=\"242.992662\" xlink:href=\"#mf4a0142a1a\" y=\"134.296179\"/>\n     <use style=\"fill-opacity:0;stroke:#1f77b4;\" x=\"246.048521\" xlink:href=\"#mf4a0142a1a\" y=\"136.133732\"/>\n     <use style=\"fill-opacity:0;stroke:#1f77b4;\" x=\"249.104381\" xlink:href=\"#mf4a0142a1a\" y=\"91.594771\"/>\n     <use style=\"fill-opacity:0;stroke:#1f77b4;\" x=\"252.160241\" xlink:href=\"#mf4a0142a1a\" y=\"92.097695\"/>\n     <use style=\"fill-opacity:0;stroke:#1f77b4;\" x=\"255.827273\" xlink:href=\"#mf4a0142a1a\" y=\"119.52341\"/>\n     <use style=\"fill-opacity:0;stroke:#1f77b4;\" x=\"258.883133\" xlink:href=\"#mf4a0142a1a\" y=\"201.006018\"/>\n     <use style=\"fill-opacity:0;stroke:#1f77b4;\" x=\"261.938992\" xlink:href=\"#mf4a0142a1a\" y=\"156.053533\"/>\n     <use style=\"fill-opacity:0;stroke:#1f77b4;\" x=\"264.994852\" xlink:href=\"#mf4a0142a1a\" y=\"133.513215\"/>\n     <use style=\"fill-opacity:0;stroke:#1f77b4;\" x=\"268.050712\" xlink:href=\"#mf4a0142a1a\" y=\"122.237926\"/>\n     <use style=\"fill-opacity:0;stroke:#1f77b4;\" x=\"271.106572\" xlink:href=\"#mf4a0142a1a\" y=\"131.02926\"/>\n     <use style=\"fill-opacity:0;stroke:#1f77b4;\" x=\"274.162432\" xlink:href=\"#mf4a0142a1a\" y=\"139.801049\"/>\n     <use style=\"fill-opacity:0;stroke:#1f77b4;\" x=\"277.218291\" xlink:href=\"#mf4a0142a1a\" y=\"158.962728\"/>\n     <use style=\"fill-opacity:0;stroke:#1f77b4;\" x=\"280.274151\" xlink:href=\"#mf4a0142a1a\" y=\"90.813743\"/>\n     <use style=\"fill-opacity:0;stroke:#1f77b4;\" x=\"283.330011\" xlink:href=\"#mf4a0142a1a\" y=\"120.331409\"/>\n     <use style=\"fill-opacity:0;stroke:#1f77b4;\" x=\"286.385871\" xlink:href=\"#mf4a0142a1a\" y=\"123.374127\"/>\n     <use style=\"fill-opacity:0;stroke:#1f77b4;\" x=\"289.441731\" xlink:href=\"#mf4a0142a1a\" y=\"127.357964\"/>\n     <use style=\"fill-opacity:0;stroke:#1f77b4;\" x=\"292.49759\" xlink:href=\"#mf4a0142a1a\" y=\"136.596441\"/>\n     <use style=\"fill-opacity:0;stroke:#1f77b4;\" x=\"295.55345\" xlink:href=\"#mf4a0142a1a\" y=\"114.153697\"/>\n     <use style=\"fill-opacity:0;stroke:#1f77b4;\" x=\"298.60931\" xlink:href=\"#mf4a0142a1a\" y=\"181.753389\"/>\n     <use style=\"fill-opacity:0;stroke:#1f77b4;\" x=\"301.66517\" xlink:href=\"#mf4a0142a1a\" y=\"128.247573\"/>\n     <use style=\"fill-opacity:0;stroke:#1f77b4;\" x=\"304.72103\" xlink:href=\"#mf4a0142a1a\" y=\"124.755503\"/>\n     <use style=\"fill-opacity:0;stroke:#1f77b4;\" x=\"307.776889\" xlink:href=\"#mf4a0142a1a\" y=\"145.440359\"/>\n     <use style=\"fill-opacity:0;stroke:#1f77b4;\" x=\"310.832749\" xlink:href=\"#mf4a0142a1a\" y=\"127.162471\"/>\n     <use style=\"fill-opacity:0;stroke:#1f77b4;\" x=\"313.888609\" xlink:href=\"#mf4a0142a1a\" y=\"157.13929\"/>\n     <use style=\"fill-opacity:0;stroke:#1f77b4;\" x=\"316.944469\" xlink:href=\"#mf4a0142a1a\" y=\"151.765379\"/>\n     <use style=\"fill-opacity:0;stroke:#1f77b4;\" x=\"320.000329\" xlink:href=\"#mf4a0142a1a\" y=\"89.750622\"/>\n     <use style=\"fill-opacity:0;stroke:#1f77b4;\" x=\"323.056188\" xlink:href=\"#mf4a0142a1a\" y=\"111.23687\"/>\n     <use style=\"fill-opacity:0;stroke:#1f77b4;\" x=\"326.112048\" xlink:href=\"#mf4a0142a1a\" y=\"134.802162\"/>\n     <use style=\"fill-opacity:0;stroke:#1f77b4;\" x=\"329.167908\" xlink:href=\"#mf4a0142a1a\" y=\"195.389722\"/>\n     <use style=\"fill-opacity:0;stroke:#1f77b4;\" x=\"332.223768\" xlink:href=\"#mf4a0142a1a\" y=\"142.036286\"/>\n     <use style=\"fill-opacity:0;stroke:#1f77b4;\" x=\"335.279628\" xlink:href=\"#mf4a0142a1a\" y=\"141.427975\"/>\n     <use style=\"fill-opacity:0;stroke:#1f77b4;\" x=\"338.335487\" xlink:href=\"#mf4a0142a1a\" y=\"133.916323\"/>\n     <use style=\"fill-opacity:0;stroke:#1f77b4;\" x=\"341.391347\" xlink:href=\"#mf4a0142a1a\" y=\"214.756364\"/>\n     <use style=\"fill-opacity:0;stroke:#1f77b4;\" x=\"344.447207\" xlink:href=\"#mf4a0142a1a\" y=\"155.392458\"/>\n     <use style=\"fill-opacity:0;stroke:#1f77b4;\" x=\"347.503067\" xlink:href=\"#mf4a0142a1a\" y=\"147.524711\"/>\n     <use style=\"fill-opacity:0;stroke:#1f77b4;\" x=\"350.558927\" xlink:href=\"#mf4a0142a1a\" y=\"109.29857\"/>\n     <use style=\"fill-opacity:0;stroke:#1f77b4;\" x=\"353.614786\" xlink:href=\"#mf4a0142a1a\" y=\"103.172646\"/>\n     <use style=\"fill-opacity:0;stroke:#1f77b4;\" x=\"357.281818\" xlink:href=\"#mf4a0142a1a\" y=\"129.694086\"/>\n    </g>\n   </g>\n   <g id=\"patch_3\">\n    <path d=\"M 37.7 224.64 \nL 37.7 7.2 \n\" style=\"fill:none;stroke:#000000;stroke-linecap:square;stroke-linejoin:miter;stroke-width:0.8;\"/>\n   </g>\n   <g id=\"patch_4\">\n    <path d=\"M 372.5 224.64 \nL 372.5 7.2 \n\" style=\"fill:none;stroke:#000000;stroke-linecap:square;stroke-linejoin:miter;stroke-width:0.8;\"/>\n   </g>\n   <g id=\"patch_5\">\n    <path d=\"M 37.7 224.64 \nL 372.5 224.64 \n\" style=\"fill:none;stroke:#000000;stroke-linecap:square;stroke-linejoin:miter;stroke-width:0.8;\"/>\n   </g>\n   <g id=\"patch_6\">\n    <path d=\"M 37.7 7.2 \nL 372.5 7.2 \n\" style=\"fill:none;stroke:#000000;stroke-linecap:square;stroke-linejoin:miter;stroke-width:0.8;\"/>\n   </g>\n  </g>\n </g>\n <defs>\n  <clipPath id=\"pe36df88973\">\n   <rect height=\"217.44\" width=\"334.8\" x=\"37.7\" y=\"7.2\"/>\n  </clipPath>\n </defs>\n</svg>\n"
          },
          "metadata": {
            "tags": [],
            "needs_background": "light"
          }
        }
      ]
    },
    {
      "cell_type": "code",
      "metadata": {
        "colab": {
          "base_uri": "https://localhost:8080/",
          "height": 369
        },
        "id": "HHxYHihmx5u3",
        "outputId": "a3f7fa9e-7c33-4060-f46b-27bf830c49ed"
      },
      "source": [
        "n_range = np.linspace(2,500,100,dtype=int)\n",
        "rsquareds = [sim(0,0.1,0.5,n) for n in n_range]\n",
        "plt.semilogy(n_range,rsquareds,'o',fillstyle=\"none\")\n",
        "\n",
        "n_range = np.linspace(2,500,100,dtype=int)\n",
        "rsquareds = [sim(0,1,0.5,n) for n in n_range]\n",
        "\n",
        "plt.semilogy(n_range,rsquareds,'o',fillstyle=\"none\")"
      ],
      "execution_count": null,
      "outputs": [
        {
          "output_type": "execute_result",
          "data": {
            "text/plain": [
              "[<matplotlib.lines.Line2D at 0x7f37a1f57350>]"
            ]
          },
          "metadata": {
            "tags": []
          },
          "execution_count": 130
        },
        {
          "output_type": "display_data",
          "data": {
            "text/plain": [
              "<Figure size 432x288 with 1 Axes>"
            ],
            "image/svg+xml": "<?xml version=\"1.0\" encoding=\"utf-8\" standalone=\"no\"?>\n<!DOCTYPE svg PUBLIC \"-//W3C//DTD SVG 1.1//EN\"\n  \"http://www.w3.org/Graphics/SVG/1.1/DTD/svg11.dtd\">\n<!-- Created with matplotlib (https://matplotlib.org/) -->\n<svg height=\"248.518125pt\" version=\"1.1\" viewBox=\"0 0 379.7 248.518125\" width=\"379.7pt\" xmlns=\"http://www.w3.org/2000/svg\" xmlns:xlink=\"http://www.w3.org/1999/xlink\">\n <defs>\n  <style type=\"text/css\">\n*{stroke-linecap:butt;stroke-linejoin:round;}\n  </style>\n </defs>\n <g id=\"figure_1\">\n  <g id=\"patch_1\">\n   <path d=\"M 0 248.518125 \nL 379.7 248.518125 \nL 379.7 0 \nL 0 0 \nz\n\" style=\"fill:none;\"/>\n  </g>\n  <g id=\"axes_1\">\n   <g id=\"patch_2\">\n    <path d=\"M 37.7 224.64 \nL 372.5 224.64 \nL 372.5 7.2 \nL 37.7 7.2 \nz\n\" style=\"fill:#ffffff;\"/>\n   </g>\n   <g id=\"matplotlib.axis_1\">\n    <g id=\"xtick_1\">\n     <g id=\"line2d_1\">\n      <defs>\n       <path d=\"M 0 0 \nL 0 3.5 \n\" id=\"mf6e8aa93cf\" style=\"stroke:#000000;stroke-width:0.8;\"/>\n      </defs>\n      <g>\n       <use style=\"stroke:#000000;stroke-width:0.8;\" x=\"51.695838\" xlink:href=\"#mf6e8aa93cf\" y=\"224.64\"/>\n      </g>\n     </g>\n     <g id=\"text_1\">\n      <!-- 0 -->\n      <defs>\n       <path d=\"M 31.78125 66.40625 \nQ 24.171875 66.40625 20.328125 58.90625 \nQ 16.5 51.421875 16.5 36.375 \nQ 16.5 21.390625 20.328125 13.890625 \nQ 24.171875 6.390625 31.78125 6.390625 \nQ 39.453125 6.390625 43.28125 13.890625 \nQ 47.125 21.390625 47.125 36.375 \nQ 47.125 51.421875 43.28125 58.90625 \nQ 39.453125 66.40625 31.78125 66.40625 \nz\nM 31.78125 74.21875 \nQ 44.046875 74.21875 50.515625 64.515625 \nQ 56.984375 54.828125 56.984375 36.375 \nQ 56.984375 17.96875 50.515625 8.265625 \nQ 44.046875 -1.421875 31.78125 -1.421875 \nQ 19.53125 -1.421875 13.0625 8.265625 \nQ 6.59375 17.96875 6.59375 36.375 \nQ 6.59375 54.828125 13.0625 64.515625 \nQ 19.53125 74.21875 31.78125 74.21875 \nz\n\" id=\"DejaVuSans-48\"/>\n      </defs>\n      <g transform=\"translate(48.514588 239.238437)scale(0.1 -0.1)\">\n       <use xlink:href=\"#DejaVuSans-48\"/>\n      </g>\n     </g>\n    </g>\n    <g id=\"xtick_2\">\n     <g id=\"line2d_2\">\n      <g>\n       <use style=\"stroke:#000000;stroke-width:0.8;\" x=\"112.813034\" xlink:href=\"#mf6e8aa93cf\" y=\"224.64\"/>\n      </g>\n     </g>\n     <g id=\"text_2\">\n      <!-- 100 -->\n      <defs>\n       <path d=\"M 12.40625 8.296875 \nL 28.515625 8.296875 \nL 28.515625 63.921875 \nL 10.984375 60.40625 \nL 10.984375 69.390625 \nL 28.421875 72.90625 \nL 38.28125 72.90625 \nL 38.28125 8.296875 \nL 54.390625 8.296875 \nL 54.390625 0 \nL 12.40625 0 \nz\n\" id=\"DejaVuSans-49\"/>\n      </defs>\n      <g transform=\"translate(103.269284 239.238437)scale(0.1 -0.1)\">\n       <use xlink:href=\"#DejaVuSans-49\"/>\n       <use x=\"63.623047\" xlink:href=\"#DejaVuSans-48\"/>\n       <use x=\"127.246094\" xlink:href=\"#DejaVuSans-48\"/>\n      </g>\n     </g>\n    </g>\n    <g id=\"xtick_3\">\n     <g id=\"line2d_3\">\n      <g>\n       <use style=\"stroke:#000000;stroke-width:0.8;\" x=\"173.93023\" xlink:href=\"#mf6e8aa93cf\" y=\"224.64\"/>\n      </g>\n     </g>\n     <g id=\"text_3\">\n      <!-- 200 -->\n      <defs>\n       <path d=\"M 19.1875 8.296875 \nL 53.609375 8.296875 \nL 53.609375 0 \nL 7.328125 0 \nL 7.328125 8.296875 \nQ 12.9375 14.109375 22.625 23.890625 \nQ 32.328125 33.6875 34.8125 36.53125 \nQ 39.546875 41.84375 41.421875 45.53125 \nQ 43.3125 49.21875 43.3125 52.78125 \nQ 43.3125 58.59375 39.234375 62.25 \nQ 35.15625 65.921875 28.609375 65.921875 \nQ 23.96875 65.921875 18.8125 64.3125 \nQ 13.671875 62.703125 7.8125 59.421875 \nL 7.8125 69.390625 \nQ 13.765625 71.78125 18.9375 73 \nQ 24.125 74.21875 28.421875 74.21875 \nQ 39.75 74.21875 46.484375 68.546875 \nQ 53.21875 62.890625 53.21875 53.421875 \nQ 53.21875 48.921875 51.53125 44.890625 \nQ 49.859375 40.875 45.40625 35.40625 \nQ 44.1875 33.984375 37.640625 27.21875 \nQ 31.109375 20.453125 19.1875 8.296875 \nz\n\" id=\"DejaVuSans-50\"/>\n      </defs>\n      <g transform=\"translate(164.38648 239.238437)scale(0.1 -0.1)\">\n       <use xlink:href=\"#DejaVuSans-50\"/>\n       <use x=\"63.623047\" xlink:href=\"#DejaVuSans-48\"/>\n       <use x=\"127.246094\" xlink:href=\"#DejaVuSans-48\"/>\n      </g>\n     </g>\n    </g>\n    <g id=\"xtick_4\">\n     <g id=\"line2d_4\">\n      <g>\n       <use style=\"stroke:#000000;stroke-width:0.8;\" x=\"235.047426\" xlink:href=\"#mf6e8aa93cf\" y=\"224.64\"/>\n      </g>\n     </g>\n     <g id=\"text_4\">\n      <!-- 300 -->\n      <defs>\n       <path d=\"M 40.578125 39.3125 \nQ 47.65625 37.796875 51.625 33 \nQ 55.609375 28.21875 55.609375 21.1875 \nQ 55.609375 10.40625 48.1875 4.484375 \nQ 40.765625 -1.421875 27.09375 -1.421875 \nQ 22.515625 -1.421875 17.65625 -0.515625 \nQ 12.796875 0.390625 7.625 2.203125 \nL 7.625 11.71875 \nQ 11.71875 9.328125 16.59375 8.109375 \nQ 21.484375 6.890625 26.8125 6.890625 \nQ 36.078125 6.890625 40.9375 10.546875 \nQ 45.796875 14.203125 45.796875 21.1875 \nQ 45.796875 27.640625 41.28125 31.265625 \nQ 36.765625 34.90625 28.71875 34.90625 \nL 20.21875 34.90625 \nL 20.21875 43.015625 \nL 29.109375 43.015625 \nQ 36.375 43.015625 40.234375 45.921875 \nQ 44.09375 48.828125 44.09375 54.296875 \nQ 44.09375 59.90625 40.109375 62.90625 \nQ 36.140625 65.921875 28.71875 65.921875 \nQ 24.65625 65.921875 20.015625 65.03125 \nQ 15.375 64.15625 9.8125 62.3125 \nL 9.8125 71.09375 \nQ 15.4375 72.65625 20.34375 73.4375 \nQ 25.25 74.21875 29.59375 74.21875 \nQ 40.828125 74.21875 47.359375 69.109375 \nQ 53.90625 64.015625 53.90625 55.328125 \nQ 53.90625 49.265625 50.4375 45.09375 \nQ 46.96875 40.921875 40.578125 39.3125 \nz\n\" id=\"DejaVuSans-51\"/>\n      </defs>\n      <g transform=\"translate(225.503676 239.238437)scale(0.1 -0.1)\">\n       <use xlink:href=\"#DejaVuSans-51\"/>\n       <use x=\"63.623047\" xlink:href=\"#DejaVuSans-48\"/>\n       <use x=\"127.246094\" xlink:href=\"#DejaVuSans-48\"/>\n      </g>\n     </g>\n    </g>\n    <g id=\"xtick_5\">\n     <g id=\"line2d_5\">\n      <g>\n       <use style=\"stroke:#000000;stroke-width:0.8;\" x=\"296.164622\" xlink:href=\"#mf6e8aa93cf\" y=\"224.64\"/>\n      </g>\n     </g>\n     <g id=\"text_5\">\n      <!-- 400 -->\n      <defs>\n       <path d=\"M 37.796875 64.3125 \nL 12.890625 25.390625 \nL 37.796875 25.390625 \nz\nM 35.203125 72.90625 \nL 47.609375 72.90625 \nL 47.609375 25.390625 \nL 58.015625 25.390625 \nL 58.015625 17.1875 \nL 47.609375 17.1875 \nL 47.609375 0 \nL 37.796875 0 \nL 37.796875 17.1875 \nL 4.890625 17.1875 \nL 4.890625 26.703125 \nz\n\" id=\"DejaVuSans-52\"/>\n      </defs>\n      <g transform=\"translate(286.620872 239.238437)scale(0.1 -0.1)\">\n       <use xlink:href=\"#DejaVuSans-52\"/>\n       <use x=\"63.623047\" xlink:href=\"#DejaVuSans-48\"/>\n       <use x=\"127.246094\" xlink:href=\"#DejaVuSans-48\"/>\n      </g>\n     </g>\n    </g>\n    <g id=\"xtick_6\">\n     <g id=\"line2d_6\">\n      <g>\n       <use style=\"stroke:#000000;stroke-width:0.8;\" x=\"357.281818\" xlink:href=\"#mf6e8aa93cf\" y=\"224.64\"/>\n      </g>\n     </g>\n     <g id=\"text_6\">\n      <!-- 500 -->\n      <defs>\n       <path d=\"M 10.796875 72.90625 \nL 49.515625 72.90625 \nL 49.515625 64.59375 \nL 19.828125 64.59375 \nL 19.828125 46.734375 \nQ 21.96875 47.46875 24.109375 47.828125 \nQ 26.265625 48.1875 28.421875 48.1875 \nQ 40.625 48.1875 47.75 41.5 \nQ 54.890625 34.8125 54.890625 23.390625 \nQ 54.890625 11.625 47.5625 5.09375 \nQ 40.234375 -1.421875 26.90625 -1.421875 \nQ 22.3125 -1.421875 17.546875 -0.640625 \nQ 12.796875 0.140625 7.71875 1.703125 \nL 7.71875 11.625 \nQ 12.109375 9.234375 16.796875 8.0625 \nQ 21.484375 6.890625 26.703125 6.890625 \nQ 35.15625 6.890625 40.078125 11.328125 \nQ 45.015625 15.765625 45.015625 23.390625 \nQ 45.015625 31 40.078125 35.4375 \nQ 35.15625 39.890625 26.703125 39.890625 \nQ 22.75 39.890625 18.8125 39.015625 \nQ 14.890625 38.140625 10.796875 36.28125 \nz\n\" id=\"DejaVuSans-53\"/>\n      </defs>\n      <g transform=\"translate(347.738068 239.238437)scale(0.1 -0.1)\">\n       <use xlink:href=\"#DejaVuSans-53\"/>\n       <use x=\"63.623047\" xlink:href=\"#DejaVuSans-48\"/>\n       <use x=\"127.246094\" xlink:href=\"#DejaVuSans-48\"/>\n      </g>\n     </g>\n    </g>\n   </g>\n   <g id=\"matplotlib.axis_2\">\n    <g id=\"ytick_1\">\n     <g id=\"line2d_7\">\n      <defs>\n       <path d=\"M 0 0 \nL -3.5 0 \n\" id=\"m9723ca7625\" style=\"stroke:#000000;stroke-width:0.8;\"/>\n      </defs>\n      <g>\n       <use style=\"stroke:#000000;stroke-width:0.8;\" x=\"37.7\" xlink:href=\"#m9723ca7625\" y=\"212.178582\"/>\n      </g>\n     </g>\n     <g id=\"text_7\">\n      <!-- $\\mathdefault{10^{-6}}$ -->\n      <defs>\n       <path d=\"M 10.59375 35.5 \nL 73.1875 35.5 \nL 73.1875 27.203125 \nL 10.59375 27.203125 \nz\n\" id=\"DejaVuSans-8722\"/>\n       <path d=\"M 33.015625 40.375 \nQ 26.375 40.375 22.484375 35.828125 \nQ 18.609375 31.296875 18.609375 23.390625 \nQ 18.609375 15.53125 22.484375 10.953125 \nQ 26.375 6.390625 33.015625 6.390625 \nQ 39.65625 6.390625 43.53125 10.953125 \nQ 47.40625 15.53125 47.40625 23.390625 \nQ 47.40625 31.296875 43.53125 35.828125 \nQ 39.65625 40.375 33.015625 40.375 \nz\nM 52.59375 71.296875 \nL 52.59375 62.3125 \nQ 48.875 64.0625 45.09375 64.984375 \nQ 41.3125 65.921875 37.59375 65.921875 \nQ 27.828125 65.921875 22.671875 59.328125 \nQ 17.53125 52.734375 16.796875 39.40625 \nQ 19.671875 43.65625 24.015625 45.921875 \nQ 28.375 48.1875 33.59375 48.1875 \nQ 44.578125 48.1875 50.953125 41.515625 \nQ 57.328125 34.859375 57.328125 23.390625 \nQ 57.328125 12.15625 50.6875 5.359375 \nQ 44.046875 -1.421875 33.015625 -1.421875 \nQ 20.359375 -1.421875 13.671875 8.265625 \nQ 6.984375 17.96875 6.984375 36.375 \nQ 6.984375 53.65625 15.1875 63.9375 \nQ 23.390625 74.21875 37.203125 74.21875 \nQ 40.921875 74.21875 44.703125 73.484375 \nQ 48.484375 72.75 52.59375 71.296875 \nz\n\" id=\"DejaVuSans-54\"/>\n      </defs>\n      <g transform=\"translate(7.2 215.977801)scale(0.1 -0.1)\">\n       <use transform=\"translate(0 0.765625)\" xlink:href=\"#DejaVuSans-49\"/>\n       <use transform=\"translate(63.623047 0.765625)\" xlink:href=\"#DejaVuSans-48\"/>\n       <use transform=\"translate(128.203125 39.046875)scale(0.7)\" xlink:href=\"#DejaVuSans-8722\"/>\n       <use transform=\"translate(186.855469 39.046875)scale(0.7)\" xlink:href=\"#DejaVuSans-54\"/>\n      </g>\n     </g>\n    </g>\n    <g id=\"ytick_2\">\n     <g id=\"line2d_8\">\n      <g>\n       <use style=\"stroke:#000000;stroke-width:0.8;\" x=\"37.7\" xlink:href=\"#m9723ca7625\" y=\"179.662758\"/>\n      </g>\n     </g>\n     <g id=\"text_8\">\n      <!-- $\\mathdefault{10^{-5}}$ -->\n      <g transform=\"translate(7.2 183.461977)scale(0.1 -0.1)\">\n       <use transform=\"translate(0 0.684375)\" xlink:href=\"#DejaVuSans-49\"/>\n       <use transform=\"translate(63.623047 0.684375)\" xlink:href=\"#DejaVuSans-48\"/>\n       <use transform=\"translate(128.203125 38.965625)scale(0.7)\" xlink:href=\"#DejaVuSans-8722\"/>\n       <use transform=\"translate(186.855469 38.965625)scale(0.7)\" xlink:href=\"#DejaVuSans-53\"/>\n      </g>\n     </g>\n    </g>\n    <g id=\"ytick_3\">\n     <g id=\"line2d_9\">\n      <g>\n       <use style=\"stroke:#000000;stroke-width:0.8;\" x=\"37.7\" xlink:href=\"#m9723ca7625\" y=\"147.146933\"/>\n      </g>\n     </g>\n     <g id=\"text_9\">\n      <!-- $\\mathdefault{10^{-4}}$ -->\n      <g transform=\"translate(7.2 150.946152)scale(0.1 -0.1)\">\n       <use transform=\"translate(0 0.684375)\" xlink:href=\"#DejaVuSans-49\"/>\n       <use transform=\"translate(63.623047 0.684375)\" xlink:href=\"#DejaVuSans-48\"/>\n       <use transform=\"translate(128.203125 38.965625)scale(0.7)\" xlink:href=\"#DejaVuSans-8722\"/>\n       <use transform=\"translate(186.855469 38.965625)scale(0.7)\" xlink:href=\"#DejaVuSans-52\"/>\n      </g>\n     </g>\n    </g>\n    <g id=\"ytick_4\">\n     <g id=\"line2d_10\">\n      <g>\n       <use style=\"stroke:#000000;stroke-width:0.8;\" x=\"37.7\" xlink:href=\"#m9723ca7625\" y=\"114.631109\"/>\n      </g>\n     </g>\n     <g id=\"text_10\">\n      <!-- $\\mathdefault{10^{-3}}$ -->\n      <g transform=\"translate(7.2 118.430328)scale(0.1 -0.1)\">\n       <use transform=\"translate(0 0.765625)\" xlink:href=\"#DejaVuSans-49\"/>\n       <use transform=\"translate(63.623047 0.765625)\" xlink:href=\"#DejaVuSans-48\"/>\n       <use transform=\"translate(128.203125 39.046875)scale(0.7)\" xlink:href=\"#DejaVuSans-8722\"/>\n       <use transform=\"translate(186.855469 39.046875)scale(0.7)\" xlink:href=\"#DejaVuSans-51\"/>\n      </g>\n     </g>\n    </g>\n    <g id=\"ytick_5\">\n     <g id=\"line2d_11\">\n      <g>\n       <use style=\"stroke:#000000;stroke-width:0.8;\" x=\"37.7\" xlink:href=\"#m9723ca7625\" y=\"82.115285\"/>\n      </g>\n     </g>\n     <g id=\"text_11\">\n      <!-- $\\mathdefault{10^{-2}}$ -->\n      <g transform=\"translate(7.2 85.914504)scale(0.1 -0.1)\">\n       <use transform=\"translate(0 0.765625)\" xlink:href=\"#DejaVuSans-49\"/>\n       <use transform=\"translate(63.623047 0.765625)\" xlink:href=\"#DejaVuSans-48\"/>\n       <use transform=\"translate(128.203125 39.046875)scale(0.7)\" xlink:href=\"#DejaVuSans-8722\"/>\n       <use transform=\"translate(186.855469 39.046875)scale(0.7)\" xlink:href=\"#DejaVuSans-50\"/>\n      </g>\n     </g>\n    </g>\n    <g id=\"ytick_6\">\n     <g id=\"line2d_12\">\n      <g>\n       <use style=\"stroke:#000000;stroke-width:0.8;\" x=\"37.7\" xlink:href=\"#m9723ca7625\" y=\"49.599461\"/>\n      </g>\n     </g>\n     <g id=\"text_12\">\n      <!-- $\\mathdefault{10^{-1}}$ -->\n      <g transform=\"translate(7.2 53.398679)scale(0.1 -0.1)\">\n       <use transform=\"translate(0 0.684375)\" xlink:href=\"#DejaVuSans-49\"/>\n       <use transform=\"translate(63.623047 0.684375)\" xlink:href=\"#DejaVuSans-48\"/>\n       <use transform=\"translate(128.203125 38.965625)scale(0.7)\" xlink:href=\"#DejaVuSans-8722\"/>\n       <use transform=\"translate(186.855469 38.965625)scale(0.7)\" xlink:href=\"#DejaVuSans-49\"/>\n      </g>\n     </g>\n    </g>\n    <g id=\"ytick_7\">\n     <g id=\"line2d_13\">\n      <g>\n       <use style=\"stroke:#000000;stroke-width:0.8;\" x=\"37.7\" xlink:href=\"#m9723ca7625\" y=\"17.083636\"/>\n      </g>\n     </g>\n     <g id=\"text_13\">\n      <!-- $\\mathdefault{10^{0}}$ -->\n      <g transform=\"translate(13.1 20.882855)scale(0.1 -0.1)\">\n       <use transform=\"translate(0 0.765625)\" xlink:href=\"#DejaVuSans-49\"/>\n       <use transform=\"translate(63.623047 0.765625)\" xlink:href=\"#DejaVuSans-48\"/>\n       <use transform=\"translate(128.203125 39.046875)scale(0.7)\" xlink:href=\"#DejaVuSans-48\"/>\n      </g>\n     </g>\n    </g>\n    <g id=\"ytick_8\">\n     <g id=\"line2d_14\">\n      <defs>\n       <path d=\"M 0 0 \nL -2 0 \n\" id=\"madceffbecb\" style=\"stroke:#000000;stroke-width:0.6;\"/>\n      </defs>\n      <g>\n       <use style=\"stroke:#000000;stroke-width:0.6;\" x=\"37.7\" xlink:href=\"#madceffbecb\" y=\"221.96682\"/>\n      </g>\n     </g>\n    </g>\n    <g id=\"ytick_9\">\n     <g id=\"line2d_15\">\n      <g>\n       <use style=\"stroke:#000000;stroke-width:0.6;\" x=\"37.7\" xlink:href=\"#madceffbecb\" y=\"219.392177\"/>\n      </g>\n     </g>\n    </g>\n    <g id=\"ytick_10\">\n     <g id=\"line2d_16\">\n      <g>\n       <use style=\"stroke:#000000;stroke-width:0.6;\" x=\"37.7\" xlink:href=\"#madceffbecb\" y=\"217.215347\"/>\n      </g>\n     </g>\n    </g>\n    <g id=\"ytick_11\">\n     <g id=\"line2d_17\">\n      <g>\n       <use style=\"stroke:#000000;stroke-width:0.6;\" x=\"37.7\" xlink:href=\"#madceffbecb\" y=\"215.329691\"/>\n      </g>\n     </g>\n    </g>\n    <g id=\"ytick_12\">\n     <g id=\"line2d_18\">\n      <g>\n       <use style=\"stroke:#000000;stroke-width:0.6;\" x=\"37.7\" xlink:href=\"#madceffbecb\" y=\"213.666425\"/>\n      </g>\n     </g>\n    </g>\n    <g id=\"ytick_13\">\n     <g id=\"line2d_19\">\n      <g>\n       <use style=\"stroke:#000000;stroke-width:0.6;\" x=\"37.7\" xlink:href=\"#madceffbecb\" y=\"202.390344\"/>\n      </g>\n     </g>\n    </g>\n    <g id=\"ytick_14\">\n     <g id=\"line2d_20\">\n      <g>\n       <use style=\"stroke:#000000;stroke-width:0.6;\" x=\"37.7\" xlink:href=\"#madceffbecb\" y=\"196.664591\"/>\n      </g>\n     </g>\n    </g>\n    <g id=\"ytick_15\">\n     <g id=\"line2d_21\">\n      <g>\n       <use style=\"stroke:#000000;stroke-width:0.6;\" x=\"37.7\" xlink:href=\"#madceffbecb\" y=\"192.602105\"/>\n      </g>\n     </g>\n    </g>\n    <g id=\"ytick_16\">\n     <g id=\"line2d_22\">\n      <g>\n       <use style=\"stroke:#000000;stroke-width:0.6;\" x=\"37.7\" xlink:href=\"#madceffbecb\" y=\"189.450996\"/>\n      </g>\n     </g>\n    </g>\n    <g id=\"ytick_17\">\n     <g id=\"line2d_23\">\n      <g>\n       <use style=\"stroke:#000000;stroke-width:0.6;\" x=\"37.7\" xlink:href=\"#madceffbecb\" y=\"186.876353\"/>\n      </g>\n     </g>\n    </g>\n    <g id=\"ytick_18\">\n     <g id=\"line2d_24\">\n      <g>\n       <use style=\"stroke:#000000;stroke-width:0.6;\" x=\"37.7\" xlink:href=\"#madceffbecb\" y=\"184.699523\"/>\n      </g>\n     </g>\n    </g>\n    <g id=\"ytick_19\">\n     <g id=\"line2d_25\">\n      <g>\n       <use style=\"stroke:#000000;stroke-width:0.6;\" x=\"37.7\" xlink:href=\"#madceffbecb\" y=\"182.813867\"/>\n      </g>\n     </g>\n    </g>\n    <g id=\"ytick_20\">\n     <g id=\"line2d_26\">\n      <g>\n       <use style=\"stroke:#000000;stroke-width:0.6;\" x=\"37.7\" xlink:href=\"#madceffbecb\" y=\"181.1506\"/>\n      </g>\n     </g>\n    </g>\n    <g id=\"ytick_21\">\n     <g id=\"line2d_27\">\n      <g>\n       <use style=\"stroke:#000000;stroke-width:0.6;\" x=\"37.7\" xlink:href=\"#madceffbecb\" y=\"169.874519\"/>\n      </g>\n     </g>\n    </g>\n    <g id=\"ytick_22\">\n     <g id=\"line2d_28\">\n      <g>\n       <use style=\"stroke:#000000;stroke-width:0.6;\" x=\"37.7\" xlink:href=\"#madceffbecb\" y=\"164.148767\"/>\n      </g>\n     </g>\n    </g>\n    <g id=\"ytick_23\">\n     <g id=\"line2d_29\">\n      <g>\n       <use style=\"stroke:#000000;stroke-width:0.6;\" x=\"37.7\" xlink:href=\"#madceffbecb\" y=\"160.086281\"/>\n      </g>\n     </g>\n    </g>\n    <g id=\"ytick_24\">\n     <g id=\"line2d_30\">\n      <g>\n       <use style=\"stroke:#000000;stroke-width:0.6;\" x=\"37.7\" xlink:href=\"#madceffbecb\" y=\"156.935172\"/>\n      </g>\n     </g>\n    </g>\n    <g id=\"ytick_25\">\n     <g id=\"line2d_31\">\n      <g>\n       <use style=\"stroke:#000000;stroke-width:0.6;\" x=\"37.7\" xlink:href=\"#madceffbecb\" y=\"154.360528\"/>\n      </g>\n     </g>\n    </g>\n    <g id=\"ytick_26\">\n     <g id=\"line2d_32\">\n      <g>\n       <use style=\"stroke:#000000;stroke-width:0.6;\" x=\"37.7\" xlink:href=\"#madceffbecb\" y=\"152.183698\"/>\n      </g>\n     </g>\n    </g>\n    <g id=\"ytick_27\">\n     <g id=\"line2d_33\">\n      <g>\n       <use style=\"stroke:#000000;stroke-width:0.6;\" x=\"37.7\" xlink:href=\"#madceffbecb\" y=\"150.298042\"/>\n      </g>\n     </g>\n    </g>\n    <g id=\"ytick_28\">\n     <g id=\"line2d_34\">\n      <g>\n       <use style=\"stroke:#000000;stroke-width:0.6;\" x=\"37.7\" xlink:href=\"#madceffbecb\" y=\"148.634776\"/>\n      </g>\n     </g>\n    </g>\n    <g id=\"ytick_29\">\n     <g id=\"line2d_35\">\n      <g>\n       <use style=\"stroke:#000000;stroke-width:0.6;\" x=\"37.7\" xlink:href=\"#madceffbecb\" y=\"137.358695\"/>\n      </g>\n     </g>\n    </g>\n    <g id=\"ytick_30\">\n     <g id=\"line2d_36\">\n      <g>\n       <use style=\"stroke:#000000;stroke-width:0.6;\" x=\"37.7\" xlink:href=\"#madceffbecb\" y=\"131.632943\"/>\n      </g>\n     </g>\n    </g>\n    <g id=\"ytick_31\">\n     <g id=\"line2d_37\">\n      <g>\n       <use style=\"stroke:#000000;stroke-width:0.6;\" x=\"37.7\" xlink:href=\"#madceffbecb\" y=\"127.570457\"/>\n      </g>\n     </g>\n    </g>\n    <g id=\"ytick_32\">\n     <g id=\"line2d_38\">\n      <g>\n       <use style=\"stroke:#000000;stroke-width:0.6;\" x=\"37.7\" xlink:href=\"#madceffbecb\" y=\"124.419348\"/>\n      </g>\n     </g>\n    </g>\n    <g id=\"ytick_33\">\n     <g id=\"line2d_39\">\n      <g>\n       <use style=\"stroke:#000000;stroke-width:0.6;\" x=\"37.7\" xlink:href=\"#madceffbecb\" y=\"121.844704\"/>\n      </g>\n     </g>\n    </g>\n    <g id=\"ytick_34\">\n     <g id=\"line2d_40\">\n      <g>\n       <use style=\"stroke:#000000;stroke-width:0.6;\" x=\"37.7\" xlink:href=\"#madceffbecb\" y=\"119.667874\"/>\n      </g>\n     </g>\n    </g>\n    <g id=\"ytick_35\">\n     <g id=\"line2d_41\">\n      <g>\n       <use style=\"stroke:#000000;stroke-width:0.6;\" x=\"37.7\" xlink:href=\"#madceffbecb\" y=\"117.782218\"/>\n      </g>\n     </g>\n    </g>\n    <g id=\"ytick_36\">\n     <g id=\"line2d_42\">\n      <g>\n       <use style=\"stroke:#000000;stroke-width:0.6;\" x=\"37.7\" xlink:href=\"#madceffbecb\" y=\"116.118952\"/>\n      </g>\n     </g>\n    </g>\n    <g id=\"ytick_37\">\n     <g id=\"line2d_43\">\n      <g>\n       <use style=\"stroke:#000000;stroke-width:0.6;\" x=\"37.7\" xlink:href=\"#madceffbecb\" y=\"104.842871\"/>\n      </g>\n     </g>\n    </g>\n    <g id=\"ytick_38\">\n     <g id=\"line2d_44\">\n      <g>\n       <use style=\"stroke:#000000;stroke-width:0.6;\" x=\"37.7\" xlink:href=\"#madceffbecb\" y=\"99.117118\"/>\n      </g>\n     </g>\n    </g>\n    <g id=\"ytick_39\">\n     <g id=\"line2d_45\">\n      <g>\n       <use style=\"stroke:#000000;stroke-width:0.6;\" x=\"37.7\" xlink:href=\"#madceffbecb\" y=\"95.054632\"/>\n      </g>\n     </g>\n    </g>\n    <g id=\"ytick_40\">\n     <g id=\"line2d_46\">\n      <g>\n       <use style=\"stroke:#000000;stroke-width:0.6;\" x=\"37.7\" xlink:href=\"#madceffbecb\" y=\"91.903523\"/>\n      </g>\n     </g>\n    </g>\n    <g id=\"ytick_41\">\n     <g id=\"line2d_47\">\n      <g>\n       <use style=\"stroke:#000000;stroke-width:0.6;\" x=\"37.7\" xlink:href=\"#madceffbecb\" y=\"89.32888\"/>\n      </g>\n     </g>\n    </g>\n    <g id=\"ytick_42\">\n     <g id=\"line2d_48\">\n      <g>\n       <use style=\"stroke:#000000;stroke-width:0.6;\" x=\"37.7\" xlink:href=\"#madceffbecb\" y=\"87.15205\"/>\n      </g>\n     </g>\n    </g>\n    <g id=\"ytick_43\">\n     <g id=\"line2d_49\">\n      <g>\n       <use style=\"stroke:#000000;stroke-width:0.6;\" x=\"37.7\" xlink:href=\"#madceffbecb\" y=\"85.266394\"/>\n      </g>\n     </g>\n    </g>\n    <g id=\"ytick_44\">\n     <g id=\"line2d_50\">\n      <g>\n       <use style=\"stroke:#000000;stroke-width:0.6;\" x=\"37.7\" xlink:href=\"#madceffbecb\" y=\"83.603127\"/>\n      </g>\n     </g>\n    </g>\n    <g id=\"ytick_45\">\n     <g id=\"line2d_51\">\n      <g>\n       <use style=\"stroke:#000000;stroke-width:0.6;\" x=\"37.7\" xlink:href=\"#madceffbecb\" y=\"72.327046\"/>\n      </g>\n     </g>\n    </g>\n    <g id=\"ytick_46\">\n     <g id=\"line2d_52\">\n      <g>\n       <use style=\"stroke:#000000;stroke-width:0.6;\" x=\"37.7\" xlink:href=\"#madceffbecb\" y=\"66.601294\"/>\n      </g>\n     </g>\n    </g>\n    <g id=\"ytick_47\">\n     <g id=\"line2d_53\">\n      <g>\n       <use style=\"stroke:#000000;stroke-width:0.6;\" x=\"37.7\" xlink:href=\"#madceffbecb\" y=\"62.538808\"/>\n      </g>\n     </g>\n    </g>\n    <g id=\"ytick_48\">\n     <g id=\"line2d_54\">\n      <g>\n       <use style=\"stroke:#000000;stroke-width:0.6;\" x=\"37.7\" xlink:href=\"#madceffbecb\" y=\"59.387699\"/>\n      </g>\n     </g>\n    </g>\n    <g id=\"ytick_49\">\n     <g id=\"line2d_55\">\n      <g>\n       <use style=\"stroke:#000000;stroke-width:0.6;\" x=\"37.7\" xlink:href=\"#madceffbecb\" y=\"56.813056\"/>\n      </g>\n     </g>\n    </g>\n    <g id=\"ytick_50\">\n     <g id=\"line2d_56\">\n      <g>\n       <use style=\"stroke:#000000;stroke-width:0.6;\" x=\"37.7\" xlink:href=\"#madceffbecb\" y=\"54.636226\"/>\n      </g>\n     </g>\n    </g>\n    <g id=\"ytick_51\">\n     <g id=\"line2d_57\">\n      <g>\n       <use style=\"stroke:#000000;stroke-width:0.6;\" x=\"37.7\" xlink:href=\"#madceffbecb\" y=\"52.75057\"/>\n      </g>\n     </g>\n    </g>\n    <g id=\"ytick_52\">\n     <g id=\"line2d_58\">\n      <g>\n       <use style=\"stroke:#000000;stroke-width:0.6;\" x=\"37.7\" xlink:href=\"#madceffbecb\" y=\"51.087303\"/>\n      </g>\n     </g>\n    </g>\n    <g id=\"ytick_53\">\n     <g id=\"line2d_59\">\n      <g>\n       <use style=\"stroke:#000000;stroke-width:0.6;\" x=\"37.7\" xlink:href=\"#madceffbecb\" y=\"39.811222\"/>\n      </g>\n     </g>\n    </g>\n    <g id=\"ytick_54\">\n     <g id=\"line2d_60\">\n      <g>\n       <use style=\"stroke:#000000;stroke-width:0.6;\" x=\"37.7\" xlink:href=\"#madceffbecb\" y=\"34.08547\"/>\n      </g>\n     </g>\n    </g>\n    <g id=\"ytick_55\">\n     <g id=\"line2d_61\">\n      <g>\n       <use style=\"stroke:#000000;stroke-width:0.6;\" x=\"37.7\" xlink:href=\"#madceffbecb\" y=\"30.022984\"/>\n      </g>\n     </g>\n    </g>\n    <g id=\"ytick_56\">\n     <g id=\"line2d_62\">\n      <g>\n       <use style=\"stroke:#000000;stroke-width:0.6;\" x=\"37.7\" xlink:href=\"#madceffbecb\" y=\"26.871875\"/>\n      </g>\n     </g>\n    </g>\n    <g id=\"ytick_57\">\n     <g id=\"line2d_63\">\n      <g>\n       <use style=\"stroke:#000000;stroke-width:0.6;\" x=\"37.7\" xlink:href=\"#madceffbecb\" y=\"24.297231\"/>\n      </g>\n     </g>\n    </g>\n    <g id=\"ytick_58\">\n     <g id=\"line2d_64\">\n      <g>\n       <use style=\"stroke:#000000;stroke-width:0.6;\" x=\"37.7\" xlink:href=\"#madceffbecb\" y=\"22.120401\"/>\n      </g>\n     </g>\n    </g>\n    <g id=\"ytick_59\">\n     <g id=\"line2d_65\">\n      <g>\n       <use style=\"stroke:#000000;stroke-width:0.6;\" x=\"37.7\" xlink:href=\"#madceffbecb\" y=\"20.234745\"/>\n      </g>\n     </g>\n    </g>\n    <g id=\"ytick_60\">\n     <g id=\"line2d_66\">\n      <g>\n       <use style=\"stroke:#000000;stroke-width:0.6;\" x=\"37.7\" xlink:href=\"#madceffbecb\" y=\"18.571479\"/>\n      </g>\n     </g>\n    </g>\n    <g id=\"ytick_61\">\n     <g id=\"line2d_67\">\n      <g>\n       <use style=\"stroke:#000000;stroke-width:0.6;\" x=\"37.7\" xlink:href=\"#madceffbecb\" y=\"7.295398\"/>\n      </g>\n     </g>\n    </g>\n   </g>\n   <g id=\"line2d_68\">\n    <defs>\n     <path d=\"M 0 3 \nC 0.795609 3 1.55874 2.683901 2.12132 2.12132 \nC 2.683901 1.55874 3 0.795609 3 0 \nC 3 -0.795609 2.683901 -1.55874 2.12132 -2.12132 \nC 1.55874 -2.683901 0.795609 -3 0 -3 \nC -0.795609 -3 -1.55874 -2.683901 -2.12132 -2.12132 \nC -2.683901 -1.55874 -3 -0.795609 -3 0 \nC -3 0.795609 -2.683901 1.55874 -2.12132 2.12132 \nC -1.55874 2.683901 -0.795609 3 0 3 \nz\n\" id=\"md7beb049f6\" style=\"stroke:#1f77b4;\"/>\n    </defs>\n    <g clip-path=\"url(#p110b8e9a94)\">\n     <use style=\"fill-opacity:0;stroke:#1f77b4;\" x=\"52.918182\" xlink:href=\"#md7beb049f6\" y=\"17.083636\"/>\n     <use style=\"fill-opacity:0;stroke:#1f77b4;\" x=\"55.974042\" xlink:href=\"#md7beb049f6\" y=\"18.740093\"/>\n     <use style=\"fill-opacity:0;stroke:#1f77b4;\" x=\"59.029901\" xlink:href=\"#md7beb049f6\" y=\"111.155047\"/>\n     <use style=\"fill-opacity:0;stroke:#1f77b4;\" x=\"62.085761\" xlink:href=\"#md7beb049f6\" y=\"61.618947\"/>\n     <use style=\"fill-opacity:0;stroke:#1f77b4;\" x=\"65.141621\" xlink:href=\"#md7beb049f6\" y=\"122.22684\"/>\n     <use style=\"fill-opacity:0;stroke:#1f77b4;\" x=\"68.197481\" xlink:href=\"#md7beb049f6\" y=\"89.232917\"/>\n     <use style=\"fill-opacity:0;stroke:#1f77b4;\" x=\"71.253341\" xlink:href=\"#md7beb049f6\" y=\"94.356894\"/>\n     <use style=\"fill-opacity:0;stroke:#1f77b4;\" x=\"74.3092\" xlink:href=\"#md7beb049f6\" y=\"94.012739\"/>\n     <use style=\"fill-opacity:0;stroke:#1f77b4;\" x=\"77.36506\" xlink:href=\"#md7beb049f6\" y=\"49.84196\"/>\n     <use style=\"fill-opacity:0;stroke:#1f77b4;\" x=\"80.42092\" xlink:href=\"#md7beb049f6\" y=\"69.609634\"/>\n     <use style=\"fill-opacity:0;stroke:#1f77b4;\" x=\"83.47678\" xlink:href=\"#md7beb049f6\" y=\"116.404796\"/>\n     <use style=\"fill-opacity:0;stroke:#1f77b4;\" x=\"86.53264\" xlink:href=\"#md7beb049f6\" y=\"71.082407\"/>\n     <use style=\"fill-opacity:0;stroke:#1f77b4;\" x=\"89.588499\" xlink:href=\"#md7beb049f6\" y=\"95.680539\"/>\n     <use style=\"fill-opacity:0;stroke:#1f77b4;\" x=\"92.644359\" xlink:href=\"#md7beb049f6\" y=\"60.818762\"/>\n     <use style=\"fill-opacity:0;stroke:#1f77b4;\" x=\"95.700219\" xlink:href=\"#md7beb049f6\" y=\"141.075493\"/>\n     <use style=\"fill-opacity:0;stroke:#1f77b4;\" x=\"98.756079\" xlink:href=\"#md7beb049f6\" y=\"87.615799\"/>\n     <use style=\"fill-opacity:0;stroke:#1f77b4;\" x=\"101.811939\" xlink:href=\"#md7beb049f6\" y=\"94.610694\"/>\n     <use style=\"fill-opacity:0;stroke:#1f77b4;\" x=\"104.867798\" xlink:href=\"#md7beb049f6\" y=\"102.033276\"/>\n     <use style=\"fill-opacity:0;stroke:#1f77b4;\" x=\"107.923658\" xlink:href=\"#md7beb049f6\" y=\"89.610006\"/>\n     <use style=\"fill-opacity:0;stroke:#1f77b4;\" x=\"110.979518\" xlink:href=\"#md7beb049f6\" y=\"125.004007\"/>\n     <use style=\"fill-opacity:0;stroke:#1f77b4;\" x=\"114.035378\" xlink:href=\"#md7beb049f6\" y=\"74.647658\"/>\n     <use style=\"fill-opacity:0;stroke:#1f77b4;\" x=\"117.091238\" xlink:href=\"#md7beb049f6\" y=\"63.732462\"/>\n     <use style=\"fill-opacity:0;stroke:#1f77b4;\" x=\"120.147097\" xlink:href=\"#md7beb049f6\" y=\"93.834866\"/>\n     <use style=\"fill-opacity:0;stroke:#1f77b4;\" x=\"123.202957\" xlink:href=\"#md7beb049f6\" y=\"102.760161\"/>\n     <use style=\"fill-opacity:0;stroke:#1f77b4;\" x=\"126.258817\" xlink:href=\"#md7beb049f6\" y=\"70.495596\"/>\n     <use style=\"fill-opacity:0;stroke:#1f77b4;\" x=\"129.314677\" xlink:href=\"#md7beb049f6\" y=\"134.535908\"/>\n     <use style=\"fill-opacity:0;stroke:#1f77b4;\" x=\"132.370537\" xlink:href=\"#md7beb049f6\" y=\"129.458959\"/>\n     <use style=\"fill-opacity:0;stroke:#1f77b4;\" x=\"135.426396\" xlink:href=\"#md7beb049f6\" y=\"83.183955\"/>\n     <use style=\"fill-opacity:0;stroke:#1f77b4;\" x=\"138.482256\" xlink:href=\"#md7beb049f6\" y=\"86.01351\"/>\n     <use style=\"fill-opacity:0;stroke:#1f77b4;\" x=\"141.538116\" xlink:href=\"#md7beb049f6\" y=\"101.154388\"/>\n     <use style=\"fill-opacity:0;stroke:#1f77b4;\" x=\"144.593976\" xlink:href=\"#md7beb049f6\" y=\"89.48031\"/>\n     <use style=\"fill-opacity:0;stroke:#1f77b4;\" x=\"147.649836\" xlink:href=\"#md7beb049f6\" y=\"92.796048\"/>\n     <use style=\"fill-opacity:0;stroke:#1f77b4;\" x=\"150.705696\" xlink:href=\"#md7beb049f6\" y=\"148.339233\"/>\n     <use style=\"fill-opacity:0;stroke:#1f77b4;\" x=\"154.372727\" xlink:href=\"#md7beb049f6\" y=\"109.269465\"/>\n     <use style=\"fill-opacity:0;stroke:#1f77b4;\" x=\"157.428587\" xlink:href=\"#md7beb049f6\" y=\"103.643906\"/>\n     <use style=\"fill-opacity:0;stroke:#1f77b4;\" x=\"160.484447\" xlink:href=\"#md7beb049f6\" y=\"117.714216\"/>\n     <use style=\"fill-opacity:0;stroke:#1f77b4;\" x=\"163.540307\" xlink:href=\"#md7beb049f6\" y=\"73.351476\"/>\n     <use style=\"fill-opacity:0;stroke:#1f77b4;\" x=\"166.596166\" xlink:href=\"#md7beb049f6\" y=\"208.066314\"/>\n     <use style=\"fill-opacity:0;stroke:#1f77b4;\" x=\"169.652026\" xlink:href=\"#md7beb049f6\" y=\"95.644817\"/>\n     <use style=\"fill-opacity:0;stroke:#1f77b4;\" x=\"172.707886\" xlink:href=\"#md7beb049f6\" y=\"71.651239\"/>\n     <use style=\"fill-opacity:0;stroke:#1f77b4;\" x=\"175.763746\" xlink:href=\"#md7beb049f6\" y=\"83.037855\"/>\n     <use style=\"fill-opacity:0;stroke:#1f77b4;\" x=\"178.819606\" xlink:href=\"#md7beb049f6\" y=\"89.832903\"/>\n     <use style=\"fill-opacity:0;stroke:#1f77b4;\" x=\"181.875465\" xlink:href=\"#md7beb049f6\" y=\"76.577588\"/>\n     <use style=\"fill-opacity:0;stroke:#1f77b4;\" x=\"184.931325\" xlink:href=\"#md7beb049f6\" y=\"112.604146\"/>\n     <use style=\"fill-opacity:0;stroke:#1f77b4;\" x=\"187.987185\" xlink:href=\"#md7beb049f6\" y=\"112.614646\"/>\n     <use style=\"fill-opacity:0;stroke:#1f77b4;\" x=\"191.043045\" xlink:href=\"#md7beb049f6\" y=\"119.594452\"/>\n     <use style=\"fill-opacity:0;stroke:#1f77b4;\" x=\"194.098905\" xlink:href=\"#md7beb049f6\" y=\"127.162372\"/>\n     <use style=\"fill-opacity:0;stroke:#1f77b4;\" x=\"197.154765\" xlink:href=\"#md7beb049f6\" y=\"145.497726\"/>\n     <use style=\"fill-opacity:0;stroke:#1f77b4;\" x=\"200.210624\" xlink:href=\"#md7beb049f6\" y=\"102.77628\"/>\n     <use style=\"fill-opacity:0;stroke:#1f77b4;\" x=\"203.266484\" xlink:href=\"#md7beb049f6\" y=\"86.527046\"/>\n     <use style=\"fill-opacity:0;stroke:#1f77b4;\" x=\"206.322344\" xlink:href=\"#md7beb049f6\" y=\"136.983678\"/>\n     <use style=\"fill-opacity:0;stroke:#1f77b4;\" x=\"209.378204\" xlink:href=\"#md7beb049f6\" y=\"128.914473\"/>\n     <use style=\"fill-opacity:0;stroke:#1f77b4;\" x=\"212.434064\" xlink:href=\"#md7beb049f6\" y=\"155.633748\"/>\n     <use style=\"fill-opacity:0;stroke:#1f77b4;\" x=\"215.489923\" xlink:href=\"#md7beb049f6\" y=\"120.883501\"/>\n     <use style=\"fill-opacity:0;stroke:#1f77b4;\" x=\"218.545783\" xlink:href=\"#md7beb049f6\" y=\"108.903027\"/>\n     <use style=\"fill-opacity:0;stroke:#1f77b4;\" x=\"221.601643\" xlink:href=\"#md7beb049f6\" y=\"107.074657\"/>\n     <use style=\"fill-opacity:0;stroke:#1f77b4;\" x=\"224.657503\" xlink:href=\"#md7beb049f6\" y=\"80.945249\"/>\n     <use style=\"fill-opacity:0;stroke:#1f77b4;\" x=\"227.713363\" xlink:href=\"#md7beb049f6\" y=\"136.79381\"/>\n     <use style=\"fill-opacity:0;stroke:#1f77b4;\" x=\"230.769222\" xlink:href=\"#md7beb049f6\" y=\"86.295934\"/>\n     <use style=\"fill-opacity:0;stroke:#1f77b4;\" x=\"233.825082\" xlink:href=\"#md7beb049f6\" y=\"96.203817\"/>\n     <use style=\"fill-opacity:0;stroke:#1f77b4;\" x=\"236.880942\" xlink:href=\"#md7beb049f6\" y=\"97.30242\"/>\n     <use style=\"fill-opacity:0;stroke:#1f77b4;\" x=\"239.936802\" xlink:href=\"#md7beb049f6\" y=\"139.740051\"/>\n     <use style=\"fill-opacity:0;stroke:#1f77b4;\" x=\"242.992662\" xlink:href=\"#md7beb049f6\" y=\"97.305303\"/>\n     <use style=\"fill-opacity:0;stroke:#1f77b4;\" x=\"246.048521\" xlink:href=\"#md7beb049f6\" y=\"135.775759\"/>\n     <use style=\"fill-opacity:0;stroke:#1f77b4;\" x=\"249.104381\" xlink:href=\"#md7beb049f6\" y=\"102.217448\"/>\n     <use style=\"fill-opacity:0;stroke:#1f77b4;\" x=\"252.160241\" xlink:href=\"#md7beb049f6\" y=\"139.264196\"/>\n     <use style=\"fill-opacity:0;stroke:#1f77b4;\" x=\"255.827273\" xlink:href=\"#md7beb049f6\" y=\"126.006948\"/>\n     <use style=\"fill-opacity:0;stroke:#1f77b4;\" x=\"258.883133\" xlink:href=\"#md7beb049f6\" y=\"101.389605\"/>\n     <use style=\"fill-opacity:0;stroke:#1f77b4;\" x=\"261.938992\" xlink:href=\"#md7beb049f6\" y=\"150.099662\"/>\n     <use style=\"fill-opacity:0;stroke:#1f77b4;\" x=\"264.994852\" xlink:href=\"#md7beb049f6\" y=\"118.763218\"/>\n     <use style=\"fill-opacity:0;stroke:#1f77b4;\" x=\"268.050712\" xlink:href=\"#md7beb049f6\" y=\"88.801805\"/>\n     <use style=\"fill-opacity:0;stroke:#1f77b4;\" x=\"271.106572\" xlink:href=\"#md7beb049f6\" y=\"87.595367\"/>\n     <use style=\"fill-opacity:0;stroke:#1f77b4;\" x=\"274.162432\" xlink:href=\"#md7beb049f6\" y=\"78.692114\"/>\n     <use style=\"fill-opacity:0;stroke:#1f77b4;\" x=\"277.218291\" xlink:href=\"#md7beb049f6\" y=\"76.08137\"/>\n     <use style=\"fill-opacity:0;stroke:#1f77b4;\" x=\"280.274151\" xlink:href=\"#md7beb049f6\" y=\"125.838065\"/>\n     <use style=\"fill-opacity:0;stroke:#1f77b4;\" x=\"283.330011\" xlink:href=\"#md7beb049f6\" y=\"130.250719\"/>\n     <use style=\"fill-opacity:0;stroke:#1f77b4;\" x=\"286.385871\" xlink:href=\"#md7beb049f6\" y=\"88.296257\"/>\n     <use style=\"fill-opacity:0;stroke:#1f77b4;\" x=\"289.441731\" xlink:href=\"#md7beb049f6\" y=\"101.541135\"/>\n     <use style=\"fill-opacity:0;stroke:#1f77b4;\" x=\"292.49759\" xlink:href=\"#md7beb049f6\" y=\"97.241381\"/>\n     <use style=\"fill-opacity:0;stroke:#1f77b4;\" x=\"295.55345\" xlink:href=\"#md7beb049f6\" y=\"95.814981\"/>\n     <use style=\"fill-opacity:0;stroke:#1f77b4;\" x=\"298.60931\" xlink:href=\"#md7beb049f6\" y=\"138.842977\"/>\n     <use style=\"fill-opacity:0;stroke:#1f77b4;\" x=\"301.66517\" xlink:href=\"#md7beb049f6\" y=\"184.646583\"/>\n     <use style=\"fill-opacity:0;stroke:#1f77b4;\" x=\"304.72103\" xlink:href=\"#md7beb049f6\" y=\"98.747007\"/>\n     <use style=\"fill-opacity:0;stroke:#1f77b4;\" x=\"307.776889\" xlink:href=\"#md7beb049f6\" y=\"191.078567\"/>\n     <use style=\"fill-opacity:0;stroke:#1f77b4;\" x=\"310.832749\" xlink:href=\"#md7beb049f6\" y=\"96.393891\"/>\n     <use style=\"fill-opacity:0;stroke:#1f77b4;\" x=\"313.888609\" xlink:href=\"#md7beb049f6\" y=\"111.95784\"/>\n     <use style=\"fill-opacity:0;stroke:#1f77b4;\" x=\"316.944469\" xlink:href=\"#md7beb049f6\" y=\"92.030914\"/>\n     <use style=\"fill-opacity:0;stroke:#1f77b4;\" x=\"320.000329\" xlink:href=\"#md7beb049f6\" y=\"151.325857\"/>\n     <use style=\"fill-opacity:0;stroke:#1f77b4;\" x=\"323.056188\" xlink:href=\"#md7beb049f6\" y=\"108.012752\"/>\n     <use style=\"fill-opacity:0;stroke:#1f77b4;\" x=\"326.112048\" xlink:href=\"#md7beb049f6\" y=\"90.989868\"/>\n     <use style=\"fill-opacity:0;stroke:#1f77b4;\" x=\"329.167908\" xlink:href=\"#md7beb049f6\" y=\"141.621766\"/>\n     <use style=\"fill-opacity:0;stroke:#1f77b4;\" x=\"332.223768\" xlink:href=\"#md7beb049f6\" y=\"112.903112\"/>\n     <use style=\"fill-opacity:0;stroke:#1f77b4;\" x=\"335.279628\" xlink:href=\"#md7beb049f6\" y=\"101.871231\"/>\n     <use style=\"fill-opacity:0;stroke:#1f77b4;\" x=\"338.335487\" xlink:href=\"#md7beb049f6\" y=\"114.261959\"/>\n     <use style=\"fill-opacity:0;stroke:#1f77b4;\" x=\"341.391347\" xlink:href=\"#md7beb049f6\" y=\"103.61475\"/>\n     <use style=\"fill-opacity:0;stroke:#1f77b4;\" x=\"344.447207\" xlink:href=\"#md7beb049f6\" y=\"86.131722\"/>\n     <use style=\"fill-opacity:0;stroke:#1f77b4;\" x=\"347.503067\" xlink:href=\"#md7beb049f6\" y=\"100.216415\"/>\n     <use style=\"fill-opacity:0;stroke:#1f77b4;\" x=\"350.558927\" xlink:href=\"#md7beb049f6\" y=\"129.374625\"/>\n     <use style=\"fill-opacity:0;stroke:#1f77b4;\" x=\"353.614786\" xlink:href=\"#md7beb049f6\" y=\"154.810009\"/>\n     <use style=\"fill-opacity:0;stroke:#1f77b4;\" x=\"357.281818\" xlink:href=\"#md7beb049f6\" y=\"125.207036\"/>\n    </g>\n   </g>\n   <g id=\"line2d_69\">\n    <defs>\n     <path d=\"M 0 3 \nC 0.795609 3 1.55874 2.683901 2.12132 2.12132 \nC 2.683901 1.55874 3 0.795609 3 0 \nC 3 -0.795609 2.683901 -1.55874 2.12132 -2.12132 \nC 1.55874 -2.683901 0.795609 -3 0 -3 \nC -0.795609 -3 -1.55874 -2.683901 -2.12132 -2.12132 \nC -2.683901 -1.55874 -3 -0.795609 -3 0 \nC -3 0.795609 -2.683901 1.55874 -2.12132 2.12132 \nC -1.55874 2.683901 -0.795609 3 0 3 \nz\n\" id=\"m32417f0b8f\" style=\"stroke:#ff7f0e;\"/>\n    </defs>\n    <g clip-path=\"url(#p110b8e9a94)\">\n     <use style=\"fill-opacity:0;stroke:#ff7f0e;\" x=\"52.918182\" xlink:href=\"#m32417f0b8f\" y=\"17.083636\"/>\n     <use style=\"fill-opacity:0;stroke:#ff7f0e;\" x=\"55.974042\" xlink:href=\"#m32417f0b8f\" y=\"32.493046\"/>\n     <use style=\"fill-opacity:0;stroke:#ff7f0e;\" x=\"59.029901\" xlink:href=\"#m32417f0b8f\" y=\"44.908101\"/>\n     <use style=\"fill-opacity:0;stroke:#ff7f0e;\" x=\"62.085761\" xlink:href=\"#m32417f0b8f\" y=\"55.399966\"/>\n     <use style=\"fill-opacity:0;stroke:#ff7f0e;\" x=\"65.141621\" xlink:href=\"#m32417f0b8f\" y=\"52.665128\"/>\n     <use style=\"fill-opacity:0;stroke:#ff7f0e;\" x=\"68.197481\" xlink:href=\"#m32417f0b8f\" y=\"63.032619\"/>\n     <use style=\"fill-opacity:0;stroke:#ff7f0e;\" x=\"71.253341\" xlink:href=\"#m32417f0b8f\" y=\"50.410519\"/>\n     <use style=\"fill-opacity:0;stroke:#ff7f0e;\" x=\"74.3092\" xlink:href=\"#m32417f0b8f\" y=\"114.738907\"/>\n     <use style=\"fill-opacity:0;stroke:#ff7f0e;\" x=\"77.36506\" xlink:href=\"#m32417f0b8f\" y=\"76.945525\"/>\n     <use style=\"fill-opacity:0;stroke:#ff7f0e;\" x=\"80.42092\" xlink:href=\"#m32417f0b8f\" y=\"82.970567\"/>\n     <use style=\"fill-opacity:0;stroke:#ff7f0e;\" x=\"83.47678\" xlink:href=\"#m32417f0b8f\" y=\"76.521985\"/>\n     <use style=\"fill-opacity:0;stroke:#ff7f0e;\" x=\"86.53264\" xlink:href=\"#m32417f0b8f\" y=\"72.906386\"/>\n     <use style=\"fill-opacity:0;stroke:#ff7f0e;\" x=\"89.588499\" xlink:href=\"#m32417f0b8f\" y=\"84.477091\"/>\n     <use style=\"fill-opacity:0;stroke:#ff7f0e;\" x=\"92.644359\" xlink:href=\"#m32417f0b8f\" y=\"144.811523\"/>\n     <use style=\"fill-opacity:0;stroke:#ff7f0e;\" x=\"95.700219\" xlink:href=\"#m32417f0b8f\" y=\"105.331647\"/>\n     <use style=\"fill-opacity:0;stroke:#ff7f0e;\" x=\"98.756079\" xlink:href=\"#m32417f0b8f\" y=\"141.210563\"/>\n     <use style=\"fill-opacity:0;stroke:#ff7f0e;\" x=\"101.811939\" xlink:href=\"#m32417f0b8f\" y=\"128.48668\"/>\n     <use style=\"fill-opacity:0;stroke:#ff7f0e;\" x=\"104.867798\" xlink:href=\"#m32417f0b8f\" y=\"144.085696\"/>\n     <use style=\"fill-opacity:0;stroke:#ff7f0e;\" x=\"107.923658\" xlink:href=\"#m32417f0b8f\" y=\"69.436304\"/>\n     <use style=\"fill-opacity:0;stroke:#ff7f0e;\" x=\"110.979518\" xlink:href=\"#m32417f0b8f\" y=\"97.063624\"/>\n     <use style=\"fill-opacity:0;stroke:#ff7f0e;\" x=\"114.035378\" xlink:href=\"#m32417f0b8f\" y=\"77.146082\"/>\n     <use style=\"fill-opacity:0;stroke:#ff7f0e;\" x=\"117.091238\" xlink:href=\"#m32417f0b8f\" y=\"91.489113\"/>\n     <use style=\"fill-opacity:0;stroke:#ff7f0e;\" x=\"120.147097\" xlink:href=\"#m32417f0b8f\" y=\"75.664039\"/>\n     <use style=\"fill-opacity:0;stroke:#ff7f0e;\" x=\"123.202957\" xlink:href=\"#m32417f0b8f\" y=\"116.439526\"/>\n     <use style=\"fill-opacity:0;stroke:#ff7f0e;\" x=\"126.258817\" xlink:href=\"#m32417f0b8f\" y=\"92.152872\"/>\n     <use style=\"fill-opacity:0;stroke:#ff7f0e;\" x=\"129.314677\" xlink:href=\"#m32417f0b8f\" y=\"119.361262\"/>\n     <use style=\"fill-opacity:0;stroke:#ff7f0e;\" x=\"132.370537\" xlink:href=\"#m32417f0b8f\" y=\"160.704468\"/>\n     <use style=\"fill-opacity:0;stroke:#ff7f0e;\" x=\"135.426396\" xlink:href=\"#m32417f0b8f\" y=\"93.620311\"/>\n     <use style=\"fill-opacity:0;stroke:#ff7f0e;\" x=\"138.482256\" xlink:href=\"#m32417f0b8f\" y=\"88.982109\"/>\n     <use style=\"fill-opacity:0;stroke:#ff7f0e;\" x=\"141.538116\" xlink:href=\"#m32417f0b8f\" y=\"103.900394\"/>\n     <use style=\"fill-opacity:0;stroke:#ff7f0e;\" x=\"144.593976\" xlink:href=\"#m32417f0b8f\" y=\"118.734432\"/>\n     <use style=\"fill-opacity:0;stroke:#ff7f0e;\" x=\"147.649836\" xlink:href=\"#m32417f0b8f\" y=\"168.543073\"/>\n     <use style=\"fill-opacity:0;stroke:#ff7f0e;\" x=\"150.705696\" xlink:href=\"#m32417f0b8f\" y=\"72.401678\"/>\n     <use style=\"fill-opacity:0;stroke:#ff7f0e;\" x=\"154.372727\" xlink:href=\"#m32417f0b8f\" y=\"96.40827\"/>\n     <use style=\"fill-opacity:0;stroke:#ff7f0e;\" x=\"157.428587\" xlink:href=\"#m32417f0b8f\" y=\"152.329494\"/>\n     <use style=\"fill-opacity:0;stroke:#ff7f0e;\" x=\"160.484447\" xlink:href=\"#m32417f0b8f\" y=\"147.507422\"/>\n     <use style=\"fill-opacity:0;stroke:#ff7f0e;\" x=\"163.540307\" xlink:href=\"#m32417f0b8f\" y=\"70.659213\"/>\n     <use style=\"fill-opacity:0;stroke:#ff7f0e;\" x=\"166.596166\" xlink:href=\"#m32417f0b8f\" y=\"85.8968\"/>\n     <use style=\"fill-opacity:0;stroke:#ff7f0e;\" x=\"169.652026\" xlink:href=\"#m32417f0b8f\" y=\"104.601338\"/>\n     <use style=\"fill-opacity:0;stroke:#ff7f0e;\" x=\"172.707886\" xlink:href=\"#m32417f0b8f\" y=\"126.233594\"/>\n     <use style=\"fill-opacity:0;stroke:#ff7f0e;\" x=\"175.763746\" xlink:href=\"#m32417f0b8f\" y=\"122.801247\"/>\n     <use style=\"fill-opacity:0;stroke:#ff7f0e;\" x=\"178.819606\" xlink:href=\"#m32417f0b8f\" y=\"169.54373\"/>\n     <use style=\"fill-opacity:0;stroke:#ff7f0e;\" x=\"181.875465\" xlink:href=\"#m32417f0b8f\" y=\"119.466738\"/>\n     <use style=\"fill-opacity:0;stroke:#ff7f0e;\" x=\"184.931325\" xlink:href=\"#m32417f0b8f\" y=\"82.979623\"/>\n     <use style=\"fill-opacity:0;stroke:#ff7f0e;\" x=\"187.987185\" xlink:href=\"#m32417f0b8f\" y=\"83.310888\"/>\n     <use style=\"fill-opacity:0;stroke:#ff7f0e;\" x=\"191.043045\" xlink:href=\"#m32417f0b8f\" y=\"85.568744\"/>\n     <use style=\"fill-opacity:0;stroke:#ff7f0e;\" x=\"194.098905\" xlink:href=\"#m32417f0b8f\" y=\"141.994404\"/>\n     <use style=\"fill-opacity:0;stroke:#ff7f0e;\" x=\"197.154765\" xlink:href=\"#m32417f0b8f\" y=\"146.220509\"/>\n     <use style=\"fill-opacity:0;stroke:#ff7f0e;\" x=\"200.210624\" xlink:href=\"#m32417f0b8f\" y=\"112.287845\"/>\n     <use style=\"fill-opacity:0;stroke:#ff7f0e;\" x=\"203.266484\" xlink:href=\"#m32417f0b8f\" y=\"105.49105\"/>\n     <use style=\"fill-opacity:0;stroke:#ff7f0e;\" x=\"206.322344\" xlink:href=\"#m32417f0b8f\" y=\"119.750746\"/>\n     <use style=\"fill-opacity:0;stroke:#ff7f0e;\" x=\"209.378204\" xlink:href=\"#m32417f0b8f\" y=\"104.833287\"/>\n     <use style=\"fill-opacity:0;stroke:#ff7f0e;\" x=\"212.434064\" xlink:href=\"#m32417f0b8f\" y=\"133.466597\"/>\n     <use style=\"fill-opacity:0;stroke:#ff7f0e;\" x=\"215.489923\" xlink:href=\"#m32417f0b8f\" y=\"123.025938\"/>\n     <use style=\"fill-opacity:0;stroke:#ff7f0e;\" x=\"218.545783\" xlink:href=\"#m32417f0b8f\" y=\"205.250223\"/>\n     <use style=\"fill-opacity:0;stroke:#ff7f0e;\" x=\"221.601643\" xlink:href=\"#m32417f0b8f\" y=\"93.60979\"/>\n     <use style=\"fill-opacity:0;stroke:#ff7f0e;\" x=\"224.657503\" xlink:href=\"#m32417f0b8f\" y=\"119.64088\"/>\n     <use style=\"fill-opacity:0;stroke:#ff7f0e;\" x=\"227.713363\" xlink:href=\"#m32417f0b8f\" y=\"91.628206\"/>\n     <use style=\"fill-opacity:0;stroke:#ff7f0e;\" x=\"230.769222\" xlink:href=\"#m32417f0b8f\" y=\"77.043063\"/>\n     <use style=\"fill-opacity:0;stroke:#ff7f0e;\" x=\"233.825082\" xlink:href=\"#m32417f0b8f\" y=\"112.304727\"/>\n     <use style=\"fill-opacity:0;stroke:#ff7f0e;\" x=\"236.880942\" xlink:href=\"#m32417f0b8f\" y=\"214.756364\"/>\n     <use style=\"fill-opacity:0;stroke:#ff7f0e;\" x=\"239.936802\" xlink:href=\"#m32417f0b8f\" y=\"94.366072\"/>\n     <use style=\"fill-opacity:0;stroke:#ff7f0e;\" x=\"242.992662\" xlink:href=\"#m32417f0b8f\" y=\"117.031965\"/>\n     <use style=\"fill-opacity:0;stroke:#ff7f0e;\" x=\"246.048521\" xlink:href=\"#m32417f0b8f\" y=\"99.792751\"/>\n     <use style=\"fill-opacity:0;stroke:#ff7f0e;\" x=\"249.104381\" xlink:href=\"#m32417f0b8f\" y=\"124.410546\"/>\n     <use style=\"fill-opacity:0;stroke:#ff7f0e;\" x=\"252.160241\" xlink:href=\"#m32417f0b8f\" y=\"131.029289\"/>\n     <use style=\"fill-opacity:0;stroke:#ff7f0e;\" x=\"255.827273\" xlink:href=\"#m32417f0b8f\" y=\"103.559002\"/>\n     <use style=\"fill-opacity:0;stroke:#ff7f0e;\" x=\"258.883133\" xlink:href=\"#m32417f0b8f\" y=\"80.161289\"/>\n     <use style=\"fill-opacity:0;stroke:#ff7f0e;\" x=\"261.938992\" xlink:href=\"#m32417f0b8f\" y=\"173.101825\"/>\n     <use style=\"fill-opacity:0;stroke:#ff7f0e;\" x=\"264.994852\" xlink:href=\"#m32417f0b8f\" y=\"106.857402\"/>\n     <use style=\"fill-opacity:0;stroke:#ff7f0e;\" x=\"268.050712\" xlink:href=\"#m32417f0b8f\" y=\"84.741841\"/>\n     <use style=\"fill-opacity:0;stroke:#ff7f0e;\" x=\"271.106572\" xlink:href=\"#m32417f0b8f\" y=\"98.189175\"/>\n     <use style=\"fill-opacity:0;stroke:#ff7f0e;\" x=\"274.162432\" xlink:href=\"#m32417f0b8f\" y=\"89.523564\"/>\n     <use style=\"fill-opacity:0;stroke:#ff7f0e;\" x=\"277.218291\" xlink:href=\"#m32417f0b8f\" y=\"96.652121\"/>\n     <use style=\"fill-opacity:0;stroke:#ff7f0e;\" x=\"280.274151\" xlink:href=\"#m32417f0b8f\" y=\"89.791887\"/>\n     <use style=\"fill-opacity:0;stroke:#ff7f0e;\" x=\"283.330011\" xlink:href=\"#m32417f0b8f\" y=\"116.10929\"/>\n     <use style=\"fill-opacity:0;stroke:#ff7f0e;\" x=\"286.385871\" xlink:href=\"#m32417f0b8f\" y=\"90.422015\"/>\n     <use style=\"fill-opacity:0;stroke:#ff7f0e;\" x=\"289.441731\" xlink:href=\"#m32417f0b8f\" y=\"124.751031\"/>\n     <use style=\"fill-opacity:0;stroke:#ff7f0e;\" x=\"292.49759\" xlink:href=\"#m32417f0b8f\" y=\"87.273654\"/>\n     <use style=\"fill-opacity:0;stroke:#ff7f0e;\" x=\"295.55345\" xlink:href=\"#m32417f0b8f\" y=\"101.360252\"/>\n     <use style=\"fill-opacity:0;stroke:#ff7f0e;\" x=\"298.60931\" xlink:href=\"#m32417f0b8f\" y=\"126.781417\"/>\n     <use style=\"fill-opacity:0;stroke:#ff7f0e;\" x=\"301.66517\" xlink:href=\"#m32417f0b8f\" y=\"94.739492\"/>\n     <use style=\"fill-opacity:0;stroke:#ff7f0e;\" x=\"304.72103\" xlink:href=\"#m32417f0b8f\" y=\"160.523206\"/>\n     <use style=\"fill-opacity:0;stroke:#ff7f0e;\" x=\"307.776889\" xlink:href=\"#m32417f0b8f\" y=\"130.549577\"/>\n     <use style=\"fill-opacity:0;stroke:#ff7f0e;\" x=\"310.832749\" xlink:href=\"#m32417f0b8f\" y=\"161.620057\"/>\n     <use style=\"fill-opacity:0;stroke:#ff7f0e;\" x=\"313.888609\" xlink:href=\"#m32417f0b8f\" y=\"92.302039\"/>\n     <use style=\"fill-opacity:0;stroke:#ff7f0e;\" x=\"316.944469\" xlink:href=\"#m32417f0b8f\" y=\"73.245189\"/>\n     <use style=\"fill-opacity:0;stroke:#ff7f0e;\" x=\"320.000329\" xlink:href=\"#m32417f0b8f\" y=\"82.072637\"/>\n     <use style=\"fill-opacity:0;stroke:#ff7f0e;\" x=\"323.056188\" xlink:href=\"#m32417f0b8f\" y=\"104.473752\"/>\n     <use style=\"fill-opacity:0;stroke:#ff7f0e;\" x=\"326.112048\" xlink:href=\"#m32417f0b8f\" y=\"157.184521\"/>\n     <use style=\"fill-opacity:0;stroke:#ff7f0e;\" x=\"329.167908\" xlink:href=\"#m32417f0b8f\" y=\"138.879265\"/>\n     <use style=\"fill-opacity:0;stroke:#ff7f0e;\" x=\"332.223768\" xlink:href=\"#m32417f0b8f\" y=\"122.206316\"/>\n     <use style=\"fill-opacity:0;stroke:#ff7f0e;\" x=\"335.279628\" xlink:href=\"#m32417f0b8f\" y=\"97.655673\"/>\n     <use style=\"fill-opacity:0;stroke:#ff7f0e;\" x=\"338.335487\" xlink:href=\"#m32417f0b8f\" y=\"118.648652\"/>\n     <use style=\"fill-opacity:0;stroke:#ff7f0e;\" x=\"341.391347\" xlink:href=\"#m32417f0b8f\" y=\"95.689842\"/>\n     <use style=\"fill-opacity:0;stroke:#ff7f0e;\" x=\"344.447207\" xlink:href=\"#m32417f0b8f\" y=\"143.651611\"/>\n     <use style=\"fill-opacity:0;stroke:#ff7f0e;\" x=\"347.503067\" xlink:href=\"#m32417f0b8f\" y=\"83.285965\"/>\n     <use style=\"fill-opacity:0;stroke:#ff7f0e;\" x=\"350.558927\" xlink:href=\"#m32417f0b8f\" y=\"110.537953\"/>\n     <use style=\"fill-opacity:0;stroke:#ff7f0e;\" x=\"353.614786\" xlink:href=\"#m32417f0b8f\" y=\"138.30511\"/>\n     <use style=\"fill-opacity:0;stroke:#ff7f0e;\" x=\"357.281818\" xlink:href=\"#m32417f0b8f\" y=\"130.172447\"/>\n    </g>\n   </g>\n   <g id=\"patch_3\">\n    <path d=\"M 37.7 224.64 \nL 37.7 7.2 \n\" style=\"fill:none;stroke:#000000;stroke-linecap:square;stroke-linejoin:miter;stroke-width:0.8;\"/>\n   </g>\n   <g id=\"patch_4\">\n    <path d=\"M 372.5 224.64 \nL 372.5 7.2 \n\" style=\"fill:none;stroke:#000000;stroke-linecap:square;stroke-linejoin:miter;stroke-width:0.8;\"/>\n   </g>\n   <g id=\"patch_5\">\n    <path d=\"M 37.7 224.64 \nL 372.5 224.64 \n\" style=\"fill:none;stroke:#000000;stroke-linecap:square;stroke-linejoin:miter;stroke-width:0.8;\"/>\n   </g>\n   <g id=\"patch_6\">\n    <path d=\"M 37.7 7.2 \nL 372.5 7.2 \n\" style=\"fill:none;stroke:#000000;stroke-linecap:square;stroke-linejoin:miter;stroke-width:0.8;\"/>\n   </g>\n  </g>\n </g>\n <defs>\n  <clipPath id=\"p110b8e9a94\">\n   <rect height=\"217.44\" width=\"334.8\" x=\"37.7\" y=\"7.2\"/>\n  </clipPath>\n </defs>\n</svg>\n"
          },
          "metadata": {
            "tags": [],
            "needs_background": "light"
          }
        }
      ]
    },
    {
      "cell_type": "code",
      "metadata": {
        "id": "x6gK4KkmzJFA"
      },
      "source": [
        ""
      ],
      "execution_count": null,
      "outputs": []
    },
    {
      "cell_type": "markdown",
      "metadata": {
        "id": "jpLcvAve04_C"
      },
      "source": [
        "# Election and economy"
      ]
    },
    {
      "cell_type": "code",
      "metadata": {
        "colab": {
          "base_uri": "https://localhost:8080/",
          "height": 545
        },
        "id": "p0txX_y408Qd",
        "outputId": "ebd8eeb3-4f62-4719-c44c-b74b65e26f29"
      },
      "source": [
        "url = \"https://raw.githubusercontent.com/avehtari/ROS-Examples/master/ElectionsEconomy/data/hibbs.dat\"\n",
        "data = pd.read_csv(url,sep=\"\\s+\");\n",
        "data"
      ],
      "execution_count": null,
      "outputs": [
        {
          "output_type": "execute_result",
          "data": {
            "text/html": [
              "<div>\n",
              "<style scoped>\n",
              "    .dataframe tbody tr th:only-of-type {\n",
              "        vertical-align: middle;\n",
              "    }\n",
              "\n",
              "    .dataframe tbody tr th {\n",
              "        vertical-align: top;\n",
              "    }\n",
              "\n",
              "    .dataframe thead th {\n",
              "        text-align: right;\n",
              "    }\n",
              "</style>\n",
              "<table border=\"1\" class=\"dataframe\">\n",
              "  <thead>\n",
              "    <tr style=\"text-align: right;\">\n",
              "      <th></th>\n",
              "      <th>year</th>\n",
              "      <th>growth</th>\n",
              "      <th>vote</th>\n",
              "      <th>inc_party_candidate</th>\n",
              "      <th>other_candidate</th>\n",
              "    </tr>\n",
              "  </thead>\n",
              "  <tbody>\n",
              "    <tr>\n",
              "      <th>0</th>\n",
              "      <td>1952</td>\n",
              "      <td>2.40</td>\n",
              "      <td>44.60</td>\n",
              "      <td>Stevenson</td>\n",
              "      <td>Eisenhower</td>\n",
              "    </tr>\n",
              "    <tr>\n",
              "      <th>1</th>\n",
              "      <td>1956</td>\n",
              "      <td>2.89</td>\n",
              "      <td>57.76</td>\n",
              "      <td>Eisenhower</td>\n",
              "      <td>Stevenson</td>\n",
              "    </tr>\n",
              "    <tr>\n",
              "      <th>2</th>\n",
              "      <td>1960</td>\n",
              "      <td>0.85</td>\n",
              "      <td>49.91</td>\n",
              "      <td>Nixon</td>\n",
              "      <td>Kennedy</td>\n",
              "    </tr>\n",
              "    <tr>\n",
              "      <th>3</th>\n",
              "      <td>1964</td>\n",
              "      <td>4.21</td>\n",
              "      <td>61.34</td>\n",
              "      <td>Johnson</td>\n",
              "      <td>Goldwater</td>\n",
              "    </tr>\n",
              "    <tr>\n",
              "      <th>4</th>\n",
              "      <td>1968</td>\n",
              "      <td>3.02</td>\n",
              "      <td>49.60</td>\n",
              "      <td>Humphrey</td>\n",
              "      <td>Nixon</td>\n",
              "    </tr>\n",
              "    <tr>\n",
              "      <th>5</th>\n",
              "      <td>1972</td>\n",
              "      <td>3.62</td>\n",
              "      <td>61.79</td>\n",
              "      <td>Nixon</td>\n",
              "      <td>McGovern</td>\n",
              "    </tr>\n",
              "    <tr>\n",
              "      <th>6</th>\n",
              "      <td>1976</td>\n",
              "      <td>1.08</td>\n",
              "      <td>48.95</td>\n",
              "      <td>Ford</td>\n",
              "      <td>Carter</td>\n",
              "    </tr>\n",
              "    <tr>\n",
              "      <th>7</th>\n",
              "      <td>1980</td>\n",
              "      <td>-0.39</td>\n",
              "      <td>44.70</td>\n",
              "      <td>Carter</td>\n",
              "      <td>Reagan</td>\n",
              "    </tr>\n",
              "    <tr>\n",
              "      <th>8</th>\n",
              "      <td>1984</td>\n",
              "      <td>3.86</td>\n",
              "      <td>59.17</td>\n",
              "      <td>Reagan</td>\n",
              "      <td>Mondale</td>\n",
              "    </tr>\n",
              "    <tr>\n",
              "      <th>9</th>\n",
              "      <td>1988</td>\n",
              "      <td>2.27</td>\n",
              "      <td>53.94</td>\n",
              "      <td>Bush, Sr.</td>\n",
              "      <td>Dukakis</td>\n",
              "    </tr>\n",
              "    <tr>\n",
              "      <th>10</th>\n",
              "      <td>1992</td>\n",
              "      <td>0.38</td>\n",
              "      <td>46.55</td>\n",
              "      <td>Bush, Sr.</td>\n",
              "      <td>Clinton</td>\n",
              "    </tr>\n",
              "    <tr>\n",
              "      <th>11</th>\n",
              "      <td>1996</td>\n",
              "      <td>1.04</td>\n",
              "      <td>54.74</td>\n",
              "      <td>Clinton</td>\n",
              "      <td>Dole</td>\n",
              "    </tr>\n",
              "    <tr>\n",
              "      <th>12</th>\n",
              "      <td>2000</td>\n",
              "      <td>2.36</td>\n",
              "      <td>50.27</td>\n",
              "      <td>Gore</td>\n",
              "      <td>Bush, Jr.</td>\n",
              "    </tr>\n",
              "    <tr>\n",
              "      <th>13</th>\n",
              "      <td>2004</td>\n",
              "      <td>1.72</td>\n",
              "      <td>51.24</td>\n",
              "      <td>Bush, Jr.</td>\n",
              "      <td>Kerry</td>\n",
              "    </tr>\n",
              "    <tr>\n",
              "      <th>14</th>\n",
              "      <td>2008</td>\n",
              "      <td>0.10</td>\n",
              "      <td>46.32</td>\n",
              "      <td>McCain</td>\n",
              "      <td>Obama</td>\n",
              "    </tr>\n",
              "    <tr>\n",
              "      <th>15</th>\n",
              "      <td>2012</td>\n",
              "      <td>0.95</td>\n",
              "      <td>52.00</td>\n",
              "      <td>Obama</td>\n",
              "      <td>Romney</td>\n",
              "    </tr>\n",
              "  </tbody>\n",
              "</table>\n",
              "</div>"
            ],
            "text/plain": [
              "    year  growth   vote inc_party_candidate other_candidate\n",
              "0   1952    2.40  44.60           Stevenson      Eisenhower\n",
              "1   1956    2.89  57.76          Eisenhower       Stevenson\n",
              "2   1960    0.85  49.91               Nixon         Kennedy\n",
              "3   1964    4.21  61.34             Johnson       Goldwater\n",
              "4   1968    3.02  49.60            Humphrey           Nixon\n",
              "5   1972    3.62  61.79               Nixon        McGovern\n",
              "6   1976    1.08  48.95                Ford          Carter\n",
              "7   1980   -0.39  44.70              Carter          Reagan\n",
              "8   1984    3.86  59.17              Reagan         Mondale\n",
              "9   1988    2.27  53.94           Bush, Sr.         Dukakis\n",
              "10  1992    0.38  46.55           Bush, Sr.         Clinton\n",
              "11  1996    1.04  54.74             Clinton            Dole\n",
              "12  2000    2.36  50.27                Gore       Bush, Jr.\n",
              "13  2004    1.72  51.24           Bush, Jr.           Kerry\n",
              "14  2008    0.10  46.32              McCain           Obama\n",
              "15  2012    0.95  52.00               Obama          Romney"
            ]
          },
          "metadata": {
            "tags": []
          },
          "execution_count": 12
        }
      ]
    },
    {
      "cell_type": "code",
      "metadata": {
        "id": "GGCoK-8Z4Wuj"
      },
      "source": [
        "# in this case our x variable is economic growth \n",
        "x = data.growth\n",
        "y = data.vote"
      ],
      "execution_count": null,
      "outputs": []
    },
    {
      "cell_type": "code",
      "metadata": {
        "colab": {
          "base_uri": "https://localhost:8080/",
          "height": 369
        },
        "id": "bqPtUPVr6S86",
        "outputId": "a60b67f7-3520-4c3c-f83b-3f25b430983a"
      },
      "source": [
        "plt.plot(y,x,\"o\",fillstyle=\"none\")"
      ],
      "execution_count": null,
      "outputs": [
        {
          "output_type": "execute_result",
          "data": {
            "text/plain": [
              "[<matplotlib.lines.Line2D at 0x7f742c4f0ed0>]"
            ]
          },
          "metadata": {
            "tags": []
          },
          "execution_count": 14
        },
        {
          "output_type": "display_data",
          "data": {
            "text/plain": [
              "<Figure size 432x288 with 1 Axes>"
            ],
            "image/svg+xml": "<?xml version=\"1.0\" encoding=\"utf-8\" standalone=\"no\"?>\n<!DOCTYPE svg PUBLIC \"-//W3C//DTD SVG 1.1//EN\"\n  \"http://www.w3.org/Graphics/SVG/1.1/DTD/svg11.dtd\">\n<!-- Created with matplotlib (https://matplotlib.org/) -->\n<svg height=\"248.518125pt\" version=\"1.1\" viewBox=\"0 0 371.048287 248.518125\" width=\"371.048287pt\" xmlns=\"http://www.w3.org/2000/svg\" xmlns:xlink=\"http://www.w3.org/1999/xlink\">\n <defs>\n  <style type=\"text/css\">\n*{stroke-linecap:butt;stroke-linejoin:round;}\n  </style>\n </defs>\n <g id=\"figure_1\">\n  <g id=\"patch_1\">\n   <path d=\"M 0 248.518125 \nL 371.048287 248.518125 \nL 371.048287 0 \nL 0 0 \nz\n\" style=\"fill:none;\"/>\n  </g>\n  <g id=\"axes_1\">\n   <g id=\"patch_2\">\n    <path d=\"M 20.5625 224.64 \nL 355.3625 224.64 \nL 355.3625 7.2 \nL 20.5625 7.2 \nz\n\" style=\"fill:#ffffff;\"/>\n   </g>\n   <g id=\"matplotlib.axis_1\">\n    <g id=\"xtick_1\">\n     <g id=\"line2d_1\">\n      <defs>\n       <path d=\"M 0 0 \nL 0 3.5 \n\" id=\"m56fb1f5532\" style=\"stroke:#000000;stroke-width:0.8;\"/>\n      </defs>\n      <g>\n       <use style=\"stroke:#000000;stroke-width:0.8;\" x=\"42.863024\" xlink:href=\"#m56fb1f5532\" y=\"224.64\"/>\n      </g>\n     </g>\n     <g id=\"text_1\">\n      <!-- 45.0 -->\n      <defs>\n       <path d=\"M 37.796875 64.3125 \nL 12.890625 25.390625 \nL 37.796875 25.390625 \nz\nM 35.203125 72.90625 \nL 47.609375 72.90625 \nL 47.609375 25.390625 \nL 58.015625 25.390625 \nL 58.015625 17.1875 \nL 47.609375 17.1875 \nL 47.609375 0 \nL 37.796875 0 \nL 37.796875 17.1875 \nL 4.890625 17.1875 \nL 4.890625 26.703125 \nz\n\" id=\"DejaVuSans-52\"/>\n       <path d=\"M 10.796875 72.90625 \nL 49.515625 72.90625 \nL 49.515625 64.59375 \nL 19.828125 64.59375 \nL 19.828125 46.734375 \nQ 21.96875 47.46875 24.109375 47.828125 \nQ 26.265625 48.1875 28.421875 48.1875 \nQ 40.625 48.1875 47.75 41.5 \nQ 54.890625 34.8125 54.890625 23.390625 \nQ 54.890625 11.625 47.5625 5.09375 \nQ 40.234375 -1.421875 26.90625 -1.421875 \nQ 22.3125 -1.421875 17.546875 -0.640625 \nQ 12.796875 0.140625 7.71875 1.703125 \nL 7.71875 11.625 \nQ 12.109375 9.234375 16.796875 8.0625 \nQ 21.484375 6.890625 26.703125 6.890625 \nQ 35.15625 6.890625 40.078125 11.328125 \nQ 45.015625 15.765625 45.015625 23.390625 \nQ 45.015625 31 40.078125 35.4375 \nQ 35.15625 39.890625 26.703125 39.890625 \nQ 22.75 39.890625 18.8125 39.015625 \nQ 14.890625 38.140625 10.796875 36.28125 \nz\n\" id=\"DejaVuSans-53\"/>\n       <path d=\"M 10.6875 12.40625 \nL 21 12.40625 \nL 21 0 \nL 10.6875 0 \nz\n\" id=\"DejaVuSans-46\"/>\n       <path d=\"M 31.78125 66.40625 \nQ 24.171875 66.40625 20.328125 58.90625 \nQ 16.5 51.421875 16.5 36.375 \nQ 16.5 21.390625 20.328125 13.890625 \nQ 24.171875 6.390625 31.78125 6.390625 \nQ 39.453125 6.390625 43.28125 13.890625 \nQ 47.125 21.390625 47.125 36.375 \nQ 47.125 51.421875 43.28125 58.90625 \nQ 39.453125 66.40625 31.78125 66.40625 \nz\nM 31.78125 74.21875 \nQ 44.046875 74.21875 50.515625 64.515625 \nQ 56.984375 54.828125 56.984375 36.375 \nQ 56.984375 17.96875 50.515625 8.265625 \nQ 44.046875 -1.421875 31.78125 -1.421875 \nQ 19.53125 -1.421875 13.0625 8.265625 \nQ 6.59375 17.96875 6.59375 36.375 \nQ 6.59375 54.828125 13.0625 64.515625 \nQ 19.53125 74.21875 31.78125 74.21875 \nz\n\" id=\"DejaVuSans-48\"/>\n      </defs>\n      <g transform=\"translate(31.730211 239.238437)scale(0.1 -0.1)\">\n       <use xlink:href=\"#DejaVuSans-52\"/>\n       <use x=\"63.623047\" xlink:href=\"#DejaVuSans-53\"/>\n       <use x=\"127.246094\" xlink:href=\"#DejaVuSans-46\"/>\n       <use x=\"159.033203\" xlink:href=\"#DejaVuSans-48\"/>\n      </g>\n     </g>\n    </g>\n    <g id=\"xtick_2\">\n     <g id=\"line2d_2\">\n      <g>\n       <use style=\"stroke:#000000;stroke-width:0.8;\" x=\"87.127659\" xlink:href=\"#m56fb1f5532\" y=\"224.64\"/>\n      </g>\n     </g>\n     <g id=\"text_2\">\n      <!-- 47.5 -->\n      <defs>\n       <path d=\"M 8.203125 72.90625 \nL 55.078125 72.90625 \nL 55.078125 68.703125 \nL 28.609375 0 \nL 18.3125 0 \nL 43.21875 64.59375 \nL 8.203125 64.59375 \nz\n\" id=\"DejaVuSans-55\"/>\n      </defs>\n      <g transform=\"translate(75.994847 239.238437)scale(0.1 -0.1)\">\n       <use xlink:href=\"#DejaVuSans-52\"/>\n       <use x=\"63.623047\" xlink:href=\"#DejaVuSans-55\"/>\n       <use x=\"127.246094\" xlink:href=\"#DejaVuSans-46\"/>\n       <use x=\"159.033203\" xlink:href=\"#DejaVuSans-53\"/>\n      </g>\n     </g>\n    </g>\n    <g id=\"xtick_3\">\n     <g id=\"line2d_3\">\n      <g>\n       <use style=\"stroke:#000000;stroke-width:0.8;\" x=\"131.392295\" xlink:href=\"#m56fb1f5532\" y=\"224.64\"/>\n      </g>\n     </g>\n     <g id=\"text_3\">\n      <!-- 50.0 -->\n      <g transform=\"translate(120.259483 239.238437)scale(0.1 -0.1)\">\n       <use xlink:href=\"#DejaVuSans-53\"/>\n       <use x=\"63.623047\" xlink:href=\"#DejaVuSans-48\"/>\n       <use x=\"127.246094\" xlink:href=\"#DejaVuSans-46\"/>\n       <use x=\"159.033203\" xlink:href=\"#DejaVuSans-48\"/>\n      </g>\n     </g>\n    </g>\n    <g id=\"xtick_4\">\n     <g id=\"line2d_4\">\n      <g>\n       <use style=\"stroke:#000000;stroke-width:0.8;\" x=\"175.656931\" xlink:href=\"#m56fb1f5532\" y=\"224.64\"/>\n      </g>\n     </g>\n     <g id=\"text_4\">\n      <!-- 52.5 -->\n      <defs>\n       <path d=\"M 19.1875 8.296875 \nL 53.609375 8.296875 \nL 53.609375 0 \nL 7.328125 0 \nL 7.328125 8.296875 \nQ 12.9375 14.109375 22.625 23.890625 \nQ 32.328125 33.6875 34.8125 36.53125 \nQ 39.546875 41.84375 41.421875 45.53125 \nQ 43.3125 49.21875 43.3125 52.78125 \nQ 43.3125 58.59375 39.234375 62.25 \nQ 35.15625 65.921875 28.609375 65.921875 \nQ 23.96875 65.921875 18.8125 64.3125 \nQ 13.671875 62.703125 7.8125 59.421875 \nL 7.8125 69.390625 \nQ 13.765625 71.78125 18.9375 73 \nQ 24.125 74.21875 28.421875 74.21875 \nQ 39.75 74.21875 46.484375 68.546875 \nQ 53.21875 62.890625 53.21875 53.421875 \nQ 53.21875 48.921875 51.53125 44.890625 \nQ 49.859375 40.875 45.40625 35.40625 \nQ 44.1875 33.984375 37.640625 27.21875 \nQ 31.109375 20.453125 19.1875 8.296875 \nz\n\" id=\"DejaVuSans-50\"/>\n      </defs>\n      <g transform=\"translate(164.524119 239.238437)scale(0.1 -0.1)\">\n       <use xlink:href=\"#DejaVuSans-53\"/>\n       <use x=\"63.623047\" xlink:href=\"#DejaVuSans-50\"/>\n       <use x=\"127.246094\" xlink:href=\"#DejaVuSans-46\"/>\n       <use x=\"159.033203\" xlink:href=\"#DejaVuSans-53\"/>\n      </g>\n     </g>\n    </g>\n    <g id=\"xtick_5\">\n     <g id=\"line2d_5\">\n      <g>\n       <use style=\"stroke:#000000;stroke-width:0.8;\" x=\"219.921567\" xlink:href=\"#m56fb1f5532\" y=\"224.64\"/>\n      </g>\n     </g>\n     <g id=\"text_5\">\n      <!-- 55.0 -->\n      <g transform=\"translate(208.788755 239.238437)scale(0.1 -0.1)\">\n       <use xlink:href=\"#DejaVuSans-53\"/>\n       <use x=\"63.623047\" xlink:href=\"#DejaVuSans-53\"/>\n       <use x=\"127.246094\" xlink:href=\"#DejaVuSans-46\"/>\n       <use x=\"159.033203\" xlink:href=\"#DejaVuSans-48\"/>\n      </g>\n     </g>\n    </g>\n    <g id=\"xtick_6\">\n     <g id=\"line2d_6\">\n      <g>\n       <use style=\"stroke:#000000;stroke-width:0.8;\" x=\"264.186203\" xlink:href=\"#m56fb1f5532\" y=\"224.64\"/>\n      </g>\n     </g>\n     <g id=\"text_6\">\n      <!-- 57.5 -->\n      <g transform=\"translate(253.05339 239.238437)scale(0.1 -0.1)\">\n       <use xlink:href=\"#DejaVuSans-53\"/>\n       <use x=\"63.623047\" xlink:href=\"#DejaVuSans-55\"/>\n       <use x=\"127.246094\" xlink:href=\"#DejaVuSans-46\"/>\n       <use x=\"159.033203\" xlink:href=\"#DejaVuSans-53\"/>\n      </g>\n     </g>\n    </g>\n    <g id=\"xtick_7\">\n     <g id=\"line2d_7\">\n      <g>\n       <use style=\"stroke:#000000;stroke-width:0.8;\" x=\"308.450839\" xlink:href=\"#m56fb1f5532\" y=\"224.64\"/>\n      </g>\n     </g>\n     <g id=\"text_7\">\n      <!-- 60.0 -->\n      <defs>\n       <path d=\"M 33.015625 40.375 \nQ 26.375 40.375 22.484375 35.828125 \nQ 18.609375 31.296875 18.609375 23.390625 \nQ 18.609375 15.53125 22.484375 10.953125 \nQ 26.375 6.390625 33.015625 6.390625 \nQ 39.65625 6.390625 43.53125 10.953125 \nQ 47.40625 15.53125 47.40625 23.390625 \nQ 47.40625 31.296875 43.53125 35.828125 \nQ 39.65625 40.375 33.015625 40.375 \nz\nM 52.59375 71.296875 \nL 52.59375 62.3125 \nQ 48.875 64.0625 45.09375 64.984375 \nQ 41.3125 65.921875 37.59375 65.921875 \nQ 27.828125 65.921875 22.671875 59.328125 \nQ 17.53125 52.734375 16.796875 39.40625 \nQ 19.671875 43.65625 24.015625 45.921875 \nQ 28.375 48.1875 33.59375 48.1875 \nQ 44.578125 48.1875 50.953125 41.515625 \nQ 57.328125 34.859375 57.328125 23.390625 \nQ 57.328125 12.15625 50.6875 5.359375 \nQ 44.046875 -1.421875 33.015625 -1.421875 \nQ 20.359375 -1.421875 13.671875 8.265625 \nQ 6.984375 17.96875 6.984375 36.375 \nQ 6.984375 53.65625 15.1875 63.9375 \nQ 23.390625 74.21875 37.203125 74.21875 \nQ 40.921875 74.21875 44.703125 73.484375 \nQ 48.484375 72.75 52.59375 71.296875 \nz\n\" id=\"DejaVuSans-54\"/>\n      </defs>\n      <g transform=\"translate(297.318026 239.238437)scale(0.1 -0.1)\">\n       <use xlink:href=\"#DejaVuSans-54\"/>\n       <use x=\"63.623047\" xlink:href=\"#DejaVuSans-48\"/>\n       <use x=\"127.246094\" xlink:href=\"#DejaVuSans-46\"/>\n       <use x=\"159.033203\" xlink:href=\"#DejaVuSans-48\"/>\n      </g>\n     </g>\n    </g>\n    <g id=\"xtick_8\">\n     <g id=\"line2d_8\">\n      <g>\n       <use style=\"stroke:#000000;stroke-width:0.8;\" x=\"352.715475\" xlink:href=\"#m56fb1f5532\" y=\"224.64\"/>\n      </g>\n     </g>\n     <g id=\"text_8\">\n      <!-- 62.5 -->\n      <g transform=\"translate(341.582662 239.238437)scale(0.1 -0.1)\">\n       <use xlink:href=\"#DejaVuSans-54\"/>\n       <use x=\"63.623047\" xlink:href=\"#DejaVuSans-50\"/>\n       <use x=\"127.246094\" xlink:href=\"#DejaVuSans-46\"/>\n       <use x=\"159.033203\" xlink:href=\"#DejaVuSans-53\"/>\n      </g>\n     </g>\n    </g>\n   </g>\n   <g id=\"matplotlib.axis_2\">\n    <g id=\"ytick_1\">\n     <g id=\"line2d_9\">\n      <defs>\n       <path d=\"M 0 0 \nL -3.5 0 \n\" id=\"m52e0a4e819\" style=\"stroke:#000000;stroke-width:0.8;\"/>\n      </defs>\n      <g>\n       <use style=\"stroke:#000000;stroke-width:0.8;\" x=\"20.5625\" xlink:href=\"#m52e0a4e819\" y=\"197.997154\"/>\n      </g>\n     </g>\n     <g id=\"text_9\">\n      <!-- 0 -->\n      <g transform=\"translate(7.2 201.796373)scale(0.1 -0.1)\">\n       <use xlink:href=\"#DejaVuSans-48\"/>\n      </g>\n     </g>\n    </g>\n    <g id=\"ytick_2\">\n     <g id=\"line2d_10\">\n      <g>\n       <use style=\"stroke:#000000;stroke-width:0.8;\" x=\"20.5625\" xlink:href=\"#m52e0a4e819\" y=\"155.024822\"/>\n      </g>\n     </g>\n     <g id=\"text_10\">\n      <!-- 1 -->\n      <defs>\n       <path d=\"M 12.40625 8.296875 \nL 28.515625 8.296875 \nL 28.515625 63.921875 \nL 10.984375 60.40625 \nL 10.984375 69.390625 \nL 28.421875 72.90625 \nL 38.28125 72.90625 \nL 38.28125 8.296875 \nL 54.390625 8.296875 \nL 54.390625 0 \nL 12.40625 0 \nz\n\" id=\"DejaVuSans-49\"/>\n      </defs>\n      <g transform=\"translate(7.2 158.824041)scale(0.1 -0.1)\">\n       <use xlink:href=\"#DejaVuSans-49\"/>\n      </g>\n     </g>\n    </g>\n    <g id=\"ytick_3\">\n     <g id=\"line2d_11\">\n      <g>\n       <use style=\"stroke:#000000;stroke-width:0.8;\" x=\"20.5625\" xlink:href=\"#m52e0a4e819\" y=\"112.05249\"/>\n      </g>\n     </g>\n     <g id=\"text_11\">\n      <!-- 2 -->\n      <g transform=\"translate(7.2 115.851709)scale(0.1 -0.1)\">\n       <use xlink:href=\"#DejaVuSans-50\"/>\n      </g>\n     </g>\n    </g>\n    <g id=\"ytick_4\">\n     <g id=\"line2d_12\">\n      <g>\n       <use style=\"stroke:#000000;stroke-width:0.8;\" x=\"20.5625\" xlink:href=\"#m52e0a4e819\" y=\"69.080158\"/>\n      </g>\n     </g>\n     <g id=\"text_12\">\n      <!-- 3 -->\n      <defs>\n       <path d=\"M 40.578125 39.3125 \nQ 47.65625 37.796875 51.625 33 \nQ 55.609375 28.21875 55.609375 21.1875 \nQ 55.609375 10.40625 48.1875 4.484375 \nQ 40.765625 -1.421875 27.09375 -1.421875 \nQ 22.515625 -1.421875 17.65625 -0.515625 \nQ 12.796875 0.390625 7.625 2.203125 \nL 7.625 11.71875 \nQ 11.71875 9.328125 16.59375 8.109375 \nQ 21.484375 6.890625 26.8125 6.890625 \nQ 36.078125 6.890625 40.9375 10.546875 \nQ 45.796875 14.203125 45.796875 21.1875 \nQ 45.796875 27.640625 41.28125 31.265625 \nQ 36.765625 34.90625 28.71875 34.90625 \nL 20.21875 34.90625 \nL 20.21875 43.015625 \nL 29.109375 43.015625 \nQ 36.375 43.015625 40.234375 45.921875 \nQ 44.09375 48.828125 44.09375 54.296875 \nQ 44.09375 59.90625 40.109375 62.90625 \nQ 36.140625 65.921875 28.71875 65.921875 \nQ 24.65625 65.921875 20.015625 65.03125 \nQ 15.375 64.15625 9.8125 62.3125 \nL 9.8125 71.09375 \nQ 15.4375 72.65625 20.34375 73.4375 \nQ 25.25 74.21875 29.59375 74.21875 \nQ 40.828125 74.21875 47.359375 69.109375 \nQ 53.90625 64.015625 53.90625 55.328125 \nQ 53.90625 49.265625 50.4375 45.09375 \nQ 46.96875 40.921875 40.578125 39.3125 \nz\n\" id=\"DejaVuSans-51\"/>\n      </defs>\n      <g transform=\"translate(7.2 72.879377)scale(0.1 -0.1)\">\n       <use xlink:href=\"#DejaVuSans-51\"/>\n      </g>\n     </g>\n    </g>\n    <g id=\"ytick_5\">\n     <g id=\"line2d_13\">\n      <g>\n       <use style=\"stroke:#000000;stroke-width:0.8;\" x=\"20.5625\" xlink:href=\"#m52e0a4e819\" y=\"26.107826\"/>\n      </g>\n     </g>\n     <g id=\"text_13\">\n      <!-- 4 -->\n      <g transform=\"translate(7.2 29.907045)scale(0.1 -0.1)\">\n       <use xlink:href=\"#DejaVuSans-52\"/>\n      </g>\n     </g>\n    </g>\n   </g>\n   <g id=\"line2d_14\">\n    <defs>\n     <path d=\"M 0 3 \nC 0.795609 3 1.55874 2.683901 2.12132 2.12132 \nC 2.683901 1.55874 3 0.795609 3 0 \nC 3 -0.795609 2.683901 -1.55874 2.12132 -2.12132 \nC 1.55874 -2.683901 0.795609 -3 0 -3 \nC -0.795609 -3 -1.55874 -2.683901 -2.12132 -2.12132 \nC -2.683901 -1.55874 -3 -0.795609 -3 0 \nC -3 0.795609 -2.683901 1.55874 -2.12132 2.12132 \nC -1.55874 2.683901 -0.795609 3 0 3 \nz\n\" id=\"m24f80532d2\" style=\"stroke:#1f77b4;\"/>\n    </defs>\n    <g clip-path=\"url(#p26ef0b1f97)\">\n     <use style=\"fill-opacity:0;stroke:#1f77b4;\" x=\"35.780682\" xlink:href=\"#m24f80532d2\" y=\"94.863557\"/>\n     <use style=\"fill-opacity:0;stroke:#1f77b4;\" x=\"268.789725\" xlink:href=\"#m24f80532d2\" y=\"73.807115\"/>\n     <use style=\"fill-opacity:0;stroke:#1f77b4;\" x=\"129.798768\" xlink:href=\"#m24f80532d2\" y=\"161.470672\"/>\n     <use style=\"fill-opacity:0;stroke:#1f77b4;\" x=\"332.176684\" xlink:href=\"#m24f80532d2\" y=\"17.083636\"/>\n     <use style=\"fill-opacity:0;stroke:#1f77b4;\" x=\"124.309954\" xlink:href=\"#m24f80532d2\" y=\"68.220711\"/>\n     <use style=\"fill-opacity:0;stroke:#1f77b4;\" x=\"340.144318\" xlink:href=\"#m24f80532d2\" y=\"42.437312\"/>\n     <use style=\"fill-opacity:0;stroke:#1f77b4;\" x=\"112.801148\" xlink:href=\"#m24f80532d2\" y=\"151.587036\"/>\n     <use style=\"fill-opacity:0;stroke:#1f77b4;\" x=\"37.551267\" xlink:href=\"#m24f80532d2\" y=\"214.756364\"/>\n     <use style=\"fill-opacity:0;stroke:#1f77b4;\" x=\"293.75498\" xlink:href=\"#m24f80532d2\" y=\"32.123953\"/>\n     <use style=\"fill-opacity:0;stroke:#1f77b4;\" x=\"201.153361\" xlink:href=\"#m24f80532d2\" y=\"100.44996\"/>\n     <use style=\"fill-opacity:0;stroke:#1f77b4;\" x=\"70.307098\" xlink:href=\"#m24f80532d2\" y=\"181.667668\"/>\n     <use style=\"fill-opacity:0;stroke:#1f77b4;\" x=\"215.318045\" xlink:href=\"#m24f80532d2\" y=\"153.305929\"/>\n     <use style=\"fill-opacity:0;stroke:#1f77b4;\" x=\"136.172876\" xlink:href=\"#m24f80532d2\" y=\"96.582451\"/>\n     <use style=\"fill-opacity:0;stroke:#1f77b4;\" x=\"153.347555\" xlink:href=\"#m24f80532d2\" y=\"124.084743\"/>\n     <use style=\"fill-opacity:0;stroke:#1f77b4;\" x=\"66.234751\" xlink:href=\"#m24f80532d2\" y=\"193.699921\"/>\n     <use style=\"fill-opacity:0;stroke:#1f77b4;\" x=\"166.804004\" xlink:href=\"#m24f80532d2\" y=\"157.173439\"/>\n    </g>\n   </g>\n   <g id=\"patch_3\">\n    <path d=\"M 20.5625 224.64 \nL 20.5625 7.2 \n\" style=\"fill:none;stroke:#000000;stroke-linecap:square;stroke-linejoin:miter;stroke-width:0.8;\"/>\n   </g>\n   <g id=\"patch_4\">\n    <path d=\"M 355.3625 224.64 \nL 355.3625 7.2 \n\" style=\"fill:none;stroke:#000000;stroke-linecap:square;stroke-linejoin:miter;stroke-width:0.8;\"/>\n   </g>\n   <g id=\"patch_5\">\n    <path d=\"M 20.5625 224.64 \nL 355.3625 224.64 \n\" style=\"fill:none;stroke:#000000;stroke-linecap:square;stroke-linejoin:miter;stroke-width:0.8;\"/>\n   </g>\n   <g id=\"patch_6\">\n    <path d=\"M 20.5625 7.2 \nL 355.3625 7.2 \n\" style=\"fill:none;stroke:#000000;stroke-linecap:square;stroke-linejoin:miter;stroke-width:0.8;\"/>\n   </g>\n  </g>\n </g>\n <defs>\n  <clipPath id=\"p26ef0b1f97\">\n   <rect height=\"217.44\" width=\"334.8\" x=\"20.5625\" y=\"7.2\"/>\n  </clipPath>\n </defs>\n</svg>\n"
          },
          "metadata": {
            "tags": [],
            "needs_background": "light"
          }
        }
      ]
    },
    {
      "cell_type": "markdown",
      "metadata": {
        "id": "FEf2R56w7F7t"
      },
      "source": [
        "**EXERCISES**\n",
        "\n",
        "1.  Perform a linear regression on vote share vs. economic growth. \n",
        "2. In the previous example, we discussed we applied the linear regression in an idealized sceneario where the data satisfied exactly the assumptions of the linear model. In what ways might this data set violate the assumptions of the linear regression? To answer this question, think about how the $x$ and $y$ variabls are measured. \n",
        "3. Generate many simulations of data with zero slope and roughly the same amount of noise and data points as the real data. How likely is it that the slope in the real data is within one standard deviation of the simulated data? \n",
        "4. Repeat (3), but \n",
        "5. What other information might be relavent that we are not using? "
      ]
    },
    {
      "cell_type": "markdown",
      "metadata": {
        "id": "sNqU_o1gP6zA"
      },
      "source": [
        "# Test scores and mother education\n",
        "\n"
      ]
    },
    {
      "cell_type": "markdown",
      "metadata": {
        "id": "VykPZf-8m1vT"
      },
      "source": [
        "So far we have been working with regression problems where the predictor variables (x) are continous, that is, they are decimal numbers. It's comment however to make preditions based on discrete variables. For example, we might want to understand how the efficacy of a drug depends on the sex of a patient. Such variables are sometimes called idicator variables. Everything we've done actually generalizes very easily to this setting -- remember, there was nothing in our model that assumes $x$ is continous. \n",
        "\n",
        "To illusrate this, we will work with a data consisting of kids test scores and their mother's high school education (whether they graduated or not). Acutally, there is more information in this data set, but for now, we will only focus on this one variable. "
      ]
    },
    {
      "cell_type": "code",
      "metadata": {
        "id": "7BsA63jx9Vcq"
      },
      "source": [
        "data = pd.read_csv(\"https://raw.githubusercontent.com/avehtari/ROS-Examples/master/KidIQ/data/kidiq.csv\")"
      ],
      "execution_count": 31,
      "outputs": []
    },
    {
      "cell_type": "code",
      "metadata": {
        "colab": {
          "base_uri": "https://localhost:8080/",
          "height": 419
        },
        "id": "meUkosWAQEaR",
        "outputId": "7db85534-9de9-4222-eeb5-d1b400751f3e"
      },
      "source": [
        "data"
      ],
      "execution_count": 32,
      "outputs": [
        {
          "output_type": "execute_result",
          "data": {
            "text/html": [
              "<div>\n",
              "<style scoped>\n",
              "    .dataframe tbody tr th:only-of-type {\n",
              "        vertical-align: middle;\n",
              "    }\n",
              "\n",
              "    .dataframe tbody tr th {\n",
              "        vertical-align: top;\n",
              "    }\n",
              "\n",
              "    .dataframe thead th {\n",
              "        text-align: right;\n",
              "    }\n",
              "</style>\n",
              "<table border=\"1\" class=\"dataframe\">\n",
              "  <thead>\n",
              "    <tr style=\"text-align: right;\">\n",
              "      <th></th>\n",
              "      <th>kid_score</th>\n",
              "      <th>mom_hs</th>\n",
              "      <th>mom_iq</th>\n",
              "      <th>mom_work</th>\n",
              "      <th>mom_age</th>\n",
              "    </tr>\n",
              "  </thead>\n",
              "  <tbody>\n",
              "    <tr>\n",
              "      <th>0</th>\n",
              "      <td>65</td>\n",
              "      <td>1</td>\n",
              "      <td>121.117529</td>\n",
              "      <td>4</td>\n",
              "      <td>27</td>\n",
              "    </tr>\n",
              "    <tr>\n",
              "      <th>1</th>\n",
              "      <td>98</td>\n",
              "      <td>1</td>\n",
              "      <td>89.361882</td>\n",
              "      <td>4</td>\n",
              "      <td>25</td>\n",
              "    </tr>\n",
              "    <tr>\n",
              "      <th>2</th>\n",
              "      <td>85</td>\n",
              "      <td>1</td>\n",
              "      <td>115.443165</td>\n",
              "      <td>4</td>\n",
              "      <td>27</td>\n",
              "    </tr>\n",
              "    <tr>\n",
              "      <th>3</th>\n",
              "      <td>83</td>\n",
              "      <td>1</td>\n",
              "      <td>99.449639</td>\n",
              "      <td>3</td>\n",
              "      <td>25</td>\n",
              "    </tr>\n",
              "    <tr>\n",
              "      <th>4</th>\n",
              "      <td>115</td>\n",
              "      <td>1</td>\n",
              "      <td>92.745710</td>\n",
              "      <td>4</td>\n",
              "      <td>27</td>\n",
              "    </tr>\n",
              "    <tr>\n",
              "      <th>...</th>\n",
              "      <td>...</td>\n",
              "      <td>...</td>\n",
              "      <td>...</td>\n",
              "      <td>...</td>\n",
              "      <td>...</td>\n",
              "    </tr>\n",
              "    <tr>\n",
              "      <th>429</th>\n",
              "      <td>94</td>\n",
              "      <td>0</td>\n",
              "      <td>84.877412</td>\n",
              "      <td>4</td>\n",
              "      <td>21</td>\n",
              "    </tr>\n",
              "    <tr>\n",
              "      <th>430</th>\n",
              "      <td>76</td>\n",
              "      <td>1</td>\n",
              "      <td>92.990392</td>\n",
              "      <td>4</td>\n",
              "      <td>23</td>\n",
              "    </tr>\n",
              "    <tr>\n",
              "      <th>431</th>\n",
              "      <td>50</td>\n",
              "      <td>0</td>\n",
              "      <td>94.859708</td>\n",
              "      <td>2</td>\n",
              "      <td>24</td>\n",
              "    </tr>\n",
              "    <tr>\n",
              "      <th>432</th>\n",
              "      <td>88</td>\n",
              "      <td>1</td>\n",
              "      <td>96.856624</td>\n",
              "      <td>2</td>\n",
              "      <td>21</td>\n",
              "    </tr>\n",
              "    <tr>\n",
              "      <th>433</th>\n",
              "      <td>70</td>\n",
              "      <td>1</td>\n",
              "      <td>91.253336</td>\n",
              "      <td>2</td>\n",
              "      <td>25</td>\n",
              "    </tr>\n",
              "  </tbody>\n",
              "</table>\n",
              "<p>434 rows × 5 columns</p>\n",
              "</div>"
            ],
            "text/plain": [
              "     kid_score  mom_hs      mom_iq  mom_work  mom_age\n",
              "0           65       1  121.117529         4       27\n",
              "1           98       1   89.361882         4       25\n",
              "2           85       1  115.443165         4       27\n",
              "3           83       1   99.449639         3       25\n",
              "4          115       1   92.745710         4       27\n",
              "..         ...     ...         ...       ...      ...\n",
              "429         94       0   84.877412         4       21\n",
              "430         76       1   92.990392         4       23\n",
              "431         50       0   94.859708         2       24\n",
              "432         88       1   96.856624         2       21\n",
              "433         70       1   91.253336         2       25\n",
              "\n",
              "[434 rows x 5 columns]"
            ]
          },
          "metadata": {
            "tags": []
          },
          "execution_count": 32
        }
      ]
    },
    {
      "cell_type": "code",
      "metadata": {
        "id": "A6XjRPOCQMXs"
      },
      "source": [
        "# there is more information here, but let's start by just looking at \n",
        "# how the mother's high school education correlates with scores\n",
        "x = np.array(data[\"mom_hs\"])\n",
        "y = np.array(data[\"kid_score\"])\n",
        "\n"
      ],
      "execution_count": 33,
      "outputs": []
    },
    {
      "cell_type": "code",
      "metadata": {
        "id": "6cNwi94bQr_8"
      },
      "source": [
        "model= sm.OLS(y,sm.add_constant(x)) \n",
        " # and this commend actually does the computations which give the results\n",
        "results = model.fit()"
      ],
      "execution_count": 34,
      "outputs": []
    },
    {
      "cell_type": "code",
      "metadata": {
        "colab": {
          "base_uri": "https://localhost:8080/"
        },
        "id": "9C-aPCZxRlD9",
        "outputId": "0e148abb-8577-46bc-a3da-6d54a50c8439"
      },
      "source": [
        "# as expected everything works just the same as before\n",
        "print(results.summary())\n"
      ],
      "execution_count": 35,
      "outputs": [
        {
          "output_type": "stream",
          "text": [
            "                            OLS Regression Results                            \n",
            "==============================================================================\n",
            "Dep. Variable:                      y   R-squared:                       0.056\n",
            "Model:                            OLS   Adj. R-squared:                  0.054\n",
            "Method:                 Least Squares   F-statistic:                     25.69\n",
            "Date:                Tue, 27 Jul 2021   Prob (F-statistic):           5.96e-07\n",
            "Time:                        15:35:22   Log-Likelihood:                -1911.8\n",
            "No. Observations:                 434   AIC:                             3828.\n",
            "Df Residuals:                     432   BIC:                             3836.\n",
            "Df Model:                           1                                         \n",
            "Covariance Type:            nonrobust                                         \n",
            "==============================================================================\n",
            "                 coef    std err          t      P>|t|      [0.025      0.975]\n",
            "------------------------------------------------------------------------------\n",
            "const         77.5484      2.059     37.670      0.000      73.502      81.595\n",
            "x1            11.7713      2.322      5.069      0.000       7.207      16.336\n",
            "==============================================================================\n",
            "Omnibus:                       11.077   Durbin-Watson:                   1.464\n",
            "Prob(Omnibus):                  0.004   Jarque-Bera (JB):               11.316\n",
            "Skew:                          -0.373   Prob(JB):                      0.00349\n",
            "Kurtosis:                       2.738   Cond. No.                         4.11\n",
            "==============================================================================\n",
            "\n",
            "Warnings:\n",
            "[1] Standard Errors assume that the covariance matrix of the errors is correctly specified.\n"
          ],
          "name": "stdout"
        }
      ]
    },
    {
      "cell_type": "code",
      "metadata": {
        "colab": {
          "base_uri": "https://localhost:8080/",
          "height": 351
        },
        "id": "KuMYcbUDRltj",
        "outputId": "dc24ea43-b1fd-4de6-c87e-25e4e4477241"
      },
      "source": [
        "# plotting this data is a little different than we are used to with continous predictors\n",
        "# if we just plot as usual, we get something that is a little difficult to interpret\n",
        "# instead, we will use a boxplot. The boxplot takes a list of lists, and plots \n",
        "# the mean and standard deviation of each element in this list\n",
        "fig,ax = plt.subplots(figsize=(5,3))\n",
        "plt.boxplot([y[x ==0],y[x ==1]]);\n",
        "\n",
        "b_fit,a_fit = results.params\n",
        "plt.plot()"
      ],
      "execution_count": 36,
      "outputs": [
        {
          "output_type": "stream",
          "text": [
            "/usr/local/lib/python3.7/dist-packages/numpy/core/_asarray.py:83: VisibleDeprecationWarning: Creating an ndarray from ragged nested sequences (which is a list-or-tuple of lists-or-tuples-or ndarrays with different lengths or shapes) is deprecated. If you meant to do this, you must specify 'dtype=object' when creating the ndarray\n",
            "  return array(a, dtype, copy=False, order=order)\n"
          ],
          "name": "stderr"
        },
        {
          "output_type": "execute_result",
          "data": {
            "text/plain": [
              "[]"
            ]
          },
          "metadata": {
            "tags": []
          },
          "execution_count": 36
        },
        {
          "output_type": "display_data",
          "data": {
            "text/plain": [
              "<Figure size 360x216 with 1 Axes>"
            ],
            "image/svg+xml": "<?xml version=\"1.0\" encoding=\"utf-8\" standalone=\"no\"?>\n<!DOCTYPE svg PUBLIC \"-//W3C//DTD SVG 1.1//EN\"\n  \"http://www.w3.org/Graphics/SVG/1.1/DTD/svg11.dtd\">\n<!-- Created with matplotlib (https://matplotlib.org/) -->\n<svg height=\"194.158125pt\" version=\"1.1\" viewBox=\"0 0 319.4875 194.158125\" width=\"319.4875pt\" xmlns=\"http://www.w3.org/2000/svg\" xmlns:xlink=\"http://www.w3.org/1999/xlink\">\n <defs>\n  <style type=\"text/css\">\n*{stroke-linecap:butt;stroke-linejoin:round;}\n  </style>\n </defs>\n <g id=\"figure_1\">\n  <g id=\"patch_1\">\n   <path d=\"M -0 194.158125 \nL 319.4875 194.158125 \nL 319.4875 0 \nL -0 0 \nz\n\" style=\"fill:none;\"/>\n  </g>\n  <g id=\"axes_1\">\n   <g id=\"patch_2\">\n    <path d=\"M 33.2875 170.28 \nL 312.2875 170.28 \nL 312.2875 7.2 \nL 33.2875 7.2 \nz\n\" style=\"fill:#ffffff;\"/>\n   </g>\n   <g id=\"matplotlib.axis_1\">\n    <g id=\"xtick_1\">\n     <g id=\"line2d_1\">\n      <defs>\n       <path d=\"M 0 0 \nL 0 3.5 \n\" id=\"ma3d46978b7\" style=\"stroke:#000000;stroke-width:0.8;\"/>\n      </defs>\n      <g>\n       <use style=\"stroke:#000000;stroke-width:0.8;\" x=\"103.0375\" xlink:href=\"#ma3d46978b7\" y=\"170.28\"/>\n      </g>\n     </g>\n     <g id=\"text_1\">\n      <!-- 1 -->\n      <defs>\n       <path d=\"M 12.40625 8.296875 \nL 28.515625 8.296875 \nL 28.515625 63.921875 \nL 10.984375 60.40625 \nL 10.984375 69.390625 \nL 28.421875 72.90625 \nL 38.28125 72.90625 \nL 38.28125 8.296875 \nL 54.390625 8.296875 \nL 54.390625 0 \nL 12.40625 0 \nz\n\" id=\"DejaVuSans-49\"/>\n      </defs>\n      <g transform=\"translate(99.85625 184.878438)scale(0.1 -0.1)\">\n       <use xlink:href=\"#DejaVuSans-49\"/>\n      </g>\n     </g>\n    </g>\n    <g id=\"xtick_2\">\n     <g id=\"line2d_2\">\n      <g>\n       <use style=\"stroke:#000000;stroke-width:0.8;\" x=\"242.5375\" xlink:href=\"#ma3d46978b7\" y=\"170.28\"/>\n      </g>\n     </g>\n     <g id=\"text_2\">\n      <!-- 2 -->\n      <defs>\n       <path d=\"M 19.1875 8.296875 \nL 53.609375 8.296875 \nL 53.609375 0 \nL 7.328125 0 \nL 7.328125 8.296875 \nQ 12.9375 14.109375 22.625 23.890625 \nQ 32.328125 33.6875 34.8125 36.53125 \nQ 39.546875 41.84375 41.421875 45.53125 \nQ 43.3125 49.21875 43.3125 52.78125 \nQ 43.3125 58.59375 39.234375 62.25 \nQ 35.15625 65.921875 28.609375 65.921875 \nQ 23.96875 65.921875 18.8125 64.3125 \nQ 13.671875 62.703125 7.8125 59.421875 \nL 7.8125 69.390625 \nQ 13.765625 71.78125 18.9375 73 \nQ 24.125 74.21875 28.421875 74.21875 \nQ 39.75 74.21875 46.484375 68.546875 \nQ 53.21875 62.890625 53.21875 53.421875 \nQ 53.21875 48.921875 51.53125 44.890625 \nQ 49.859375 40.875 45.40625 35.40625 \nQ 44.1875 33.984375 37.640625 27.21875 \nQ 31.109375 20.453125 19.1875 8.296875 \nz\n\" id=\"DejaVuSans-50\"/>\n      </defs>\n      <g transform=\"translate(239.35625 184.878438)scale(0.1 -0.1)\">\n       <use xlink:href=\"#DejaVuSans-50\"/>\n      </g>\n     </g>\n    </g>\n   </g>\n   <g id=\"matplotlib.axis_2\">\n    <g id=\"ytick_1\">\n     <g id=\"line2d_3\">\n      <defs>\n       <path d=\"M 0 0 \nL -3.5 0 \n\" id=\"mdeb7020f6e\" style=\"stroke:#000000;stroke-width:0.8;\"/>\n      </defs>\n      <g>\n       <use style=\"stroke:#000000;stroke-width:0.8;\" x=\"33.2875\" xlink:href=\"#mdeb7020f6e\" y=\"162.867273\"/>\n      </g>\n     </g>\n     <g id=\"text_3\">\n      <!-- 20 -->\n      <defs>\n       <path d=\"M 31.78125 66.40625 \nQ 24.171875 66.40625 20.328125 58.90625 \nQ 16.5 51.421875 16.5 36.375 \nQ 16.5 21.390625 20.328125 13.890625 \nQ 24.171875 6.390625 31.78125 6.390625 \nQ 39.453125 6.390625 43.28125 13.890625 \nQ 47.125 21.390625 47.125 36.375 \nQ 47.125 51.421875 43.28125 58.90625 \nQ 39.453125 66.40625 31.78125 66.40625 \nz\nM 31.78125 74.21875 \nQ 44.046875 74.21875 50.515625 64.515625 \nQ 56.984375 54.828125 56.984375 36.375 \nQ 56.984375 17.96875 50.515625 8.265625 \nQ 44.046875 -1.421875 31.78125 -1.421875 \nQ 19.53125 -1.421875 13.0625 8.265625 \nQ 6.59375 17.96875 6.59375 36.375 \nQ 6.59375 54.828125 13.0625 64.515625 \nQ 19.53125 74.21875 31.78125 74.21875 \nz\n\" id=\"DejaVuSans-48\"/>\n      </defs>\n      <g transform=\"translate(13.5625 166.666491)scale(0.1 -0.1)\">\n       <use xlink:href=\"#DejaVuSans-50\"/>\n       <use x=\"63.623047\" xlink:href=\"#DejaVuSans-48\"/>\n      </g>\n     </g>\n    </g>\n    <g id=\"ytick_2\">\n     <g id=\"line2d_4\">\n      <g>\n       <use style=\"stroke:#000000;stroke-width:0.8;\" x=\"33.2875\" xlink:href=\"#mdeb7020f6e\" y=\"138.955249\"/>\n      </g>\n     </g>\n     <g id=\"text_4\">\n      <!-- 40 -->\n      <defs>\n       <path d=\"M 37.796875 64.3125 \nL 12.890625 25.390625 \nL 37.796875 25.390625 \nz\nM 35.203125 72.90625 \nL 47.609375 72.90625 \nL 47.609375 25.390625 \nL 58.015625 25.390625 \nL 58.015625 17.1875 \nL 47.609375 17.1875 \nL 47.609375 0 \nL 37.796875 0 \nL 37.796875 17.1875 \nL 4.890625 17.1875 \nL 4.890625 26.703125 \nz\n\" id=\"DejaVuSans-52\"/>\n      </defs>\n      <g transform=\"translate(13.5625 142.754468)scale(0.1 -0.1)\">\n       <use xlink:href=\"#DejaVuSans-52\"/>\n       <use x=\"63.623047\" xlink:href=\"#DejaVuSans-48\"/>\n      </g>\n     </g>\n    </g>\n    <g id=\"ytick_3\">\n     <g id=\"line2d_5\">\n      <g>\n       <use style=\"stroke:#000000;stroke-width:0.8;\" x=\"33.2875\" xlink:href=\"#mdeb7020f6e\" y=\"115.043226\"/>\n      </g>\n     </g>\n     <g id=\"text_5\">\n      <!-- 60 -->\n      <defs>\n       <path d=\"M 33.015625 40.375 \nQ 26.375 40.375 22.484375 35.828125 \nQ 18.609375 31.296875 18.609375 23.390625 \nQ 18.609375 15.53125 22.484375 10.953125 \nQ 26.375 6.390625 33.015625 6.390625 \nQ 39.65625 6.390625 43.53125 10.953125 \nQ 47.40625 15.53125 47.40625 23.390625 \nQ 47.40625 31.296875 43.53125 35.828125 \nQ 39.65625 40.375 33.015625 40.375 \nz\nM 52.59375 71.296875 \nL 52.59375 62.3125 \nQ 48.875 64.0625 45.09375 64.984375 \nQ 41.3125 65.921875 37.59375 65.921875 \nQ 27.828125 65.921875 22.671875 59.328125 \nQ 17.53125 52.734375 16.796875 39.40625 \nQ 19.671875 43.65625 24.015625 45.921875 \nQ 28.375 48.1875 33.59375 48.1875 \nQ 44.578125 48.1875 50.953125 41.515625 \nQ 57.328125 34.859375 57.328125 23.390625 \nQ 57.328125 12.15625 50.6875 5.359375 \nQ 44.046875 -1.421875 33.015625 -1.421875 \nQ 20.359375 -1.421875 13.671875 8.265625 \nQ 6.984375 17.96875 6.984375 36.375 \nQ 6.984375 53.65625 15.1875 63.9375 \nQ 23.390625 74.21875 37.203125 74.21875 \nQ 40.921875 74.21875 44.703125 73.484375 \nQ 48.484375 72.75 52.59375 71.296875 \nz\n\" id=\"DejaVuSans-54\"/>\n      </defs>\n      <g transform=\"translate(13.5625 118.842445)scale(0.1 -0.1)\">\n       <use xlink:href=\"#DejaVuSans-54\"/>\n       <use x=\"63.623047\" xlink:href=\"#DejaVuSans-48\"/>\n      </g>\n     </g>\n    </g>\n    <g id=\"ytick_4\">\n     <g id=\"line2d_6\">\n      <g>\n       <use style=\"stroke:#000000;stroke-width:0.8;\" x=\"33.2875\" xlink:href=\"#mdeb7020f6e\" y=\"91.131202\"/>\n      </g>\n     </g>\n     <g id=\"text_6\">\n      <!-- 80 -->\n      <defs>\n       <path d=\"M 31.78125 34.625 \nQ 24.75 34.625 20.71875 30.859375 \nQ 16.703125 27.09375 16.703125 20.515625 \nQ 16.703125 13.921875 20.71875 10.15625 \nQ 24.75 6.390625 31.78125 6.390625 \nQ 38.8125 6.390625 42.859375 10.171875 \nQ 46.921875 13.96875 46.921875 20.515625 \nQ 46.921875 27.09375 42.890625 30.859375 \nQ 38.875 34.625 31.78125 34.625 \nz\nM 21.921875 38.8125 \nQ 15.578125 40.375 12.03125 44.71875 \nQ 8.5 49.078125 8.5 55.328125 \nQ 8.5 64.0625 14.71875 69.140625 \nQ 20.953125 74.21875 31.78125 74.21875 \nQ 42.671875 74.21875 48.875 69.140625 \nQ 55.078125 64.0625 55.078125 55.328125 \nQ 55.078125 49.078125 51.53125 44.71875 \nQ 48 40.375 41.703125 38.8125 \nQ 48.828125 37.15625 52.796875 32.3125 \nQ 56.78125 27.484375 56.78125 20.515625 \nQ 56.78125 9.90625 50.3125 4.234375 \nQ 43.84375 -1.421875 31.78125 -1.421875 \nQ 19.734375 -1.421875 13.25 4.234375 \nQ 6.78125 9.90625 6.78125 20.515625 \nQ 6.78125 27.484375 10.78125 32.3125 \nQ 14.796875 37.15625 21.921875 38.8125 \nz\nM 18.3125 54.390625 \nQ 18.3125 48.734375 21.84375 45.5625 \nQ 25.390625 42.390625 31.78125 42.390625 \nQ 38.140625 42.390625 41.71875 45.5625 \nQ 45.3125 48.734375 45.3125 54.390625 \nQ 45.3125 60.0625 41.71875 63.234375 \nQ 38.140625 66.40625 31.78125 66.40625 \nQ 25.390625 66.40625 21.84375 63.234375 \nQ 18.3125 60.0625 18.3125 54.390625 \nz\n\" id=\"DejaVuSans-56\"/>\n      </defs>\n      <g transform=\"translate(13.5625 94.930421)scale(0.1 -0.1)\">\n       <use xlink:href=\"#DejaVuSans-56\"/>\n       <use x=\"63.623047\" xlink:href=\"#DejaVuSans-48\"/>\n      </g>\n     </g>\n    </g>\n    <g id=\"ytick_5\">\n     <g id=\"line2d_7\">\n      <g>\n       <use style=\"stroke:#000000;stroke-width:0.8;\" x=\"33.2875\" xlink:href=\"#mdeb7020f6e\" y=\"67.219179\"/>\n      </g>\n     </g>\n     <g id=\"text_7\">\n      <!-- 100 -->\n      <g transform=\"translate(7.2 71.018398)scale(0.1 -0.1)\">\n       <use xlink:href=\"#DejaVuSans-49\"/>\n       <use x=\"63.623047\" xlink:href=\"#DejaVuSans-48\"/>\n       <use x=\"127.246094\" xlink:href=\"#DejaVuSans-48\"/>\n      </g>\n     </g>\n    </g>\n    <g id=\"ytick_6\">\n     <g id=\"line2d_8\">\n      <g>\n       <use style=\"stroke:#000000;stroke-width:0.8;\" x=\"33.2875\" xlink:href=\"#mdeb7020f6e\" y=\"43.307155\"/>\n      </g>\n     </g>\n     <g id=\"text_8\">\n      <!-- 120 -->\n      <g transform=\"translate(7.2 47.106374)scale(0.1 -0.1)\">\n       <use xlink:href=\"#DejaVuSans-49\"/>\n       <use x=\"63.623047\" xlink:href=\"#DejaVuSans-50\"/>\n       <use x=\"127.246094\" xlink:href=\"#DejaVuSans-48\"/>\n      </g>\n     </g>\n    </g>\n    <g id=\"ytick_7\">\n     <g id=\"line2d_9\">\n      <g>\n       <use style=\"stroke:#000000;stroke-width:0.8;\" x=\"33.2875\" xlink:href=\"#mdeb7020f6e\" y=\"19.395132\"/>\n      </g>\n     </g>\n     <g id=\"text_9\">\n      <!-- 140 -->\n      <g transform=\"translate(7.2 23.194351)scale(0.1 -0.1)\">\n       <use xlink:href=\"#DejaVuSans-49\"/>\n       <use x=\"63.623047\" xlink:href=\"#DejaVuSans-52\"/>\n       <use x=\"127.246094\" xlink:href=\"#DejaVuSans-48\"/>\n      </g>\n     </g>\n    </g>\n   </g>\n   <g id=\"line2d_10\">\n    <path clip-path=\"url(#pdf2dddbbb3)\" d=\"M 92.575 117.434428 \nL 113.5 117.434428 \nL 113.5 73.197185 \nL 92.575 73.197185 \nL 92.575 117.434428 \n\" style=\"fill:none;stroke:#000000;stroke-linecap:square;\"/>\n   </g>\n   <g id=\"line2d_11\">\n    <path clip-path=\"url(#pdf2dddbbb3)\" d=\"M 103.0375 117.434428 \nL 103.0375 162.867273 \n\" style=\"fill:none;stroke:#000000;stroke-linecap:square;\"/>\n   </g>\n   <g id=\"line2d_12\">\n    <path clip-path=\"url(#pdf2dddbbb3)\" d=\"M 103.0375 73.197185 \nL 103.0375 24.177537 \n\" style=\"fill:none;stroke:#000000;stroke-linecap:square;\"/>\n   </g>\n   <g id=\"line2d_13\">\n    <path clip-path=\"url(#pdf2dddbbb3)\" d=\"M 97.80625 162.867273 \nL 108.26875 162.867273 \n\" style=\"fill:none;stroke:#000000;stroke-linecap:square;\"/>\n   </g>\n   <g id=\"line2d_14\">\n    <path clip-path=\"url(#pdf2dddbbb3)\" d=\"M 97.80625 24.177537 \nL 108.26875 24.177537 \n\" style=\"fill:none;stroke:#000000;stroke-linecap:square;\"/>\n   </g>\n   <g id=\"line2d_15\"/>\n   <g id=\"line2d_16\">\n    <path clip-path=\"url(#pdf2dddbbb3)\" d=\"M 232.075 94.718006 \nL 253 94.718006 \nL 253 63.632375 \nL 232.075 63.632375 \nL 232.075 94.718006 \n\" style=\"fill:none;stroke:#000000;stroke-linecap:square;\"/>\n   </g>\n   <g id=\"line2d_17\">\n    <path clip-path=\"url(#pdf2dddbbb3)\" d=\"M 242.5375 94.718006 \nL 242.5375 141.346452 \n\" style=\"fill:none;stroke:#000000;stroke-linecap:square;\"/>\n   </g>\n   <g id=\"line2d_18\">\n    <path clip-path=\"url(#pdf2dddbbb3)\" d=\"M 242.5375 63.632375 \nL 242.5375 24.177537 \n\" style=\"fill:none;stroke:#000000;stroke-linecap:square;\"/>\n   </g>\n   <g id=\"line2d_19\">\n    <path clip-path=\"url(#pdf2dddbbb3)\" d=\"M 237.30625 141.346452 \nL 247.76875 141.346452 \n\" style=\"fill:none;stroke:#000000;stroke-linecap:square;\"/>\n   </g>\n   <g id=\"line2d_20\">\n    <path clip-path=\"url(#pdf2dddbbb3)\" d=\"M 237.30625 24.177537 \nL 247.76875 24.177537 \n\" style=\"fill:none;stroke:#000000;stroke-linecap:square;\"/>\n   </g>\n   <g id=\"line2d_21\">\n    <defs>\n     <path d=\"M 0 3 \nC 0.795609 3 1.55874 2.683901 2.12132 2.12132 \nC 2.683901 1.55874 3 0.795609 3 0 \nC 3 -0.795609 2.683901 -1.55874 2.12132 -2.12132 \nC 1.55874 -2.683901 0.795609 -3 0 -3 \nC -0.795609 -3 -1.55874 -2.683901 -2.12132 -2.12132 \nC -2.683901 -1.55874 -3 -0.795609 -3 0 \nC -3 0.795609 -2.683901 1.55874 -2.12132 2.12132 \nC -1.55874 2.683901 -0.795609 3 0 3 \nz\n\" id=\"m6b10973876\" style=\"stroke:#000000;\"/>\n    </defs>\n    <g clip-path=\"url(#pdf2dddbbb3)\">\n     <use style=\"fill-opacity:0;stroke:#000000;\" x=\"242.5375\" xlink:href=\"#m6b10973876\" y=\"14.612727\"/>\n    </g>\n   </g>\n   <g id=\"line2d_22\">\n    <path clip-path=\"url(#pdf2dddbbb3)\" d=\"M 92.575 91.131202 \nL 113.5 91.131202 \n\" style=\"fill:none;stroke:#ff7f0e;stroke-linecap:square;\"/>\n   </g>\n   <g id=\"line2d_23\">\n    <path clip-path=\"url(#pdf2dddbbb3)\" d=\"M 232.075 76.783988 \nL 253 76.783988 \n\" style=\"fill:none;stroke:#ff7f0e;stroke-linecap:square;\"/>\n   </g>\n   <g id=\"patch_3\">\n    <path d=\"M 33.2875 170.28 \nL 33.2875 7.2 \n\" style=\"fill:none;stroke:#000000;stroke-linecap:square;stroke-linejoin:miter;stroke-width:0.8;\"/>\n   </g>\n   <g id=\"patch_4\">\n    <path d=\"M 312.2875 170.28 \nL 312.2875 7.2 \n\" style=\"fill:none;stroke:#000000;stroke-linecap:square;stroke-linejoin:miter;stroke-width:0.8;\"/>\n   </g>\n   <g id=\"patch_5\">\n    <path d=\"M 33.2875 170.28 \nL 312.2875 170.28 \n\" style=\"fill:none;stroke:#000000;stroke-linecap:square;stroke-linejoin:miter;stroke-width:0.8;\"/>\n   </g>\n   <g id=\"patch_6\">\n    <path d=\"M 33.2875 7.2 \nL 312.2875 7.2 \n\" style=\"fill:none;stroke:#000000;stroke-linecap:square;stroke-linejoin:miter;stroke-width:0.8;\"/>\n   </g>\n  </g>\n </g>\n <defs>\n  <clipPath id=\"pdf2dddbbb3\">\n   <rect height=\"163.08\" width=\"279\" x=\"33.2875\" y=\"7.2\"/>\n  </clipPath>\n </defs>\n</svg>\n"
          },
          "metadata": {
            "tags": [],
            "needs_background": "light"
          }
        }
      ]
    },
    {
      "cell_type": "markdown",
      "metadata": {
        "id": "bP6eevPlU4Q8"
      },
      "source": [
        "**EXERCISES**\n",
        "1. Write a function to generate fake data which looks like the test score data (just the test scores and mother high school idicator) and perform the regression. You will want to use the python function `np.random.choice` to generate the mother's high school eduation. \n",
        "2. Now, pretend that, in addition to whether the mother attended high school, we also know whether the mother attended college. "
      ]
    },
    {
      "cell_type": "code",
      "metadata": {
        "id": "jkGHSvc-U3lx"
      },
      "source": [
        ""
      ],
      "execution_count": 36,
      "outputs": []
    }
  ]
}