{
  "nbformat": 4,
  "nbformat_minor": 0,
  "metadata": {
    "colab": {
      "name": "hello_linear_regression.ipynb",
      "provenance": [],
      "collapsed_sections": [],
      "toc_visible": true,
      "authorship_tag": "ABX9TyOUJ0fbIaXz9R7SD33tJ/cX",
      "include_colab_link": true
    },
    "kernelspec": {
      "display_name": "Python 3",
      "name": "python3"
    },
    "language_info": {
      "name": "python"
    }
  },
  "cells": [
    {
      "cell_type": "markdown",
      "metadata": {
        "id": "view-in-github",
        "colab_type": "text"
      },
      "source": [
        "<a href=\"https://colab.research.google.com/github/elevien/math50/blob/main/hello_linear_regression.ipynb\" target=\"_parent\"><img src=\"https://colab.research.google.com/assets/colab-badge.svg\" alt=\"Open In Colab\"/></a>"
      ]
    },
    {
      "cell_type": "code",
      "metadata": {
        "id": "t_DNSvwMROSj"
      },
      "source": [
        "import numpy as np\n",
        "import statsmodels.api as sm\n",
        "import matplotlib.pyplot as plt\n",
        "import pandas as pd # for working with data\n",
        "%config InlineBackend.figure_format = \"svg\""
      ],
      "execution_count": null,
      "outputs": []
    },
    {
      "cell_type": "markdown",
      "metadata": {
        "id": "sN3ikicNbAw_"
      },
      "source": [
        "# Introduction\n",
        "\n",
        "\n",
        "\n",
        "**Reading**\n",
        "\n",
        "Gleman, Hill and Vehtari - Chap. 1-5 (review as needed)\n",
        "Gleman, Hill and Vehtari - Chap. 6, 7 and 8\n",
        "\n",
        " <!-- <a href = \"https://www.bostonglobe.com/2020/06/11/opinion/statistical-paradox-police-killings/\"> The statistical paradox of police killings </a> -->\n",
        "\n",
        "**Due date**\n",
        "\n",
        " TBD\n",
        "\n",
        "\n",
        "\n",
        "In In this notebook, we will learn how to implement a simple **linear regression**.  The basic idea of a linear regression (or really any regression model) is that we make some observation ${\\bf y} = (y_1,y_2,\\dots,y_N)^T$ of a **response variable** corresponding to another set of observation ${\\bf x} = (x_1,\\dots,x_N)^T$ of **predictor variables**. What we are interested in is the relaltionship between $x$ and $y$. The goal is often, but not always, to make predictions about the value of $y$ corresponding to some $x$ we did not measure.  \n",
        "\n",
        "In order to make pregress, we need to assume something about the relationship between $x$ and $y$. Whatever assumptions we make constitute our **model**. For a linear regression model with one predictor variable, we will *assume* that the relationship between $x$ and $y$ is linear. For one predictor variable, this means $y = ax+b$ where $a$ and $b$ are our slope and intercept. However, it is never the case that the relationship is *exactly* linear, thus, we add some **noise**, denoted $\\epsilon_i$, to our model to obtain:\n",
        "\\begin{equation}\n",
        "y = ax + b + \\epsilon\n",
        "\\end{equation}\n",
        "Importantly, $a$ and $b$ are the same for every $x$ and $y$ point, but $\\epsilon_i$ is different. We therefore need to decide how model this source of noise. It is common (but not always correct) to assume $\\epsilon$ are independent and normaly distributed random variables for each $x$, with mean $0$ and variance $\\sigma^2$. Sometimes we write this as \n",
        "\\begin{equation}\n",
        "\\epsilon \\sim N(0,\\sigma).\n",
        "\\end{equation} We will discuss this assumption in greater detial throughout the course. For now, think of it as saying \"for a given $x$ value the $y$ values are on average going to fall on a line $ax + b$, but with some variation around that.\n",
        "  \n",
        "NOTE: Sometimes people refer to $\\epsilon$ as an error. This can be misleading. While there may be some **measurment error** which affects our observed values, the noise may also result from non-measurment error related randomness. \n",
        "\n",
        "The process of **fitting** the model to the data yields estimates of these paramater values $\\hat{a}$, $\\hat{b}$ and $\\hat{\\sigma}^2$ (we often use the $\\hat{\\cdot}$ to denote a fitted value). Once we have these values, we can make predictions using the fitted model: \n",
        "\\begin{equation}\n",
        "y = \\hat{a}x + \\hat{b} + \\epsilon\n",
        "\\end{equation}\n",
        "for values of $x$ that our not in our observed data set. \n",
        "\n",
        "In this section, we will answer the following questions:\n",
        "* How do we estimate $\\hat{a}$, $\\hat{b}$ and \n",
        "$\\hat{\\sigma}^2$ from the data? We will mostly be doing this with a computer, but it's good to understand the theory (the equations) as well. \n",
        "* Once we fit the model, how do we quantify the uncertianty in our estimates of the paramaters? How do we quantify our uncertainty in the predictions we make from the model? \n",
        "\n",
        "\n"
      ]
    },
    {
      "cell_type": "markdown",
      "metadata": {
        "id": "VbTeMzro0fTU"
      },
      "source": [
        "# Performing a linear regression on fake data"
      ]
    },
    {
      "cell_type": "markdown",
      "metadata": {
        "id": "vOAeq5ymRrh_"
      },
      "source": [
        " Whenever I learn a new statistical technique, I often like to start with fake, or simulated data. When we use simulated data, we know the growth truth and can therefore see exactly what aspects of the data the method can and cannot help us understand. Generating fake data also forces us to make our assumptions explicit. For now, let's generate fake data which obeys the assumptions of a linear regression (what are these assumptions?)\n",
        "\n",
        "\n"
      ]
    },
    {
      "cell_type": "code",
      "metadata": {
        "id": "m0mVVxJ6SMav"
      },
      "source": [
        "# we already saw this in the first python notebook\n",
        "# but here is a fake linear regression data\n",
        "# (the reason we sort the x values is just to make plots \n",
        "# look nicer later on)\n",
        "x = np.sort(np.random.normal(0,0.2,10))\n",
        "a = 0.2  # the slope\n",
        "b = 2. # the intercept\n",
        "sigma = 0.1\n",
        "y = a*x + b + np.random.normal(0,sigma,len(x)) "
      ],
      "execution_count": null,
      "outputs": []
    },
    {
      "cell_type": "code",
      "metadata": {
        "colab": {
          "base_uri": "https://localhost:8080/",
          "height": 243
        },
        "id": "npIoHh-XSgfM",
        "outputId": "82aa7019-913d-4e0e-fa93-552027ff9447"
      },
      "source": [
        "fig,ax = plt.subplots(figsize=(5,2))\n",
        "ax.plot(x,y,\"o\",label=\"noisy measurments\")\n",
        "ax.plot(x,a*x + b,\"-\",label=\"true relation\")\n",
        "ax.set_xlabel(\"x\")\n",
        "ax.set_ylabel(\"y\")\n",
        "ax.legend()"
      ],
      "execution_count": null,
      "outputs": [
        {
          "output_type": "execute_result",
          "data": {
            "text/plain": [
              "<matplotlib.legend.Legend at 0x7f247fdf3110>"
            ]
          },
          "metadata": {
            "tags": []
          },
          "execution_count": 5
        },
        {
          "output_type": "display_data",
          "data": {
            "text/plain": [
              "<Figure size 360x144 with 1 Axes>"
            ],
            "image/svg+xml": "<?xml version=\"1.0\" encoding=\"utf-8\" standalone=\"no\"?>\n<!DOCTYPE svg PUBLIC \"-//W3C//DTD SVG 1.1//EN\"\n  \"http://www.w3.org/Graphics/SVG/1.1/DTD/svg11.dtd\">\n<!-- Created with matplotlib (https://matplotlib.org/) -->\n<svg height=\"153.47625pt\" version=\"1.1\" viewBox=\"0 0 329.98125 153.47625\" width=\"329.98125pt\" xmlns=\"http://www.w3.org/2000/svg\" xmlns:xlink=\"http://www.w3.org/1999/xlink\">\n <defs>\n  <style type=\"text/css\">\n*{stroke-linecap:butt;stroke-linejoin:round;}\n  </style>\n </defs>\n <g id=\"figure_1\">\n  <g id=\"patch_1\">\n   <path d=\"M 0 153.47625 \nL 329.98125 153.47625 \nL 329.98125 0 \nL 0 0 \nz\n\" style=\"fill:none;\"/>\n  </g>\n  <g id=\"axes_1\">\n   <g id=\"patch_2\">\n    <path d=\"M 43.78125 115.92 \nL 322.78125 115.92 \nL 322.78125 7.2 \nL 43.78125 7.2 \nz\n\" style=\"fill:#ffffff;\"/>\n   </g>\n   <g id=\"matplotlib.axis_1\">\n    <g id=\"xtick_1\">\n     <g id=\"line2d_1\">\n      <defs>\n       <path d=\"M 0 0 \nL 0 3.5 \n\" id=\"m0a2221a07e\" style=\"stroke:#000000;stroke-width:0.8;\"/>\n      </defs>\n      <g>\n       <use style=\"stroke:#000000;stroke-width:0.8;\" x=\"70.568103\" xlink:href=\"#m0a2221a07e\" y=\"115.92\"/>\n      </g>\n     </g>\n     <g id=\"text_1\">\n      <!-- −0.3 -->\n      <defs>\n       <path d=\"M 10.59375 35.5 \nL 73.1875 35.5 \nL 73.1875 27.203125 \nL 10.59375 27.203125 \nz\n\" id=\"DejaVuSans-8722\"/>\n       <path d=\"M 31.78125 66.40625 \nQ 24.171875 66.40625 20.328125 58.90625 \nQ 16.5 51.421875 16.5 36.375 \nQ 16.5 21.390625 20.328125 13.890625 \nQ 24.171875 6.390625 31.78125 6.390625 \nQ 39.453125 6.390625 43.28125 13.890625 \nQ 47.125 21.390625 47.125 36.375 \nQ 47.125 51.421875 43.28125 58.90625 \nQ 39.453125 66.40625 31.78125 66.40625 \nz\nM 31.78125 74.21875 \nQ 44.046875 74.21875 50.515625 64.515625 \nQ 56.984375 54.828125 56.984375 36.375 \nQ 56.984375 17.96875 50.515625 8.265625 \nQ 44.046875 -1.421875 31.78125 -1.421875 \nQ 19.53125 -1.421875 13.0625 8.265625 \nQ 6.59375 17.96875 6.59375 36.375 \nQ 6.59375 54.828125 13.0625 64.515625 \nQ 19.53125 74.21875 31.78125 74.21875 \nz\n\" id=\"DejaVuSans-48\"/>\n       <path d=\"M 10.6875 12.40625 \nL 21 12.40625 \nL 21 0 \nL 10.6875 0 \nz\n\" id=\"DejaVuSans-46\"/>\n       <path d=\"M 40.578125 39.3125 \nQ 47.65625 37.796875 51.625 33 \nQ 55.609375 28.21875 55.609375 21.1875 \nQ 55.609375 10.40625 48.1875 4.484375 \nQ 40.765625 -1.421875 27.09375 -1.421875 \nQ 22.515625 -1.421875 17.65625 -0.515625 \nQ 12.796875 0.390625 7.625 2.203125 \nL 7.625 11.71875 \nQ 11.71875 9.328125 16.59375 8.109375 \nQ 21.484375 6.890625 26.8125 6.890625 \nQ 36.078125 6.890625 40.9375 10.546875 \nQ 45.796875 14.203125 45.796875 21.1875 \nQ 45.796875 27.640625 41.28125 31.265625 \nQ 36.765625 34.90625 28.71875 34.90625 \nL 20.21875 34.90625 \nL 20.21875 43.015625 \nL 29.109375 43.015625 \nQ 36.375 43.015625 40.234375 45.921875 \nQ 44.09375 48.828125 44.09375 54.296875 \nQ 44.09375 59.90625 40.109375 62.90625 \nQ 36.140625 65.921875 28.71875 65.921875 \nQ 24.65625 65.921875 20.015625 65.03125 \nQ 15.375 64.15625 9.8125 62.3125 \nL 9.8125 71.09375 \nQ 15.4375 72.65625 20.34375 73.4375 \nQ 25.25 74.21875 29.59375 74.21875 \nQ 40.828125 74.21875 47.359375 69.109375 \nQ 53.90625 64.015625 53.90625 55.328125 \nQ 53.90625 49.265625 50.4375 45.09375 \nQ 46.96875 40.921875 40.578125 39.3125 \nz\n\" id=\"DejaVuSans-51\"/>\n      </defs>\n      <g transform=\"translate(58.426697 130.518438)scale(0.1 -0.1)\">\n       <use xlink:href=\"#DejaVuSans-8722\"/>\n       <use x=\"83.789062\" xlink:href=\"#DejaVuSans-48\"/>\n       <use x=\"147.412109\" xlink:href=\"#DejaVuSans-46\"/>\n       <use x=\"179.199219\" xlink:href=\"#DejaVuSans-51\"/>\n      </g>\n     </g>\n    </g>\n    <g id=\"xtick_2\">\n     <g id=\"line2d_2\">\n      <g>\n       <use style=\"stroke:#000000;stroke-width:0.8;\" x=\"118.492646\" xlink:href=\"#m0a2221a07e\" y=\"115.92\"/>\n      </g>\n     </g>\n     <g id=\"text_2\">\n      <!-- −0.2 -->\n      <defs>\n       <path d=\"M 19.1875 8.296875 \nL 53.609375 8.296875 \nL 53.609375 0 \nL 7.328125 0 \nL 7.328125 8.296875 \nQ 12.9375 14.109375 22.625 23.890625 \nQ 32.328125 33.6875 34.8125 36.53125 \nQ 39.546875 41.84375 41.421875 45.53125 \nQ 43.3125 49.21875 43.3125 52.78125 \nQ 43.3125 58.59375 39.234375 62.25 \nQ 35.15625 65.921875 28.609375 65.921875 \nQ 23.96875 65.921875 18.8125 64.3125 \nQ 13.671875 62.703125 7.8125 59.421875 \nL 7.8125 69.390625 \nQ 13.765625 71.78125 18.9375 73 \nQ 24.125 74.21875 28.421875 74.21875 \nQ 39.75 74.21875 46.484375 68.546875 \nQ 53.21875 62.890625 53.21875 53.421875 \nQ 53.21875 48.921875 51.53125 44.890625 \nQ 49.859375 40.875 45.40625 35.40625 \nQ 44.1875 33.984375 37.640625 27.21875 \nQ 31.109375 20.453125 19.1875 8.296875 \nz\n\" id=\"DejaVuSans-50\"/>\n      </defs>\n      <g transform=\"translate(106.35124 130.518438)scale(0.1 -0.1)\">\n       <use xlink:href=\"#DejaVuSans-8722\"/>\n       <use x=\"83.789062\" xlink:href=\"#DejaVuSans-48\"/>\n       <use x=\"147.412109\" xlink:href=\"#DejaVuSans-46\"/>\n       <use x=\"179.199219\" xlink:href=\"#DejaVuSans-50\"/>\n      </g>\n     </g>\n    </g>\n    <g id=\"xtick_3\">\n     <g id=\"line2d_3\">\n      <g>\n       <use style=\"stroke:#000000;stroke-width:0.8;\" x=\"166.41719\" xlink:href=\"#m0a2221a07e\" y=\"115.92\"/>\n      </g>\n     </g>\n     <g id=\"text_3\">\n      <!-- −0.1 -->\n      <defs>\n       <path d=\"M 12.40625 8.296875 \nL 28.515625 8.296875 \nL 28.515625 63.921875 \nL 10.984375 60.40625 \nL 10.984375 69.390625 \nL 28.421875 72.90625 \nL 38.28125 72.90625 \nL 38.28125 8.296875 \nL 54.390625 8.296875 \nL 54.390625 0 \nL 12.40625 0 \nz\n\" id=\"DejaVuSans-49\"/>\n      </defs>\n      <g transform=\"translate(154.275783 130.518438)scale(0.1 -0.1)\">\n       <use xlink:href=\"#DejaVuSans-8722\"/>\n       <use x=\"83.789062\" xlink:href=\"#DejaVuSans-48\"/>\n       <use x=\"147.412109\" xlink:href=\"#DejaVuSans-46\"/>\n       <use x=\"179.199219\" xlink:href=\"#DejaVuSans-49\"/>\n      </g>\n     </g>\n    </g>\n    <g id=\"xtick_4\">\n     <g id=\"line2d_4\">\n      <g>\n       <use style=\"stroke:#000000;stroke-width:0.8;\" x=\"214.341733\" xlink:href=\"#m0a2221a07e\" y=\"115.92\"/>\n      </g>\n     </g>\n     <g id=\"text_4\">\n      <!-- 0.0 -->\n      <g transform=\"translate(206.39017 130.518438)scale(0.1 -0.1)\">\n       <use xlink:href=\"#DejaVuSans-48\"/>\n       <use x=\"63.623047\" xlink:href=\"#DejaVuSans-46\"/>\n       <use x=\"95.410156\" xlink:href=\"#DejaVuSans-48\"/>\n      </g>\n     </g>\n    </g>\n    <g id=\"xtick_5\">\n     <g id=\"line2d_5\">\n      <g>\n       <use style=\"stroke:#000000;stroke-width:0.8;\" x=\"262.266276\" xlink:href=\"#m0a2221a07e\" y=\"115.92\"/>\n      </g>\n     </g>\n     <g id=\"text_5\">\n      <!-- 0.1 -->\n      <g transform=\"translate(254.314713 130.518438)scale(0.1 -0.1)\">\n       <use xlink:href=\"#DejaVuSans-48\"/>\n       <use x=\"63.623047\" xlink:href=\"#DejaVuSans-46\"/>\n       <use x=\"95.410156\" xlink:href=\"#DejaVuSans-49\"/>\n      </g>\n     </g>\n    </g>\n    <g id=\"xtick_6\">\n     <g id=\"line2d_6\">\n      <g>\n       <use style=\"stroke:#000000;stroke-width:0.8;\" x=\"310.190819\" xlink:href=\"#m0a2221a07e\" y=\"115.92\"/>\n      </g>\n     </g>\n     <g id=\"text_6\">\n      <!-- 0.2 -->\n      <g transform=\"translate(302.239256 130.518438)scale(0.1 -0.1)\">\n       <use xlink:href=\"#DejaVuSans-48\"/>\n       <use x=\"63.623047\" xlink:href=\"#DejaVuSans-46\"/>\n       <use x=\"95.410156\" xlink:href=\"#DejaVuSans-50\"/>\n      </g>\n     </g>\n    </g>\n    <g id=\"text_7\">\n     <!-- x -->\n     <defs>\n      <path d=\"M 54.890625 54.6875 \nL 35.109375 28.078125 \nL 55.90625 0 \nL 45.3125 0 \nL 29.390625 21.484375 \nL 13.484375 0 \nL 2.875 0 \nL 24.125 28.609375 \nL 4.6875 54.6875 \nL 15.28125 54.6875 \nL 29.78125 35.203125 \nL 44.28125 54.6875 \nz\n\" id=\"DejaVuSans-120\"/>\n     </defs>\n     <g transform=\"translate(180.321875 144.196562)scale(0.1 -0.1)\">\n      <use xlink:href=\"#DejaVuSans-120\"/>\n     </g>\n    </g>\n   </g>\n   <g id=\"matplotlib.axis_2\">\n    <g id=\"ytick_1\">\n     <g id=\"line2d_7\">\n      <defs>\n       <path d=\"M 0 0 \nL -3.5 0 \n\" id=\"m85fb126654\" style=\"stroke:#000000;stroke-width:0.8;\"/>\n      </defs>\n      <g>\n       <use style=\"stroke:#000000;stroke-width:0.8;\" x=\"43.78125\" xlink:href=\"#m85fb126654\" y=\"102.997536\"/>\n      </g>\n     </g>\n     <g id=\"text_8\">\n      <!-- 1.9 -->\n      <defs>\n       <path d=\"M 10.984375 1.515625 \nL 10.984375 10.5 \nQ 14.703125 8.734375 18.5 7.8125 \nQ 22.3125 6.890625 25.984375 6.890625 \nQ 35.75 6.890625 40.890625 13.453125 \nQ 46.046875 20.015625 46.78125 33.40625 \nQ 43.953125 29.203125 39.59375 26.953125 \nQ 35.25 24.703125 29.984375 24.703125 \nQ 19.046875 24.703125 12.671875 31.3125 \nQ 6.296875 37.9375 6.296875 49.421875 \nQ 6.296875 60.640625 12.9375 67.421875 \nQ 19.578125 74.21875 30.609375 74.21875 \nQ 43.265625 74.21875 49.921875 64.515625 \nQ 56.59375 54.828125 56.59375 36.375 \nQ 56.59375 19.140625 48.40625 8.859375 \nQ 40.234375 -1.421875 26.421875 -1.421875 \nQ 22.703125 -1.421875 18.890625 -0.6875 \nQ 15.09375 0.046875 10.984375 1.515625 \nz\nM 30.609375 32.421875 \nQ 37.25 32.421875 41.125 36.953125 \nQ 45.015625 41.5 45.015625 49.421875 \nQ 45.015625 57.28125 41.125 61.84375 \nQ 37.25 66.40625 30.609375 66.40625 \nQ 23.96875 66.40625 20.09375 61.84375 \nQ 16.21875 57.28125 16.21875 49.421875 \nQ 16.21875 41.5 20.09375 36.953125 \nQ 23.96875 32.421875 30.609375 32.421875 \nz\n\" id=\"DejaVuSans-57\"/>\n      </defs>\n      <g transform=\"translate(20.878125 106.796755)scale(0.1 -0.1)\">\n       <use xlink:href=\"#DejaVuSans-49\"/>\n       <use x=\"63.623047\" xlink:href=\"#DejaVuSans-46\"/>\n       <use x=\"95.410156\" xlink:href=\"#DejaVuSans-57\"/>\n      </g>\n     </g>\n    </g>\n    <g id=\"ytick_2\">\n     <g id=\"line2d_8\">\n      <g>\n       <use style=\"stroke:#000000;stroke-width:0.8;\" x=\"43.78125\" xlink:href=\"#m85fb126654\" y=\"73.017862\"/>\n      </g>\n     </g>\n     <g id=\"text_9\">\n      <!-- 2.0 -->\n      <g transform=\"translate(20.878125 76.81708)scale(0.1 -0.1)\">\n       <use xlink:href=\"#DejaVuSans-50\"/>\n       <use x=\"63.623047\" xlink:href=\"#DejaVuSans-46\"/>\n       <use x=\"95.410156\" xlink:href=\"#DejaVuSans-48\"/>\n      </g>\n     </g>\n    </g>\n    <g id=\"ytick_3\">\n     <g id=\"line2d_9\">\n      <g>\n       <use style=\"stroke:#000000;stroke-width:0.8;\" x=\"43.78125\" xlink:href=\"#m85fb126654\" y=\"43.038187\"/>\n      </g>\n     </g>\n     <g id=\"text_10\">\n      <!-- 2.1 -->\n      <g transform=\"translate(20.878125 46.837406)scale(0.1 -0.1)\">\n       <use xlink:href=\"#DejaVuSans-50\"/>\n       <use x=\"63.623047\" xlink:href=\"#DejaVuSans-46\"/>\n       <use x=\"95.410156\" xlink:href=\"#DejaVuSans-49\"/>\n      </g>\n     </g>\n    </g>\n    <g id=\"ytick_4\">\n     <g id=\"line2d_10\">\n      <g>\n       <use style=\"stroke:#000000;stroke-width:0.8;\" x=\"43.78125\" xlink:href=\"#m85fb126654\" y=\"13.058513\"/>\n      </g>\n     </g>\n     <g id=\"text_11\">\n      <!-- 2.2 -->\n      <g transform=\"translate(20.878125 16.857732)scale(0.1 -0.1)\">\n       <use xlink:href=\"#DejaVuSans-50\"/>\n       <use x=\"63.623047\" xlink:href=\"#DejaVuSans-46\"/>\n       <use x=\"95.410156\" xlink:href=\"#DejaVuSans-50\"/>\n      </g>\n     </g>\n    </g>\n    <g id=\"text_12\">\n     <!-- y -->\n     <defs>\n      <path d=\"M 32.171875 -5.078125 \nQ 28.375 -14.84375 24.75 -17.8125 \nQ 21.140625 -20.796875 15.09375 -20.796875 \nL 7.90625 -20.796875 \nL 7.90625 -13.28125 \nL 13.1875 -13.28125 \nQ 16.890625 -13.28125 18.9375 -11.515625 \nQ 21 -9.765625 23.484375 -3.21875 \nL 25.09375 0.875 \nL 2.984375 54.6875 \nL 12.5 54.6875 \nL 29.59375 11.921875 \nL 46.6875 54.6875 \nL 56.203125 54.6875 \nz\n\" id=\"DejaVuSans-121\"/>\n     </defs>\n     <g transform=\"translate(14.798438 64.519375)rotate(-90)scale(0.1 -0.1)\">\n      <use xlink:href=\"#DejaVuSans-121\"/>\n     </g>\n    </g>\n   </g>\n   <g id=\"line2d_11\">\n    <defs>\n     <path d=\"M 0 3 \nC 0.795609 3 1.55874 2.683901 2.12132 2.12132 \nC 2.683901 1.55874 3 0.795609 3 0 \nC 3 -0.795609 2.683901 -1.55874 2.12132 -2.12132 \nC 1.55874 -2.683901 0.795609 -3 0 -3 \nC -0.795609 -3 -1.55874 -2.683901 -2.12132 -2.12132 \nC -2.683901 -1.55874 -3 -0.795609 -3 0 \nC -3 0.795609 -2.683901 1.55874 -2.12132 2.12132 \nC -1.55874 2.683901 -0.795609 3 0 3 \nz\n\" id=\"m895dd3698f\" style=\"stroke:#1f77b4;\"/>\n    </defs>\n    <g clip-path=\"url(#p0b653e8dec)\">\n     <use style=\"fill:#1f77b4;stroke:#1f77b4;\" x=\"56.463068\" xlink:href=\"#m895dd3698f\" y=\"54.436436\"/>\n     <use style=\"fill:#1f77b4;stroke:#1f77b4;\" x=\"79.172329\" xlink:href=\"#m895dd3698f\" y=\"18.724888\"/>\n     <use style=\"fill:#1f77b4;stroke:#1f77b4;\" x=\"96.441103\" xlink:href=\"#m895dd3698f\" y=\"110.978182\"/>\n     <use style=\"fill:#1f77b4;stroke:#1f77b4;\" x=\"120.451628\" xlink:href=\"#m895dd3698f\" y=\"41.994995\"/>\n     <use style=\"fill:#1f77b4;stroke:#1f77b4;\" x=\"140.470458\" xlink:href=\"#m895dd3698f\" y=\"71.115374\"/>\n     <use style=\"fill:#1f77b4;stroke:#1f77b4;\" x=\"210.911751\" xlink:href=\"#m895dd3698f\" y=\"41.44243\"/>\n     <use style=\"fill:#1f77b4;stroke:#1f77b4;\" x=\"249.822056\" xlink:href=\"#m895dd3698f\" y=\"12.141818\"/>\n     <use style=\"fill:#1f77b4;stroke:#1f77b4;\" x=\"252.43896\" xlink:href=\"#m895dd3698f\" y=\"67.42404\"/>\n     <use style=\"fill:#1f77b4;stroke:#1f77b4;\" x=\"263.26938\" xlink:href=\"#m895dd3698f\" y=\"57.416421\"/>\n     <use style=\"fill:#1f77b4;stroke:#1f77b4;\" x=\"310.099432\" xlink:href=\"#m895dd3698f\" y=\"34.158949\"/>\n    </g>\n   </g>\n   <g id=\"line2d_12\">\n    <path clip-path=\"url(#p0b653e8dec)\" d=\"M 56.463068 92.770375 \nL 79.172329 89.929174 \nL 96.441103 87.768644 \nL 120.451628 84.764639 \nL 140.470458 82.260044 \nL 210.911751 73.446993 \nL 249.822056 68.578848 \nL 252.43896 68.251442 \nL 263.26938 66.896426 \nL 310.099432 61.037426 \n\" style=\"fill:none;stroke:#ff7f0e;stroke-linecap:square;stroke-width:1.5;\"/>\n   </g>\n   <g id=\"patch_3\">\n    <path d=\"M 43.78125 115.92 \nL 43.78125 7.2 \n\" style=\"fill:none;stroke:#000000;stroke-linecap:square;stroke-linejoin:miter;stroke-width:0.8;\"/>\n   </g>\n   <g id=\"patch_4\">\n    <path d=\"M 322.78125 115.92 \nL 322.78125 7.2 \n\" style=\"fill:none;stroke:#000000;stroke-linecap:square;stroke-linejoin:miter;stroke-width:0.8;\"/>\n   </g>\n   <g id=\"patch_5\">\n    <path d=\"M 43.78125 115.92 \nL 322.78125 115.92 \n\" style=\"fill:none;stroke:#000000;stroke-linecap:square;stroke-linejoin:miter;stroke-width:0.8;\"/>\n   </g>\n   <g id=\"patch_6\">\n    <path d=\"M 43.78125 7.2 \nL 322.78125 7.2 \n\" style=\"fill:none;stroke:#000000;stroke-linecap:square;stroke-linejoin:miter;stroke-width:0.8;\"/>\n   </g>\n   <g id=\"legend_1\">\n    <g id=\"patch_7\">\n     <path d=\"M 185.375 110.92 \nL 315.78125 110.92 \nQ 317.78125 110.92 317.78125 108.92 \nL 317.78125 80.56375 \nQ 317.78125 78.56375 315.78125 78.56375 \nL 185.375 78.56375 \nQ 183.375 78.56375 183.375 80.56375 \nL 183.375 108.92 \nQ 183.375 110.92 185.375 110.92 \nz\n\" style=\"fill:#ffffff;opacity:0.8;stroke:#cccccc;stroke-linejoin:miter;\"/>\n    </g>\n    <g id=\"line2d_13\"/>\n    <g id=\"line2d_14\">\n     <g>\n      <use style=\"fill:#1f77b4;stroke:#1f77b4;\" x=\"197.375\" xlink:href=\"#m895dd3698f\" y=\"86.662187\"/>\n     </g>\n    </g>\n    <g id=\"text_13\">\n     <!-- noisy measurments -->\n     <defs>\n      <path d=\"M 54.890625 33.015625 \nL 54.890625 0 \nL 45.90625 0 \nL 45.90625 32.71875 \nQ 45.90625 40.484375 42.875 44.328125 \nQ 39.84375 48.1875 33.796875 48.1875 \nQ 26.515625 48.1875 22.3125 43.546875 \nQ 18.109375 38.921875 18.109375 30.90625 \nL 18.109375 0 \nL 9.078125 0 \nL 9.078125 54.6875 \nL 18.109375 54.6875 \nL 18.109375 46.1875 \nQ 21.34375 51.125 25.703125 53.5625 \nQ 30.078125 56 35.796875 56 \nQ 45.21875 56 50.046875 50.171875 \nQ 54.890625 44.34375 54.890625 33.015625 \nz\n\" id=\"DejaVuSans-110\"/>\n      <path d=\"M 30.609375 48.390625 \nQ 23.390625 48.390625 19.1875 42.75 \nQ 14.984375 37.109375 14.984375 27.296875 \nQ 14.984375 17.484375 19.15625 11.84375 \nQ 23.34375 6.203125 30.609375 6.203125 \nQ 37.796875 6.203125 41.984375 11.859375 \nQ 46.1875 17.53125 46.1875 27.296875 \nQ 46.1875 37.015625 41.984375 42.703125 \nQ 37.796875 48.390625 30.609375 48.390625 \nz\nM 30.609375 56 \nQ 42.328125 56 49.015625 48.375 \nQ 55.71875 40.765625 55.71875 27.296875 \nQ 55.71875 13.875 49.015625 6.21875 \nQ 42.328125 -1.421875 30.609375 -1.421875 \nQ 18.84375 -1.421875 12.171875 6.21875 \nQ 5.515625 13.875 5.515625 27.296875 \nQ 5.515625 40.765625 12.171875 48.375 \nQ 18.84375 56 30.609375 56 \nz\n\" id=\"DejaVuSans-111\"/>\n      <path d=\"M 9.421875 54.6875 \nL 18.40625 54.6875 \nL 18.40625 0 \nL 9.421875 0 \nz\nM 9.421875 75.984375 \nL 18.40625 75.984375 \nL 18.40625 64.59375 \nL 9.421875 64.59375 \nz\n\" id=\"DejaVuSans-105\"/>\n      <path d=\"M 44.28125 53.078125 \nL 44.28125 44.578125 \nQ 40.484375 46.53125 36.375 47.5 \nQ 32.28125 48.484375 27.875 48.484375 \nQ 21.1875 48.484375 17.84375 46.4375 \nQ 14.5 44.390625 14.5 40.28125 \nQ 14.5 37.15625 16.890625 35.375 \nQ 19.28125 33.59375 26.515625 31.984375 \nL 29.59375 31.296875 \nQ 39.15625 29.25 43.1875 25.515625 \nQ 47.21875 21.78125 47.21875 15.09375 \nQ 47.21875 7.46875 41.1875 3.015625 \nQ 35.15625 -1.421875 24.609375 -1.421875 \nQ 20.21875 -1.421875 15.453125 -0.5625 \nQ 10.6875 0.296875 5.421875 2 \nL 5.421875 11.28125 \nQ 10.40625 8.6875 15.234375 7.390625 \nQ 20.0625 6.109375 24.8125 6.109375 \nQ 31.15625 6.109375 34.5625 8.28125 \nQ 37.984375 10.453125 37.984375 14.40625 \nQ 37.984375 18.0625 35.515625 20.015625 \nQ 33.0625 21.96875 24.703125 23.78125 \nL 21.578125 24.515625 \nQ 13.234375 26.265625 9.515625 29.90625 \nQ 5.8125 33.546875 5.8125 39.890625 \nQ 5.8125 47.609375 11.28125 51.796875 \nQ 16.75 56 26.8125 56 \nQ 31.78125 56 36.171875 55.265625 \nQ 40.578125 54.546875 44.28125 53.078125 \nz\n\" id=\"DejaVuSans-115\"/>\n      <path id=\"DejaVuSans-32\"/>\n      <path d=\"M 52 44.1875 \nQ 55.375 50.25 60.0625 53.125 \nQ 64.75 56 71.09375 56 \nQ 79.640625 56 84.28125 50.015625 \nQ 88.921875 44.046875 88.921875 33.015625 \nL 88.921875 0 \nL 79.890625 0 \nL 79.890625 32.71875 \nQ 79.890625 40.578125 77.09375 44.375 \nQ 74.3125 48.1875 68.609375 48.1875 \nQ 61.625 48.1875 57.5625 43.546875 \nQ 53.515625 38.921875 53.515625 30.90625 \nL 53.515625 0 \nL 44.484375 0 \nL 44.484375 32.71875 \nQ 44.484375 40.625 41.703125 44.40625 \nQ 38.921875 48.1875 33.109375 48.1875 \nQ 26.21875 48.1875 22.15625 43.53125 \nQ 18.109375 38.875 18.109375 30.90625 \nL 18.109375 0 \nL 9.078125 0 \nL 9.078125 54.6875 \nL 18.109375 54.6875 \nL 18.109375 46.1875 \nQ 21.1875 51.21875 25.484375 53.609375 \nQ 29.78125 56 35.6875 56 \nQ 41.65625 56 45.828125 52.96875 \nQ 50 49.953125 52 44.1875 \nz\n\" id=\"DejaVuSans-109\"/>\n      <path d=\"M 56.203125 29.59375 \nL 56.203125 25.203125 \nL 14.890625 25.203125 \nQ 15.484375 15.921875 20.484375 11.0625 \nQ 25.484375 6.203125 34.421875 6.203125 \nQ 39.59375 6.203125 44.453125 7.46875 \nQ 49.3125 8.734375 54.109375 11.28125 \nL 54.109375 2.78125 \nQ 49.265625 0.734375 44.1875 -0.34375 \nQ 39.109375 -1.421875 33.890625 -1.421875 \nQ 20.796875 -1.421875 13.15625 6.1875 \nQ 5.515625 13.8125 5.515625 26.8125 \nQ 5.515625 40.234375 12.765625 48.109375 \nQ 20.015625 56 32.328125 56 \nQ 43.359375 56 49.78125 48.890625 \nQ 56.203125 41.796875 56.203125 29.59375 \nz\nM 47.21875 32.234375 \nQ 47.125 39.59375 43.09375 43.984375 \nQ 39.0625 48.390625 32.421875 48.390625 \nQ 24.90625 48.390625 20.390625 44.140625 \nQ 15.875 39.890625 15.1875 32.171875 \nz\n\" id=\"DejaVuSans-101\"/>\n      <path d=\"M 34.28125 27.484375 \nQ 23.390625 27.484375 19.1875 25 \nQ 14.984375 22.515625 14.984375 16.5 \nQ 14.984375 11.71875 18.140625 8.90625 \nQ 21.296875 6.109375 26.703125 6.109375 \nQ 34.1875 6.109375 38.703125 11.40625 \nQ 43.21875 16.703125 43.21875 25.484375 \nL 43.21875 27.484375 \nz\nM 52.203125 31.203125 \nL 52.203125 0 \nL 43.21875 0 \nL 43.21875 8.296875 \nQ 40.140625 3.328125 35.546875 0.953125 \nQ 30.953125 -1.421875 24.3125 -1.421875 \nQ 15.921875 -1.421875 10.953125 3.296875 \nQ 6 8.015625 6 15.921875 \nQ 6 25.140625 12.171875 29.828125 \nQ 18.359375 34.515625 30.609375 34.515625 \nL 43.21875 34.515625 \nL 43.21875 35.40625 \nQ 43.21875 41.609375 39.140625 45 \nQ 35.0625 48.390625 27.6875 48.390625 \nQ 23 48.390625 18.546875 47.265625 \nQ 14.109375 46.140625 10.015625 43.890625 \nL 10.015625 52.203125 \nQ 14.9375 54.109375 19.578125 55.046875 \nQ 24.21875 56 28.609375 56 \nQ 40.484375 56 46.34375 49.84375 \nQ 52.203125 43.703125 52.203125 31.203125 \nz\n\" id=\"DejaVuSans-97\"/>\n      <path d=\"M 8.5 21.578125 \nL 8.5 54.6875 \nL 17.484375 54.6875 \nL 17.484375 21.921875 \nQ 17.484375 14.15625 20.5 10.265625 \nQ 23.53125 6.390625 29.59375 6.390625 \nQ 36.859375 6.390625 41.078125 11.03125 \nQ 45.3125 15.671875 45.3125 23.6875 \nL 45.3125 54.6875 \nL 54.296875 54.6875 \nL 54.296875 0 \nL 45.3125 0 \nL 45.3125 8.40625 \nQ 42.046875 3.421875 37.71875 1 \nQ 33.40625 -1.421875 27.6875 -1.421875 \nQ 18.265625 -1.421875 13.375 4.4375 \nQ 8.5 10.296875 8.5 21.578125 \nz\nM 31.109375 56 \nz\n\" id=\"DejaVuSans-117\"/>\n      <path d=\"M 41.109375 46.296875 \nQ 39.59375 47.171875 37.8125 47.578125 \nQ 36.03125 48 33.890625 48 \nQ 26.265625 48 22.1875 43.046875 \nQ 18.109375 38.09375 18.109375 28.8125 \nL 18.109375 0 \nL 9.078125 0 \nL 9.078125 54.6875 \nL 18.109375 54.6875 \nL 18.109375 46.1875 \nQ 20.953125 51.171875 25.484375 53.578125 \nQ 30.03125 56 36.53125 56 \nQ 37.453125 56 38.578125 55.875 \nQ 39.703125 55.765625 41.0625 55.515625 \nz\n\" id=\"DejaVuSans-114\"/>\n      <path d=\"M 18.3125 70.21875 \nL 18.3125 54.6875 \nL 36.8125 54.6875 \nL 36.8125 47.703125 \nL 18.3125 47.703125 \nL 18.3125 18.015625 \nQ 18.3125 11.328125 20.140625 9.421875 \nQ 21.96875 7.515625 27.59375 7.515625 \nL 36.8125 7.515625 \nL 36.8125 0 \nL 27.59375 0 \nQ 17.1875 0 13.234375 3.875 \nQ 9.28125 7.765625 9.28125 18.015625 \nL 9.28125 47.703125 \nL 2.6875 47.703125 \nL 2.6875 54.6875 \nL 9.28125 54.6875 \nL 9.28125 70.21875 \nz\n\" id=\"DejaVuSans-116\"/>\n     </defs>\n     <g transform=\"translate(215.375 90.162187)scale(0.1 -0.1)\">\n      <use xlink:href=\"#DejaVuSans-110\"/>\n      <use x=\"63.378906\" xlink:href=\"#DejaVuSans-111\"/>\n      <use x=\"124.560547\" xlink:href=\"#DejaVuSans-105\"/>\n      <use x=\"152.34375\" xlink:href=\"#DejaVuSans-115\"/>\n      <use x=\"204.443359\" xlink:href=\"#DejaVuSans-121\"/>\n      <use x=\"263.623047\" xlink:href=\"#DejaVuSans-32\"/>\n      <use x=\"295.410156\" xlink:href=\"#DejaVuSans-109\"/>\n      <use x=\"392.822266\" xlink:href=\"#DejaVuSans-101\"/>\n      <use x=\"454.345703\" xlink:href=\"#DejaVuSans-97\"/>\n      <use x=\"515.625\" xlink:href=\"#DejaVuSans-115\"/>\n      <use x=\"567.724609\" xlink:href=\"#DejaVuSans-117\"/>\n      <use x=\"631.103516\" xlink:href=\"#DejaVuSans-114\"/>\n      <use x=\"670.466797\" xlink:href=\"#DejaVuSans-109\"/>\n      <use x=\"767.878906\" xlink:href=\"#DejaVuSans-101\"/>\n      <use x=\"829.402344\" xlink:href=\"#DejaVuSans-110\"/>\n      <use x=\"892.78125\" xlink:href=\"#DejaVuSans-116\"/>\n      <use x=\"931.990234\" xlink:href=\"#DejaVuSans-115\"/>\n     </g>\n    </g>\n    <g id=\"line2d_15\">\n     <path d=\"M 187.375 101.340312 \nL 207.375 101.340312 \n\" style=\"fill:none;stroke:#ff7f0e;stroke-linecap:square;stroke-width:1.5;\"/>\n    </g>\n    <g id=\"line2d_16\"/>\n    <g id=\"text_14\">\n     <!-- true relation -->\n     <defs>\n      <path d=\"M 9.421875 75.984375 \nL 18.40625 75.984375 \nL 18.40625 0 \nL 9.421875 0 \nz\n\" id=\"DejaVuSans-108\"/>\n     </defs>\n     <g transform=\"translate(215.375 104.840312)scale(0.1 -0.1)\">\n      <use xlink:href=\"#DejaVuSans-116\"/>\n      <use x=\"39.208984\" xlink:href=\"#DejaVuSans-114\"/>\n      <use x=\"80.322266\" xlink:href=\"#DejaVuSans-117\"/>\n      <use x=\"143.701172\" xlink:href=\"#DejaVuSans-101\"/>\n      <use x=\"205.224609\" xlink:href=\"#DejaVuSans-32\"/>\n      <use x=\"237.011719\" xlink:href=\"#DejaVuSans-114\"/>\n      <use x=\"275.875\" xlink:href=\"#DejaVuSans-101\"/>\n      <use x=\"337.398438\" xlink:href=\"#DejaVuSans-108\"/>\n      <use x=\"365.181641\" xlink:href=\"#DejaVuSans-97\"/>\n      <use x=\"426.460938\" xlink:href=\"#DejaVuSans-116\"/>\n      <use x=\"465.669922\" xlink:href=\"#DejaVuSans-105\"/>\n      <use x=\"493.453125\" xlink:href=\"#DejaVuSans-111\"/>\n      <use x=\"554.634766\" xlink:href=\"#DejaVuSans-110\"/>\n     </g>\n    </g>\n   </g>\n  </g>\n </g>\n <defs>\n  <clipPath id=\"p0b653e8dec\">\n   <rect height=\"108.72\" width=\"279\" x=\"43.78125\" y=\"7.2\"/>\n  </clipPath>\n </defs>\n</svg>\n"
          },
          "metadata": {
            "tags": [],
            "needs_background": "light"
          }
        }
      ]
    },
    {
      "cell_type": "code",
      "metadata": {
        "colab": {
          "base_uri": "https://localhost:8080/"
        },
        "id": "Xd5noqy4TfFu",
        "outputId": "2c5bbb2b-b85a-48a0-e3b3-46313992494b"
      },
      "source": [
        "# we will use the statsmodels package imported above to fit the linear regression \n",
        "# the command is sm.OLS(y, X), you can check out the help by typing help(sm.OLS)\n",
        "# and you'll see there is a lot going on, the import thing is the parameters.\n",
        " \n",
        "# We need to give OLS y, the observed or response variable, and x, the input variable. \n",
        "# but it likes the input to be in a matrix form where each row contains the numbers \n",
        "# that appear in front of the coefficents a,b\n",
        "X = sm.add_constant(x)\n",
        "X"
      ],
      "execution_count": null,
      "outputs": [
        {
          "output_type": "execute_result",
          "data": {
            "text/plain": [
              "array([[ 1.        , -0.32943176],\n",
              "       [ 1.        , -0.28204631],\n",
              "       [ 1.        , -0.24601305],\n",
              "       [ 1.        , -0.19591236],\n",
              "       [ 1.        , -0.1541408 ],\n",
              "       [ 1.        , -0.00715705],\n",
              "       [ 1.        ,  0.07403372],\n",
              "       [ 1.        ,  0.07949419],\n",
              "       [ 1.        ,  0.10209309],\n",
              "       [ 1.        ,  0.19980931]])"
            ]
          },
          "metadata": {
            "tags": []
          },
          "execution_count": 6
        }
      ]
    },
    {
      "cell_type": "code",
      "metadata": {
        "id": "aAVTTrsuUYRR"
      },
      "source": [
        " # this first command creates the \"model\" object, which is all the information \n",
        " # about the data and the statistical model (linear regression)\n",
        " # (compare this to r code in the textbook)\n",
        " model= sm.OLS(y,X) \n",
        " # and this commend actually does the computations which give the results\n",
        "results = model.fit()"
      ],
      "execution_count": null,
      "outputs": []
    },
    {
      "cell_type": "markdown",
      "metadata": {
        "id": "EA5dCtTMWN4t"
      },
      "source": [
        "NOTE: The function `OLS` uses maximum likelihood as described in Chapter 8 of the textbook. This is constrast to the Bayesian methods used in Chapter's 6 and 8. We will learn how to approach this problem from a Bayesian perspective later on, but for now, note that the results are slightly different. "
      ]
    },
    {
      "cell_type": "code",
      "metadata": {
        "colab": {
          "base_uri": "https://localhost:8080/"
        },
        "id": "sQvxkK4GUnwZ",
        "outputId": "83948ce3-0531-484b-df27-64eebb1b4227"
      },
      "source": [
        "print(results.summary())"
      ],
      "execution_count": null,
      "outputs": [
        {
          "output_type": "stream",
          "text": [
            "                            OLS Regression Results                            \n",
            "==============================================================================\n",
            "Dep. Variable:                      y   R-squared:                       0.066\n",
            "Model:                            OLS   Adj. R-squared:                 -0.051\n",
            "Method:                 Least Squares   F-statistic:                    0.5647\n",
            "Date:                Thu, 12 Aug 2021   Prob (F-statistic):              0.474\n",
            "Time:                        12:24:43   Log-Likelihood:                 10.195\n",
            "No. Observations:                  10   AIC:                            -16.39\n",
            "Df Residuals:                       8   BIC:                            -15.79\n",
            "Df Model:                           1                                         \n",
            "Covariance Type:            nonrobust                                         \n",
            "==============================================================================\n",
            "                 coef    std err          t      P>|t|      [0.025      0.975]\n",
            "------------------------------------------------------------------------------\n",
            "const          2.0834      0.034     62.068      0.000       2.006       2.161\n",
            "x1             0.1306      0.174      0.751      0.474      -0.270       0.531\n",
            "==============================================================================\n",
            "Omnibus:                        0.615   Durbin-Watson:                   2.942\n",
            "Prob(Omnibus):                  0.735   Jarque-Bera (JB):                0.281\n",
            "Skew:                          -0.367   Prob(JB):                        0.869\n",
            "Kurtosis:                       2.629   Cond. No.                         5.67\n",
            "==============================================================================\n",
            "\n",
            "Warnings:\n",
            "[1] Standard Errors assume that the covariance matrix of the errors is correctly specified.\n"
          ],
          "name": "stdout"
        },
        {
          "output_type": "stream",
          "text": [
            "/usr/local/lib/python3.7/dist-packages/scipy/stats/stats.py:1535: UserWarning: kurtosistest only valid for n>=20 ... continuing anyway, n=10\n",
            "  \"anyway, n=%i\" % int(n))\n"
          ],
          "name": "stderr"
        }
      ]
    },
    {
      "cell_type": "markdown",
      "metadata": {
        "id": "YF2yJ8gwK0s4"
      },
      "source": [
        "There is lot going on here, but the first thing to nose is the parameters ``cont`` (the intercept $b$) and ``x1`` (the slope $a$). The column ``std err`` displays the standard deviation of the estimates. These represent **confidence intervals** and roughly speaking, it means $90$% chance the  expect the \"true\" value to be with in $\\pm$ $2\\times$ ``std err`` of the esetimates coefficents. (Are the values in this interval for your regression coefficents?) \n",
        "\n",
        "We can get $a$ and $b$ using the params attribute of results:"
      ]
    },
    {
      "cell_type": "code",
      "metadata": {
        "colab": {
          "base_uri": "https://localhost:8080/",
          "height": 243
        },
        "id": "OcVEXqw6WL1H",
        "outputId": "2f9e42c0-5d94-4d9a-8519-768d185c88f7"
      },
      "source": [
        "b_fit,a_fit = results.params\n",
        "# now let's plot it and compare to the data\n",
        "fig,ax = plt.subplots(figsize=(5,2))\n",
        "ax.plot(x,y,\"o\",label=\"data\")\n",
        "ax.plot(x,a*x + b,\"-\",label=\"true relation\")\n",
        "ax.plot(x,a_fit*x + b_fit,\"--\",label=\"fit\")\n",
        "ax.set_xlabel(\"x\")\n",
        "ax.set_ylabel(\"y\")\n",
        "ax.legend()"
      ],
      "execution_count": null,
      "outputs": [
        {
          "output_type": "execute_result",
          "data": {
            "text/plain": [
              "<matplotlib.legend.Legend at 0x7f246c185cd0>"
            ]
          },
          "metadata": {
            "tags": []
          },
          "execution_count": 9
        },
        {
          "output_type": "display_data",
          "data": {
            "text/plain": [
              "<Figure size 360x144 with 1 Axes>"
            ],
            "image/svg+xml": "<?xml version=\"1.0\" encoding=\"utf-8\" standalone=\"no\"?>\n<!DOCTYPE svg PUBLIC \"-//W3C//DTD SVG 1.1//EN\"\n  \"http://www.w3.org/Graphics/SVG/1.1/DTD/svg11.dtd\">\n<!-- Created with matplotlib (https://matplotlib.org/) -->\n<svg height=\"153.47625pt\" version=\"1.1\" viewBox=\"0 0 329.98125 153.47625\" width=\"329.98125pt\" xmlns=\"http://www.w3.org/2000/svg\" xmlns:xlink=\"http://www.w3.org/1999/xlink\">\n <defs>\n  <style type=\"text/css\">\n*{stroke-linecap:butt;stroke-linejoin:round;}\n  </style>\n </defs>\n <g id=\"figure_1\">\n  <g id=\"patch_1\">\n   <path d=\"M 0 153.47625 \nL 329.98125 153.47625 \nL 329.98125 0 \nL 0 0 \nz\n\" style=\"fill:none;\"/>\n  </g>\n  <g id=\"axes_1\">\n   <g id=\"patch_2\">\n    <path d=\"M 43.78125 115.92 \nL 322.78125 115.92 \nL 322.78125 7.2 \nL 43.78125 7.2 \nz\n\" style=\"fill:#ffffff;\"/>\n   </g>\n   <g id=\"matplotlib.axis_1\">\n    <g id=\"xtick_1\">\n     <g id=\"line2d_1\">\n      <defs>\n       <path d=\"M 0 0 \nL 0 3.5 \n\" id=\"m0eeb31f410\" style=\"stroke:#000000;stroke-width:0.8;\"/>\n      </defs>\n      <g>\n       <use style=\"stroke:#000000;stroke-width:0.8;\" x=\"70.568103\" xlink:href=\"#m0eeb31f410\" y=\"115.92\"/>\n      </g>\n     </g>\n     <g id=\"text_1\">\n      <!-- −0.3 -->\n      <defs>\n       <path d=\"M 10.59375 35.5 \nL 73.1875 35.5 \nL 73.1875 27.203125 \nL 10.59375 27.203125 \nz\n\" id=\"DejaVuSans-8722\"/>\n       <path d=\"M 31.78125 66.40625 \nQ 24.171875 66.40625 20.328125 58.90625 \nQ 16.5 51.421875 16.5 36.375 \nQ 16.5 21.390625 20.328125 13.890625 \nQ 24.171875 6.390625 31.78125 6.390625 \nQ 39.453125 6.390625 43.28125 13.890625 \nQ 47.125 21.390625 47.125 36.375 \nQ 47.125 51.421875 43.28125 58.90625 \nQ 39.453125 66.40625 31.78125 66.40625 \nz\nM 31.78125 74.21875 \nQ 44.046875 74.21875 50.515625 64.515625 \nQ 56.984375 54.828125 56.984375 36.375 \nQ 56.984375 17.96875 50.515625 8.265625 \nQ 44.046875 -1.421875 31.78125 -1.421875 \nQ 19.53125 -1.421875 13.0625 8.265625 \nQ 6.59375 17.96875 6.59375 36.375 \nQ 6.59375 54.828125 13.0625 64.515625 \nQ 19.53125 74.21875 31.78125 74.21875 \nz\n\" id=\"DejaVuSans-48\"/>\n       <path d=\"M 10.6875 12.40625 \nL 21 12.40625 \nL 21 0 \nL 10.6875 0 \nz\n\" id=\"DejaVuSans-46\"/>\n       <path d=\"M 40.578125 39.3125 \nQ 47.65625 37.796875 51.625 33 \nQ 55.609375 28.21875 55.609375 21.1875 \nQ 55.609375 10.40625 48.1875 4.484375 \nQ 40.765625 -1.421875 27.09375 -1.421875 \nQ 22.515625 -1.421875 17.65625 -0.515625 \nQ 12.796875 0.390625 7.625 2.203125 \nL 7.625 11.71875 \nQ 11.71875 9.328125 16.59375 8.109375 \nQ 21.484375 6.890625 26.8125 6.890625 \nQ 36.078125 6.890625 40.9375 10.546875 \nQ 45.796875 14.203125 45.796875 21.1875 \nQ 45.796875 27.640625 41.28125 31.265625 \nQ 36.765625 34.90625 28.71875 34.90625 \nL 20.21875 34.90625 \nL 20.21875 43.015625 \nL 29.109375 43.015625 \nQ 36.375 43.015625 40.234375 45.921875 \nQ 44.09375 48.828125 44.09375 54.296875 \nQ 44.09375 59.90625 40.109375 62.90625 \nQ 36.140625 65.921875 28.71875 65.921875 \nQ 24.65625 65.921875 20.015625 65.03125 \nQ 15.375 64.15625 9.8125 62.3125 \nL 9.8125 71.09375 \nQ 15.4375 72.65625 20.34375 73.4375 \nQ 25.25 74.21875 29.59375 74.21875 \nQ 40.828125 74.21875 47.359375 69.109375 \nQ 53.90625 64.015625 53.90625 55.328125 \nQ 53.90625 49.265625 50.4375 45.09375 \nQ 46.96875 40.921875 40.578125 39.3125 \nz\n\" id=\"DejaVuSans-51\"/>\n      </defs>\n      <g transform=\"translate(58.426697 130.518438)scale(0.1 -0.1)\">\n       <use xlink:href=\"#DejaVuSans-8722\"/>\n       <use x=\"83.789062\" xlink:href=\"#DejaVuSans-48\"/>\n       <use x=\"147.412109\" xlink:href=\"#DejaVuSans-46\"/>\n       <use x=\"179.199219\" xlink:href=\"#DejaVuSans-51\"/>\n      </g>\n     </g>\n    </g>\n    <g id=\"xtick_2\">\n     <g id=\"line2d_2\">\n      <g>\n       <use style=\"stroke:#000000;stroke-width:0.8;\" x=\"118.492646\" xlink:href=\"#m0eeb31f410\" y=\"115.92\"/>\n      </g>\n     </g>\n     <g id=\"text_2\">\n      <!-- −0.2 -->\n      <defs>\n       <path d=\"M 19.1875 8.296875 \nL 53.609375 8.296875 \nL 53.609375 0 \nL 7.328125 0 \nL 7.328125 8.296875 \nQ 12.9375 14.109375 22.625 23.890625 \nQ 32.328125 33.6875 34.8125 36.53125 \nQ 39.546875 41.84375 41.421875 45.53125 \nQ 43.3125 49.21875 43.3125 52.78125 \nQ 43.3125 58.59375 39.234375 62.25 \nQ 35.15625 65.921875 28.609375 65.921875 \nQ 23.96875 65.921875 18.8125 64.3125 \nQ 13.671875 62.703125 7.8125 59.421875 \nL 7.8125 69.390625 \nQ 13.765625 71.78125 18.9375 73 \nQ 24.125 74.21875 28.421875 74.21875 \nQ 39.75 74.21875 46.484375 68.546875 \nQ 53.21875 62.890625 53.21875 53.421875 \nQ 53.21875 48.921875 51.53125 44.890625 \nQ 49.859375 40.875 45.40625 35.40625 \nQ 44.1875 33.984375 37.640625 27.21875 \nQ 31.109375 20.453125 19.1875 8.296875 \nz\n\" id=\"DejaVuSans-50\"/>\n      </defs>\n      <g transform=\"translate(106.35124 130.518438)scale(0.1 -0.1)\">\n       <use xlink:href=\"#DejaVuSans-8722\"/>\n       <use x=\"83.789062\" xlink:href=\"#DejaVuSans-48\"/>\n       <use x=\"147.412109\" xlink:href=\"#DejaVuSans-46\"/>\n       <use x=\"179.199219\" xlink:href=\"#DejaVuSans-50\"/>\n      </g>\n     </g>\n    </g>\n    <g id=\"xtick_3\">\n     <g id=\"line2d_3\">\n      <g>\n       <use style=\"stroke:#000000;stroke-width:0.8;\" x=\"166.41719\" xlink:href=\"#m0eeb31f410\" y=\"115.92\"/>\n      </g>\n     </g>\n     <g id=\"text_3\">\n      <!-- −0.1 -->\n      <defs>\n       <path d=\"M 12.40625 8.296875 \nL 28.515625 8.296875 \nL 28.515625 63.921875 \nL 10.984375 60.40625 \nL 10.984375 69.390625 \nL 28.421875 72.90625 \nL 38.28125 72.90625 \nL 38.28125 8.296875 \nL 54.390625 8.296875 \nL 54.390625 0 \nL 12.40625 0 \nz\n\" id=\"DejaVuSans-49\"/>\n      </defs>\n      <g transform=\"translate(154.275783 130.518438)scale(0.1 -0.1)\">\n       <use xlink:href=\"#DejaVuSans-8722\"/>\n       <use x=\"83.789062\" xlink:href=\"#DejaVuSans-48\"/>\n       <use x=\"147.412109\" xlink:href=\"#DejaVuSans-46\"/>\n       <use x=\"179.199219\" xlink:href=\"#DejaVuSans-49\"/>\n      </g>\n     </g>\n    </g>\n    <g id=\"xtick_4\">\n     <g id=\"line2d_4\">\n      <g>\n       <use style=\"stroke:#000000;stroke-width:0.8;\" x=\"214.341733\" xlink:href=\"#m0eeb31f410\" y=\"115.92\"/>\n      </g>\n     </g>\n     <g id=\"text_4\">\n      <!-- 0.0 -->\n      <g transform=\"translate(206.39017 130.518438)scale(0.1 -0.1)\">\n       <use xlink:href=\"#DejaVuSans-48\"/>\n       <use x=\"63.623047\" xlink:href=\"#DejaVuSans-46\"/>\n       <use x=\"95.410156\" xlink:href=\"#DejaVuSans-48\"/>\n      </g>\n     </g>\n    </g>\n    <g id=\"xtick_5\">\n     <g id=\"line2d_5\">\n      <g>\n       <use style=\"stroke:#000000;stroke-width:0.8;\" x=\"262.266276\" xlink:href=\"#m0eeb31f410\" y=\"115.92\"/>\n      </g>\n     </g>\n     <g id=\"text_5\">\n      <!-- 0.1 -->\n      <g transform=\"translate(254.314713 130.518438)scale(0.1 -0.1)\">\n       <use xlink:href=\"#DejaVuSans-48\"/>\n       <use x=\"63.623047\" xlink:href=\"#DejaVuSans-46\"/>\n       <use x=\"95.410156\" xlink:href=\"#DejaVuSans-49\"/>\n      </g>\n     </g>\n    </g>\n    <g id=\"xtick_6\">\n     <g id=\"line2d_6\">\n      <g>\n       <use style=\"stroke:#000000;stroke-width:0.8;\" x=\"310.190819\" xlink:href=\"#m0eeb31f410\" y=\"115.92\"/>\n      </g>\n     </g>\n     <g id=\"text_6\">\n      <!-- 0.2 -->\n      <g transform=\"translate(302.239256 130.518438)scale(0.1 -0.1)\">\n       <use xlink:href=\"#DejaVuSans-48\"/>\n       <use x=\"63.623047\" xlink:href=\"#DejaVuSans-46\"/>\n       <use x=\"95.410156\" xlink:href=\"#DejaVuSans-50\"/>\n      </g>\n     </g>\n    </g>\n    <g id=\"text_7\">\n     <!-- x -->\n     <defs>\n      <path d=\"M 54.890625 54.6875 \nL 35.109375 28.078125 \nL 55.90625 0 \nL 45.3125 0 \nL 29.390625 21.484375 \nL 13.484375 0 \nL 2.875 0 \nL 24.125 28.609375 \nL 4.6875 54.6875 \nL 15.28125 54.6875 \nL 29.78125 35.203125 \nL 44.28125 54.6875 \nz\n\" id=\"DejaVuSans-120\"/>\n     </defs>\n     <g transform=\"translate(180.321875 144.196562)scale(0.1 -0.1)\">\n      <use xlink:href=\"#DejaVuSans-120\"/>\n     </g>\n    </g>\n   </g>\n   <g id=\"matplotlib.axis_2\">\n    <g id=\"ytick_1\">\n     <g id=\"line2d_7\">\n      <defs>\n       <path d=\"M 0 0 \nL -3.5 0 \n\" id=\"m94fbf3cff1\" style=\"stroke:#000000;stroke-width:0.8;\"/>\n      </defs>\n      <g>\n       <use style=\"stroke:#000000;stroke-width:0.8;\" x=\"43.78125\" xlink:href=\"#m94fbf3cff1\" y=\"102.997536\"/>\n      </g>\n     </g>\n     <g id=\"text_8\">\n      <!-- 1.9 -->\n      <defs>\n       <path d=\"M 10.984375 1.515625 \nL 10.984375 10.5 \nQ 14.703125 8.734375 18.5 7.8125 \nQ 22.3125 6.890625 25.984375 6.890625 \nQ 35.75 6.890625 40.890625 13.453125 \nQ 46.046875 20.015625 46.78125 33.40625 \nQ 43.953125 29.203125 39.59375 26.953125 \nQ 35.25 24.703125 29.984375 24.703125 \nQ 19.046875 24.703125 12.671875 31.3125 \nQ 6.296875 37.9375 6.296875 49.421875 \nQ 6.296875 60.640625 12.9375 67.421875 \nQ 19.578125 74.21875 30.609375 74.21875 \nQ 43.265625 74.21875 49.921875 64.515625 \nQ 56.59375 54.828125 56.59375 36.375 \nQ 56.59375 19.140625 48.40625 8.859375 \nQ 40.234375 -1.421875 26.421875 -1.421875 \nQ 22.703125 -1.421875 18.890625 -0.6875 \nQ 15.09375 0.046875 10.984375 1.515625 \nz\nM 30.609375 32.421875 \nQ 37.25 32.421875 41.125 36.953125 \nQ 45.015625 41.5 45.015625 49.421875 \nQ 45.015625 57.28125 41.125 61.84375 \nQ 37.25 66.40625 30.609375 66.40625 \nQ 23.96875 66.40625 20.09375 61.84375 \nQ 16.21875 57.28125 16.21875 49.421875 \nQ 16.21875 41.5 20.09375 36.953125 \nQ 23.96875 32.421875 30.609375 32.421875 \nz\n\" id=\"DejaVuSans-57\"/>\n      </defs>\n      <g transform=\"translate(20.878125 106.796755)scale(0.1 -0.1)\">\n       <use xlink:href=\"#DejaVuSans-49\"/>\n       <use x=\"63.623047\" xlink:href=\"#DejaVuSans-46\"/>\n       <use x=\"95.410156\" xlink:href=\"#DejaVuSans-57\"/>\n      </g>\n     </g>\n    </g>\n    <g id=\"ytick_2\">\n     <g id=\"line2d_8\">\n      <g>\n       <use style=\"stroke:#000000;stroke-width:0.8;\" x=\"43.78125\" xlink:href=\"#m94fbf3cff1\" y=\"73.017862\"/>\n      </g>\n     </g>\n     <g id=\"text_9\">\n      <!-- 2.0 -->\n      <g transform=\"translate(20.878125 76.81708)scale(0.1 -0.1)\">\n       <use xlink:href=\"#DejaVuSans-50\"/>\n       <use x=\"63.623047\" xlink:href=\"#DejaVuSans-46\"/>\n       <use x=\"95.410156\" xlink:href=\"#DejaVuSans-48\"/>\n      </g>\n     </g>\n    </g>\n    <g id=\"ytick_3\">\n     <g id=\"line2d_9\">\n      <g>\n       <use style=\"stroke:#000000;stroke-width:0.8;\" x=\"43.78125\" xlink:href=\"#m94fbf3cff1\" y=\"43.038187\"/>\n      </g>\n     </g>\n     <g id=\"text_10\">\n      <!-- 2.1 -->\n      <g transform=\"translate(20.878125 46.837406)scale(0.1 -0.1)\">\n       <use xlink:href=\"#DejaVuSans-50\"/>\n       <use x=\"63.623047\" xlink:href=\"#DejaVuSans-46\"/>\n       <use x=\"95.410156\" xlink:href=\"#DejaVuSans-49\"/>\n      </g>\n     </g>\n    </g>\n    <g id=\"ytick_4\">\n     <g id=\"line2d_10\">\n      <g>\n       <use style=\"stroke:#000000;stroke-width:0.8;\" x=\"43.78125\" xlink:href=\"#m94fbf3cff1\" y=\"13.058513\"/>\n      </g>\n     </g>\n     <g id=\"text_11\">\n      <!-- 2.2 -->\n      <g transform=\"translate(20.878125 16.857732)scale(0.1 -0.1)\">\n       <use xlink:href=\"#DejaVuSans-50\"/>\n       <use x=\"63.623047\" xlink:href=\"#DejaVuSans-46\"/>\n       <use x=\"95.410156\" xlink:href=\"#DejaVuSans-50\"/>\n      </g>\n     </g>\n    </g>\n    <g id=\"text_12\">\n     <!-- y -->\n     <defs>\n      <path d=\"M 32.171875 -5.078125 \nQ 28.375 -14.84375 24.75 -17.8125 \nQ 21.140625 -20.796875 15.09375 -20.796875 \nL 7.90625 -20.796875 \nL 7.90625 -13.28125 \nL 13.1875 -13.28125 \nQ 16.890625 -13.28125 18.9375 -11.515625 \nQ 21 -9.765625 23.484375 -3.21875 \nL 25.09375 0.875 \nL 2.984375 54.6875 \nL 12.5 54.6875 \nL 29.59375 11.921875 \nL 46.6875 54.6875 \nL 56.203125 54.6875 \nz\n\" id=\"DejaVuSans-121\"/>\n     </defs>\n     <g transform=\"translate(14.798438 64.519375)rotate(-90)scale(0.1 -0.1)\">\n      <use xlink:href=\"#DejaVuSans-121\"/>\n     </g>\n    </g>\n   </g>\n   <g id=\"line2d_11\">\n    <defs>\n     <path d=\"M 0 3 \nC 0.795609 3 1.55874 2.683901 2.12132 2.12132 \nC 2.683901 1.55874 3 0.795609 3 0 \nC 3 -0.795609 2.683901 -1.55874 2.12132 -2.12132 \nC 1.55874 -2.683901 0.795609 -3 0 -3 \nC -0.795609 -3 -1.55874 -2.683901 -2.12132 -2.12132 \nC -2.683901 -1.55874 -3 -0.795609 -3 0 \nC -3 0.795609 -2.683901 1.55874 -2.12132 2.12132 \nC -1.55874 2.683901 -0.795609 3 0 3 \nz\n\" id=\"m289d922853\" style=\"stroke:#1f77b4;\"/>\n    </defs>\n    <g clip-path=\"url(#p053828ec7c)\">\n     <use style=\"fill:#1f77b4;stroke:#1f77b4;\" x=\"56.463068\" xlink:href=\"#m289d922853\" y=\"54.436436\"/>\n     <use style=\"fill:#1f77b4;stroke:#1f77b4;\" x=\"79.172329\" xlink:href=\"#m289d922853\" y=\"18.724888\"/>\n     <use style=\"fill:#1f77b4;stroke:#1f77b4;\" x=\"96.441103\" xlink:href=\"#m289d922853\" y=\"110.978182\"/>\n     <use style=\"fill:#1f77b4;stroke:#1f77b4;\" x=\"120.451628\" xlink:href=\"#m289d922853\" y=\"41.994995\"/>\n     <use style=\"fill:#1f77b4;stroke:#1f77b4;\" x=\"140.470458\" xlink:href=\"#m289d922853\" y=\"71.115374\"/>\n     <use style=\"fill:#1f77b4;stroke:#1f77b4;\" x=\"210.911751\" xlink:href=\"#m289d922853\" y=\"41.44243\"/>\n     <use style=\"fill:#1f77b4;stroke:#1f77b4;\" x=\"249.822056\" xlink:href=\"#m289d922853\" y=\"12.141818\"/>\n     <use style=\"fill:#1f77b4;stroke:#1f77b4;\" x=\"252.43896\" xlink:href=\"#m289d922853\" y=\"67.42404\"/>\n     <use style=\"fill:#1f77b4;stroke:#1f77b4;\" x=\"263.26938\" xlink:href=\"#m289d922853\" y=\"57.416421\"/>\n     <use style=\"fill:#1f77b4;stroke:#1f77b4;\" x=\"310.099432\" xlink:href=\"#m289d922853\" y=\"34.158949\"/>\n    </g>\n   </g>\n   <g id=\"line2d_12\">\n    <path clip-path=\"url(#p053828ec7c)\" d=\"M 56.463068 92.770375 \nL 79.172329 89.929174 \nL 96.441103 87.768644 \nL 120.451628 84.764639 \nL 140.470458 82.260044 \nL 210.911751 73.446993 \nL 249.822056 68.578848 \nL 252.43896 68.251442 \nL 263.26938 66.896426 \nL 310.099432 61.037426 \n\" style=\"fill:none;stroke:#ff7f0e;stroke-linecap:square;stroke-width:1.5;\"/>\n   </g>\n   <g id=\"line2d_13\">\n    <path clip-path=\"url(#p053828ec7c)\" d=\"M 56.463068 60.910198 \nL 79.172329 59.054658 \nL 96.441103 57.643652 \nL 120.451628 55.681788 \nL 140.470458 54.046079 \nL 210.911751 48.290426 \nL 249.822056 45.111123 \nL 252.43896 44.897299 \nL 263.26938 44.012362 \nL 310.099432 40.185948 \n\" style=\"fill:none;stroke:#2ca02c;stroke-dasharray:5.55,2.4;stroke-dashoffset:0;stroke-width:1.5;\"/>\n   </g>\n   <g id=\"patch_3\">\n    <path d=\"M 43.78125 115.92 \nL 43.78125 7.2 \n\" style=\"fill:none;stroke:#000000;stroke-linecap:square;stroke-linejoin:miter;stroke-width:0.8;\"/>\n   </g>\n   <g id=\"patch_4\">\n    <path d=\"M 322.78125 115.92 \nL 322.78125 7.2 \n\" style=\"fill:none;stroke:#000000;stroke-linecap:square;stroke-linejoin:miter;stroke-width:0.8;\"/>\n   </g>\n   <g id=\"patch_5\">\n    <path d=\"M 43.78125 115.92 \nL 322.78125 115.92 \n\" style=\"fill:none;stroke:#000000;stroke-linecap:square;stroke-linejoin:miter;stroke-width:0.8;\"/>\n   </g>\n   <g id=\"patch_6\">\n    <path d=\"M 43.78125 7.2 \nL 322.78125 7.2 \n\" style=\"fill:none;stroke:#000000;stroke-linecap:square;stroke-linejoin:miter;stroke-width:0.8;\"/>\n   </g>\n   <g id=\"legend_1\">\n    <g id=\"patch_7\">\n     <path d=\"M 136.38125 110.92 \nL 230.18125 110.92 \nQ 232.18125 110.92 232.18125 108.92 \nL 232.18125 65.885625 \nQ 232.18125 63.885625 230.18125 63.885625 \nL 136.38125 63.885625 \nQ 134.38125 63.885625 134.38125 65.885625 \nL 134.38125 108.92 \nQ 134.38125 110.92 136.38125 110.92 \nz\n\" style=\"fill:#ffffff;opacity:0.8;stroke:#cccccc;stroke-linejoin:miter;\"/>\n    </g>\n    <g id=\"line2d_14\"/>\n    <g id=\"line2d_15\">\n     <g>\n      <use style=\"fill:#1f77b4;stroke:#1f77b4;\" x=\"148.38125\" xlink:href=\"#m289d922853\" y=\"71.984062\"/>\n     </g>\n    </g>\n    <g id=\"text_13\">\n     <!-- data -->\n     <defs>\n      <path d=\"M 45.40625 46.390625 \nL 45.40625 75.984375 \nL 54.390625 75.984375 \nL 54.390625 0 \nL 45.40625 0 \nL 45.40625 8.203125 \nQ 42.578125 3.328125 38.25 0.953125 \nQ 33.9375 -1.421875 27.875 -1.421875 \nQ 17.96875 -1.421875 11.734375 6.484375 \nQ 5.515625 14.40625 5.515625 27.296875 \nQ 5.515625 40.1875 11.734375 48.09375 \nQ 17.96875 56 27.875 56 \nQ 33.9375 56 38.25 53.625 \nQ 42.578125 51.265625 45.40625 46.390625 \nz\nM 14.796875 27.296875 \nQ 14.796875 17.390625 18.875 11.75 \nQ 22.953125 6.109375 30.078125 6.109375 \nQ 37.203125 6.109375 41.296875 11.75 \nQ 45.40625 17.390625 45.40625 27.296875 \nQ 45.40625 37.203125 41.296875 42.84375 \nQ 37.203125 48.484375 30.078125 48.484375 \nQ 22.953125 48.484375 18.875 42.84375 \nQ 14.796875 37.203125 14.796875 27.296875 \nz\n\" id=\"DejaVuSans-100\"/>\n      <path d=\"M 34.28125 27.484375 \nQ 23.390625 27.484375 19.1875 25 \nQ 14.984375 22.515625 14.984375 16.5 \nQ 14.984375 11.71875 18.140625 8.90625 \nQ 21.296875 6.109375 26.703125 6.109375 \nQ 34.1875 6.109375 38.703125 11.40625 \nQ 43.21875 16.703125 43.21875 25.484375 \nL 43.21875 27.484375 \nz\nM 52.203125 31.203125 \nL 52.203125 0 \nL 43.21875 0 \nL 43.21875 8.296875 \nQ 40.140625 3.328125 35.546875 0.953125 \nQ 30.953125 -1.421875 24.3125 -1.421875 \nQ 15.921875 -1.421875 10.953125 3.296875 \nQ 6 8.015625 6 15.921875 \nQ 6 25.140625 12.171875 29.828125 \nQ 18.359375 34.515625 30.609375 34.515625 \nL 43.21875 34.515625 \nL 43.21875 35.40625 \nQ 43.21875 41.609375 39.140625 45 \nQ 35.0625 48.390625 27.6875 48.390625 \nQ 23 48.390625 18.546875 47.265625 \nQ 14.109375 46.140625 10.015625 43.890625 \nL 10.015625 52.203125 \nQ 14.9375 54.109375 19.578125 55.046875 \nQ 24.21875 56 28.609375 56 \nQ 40.484375 56 46.34375 49.84375 \nQ 52.203125 43.703125 52.203125 31.203125 \nz\n\" id=\"DejaVuSans-97\"/>\n      <path d=\"M 18.3125 70.21875 \nL 18.3125 54.6875 \nL 36.8125 54.6875 \nL 36.8125 47.703125 \nL 18.3125 47.703125 \nL 18.3125 18.015625 \nQ 18.3125 11.328125 20.140625 9.421875 \nQ 21.96875 7.515625 27.59375 7.515625 \nL 36.8125 7.515625 \nL 36.8125 0 \nL 27.59375 0 \nQ 17.1875 0 13.234375 3.875 \nQ 9.28125 7.765625 9.28125 18.015625 \nL 9.28125 47.703125 \nL 2.6875 47.703125 \nL 2.6875 54.6875 \nL 9.28125 54.6875 \nL 9.28125 70.21875 \nz\n\" id=\"DejaVuSans-116\"/>\n     </defs>\n     <g transform=\"translate(166.38125 75.484062)scale(0.1 -0.1)\">\n      <use xlink:href=\"#DejaVuSans-100\"/>\n      <use x=\"63.476562\" xlink:href=\"#DejaVuSans-97\"/>\n      <use x=\"124.755859\" xlink:href=\"#DejaVuSans-116\"/>\n      <use x=\"163.964844\" xlink:href=\"#DejaVuSans-97\"/>\n     </g>\n    </g>\n    <g id=\"line2d_16\">\n     <path d=\"M 138.38125 86.662187 \nL 158.38125 86.662187 \n\" style=\"fill:none;stroke:#ff7f0e;stroke-linecap:square;stroke-width:1.5;\"/>\n    </g>\n    <g id=\"line2d_17\"/>\n    <g id=\"text_14\">\n     <!-- true relation -->\n     <defs>\n      <path d=\"M 41.109375 46.296875 \nQ 39.59375 47.171875 37.8125 47.578125 \nQ 36.03125 48 33.890625 48 \nQ 26.265625 48 22.1875 43.046875 \nQ 18.109375 38.09375 18.109375 28.8125 \nL 18.109375 0 \nL 9.078125 0 \nL 9.078125 54.6875 \nL 18.109375 54.6875 \nL 18.109375 46.1875 \nQ 20.953125 51.171875 25.484375 53.578125 \nQ 30.03125 56 36.53125 56 \nQ 37.453125 56 38.578125 55.875 \nQ 39.703125 55.765625 41.0625 55.515625 \nz\n\" id=\"DejaVuSans-114\"/>\n      <path d=\"M 8.5 21.578125 \nL 8.5 54.6875 \nL 17.484375 54.6875 \nL 17.484375 21.921875 \nQ 17.484375 14.15625 20.5 10.265625 \nQ 23.53125 6.390625 29.59375 6.390625 \nQ 36.859375 6.390625 41.078125 11.03125 \nQ 45.3125 15.671875 45.3125 23.6875 \nL 45.3125 54.6875 \nL 54.296875 54.6875 \nL 54.296875 0 \nL 45.3125 0 \nL 45.3125 8.40625 \nQ 42.046875 3.421875 37.71875 1 \nQ 33.40625 -1.421875 27.6875 -1.421875 \nQ 18.265625 -1.421875 13.375 4.4375 \nQ 8.5 10.296875 8.5 21.578125 \nz\nM 31.109375 56 \nz\n\" id=\"DejaVuSans-117\"/>\n      <path d=\"M 56.203125 29.59375 \nL 56.203125 25.203125 \nL 14.890625 25.203125 \nQ 15.484375 15.921875 20.484375 11.0625 \nQ 25.484375 6.203125 34.421875 6.203125 \nQ 39.59375 6.203125 44.453125 7.46875 \nQ 49.3125 8.734375 54.109375 11.28125 \nL 54.109375 2.78125 \nQ 49.265625 0.734375 44.1875 -0.34375 \nQ 39.109375 -1.421875 33.890625 -1.421875 \nQ 20.796875 -1.421875 13.15625 6.1875 \nQ 5.515625 13.8125 5.515625 26.8125 \nQ 5.515625 40.234375 12.765625 48.109375 \nQ 20.015625 56 32.328125 56 \nQ 43.359375 56 49.78125 48.890625 \nQ 56.203125 41.796875 56.203125 29.59375 \nz\nM 47.21875 32.234375 \nQ 47.125 39.59375 43.09375 43.984375 \nQ 39.0625 48.390625 32.421875 48.390625 \nQ 24.90625 48.390625 20.390625 44.140625 \nQ 15.875 39.890625 15.1875 32.171875 \nz\n\" id=\"DejaVuSans-101\"/>\n      <path id=\"DejaVuSans-32\"/>\n      <path d=\"M 9.421875 75.984375 \nL 18.40625 75.984375 \nL 18.40625 0 \nL 9.421875 0 \nz\n\" id=\"DejaVuSans-108\"/>\n      <path d=\"M 9.421875 54.6875 \nL 18.40625 54.6875 \nL 18.40625 0 \nL 9.421875 0 \nz\nM 9.421875 75.984375 \nL 18.40625 75.984375 \nL 18.40625 64.59375 \nL 9.421875 64.59375 \nz\n\" id=\"DejaVuSans-105\"/>\n      <path d=\"M 30.609375 48.390625 \nQ 23.390625 48.390625 19.1875 42.75 \nQ 14.984375 37.109375 14.984375 27.296875 \nQ 14.984375 17.484375 19.15625 11.84375 \nQ 23.34375 6.203125 30.609375 6.203125 \nQ 37.796875 6.203125 41.984375 11.859375 \nQ 46.1875 17.53125 46.1875 27.296875 \nQ 46.1875 37.015625 41.984375 42.703125 \nQ 37.796875 48.390625 30.609375 48.390625 \nz\nM 30.609375 56 \nQ 42.328125 56 49.015625 48.375 \nQ 55.71875 40.765625 55.71875 27.296875 \nQ 55.71875 13.875 49.015625 6.21875 \nQ 42.328125 -1.421875 30.609375 -1.421875 \nQ 18.84375 -1.421875 12.171875 6.21875 \nQ 5.515625 13.875 5.515625 27.296875 \nQ 5.515625 40.765625 12.171875 48.375 \nQ 18.84375 56 30.609375 56 \nz\n\" id=\"DejaVuSans-111\"/>\n      <path d=\"M 54.890625 33.015625 \nL 54.890625 0 \nL 45.90625 0 \nL 45.90625 32.71875 \nQ 45.90625 40.484375 42.875 44.328125 \nQ 39.84375 48.1875 33.796875 48.1875 \nQ 26.515625 48.1875 22.3125 43.546875 \nQ 18.109375 38.921875 18.109375 30.90625 \nL 18.109375 0 \nL 9.078125 0 \nL 9.078125 54.6875 \nL 18.109375 54.6875 \nL 18.109375 46.1875 \nQ 21.34375 51.125 25.703125 53.5625 \nQ 30.078125 56 35.796875 56 \nQ 45.21875 56 50.046875 50.171875 \nQ 54.890625 44.34375 54.890625 33.015625 \nz\n\" id=\"DejaVuSans-110\"/>\n     </defs>\n     <g transform=\"translate(166.38125 90.162187)scale(0.1 -0.1)\">\n      <use xlink:href=\"#DejaVuSans-116\"/>\n      <use x=\"39.208984\" xlink:href=\"#DejaVuSans-114\"/>\n      <use x=\"80.322266\" xlink:href=\"#DejaVuSans-117\"/>\n      <use x=\"143.701172\" xlink:href=\"#DejaVuSans-101\"/>\n      <use x=\"205.224609\" xlink:href=\"#DejaVuSans-32\"/>\n      <use x=\"237.011719\" xlink:href=\"#DejaVuSans-114\"/>\n      <use x=\"275.875\" xlink:href=\"#DejaVuSans-101\"/>\n      <use x=\"337.398438\" xlink:href=\"#DejaVuSans-108\"/>\n      <use x=\"365.181641\" xlink:href=\"#DejaVuSans-97\"/>\n      <use x=\"426.460938\" xlink:href=\"#DejaVuSans-116\"/>\n      <use x=\"465.669922\" xlink:href=\"#DejaVuSans-105\"/>\n      <use x=\"493.453125\" xlink:href=\"#DejaVuSans-111\"/>\n      <use x=\"554.634766\" xlink:href=\"#DejaVuSans-110\"/>\n     </g>\n    </g>\n    <g id=\"line2d_18\">\n     <path d=\"M 138.38125 101.340312 \nL 158.38125 101.340312 \n\" style=\"fill:none;stroke:#2ca02c;stroke-dasharray:5.55,2.4;stroke-dashoffset:0;stroke-width:1.5;\"/>\n    </g>\n    <g id=\"line2d_19\"/>\n    <g id=\"text_15\">\n     <!-- fit -->\n     <defs>\n      <path d=\"M 37.109375 75.984375 \nL 37.109375 68.5 \nL 28.515625 68.5 \nQ 23.6875 68.5 21.796875 66.546875 \nQ 19.921875 64.59375 19.921875 59.515625 \nL 19.921875 54.6875 \nL 34.71875 54.6875 \nL 34.71875 47.703125 \nL 19.921875 47.703125 \nL 19.921875 0 \nL 10.890625 0 \nL 10.890625 47.703125 \nL 2.296875 47.703125 \nL 2.296875 54.6875 \nL 10.890625 54.6875 \nL 10.890625 58.5 \nQ 10.890625 67.625 15.140625 71.796875 \nQ 19.390625 75.984375 28.609375 75.984375 \nz\n\" id=\"DejaVuSans-102\"/>\n     </defs>\n     <g transform=\"translate(166.38125 104.840312)scale(0.1 -0.1)\">\n      <use xlink:href=\"#DejaVuSans-102\"/>\n      <use x=\"35.205078\" xlink:href=\"#DejaVuSans-105\"/>\n      <use x=\"62.988281\" xlink:href=\"#DejaVuSans-116\"/>\n     </g>\n    </g>\n   </g>\n  </g>\n </g>\n <defs>\n  <clipPath id=\"p053828ec7c\">\n   <rect height=\"108.72\" width=\"279\" x=\"43.78125\" y=\"7.2\"/>\n  </clipPath>\n </defs>\n</svg>\n"
          },
          "metadata": {
            "tags": [],
            "needs_background": "light"
          }
        }
      ]
    },
    {
      "cell_type": "markdown",
      "metadata": {
        "id": "Mlz_jtGrW_au"
      },
      "source": [
        "What about $\\hat{\\sigma}^2$? If we want to make predictions using the model, it is often important to include the noise. We obtain this as follows:"
      ]
    },
    {
      "cell_type": "code",
      "metadata": {
        "colab": {
          "base_uri": "https://localhost:8080/",
          "height": 260
        },
        "id": "EbY4G76jZXZO",
        "outputId": "77a127d1-bf77-4871-e6e0-d0c06d21cf6b"
      },
      "source": [
        "# in the textbook they call this sigma and it is under \"Auxilliary paramater(s)\"\n",
        "sigma_fit = np.sqrt(results.mse_resid)\n",
        "\n",
        "fig,ax = plt.subplots(figsize=(5,2))\n",
        "ax.plot(x,y,\"o\",label=\"data\")\n",
        "\n",
        "# now let's predict some new data points using the fitted model\n",
        "# note this is different than \n",
        "x_pred =  np.random.normal(0,0.2,100)\n",
        "y_pred = a_fit*x_pred + b_fit + np.random.normal(0,sigma_fit,len(x_pred))\n",
        "ax.plot(x_pred,y_pred,\"o\",label=\"prediction\",fillstyle=\"none\")\n",
        "ax.set_xlabel(\"x\")\n",
        "ax.set_ylabel(\"y\")\n",
        "ax.legend()"
      ],
      "execution_count": null,
      "outputs": [
        {
          "output_type": "execute_result",
          "data": {
            "text/plain": [
              "<matplotlib.legend.Legend at 0x7f246c06e250>"
            ]
          },
          "metadata": {
            "tags": []
          },
          "execution_count": 11
        },
        {
          "output_type": "display_data",
          "data": {
            "text/plain": [
              "<Figure size 360x144 with 1 Axes>"
            ],
            "image/svg+xml": "<?xml version=\"1.0\" encoding=\"utf-8\" standalone=\"no\"?>\n<!DOCTYPE svg PUBLIC \"-//W3C//DTD SVG 1.1//EN\"\n  \"http://www.w3.org/Graphics/SVG/1.1/DTD/svg11.dtd\">\n<!-- Created with matplotlib (https://matplotlib.org/) -->\n<svg height=\"153.47625pt\" version=\"1.1\" viewBox=\"0 0 329.98125 153.47625\" width=\"329.98125pt\" xmlns=\"http://www.w3.org/2000/svg\" xmlns:xlink=\"http://www.w3.org/1999/xlink\">\n <defs>\n  <style type=\"text/css\">\n*{stroke-linecap:butt;stroke-linejoin:round;}\n  </style>\n </defs>\n <g id=\"figure_1\">\n  <g id=\"patch_1\">\n   <path d=\"M 0 153.47625 \nL 329.98125 153.47625 \nL 329.98125 0 \nL 0 0 \nz\n\" style=\"fill:none;\"/>\n  </g>\n  <g id=\"axes_1\">\n   <g id=\"patch_2\">\n    <path d=\"M 43.78125 115.92 \nL 322.78125 115.92 \nL 322.78125 7.2 \nL 43.78125 7.2 \nz\n\" style=\"fill:#ffffff;\"/>\n   </g>\n   <g id=\"matplotlib.axis_1\">\n    <g id=\"xtick_1\">\n     <g id=\"line2d_1\">\n      <defs>\n       <path d=\"M 0 0 \nL 0 3.5 \n\" id=\"m369c129c84\" style=\"stroke:#000000;stroke-width:0.8;\"/>\n      </defs>\n      <g>\n       <use style=\"stroke:#000000;stroke-width:0.8;\" x=\"57.649399\" xlink:href=\"#m369c129c84\" y=\"115.92\"/>\n      </g>\n     </g>\n     <g id=\"text_1\">\n      <!-- −0.6 -->\n      <defs>\n       <path d=\"M 10.59375 35.5 \nL 73.1875 35.5 \nL 73.1875 27.203125 \nL 10.59375 27.203125 \nz\n\" id=\"DejaVuSans-8722\"/>\n       <path d=\"M 31.78125 66.40625 \nQ 24.171875 66.40625 20.328125 58.90625 \nQ 16.5 51.421875 16.5 36.375 \nQ 16.5 21.390625 20.328125 13.890625 \nQ 24.171875 6.390625 31.78125 6.390625 \nQ 39.453125 6.390625 43.28125 13.890625 \nQ 47.125 21.390625 47.125 36.375 \nQ 47.125 51.421875 43.28125 58.90625 \nQ 39.453125 66.40625 31.78125 66.40625 \nz\nM 31.78125 74.21875 \nQ 44.046875 74.21875 50.515625 64.515625 \nQ 56.984375 54.828125 56.984375 36.375 \nQ 56.984375 17.96875 50.515625 8.265625 \nQ 44.046875 -1.421875 31.78125 -1.421875 \nQ 19.53125 -1.421875 13.0625 8.265625 \nQ 6.59375 17.96875 6.59375 36.375 \nQ 6.59375 54.828125 13.0625 64.515625 \nQ 19.53125 74.21875 31.78125 74.21875 \nz\n\" id=\"DejaVuSans-48\"/>\n       <path d=\"M 10.6875 12.40625 \nL 21 12.40625 \nL 21 0 \nL 10.6875 0 \nz\n\" id=\"DejaVuSans-46\"/>\n       <path d=\"M 33.015625 40.375 \nQ 26.375 40.375 22.484375 35.828125 \nQ 18.609375 31.296875 18.609375 23.390625 \nQ 18.609375 15.53125 22.484375 10.953125 \nQ 26.375 6.390625 33.015625 6.390625 \nQ 39.65625 6.390625 43.53125 10.953125 \nQ 47.40625 15.53125 47.40625 23.390625 \nQ 47.40625 31.296875 43.53125 35.828125 \nQ 39.65625 40.375 33.015625 40.375 \nz\nM 52.59375 71.296875 \nL 52.59375 62.3125 \nQ 48.875 64.0625 45.09375 64.984375 \nQ 41.3125 65.921875 37.59375 65.921875 \nQ 27.828125 65.921875 22.671875 59.328125 \nQ 17.53125 52.734375 16.796875 39.40625 \nQ 19.671875 43.65625 24.015625 45.921875 \nQ 28.375 48.1875 33.59375 48.1875 \nQ 44.578125 48.1875 50.953125 41.515625 \nQ 57.328125 34.859375 57.328125 23.390625 \nQ 57.328125 12.15625 50.6875 5.359375 \nQ 44.046875 -1.421875 33.015625 -1.421875 \nQ 20.359375 -1.421875 13.671875 8.265625 \nQ 6.984375 17.96875 6.984375 36.375 \nQ 6.984375 53.65625 15.1875 63.9375 \nQ 23.390625 74.21875 37.203125 74.21875 \nQ 40.921875 74.21875 44.703125 73.484375 \nQ 48.484375 72.75 52.59375 71.296875 \nz\n\" id=\"DejaVuSans-54\"/>\n      </defs>\n      <g transform=\"translate(45.507993 130.518438)scale(0.1 -0.1)\">\n       <use xlink:href=\"#DejaVuSans-8722\"/>\n       <use x=\"83.789062\" xlink:href=\"#DejaVuSans-48\"/>\n       <use x=\"147.412109\" xlink:href=\"#DejaVuSans-46\"/>\n       <use x=\"179.199219\" xlink:href=\"#DejaVuSans-54\"/>\n      </g>\n     </g>\n    </g>\n    <g id=\"xtick_2\">\n     <g id=\"line2d_2\">\n      <g>\n       <use style=\"stroke:#000000;stroke-width:0.8;\" x=\"92.156322\" xlink:href=\"#m369c129c84\" y=\"115.92\"/>\n      </g>\n     </g>\n     <g id=\"text_2\">\n      <!-- −0.4 -->\n      <defs>\n       <path d=\"M 37.796875 64.3125 \nL 12.890625 25.390625 \nL 37.796875 25.390625 \nz\nM 35.203125 72.90625 \nL 47.609375 72.90625 \nL 47.609375 25.390625 \nL 58.015625 25.390625 \nL 58.015625 17.1875 \nL 47.609375 17.1875 \nL 47.609375 0 \nL 37.796875 0 \nL 37.796875 17.1875 \nL 4.890625 17.1875 \nL 4.890625 26.703125 \nz\n\" id=\"DejaVuSans-52\"/>\n      </defs>\n      <g transform=\"translate(80.014916 130.518438)scale(0.1 -0.1)\">\n       <use xlink:href=\"#DejaVuSans-8722\"/>\n       <use x=\"83.789062\" xlink:href=\"#DejaVuSans-48\"/>\n       <use x=\"147.412109\" xlink:href=\"#DejaVuSans-46\"/>\n       <use x=\"179.199219\" xlink:href=\"#DejaVuSans-52\"/>\n      </g>\n     </g>\n    </g>\n    <g id=\"xtick_3\">\n     <g id=\"line2d_3\">\n      <g>\n       <use style=\"stroke:#000000;stroke-width:0.8;\" x=\"126.663244\" xlink:href=\"#m369c129c84\" y=\"115.92\"/>\n      </g>\n     </g>\n     <g id=\"text_3\">\n      <!-- −0.2 -->\n      <defs>\n       <path d=\"M 19.1875 8.296875 \nL 53.609375 8.296875 \nL 53.609375 0 \nL 7.328125 0 \nL 7.328125 8.296875 \nQ 12.9375 14.109375 22.625 23.890625 \nQ 32.328125 33.6875 34.8125 36.53125 \nQ 39.546875 41.84375 41.421875 45.53125 \nQ 43.3125 49.21875 43.3125 52.78125 \nQ 43.3125 58.59375 39.234375 62.25 \nQ 35.15625 65.921875 28.609375 65.921875 \nQ 23.96875 65.921875 18.8125 64.3125 \nQ 13.671875 62.703125 7.8125 59.421875 \nL 7.8125 69.390625 \nQ 13.765625 71.78125 18.9375 73 \nQ 24.125 74.21875 28.421875 74.21875 \nQ 39.75 74.21875 46.484375 68.546875 \nQ 53.21875 62.890625 53.21875 53.421875 \nQ 53.21875 48.921875 51.53125 44.890625 \nQ 49.859375 40.875 45.40625 35.40625 \nQ 44.1875 33.984375 37.640625 27.21875 \nQ 31.109375 20.453125 19.1875 8.296875 \nz\n\" id=\"DejaVuSans-50\"/>\n      </defs>\n      <g transform=\"translate(114.521838 130.518438)scale(0.1 -0.1)\">\n       <use xlink:href=\"#DejaVuSans-8722\"/>\n       <use x=\"83.789062\" xlink:href=\"#DejaVuSans-48\"/>\n       <use x=\"147.412109\" xlink:href=\"#DejaVuSans-46\"/>\n       <use x=\"179.199219\" xlink:href=\"#DejaVuSans-50\"/>\n      </g>\n     </g>\n    </g>\n    <g id=\"xtick_4\">\n     <g id=\"line2d_4\">\n      <g>\n       <use style=\"stroke:#000000;stroke-width:0.8;\" x=\"161.170167\" xlink:href=\"#m369c129c84\" y=\"115.92\"/>\n      </g>\n     </g>\n     <g id=\"text_4\">\n      <!-- 0.0 -->\n      <g transform=\"translate(153.218605 130.518438)scale(0.1 -0.1)\">\n       <use xlink:href=\"#DejaVuSans-48\"/>\n       <use x=\"63.623047\" xlink:href=\"#DejaVuSans-46\"/>\n       <use x=\"95.410156\" xlink:href=\"#DejaVuSans-48\"/>\n      </g>\n     </g>\n    </g>\n    <g id=\"xtick_5\">\n     <g id=\"line2d_5\">\n      <g>\n       <use style=\"stroke:#000000;stroke-width:0.8;\" x=\"195.67709\" xlink:href=\"#m369c129c84\" y=\"115.92\"/>\n      </g>\n     </g>\n     <g id=\"text_5\">\n      <!-- 0.2 -->\n      <g transform=\"translate(187.725527 130.518438)scale(0.1 -0.1)\">\n       <use xlink:href=\"#DejaVuSans-48\"/>\n       <use x=\"63.623047\" xlink:href=\"#DejaVuSans-46\"/>\n       <use x=\"95.410156\" xlink:href=\"#DejaVuSans-50\"/>\n      </g>\n     </g>\n    </g>\n    <g id=\"xtick_6\">\n     <g id=\"line2d_6\">\n      <g>\n       <use style=\"stroke:#000000;stroke-width:0.8;\" x=\"230.184012\" xlink:href=\"#m369c129c84\" y=\"115.92\"/>\n      </g>\n     </g>\n     <g id=\"text_6\">\n      <!-- 0.4 -->\n      <g transform=\"translate(222.23245 130.518438)scale(0.1 -0.1)\">\n       <use xlink:href=\"#DejaVuSans-48\"/>\n       <use x=\"63.623047\" xlink:href=\"#DejaVuSans-46\"/>\n       <use x=\"95.410156\" xlink:href=\"#DejaVuSans-52\"/>\n      </g>\n     </g>\n    </g>\n    <g id=\"xtick_7\">\n     <g id=\"line2d_7\">\n      <g>\n       <use style=\"stroke:#000000;stroke-width:0.8;\" x=\"264.690935\" xlink:href=\"#m369c129c84\" y=\"115.92\"/>\n      </g>\n     </g>\n     <g id=\"text_7\">\n      <!-- 0.6 -->\n      <g transform=\"translate(256.739373 130.518438)scale(0.1 -0.1)\">\n       <use xlink:href=\"#DejaVuSans-48\"/>\n       <use x=\"63.623047\" xlink:href=\"#DejaVuSans-46\"/>\n       <use x=\"95.410156\" xlink:href=\"#DejaVuSans-54\"/>\n      </g>\n     </g>\n    </g>\n    <g id=\"xtick_8\">\n     <g id=\"line2d_8\">\n      <g>\n       <use style=\"stroke:#000000;stroke-width:0.8;\" x=\"299.197858\" xlink:href=\"#m369c129c84\" y=\"115.92\"/>\n      </g>\n     </g>\n     <g id=\"text_8\">\n      <!-- 0.8 -->\n      <defs>\n       <path d=\"M 31.78125 34.625 \nQ 24.75 34.625 20.71875 30.859375 \nQ 16.703125 27.09375 16.703125 20.515625 \nQ 16.703125 13.921875 20.71875 10.15625 \nQ 24.75 6.390625 31.78125 6.390625 \nQ 38.8125 6.390625 42.859375 10.171875 \nQ 46.921875 13.96875 46.921875 20.515625 \nQ 46.921875 27.09375 42.890625 30.859375 \nQ 38.875 34.625 31.78125 34.625 \nz\nM 21.921875 38.8125 \nQ 15.578125 40.375 12.03125 44.71875 \nQ 8.5 49.078125 8.5 55.328125 \nQ 8.5 64.0625 14.71875 69.140625 \nQ 20.953125 74.21875 31.78125 74.21875 \nQ 42.671875 74.21875 48.875 69.140625 \nQ 55.078125 64.0625 55.078125 55.328125 \nQ 55.078125 49.078125 51.53125 44.71875 \nQ 48 40.375 41.703125 38.8125 \nQ 48.828125 37.15625 52.796875 32.3125 \nQ 56.78125 27.484375 56.78125 20.515625 \nQ 56.78125 9.90625 50.3125 4.234375 \nQ 43.84375 -1.421875 31.78125 -1.421875 \nQ 19.734375 -1.421875 13.25 4.234375 \nQ 6.78125 9.90625 6.78125 20.515625 \nQ 6.78125 27.484375 10.78125 32.3125 \nQ 14.796875 37.15625 21.921875 38.8125 \nz\nM 18.3125 54.390625 \nQ 18.3125 48.734375 21.84375 45.5625 \nQ 25.390625 42.390625 31.78125 42.390625 \nQ 38.140625 42.390625 41.71875 45.5625 \nQ 45.3125 48.734375 45.3125 54.390625 \nQ 45.3125 60.0625 41.71875 63.234375 \nQ 38.140625 66.40625 31.78125 66.40625 \nQ 25.390625 66.40625 21.84375 63.234375 \nQ 18.3125 60.0625 18.3125 54.390625 \nz\n\" id=\"DejaVuSans-56\"/>\n      </defs>\n      <g transform=\"translate(291.246295 130.518438)scale(0.1 -0.1)\">\n       <use xlink:href=\"#DejaVuSans-48\"/>\n       <use x=\"63.623047\" xlink:href=\"#DejaVuSans-46\"/>\n       <use x=\"95.410156\" xlink:href=\"#DejaVuSans-56\"/>\n      </g>\n     </g>\n    </g>\n    <g id=\"text_9\">\n     <!-- x -->\n     <defs>\n      <path d=\"M 54.890625 54.6875 \nL 35.109375 28.078125 \nL 55.90625 0 \nL 45.3125 0 \nL 29.390625 21.484375 \nL 13.484375 0 \nL 2.875 0 \nL 24.125 28.609375 \nL 4.6875 54.6875 \nL 15.28125 54.6875 \nL 29.78125 35.203125 \nL 44.28125 54.6875 \nz\n\" id=\"DejaVuSans-120\"/>\n     </defs>\n     <g transform=\"translate(180.321875 144.196563)scale(0.1 -0.1)\">\n      <use xlink:href=\"#DejaVuSans-120\"/>\n     </g>\n    </g>\n   </g>\n   <g id=\"matplotlib.axis_2\">\n    <g id=\"ytick_1\">\n     <g id=\"line2d_9\">\n      <defs>\n       <path d=\"M 0 0 \nL -3.5 0 \n\" id=\"m711b2b2d39\" style=\"stroke:#000000;stroke-width:0.8;\"/>\n      </defs>\n      <g>\n       <use style=\"stroke:#000000;stroke-width:0.8;\" x=\"43.78125\" xlink:href=\"#m711b2b2d39\" y=\"78.556453\"/>\n      </g>\n     </g>\n     <g id=\"text_10\">\n      <!-- 2.0 -->\n      <g transform=\"translate(20.878125 82.355671)scale(0.1 -0.1)\">\n       <use xlink:href=\"#DejaVuSans-50\"/>\n       <use x=\"63.623047\" xlink:href=\"#DejaVuSans-46\"/>\n       <use x=\"95.410156\" xlink:href=\"#DejaVuSans-48\"/>\n      </g>\n     </g>\n    </g>\n    <g id=\"ytick_2\">\n     <g id=\"line2d_10\">\n      <g>\n       <use style=\"stroke:#000000;stroke-width:0.8;\" x=\"43.78125\" xlink:href=\"#m711b2b2d39\" y=\"39.837319\"/>\n      </g>\n     </g>\n     <g id=\"text_11\">\n      <!-- 2.2 -->\n      <g transform=\"translate(20.878125 43.636538)scale(0.1 -0.1)\">\n       <use xlink:href=\"#DejaVuSans-50\"/>\n       <use x=\"63.623047\" xlink:href=\"#DejaVuSans-46\"/>\n       <use x=\"95.410156\" xlink:href=\"#DejaVuSans-50\"/>\n      </g>\n     </g>\n    </g>\n    <g id=\"text_12\">\n     <!-- y -->\n     <defs>\n      <path d=\"M 32.171875 -5.078125 \nQ 28.375 -14.84375 24.75 -17.8125 \nQ 21.140625 -20.796875 15.09375 -20.796875 \nL 7.90625 -20.796875 \nL 7.90625 -13.28125 \nL 13.1875 -13.28125 \nQ 16.890625 -13.28125 18.9375 -11.515625 \nQ 21 -9.765625 23.484375 -3.21875 \nL 25.09375 0.875 \nL 2.984375 54.6875 \nL 12.5 54.6875 \nL 29.59375 11.921875 \nL 46.6875 54.6875 \nL 56.203125 54.6875 \nz\n\" id=\"DejaVuSans-121\"/>\n     </defs>\n     <g transform=\"translate(14.798438 64.519375)rotate(-90)scale(0.1 -0.1)\">\n      <use xlink:href=\"#DejaVuSans-121\"/>\n     </g>\n    </g>\n   </g>\n   <g id=\"line2d_11\">\n    <defs>\n     <path d=\"M 0 3 \nC 0.795609 3 1.55874 2.683901 2.12132 2.12132 \nC 2.683901 1.55874 3 0.795609 3 0 \nC 3 -0.795609 2.683901 -1.55874 2.12132 -2.12132 \nC 1.55874 -2.683901 0.795609 -3 0 -3 \nC -0.795609 -3 -1.55874 -2.683901 -2.12132 -2.12132 \nC -2.683901 -1.55874 -3 -0.795609 -3 0 \nC -3 0.795609 -2.683901 1.55874 -2.12132 2.12132 \nC -1.55874 2.683901 -0.795609 3 0 3 \nz\n\" id=\"me36b63172f\" style=\"stroke:#1f77b4;\"/>\n    </defs>\n    <g clip-path=\"url(#p7f0907d0b1)\">\n     <use style=\"fill:#1f77b4;stroke:#1f77b4;\" x=\"104.331786\" xlink:href=\"#me36b63172f\" y=\"66.557378\"/>\n     <use style=\"fill:#1f77b4;stroke:#1f77b4;\" x=\"112.507417\" xlink:href=\"#me36b63172f\" y=\"43.496417\"/>\n     <use style=\"fill:#1f77b4;stroke:#1f77b4;\" x=\"118.724401\" xlink:href=\"#me36b63172f\" y=\"103.069573\"/>\n     <use style=\"fill:#1f77b4;stroke:#1f77b4;\" x=\"127.368503\" xlink:href=\"#me36b63172f\" y=\"58.523238\"/>\n     <use style=\"fill:#1f77b4;stroke:#1f77b4;\" x=\"134.575544\" xlink:href=\"#me36b63172f\" y=\"77.327909\"/>\n     <use style=\"fill:#1f77b4;stroke:#1f77b4;\" x=\"159.935329\" xlink:href=\"#me36b63172f\" y=\"58.166415\"/>\n     <use style=\"fill:#1f77b4;stroke:#1f77b4;\" x=\"173.943547\" xlink:href=\"#me36b63172f\" y=\"39.245358\"/>\n     <use style=\"fill:#1f77b4;stroke:#1f77b4;\" x=\"174.885666\" xlink:href=\"#me36b63172f\" y=\"74.944207\"/>\n     <use style=\"fill:#1f77b4;stroke:#1f77b4;\" x=\"178.784759\" xlink:href=\"#me36b63172f\" y=\"68.481723\"/>\n     <use style=\"fill:#1f77b4;stroke:#1f77b4;\" x=\"195.644189\" xlink:href=\"#me36b63172f\" y=\"53.463061\"/>\n    </g>\n   </g>\n   <g id=\"line2d_12\">\n    <defs>\n     <path d=\"M 0 3 \nC 0.795609 3 1.55874 2.683901 2.12132 2.12132 \nC 2.683901 1.55874 3 0.795609 3 0 \nC 3 -0.795609 2.683901 -1.55874 2.12132 -2.12132 \nC 1.55874 -2.683901 0.795609 -3 0 -3 \nC -0.795609 -3 -1.55874 -2.683901 -2.12132 -2.12132 \nC -2.683901 -1.55874 -3 -0.795609 -3 0 \nC -3 0.795609 -2.683901 1.55874 -2.12132 2.12132 \nC -1.55874 2.683901 -0.795609 3 0 3 \nz\n\" id=\"m9754e90b7b\" style=\"stroke:#ff7f0e;\"/>\n    </defs>\n    <g clip-path=\"url(#p7f0907d0b1)\">\n     <use style=\"fill-opacity:0;stroke:#ff7f0e;\" x=\"188.367121\" xlink:href=\"#m9754e90b7b\" y=\"40.144227\"/>\n     <use style=\"fill-opacity:0;stroke:#ff7f0e;\" x=\"140.836282\" xlink:href=\"#m9754e90b7b\" y=\"67.91341\"/>\n     <use style=\"fill-opacity:0;stroke:#ff7f0e;\" x=\"138.758261\" xlink:href=\"#m9754e90b7b\" y=\"82.600522\"/>\n     <use style=\"fill-opacity:0;stroke:#ff7f0e;\" x=\"223.057073\" xlink:href=\"#m9754e90b7b\" y=\"47.19227\"/>\n     <use style=\"fill-opacity:0;stroke:#ff7f0e;\" x=\"139.471268\" xlink:href=\"#m9754e90b7b\" y=\"68.973106\"/>\n     <use style=\"fill-opacity:0;stroke:#ff7f0e;\" x=\"237.449293\" xlink:href=\"#m9754e90b7b\" y=\"72.655483\"/>\n     <use style=\"fill-opacity:0;stroke:#ff7f0e;\" x=\"132.10046\" xlink:href=\"#m9754e90b7b\" y=\"74.165127\"/>\n     <use style=\"fill-opacity:0;stroke:#ff7f0e;\" x=\"181.244899\" xlink:href=\"#m9754e90b7b\" y=\"63.127326\"/>\n     <use style=\"fill-opacity:0;stroke:#ff7f0e;\" x=\"139.499795\" xlink:href=\"#m9754e90b7b\" y=\"74.510836\"/>\n     <use style=\"fill-opacity:0;stroke:#ff7f0e;\" x=\"126.410317\" xlink:href=\"#m9754e90b7b\" y=\"86.661003\"/>\n     <use style=\"fill-opacity:0;stroke:#ff7f0e;\" x=\"132.797781\" xlink:href=\"#m9754e90b7b\" y=\"35.820889\"/>\n     <use style=\"fill-opacity:0;stroke:#ff7f0e;\" x=\"187.814737\" xlink:href=\"#m9754e90b7b\" y=\"76.517929\"/>\n     <use style=\"fill-opacity:0;stroke:#ff7f0e;\" x=\"191.822467\" xlink:href=\"#m9754e90b7b\" y=\"61.353388\"/>\n     <use style=\"fill-opacity:0;stroke:#ff7f0e;\" x=\"125.610699\" xlink:href=\"#m9754e90b7b\" y=\"36.109616\"/>\n     <use style=\"fill-opacity:0;stroke:#ff7f0e;\" x=\"189.349492\" xlink:href=\"#m9754e90b7b\" y=\"87.976807\"/>\n     <use style=\"fill-opacity:0;stroke:#ff7f0e;\" x=\"172.306245\" xlink:href=\"#m9754e90b7b\" y=\"30.947719\"/>\n     <use style=\"fill-opacity:0;stroke:#ff7f0e;\" x=\"165.074452\" xlink:href=\"#m9754e90b7b\" y=\"95.039965\"/>\n     <use style=\"fill-opacity:0;stroke:#ff7f0e;\" x=\"216.227482\" xlink:href=\"#m9754e90b7b\" y=\"46.307811\"/>\n     <use style=\"fill-opacity:0;stroke:#ff7f0e;\" x=\"310.099432\" xlink:href=\"#m9754e90b7b\" y=\"39.021156\"/>\n     <use style=\"fill-opacity:0;stroke:#ff7f0e;\" x=\"150.942214\" xlink:href=\"#m9754e90b7b\" y=\"75.667494\"/>\n     <use style=\"fill-opacity:0;stroke:#ff7f0e;\" x=\"194.673556\" xlink:href=\"#m9754e90b7b\" y=\"38.481355\"/>\n     <use style=\"fill-opacity:0;stroke:#ff7f0e;\" x=\"148.728957\" xlink:href=\"#m9754e90b7b\" y=\"62.819981\"/>\n     <use style=\"fill-opacity:0;stroke:#ff7f0e;\" x=\"130.443344\" xlink:href=\"#m9754e90b7b\" y=\"67.596921\"/>\n     <use style=\"fill-opacity:0;stroke:#ff7f0e;\" x=\"163.094275\" xlink:href=\"#m9754e90b7b\" y=\"58.009258\"/>\n     <use style=\"fill-opacity:0;stroke:#ff7f0e;\" x=\"113.847803\" xlink:href=\"#m9754e90b7b\" y=\"46.074152\"/>\n     <use style=\"fill-opacity:0;stroke:#ff7f0e;\" x=\"149.789347\" xlink:href=\"#m9754e90b7b\" y=\"41.556322\"/>\n     <use style=\"fill-opacity:0;stroke:#ff7f0e;\" x=\"152.754185\" xlink:href=\"#m9754e90b7b\" y=\"73.420842\"/>\n     <use style=\"fill-opacity:0;stroke:#ff7f0e;\" x=\"98.785817\" xlink:href=\"#m9754e90b7b\" y=\"57.893701\"/>\n     <use style=\"fill-opacity:0;stroke:#ff7f0e;\" x=\"99.709836\" xlink:href=\"#m9754e90b7b\" y=\"66.069512\"/>\n     <use style=\"fill-opacity:0;stroke:#ff7f0e;\" x=\"128.660099\" xlink:href=\"#m9754e90b7b\" y=\"90.567051\"/>\n     <use style=\"fill-opacity:0;stroke:#ff7f0e;\" x=\"162.147568\" xlink:href=\"#m9754e90b7b\" y=\"66.992743\"/>\n     <use style=\"fill-opacity:0;stroke:#ff7f0e;\" x=\"175.240777\" xlink:href=\"#m9754e90b7b\" y=\"69.839856\"/>\n     <use style=\"fill-opacity:0;stroke:#ff7f0e;\" x=\"199.333403\" xlink:href=\"#m9754e90b7b\" y=\"38.942232\"/>\n     <use style=\"fill-opacity:0;stroke:#ff7f0e;\" x=\"145.767229\" xlink:href=\"#m9754e90b7b\" y=\"73.495217\"/>\n     <use style=\"fill-opacity:0;stroke:#ff7f0e;\" x=\"119.379631\" xlink:href=\"#m9754e90b7b\" y=\"40.685243\"/>\n     <use style=\"fill-opacity:0;stroke:#ff7f0e;\" x=\"172.944894\" xlink:href=\"#m9754e90b7b\" y=\"55.636168\"/>\n     <use style=\"fill-opacity:0;stroke:#ff7f0e;\" x=\"194.69523\" xlink:href=\"#m9754e90b7b\" y=\"54.608846\"/>\n     <use style=\"fill-opacity:0;stroke:#ff7f0e;\" x=\"188.209252\" xlink:href=\"#m9754e90b7b\" y=\"44.164154\"/>\n     <use style=\"fill-opacity:0;stroke:#ff7f0e;\" x=\"120.226686\" xlink:href=\"#m9754e90b7b\" y=\"70.677928\"/>\n     <use style=\"fill-opacity:0;stroke:#ff7f0e;\" x=\"246.814171\" xlink:href=\"#m9754e90b7b\" y=\"38.737994\"/>\n     <use style=\"fill-opacity:0;stroke:#ff7f0e;\" x=\"132.07744\" xlink:href=\"#m9754e90b7b\" y=\"43.162752\"/>\n     <use style=\"fill-opacity:0;stroke:#ff7f0e;\" x=\"214.051976\" xlink:href=\"#m9754e90b7b\" y=\"55.120621\"/>\n     <use style=\"fill-opacity:0;stroke:#ff7f0e;\" x=\"116.701054\" xlink:href=\"#m9754e90b7b\" y=\"110.978182\"/>\n     <use style=\"fill-opacity:0;stroke:#ff7f0e;\" x=\"166.242366\" xlink:href=\"#m9754e90b7b\" y=\"80.823215\"/>\n     <use style=\"fill-opacity:0;stroke:#ff7f0e;\" x=\"160.636846\" xlink:href=\"#m9754e90b7b\" y=\"86.216312\"/>\n     <use style=\"fill-opacity:0;stroke:#ff7f0e;\" x=\"140.389533\" xlink:href=\"#m9754e90b7b\" y=\"66.692861\"/>\n     <use style=\"fill-opacity:0;stroke:#ff7f0e;\" x=\"230.180883\" xlink:href=\"#m9754e90b7b\" y=\"74.091714\"/>\n     <use style=\"fill-opacity:0;stroke:#ff7f0e;\" x=\"169.226874\" xlink:href=\"#m9754e90b7b\" y=\"46.872207\"/>\n     <use style=\"fill-opacity:0;stroke:#ff7f0e;\" x=\"169.533448\" xlink:href=\"#m9754e90b7b\" y=\"80.55065\"/>\n     <use style=\"fill-opacity:0;stroke:#ff7f0e;\" x=\"216.240453\" xlink:href=\"#m9754e90b7b\" y=\"64.140676\"/>\n     <use style=\"fill-opacity:0;stroke:#ff7f0e;\" x=\"108.062979\" xlink:href=\"#m9754e90b7b\" y=\"73.940903\"/>\n     <use style=\"fill-opacity:0;stroke:#ff7f0e;\" x=\"177.509805\" xlink:href=\"#m9754e90b7b\" y=\"46.418673\"/>\n     <use style=\"fill-opacity:0;stroke:#ff7f0e;\" x=\"118.373276\" xlink:href=\"#m9754e90b7b\" y=\"85.677355\"/>\n     <use style=\"fill-opacity:0;stroke:#ff7f0e;\" x=\"160.213362\" xlink:href=\"#m9754e90b7b\" y=\"55.190997\"/>\n     <use style=\"fill-opacity:0;stroke:#ff7f0e;\" x=\"177.935257\" xlink:href=\"#m9754e90b7b\" y=\"77.245883\"/>\n     <use style=\"fill-opacity:0;stroke:#ff7f0e;\" x=\"230.390469\" xlink:href=\"#m9754e90b7b\" y=\"29.27933\"/>\n     <use style=\"fill-opacity:0;stroke:#ff7f0e;\" x=\"168.326146\" xlink:href=\"#m9754e90b7b\" y=\"58.883615\"/>\n     <use style=\"fill-opacity:0;stroke:#ff7f0e;\" x=\"174.468461\" xlink:href=\"#m9754e90b7b\" y=\"47.563329\"/>\n     <use style=\"fill-opacity:0;stroke:#ff7f0e;\" x=\"188.959763\" xlink:href=\"#m9754e90b7b\" y=\"56.527576\"/>\n     <use style=\"fill-opacity:0;stroke:#ff7f0e;\" x=\"180.159865\" xlink:href=\"#m9754e90b7b\" y=\"13.204653\"/>\n     <use style=\"fill-opacity:0;stroke:#ff7f0e;\" x=\"131.590632\" xlink:href=\"#m9754e90b7b\" y=\"70.759984\"/>\n     <use style=\"fill-opacity:0;stroke:#ff7f0e;\" x=\"198.950768\" xlink:href=\"#m9754e90b7b\" y=\"72.779623\"/>\n     <use style=\"fill-opacity:0;stroke:#ff7f0e;\" x=\"194.824796\" xlink:href=\"#m9754e90b7b\" y=\"71.858953\"/>\n     <use style=\"fill-opacity:0;stroke:#ff7f0e;\" x=\"104.972937\" xlink:href=\"#m9754e90b7b\" y=\"89.370338\"/>\n     <use style=\"fill-opacity:0;stroke:#ff7f0e;\" x=\"103.091385\" xlink:href=\"#m9754e90b7b\" y=\"67.417617\"/>\n     <use style=\"fill-opacity:0;stroke:#ff7f0e;\" x=\"190.536362\" xlink:href=\"#m9754e90b7b\" y=\"99.984076\"/>\n     <use style=\"fill-opacity:0;stroke:#ff7f0e;\" x=\"156.323514\" xlink:href=\"#m9754e90b7b\" y=\"79.548025\"/>\n     <use style=\"fill-opacity:0;stroke:#ff7f0e;\" x=\"174.848495\" xlink:href=\"#m9754e90b7b\" y=\"61.355533\"/>\n     <use style=\"fill-opacity:0;stroke:#ff7f0e;\" x=\"226.585312\" xlink:href=\"#m9754e90b7b\" y=\"69.827675\"/>\n     <use style=\"fill-opacity:0;stroke:#ff7f0e;\" x=\"194.120649\" xlink:href=\"#m9754e90b7b\" y=\"64.659951\"/>\n     <use style=\"fill-opacity:0;stroke:#ff7f0e;\" x=\"169.057492\" xlink:href=\"#m9754e90b7b\" y=\"76.805012\"/>\n     <use style=\"fill-opacity:0;stroke:#ff7f0e;\" x=\"234.757751\" xlink:href=\"#m9754e90b7b\" y=\"38.694421\"/>\n     <use style=\"fill-opacity:0;stroke:#ff7f0e;\" x=\"185.209106\" xlink:href=\"#m9754e90b7b\" y=\"46.055168\"/>\n     <use style=\"fill-opacity:0;stroke:#ff7f0e;\" x=\"160.148284\" xlink:href=\"#m9754e90b7b\" y=\"37.730556\"/>\n     <use style=\"fill-opacity:0;stroke:#ff7f0e;\" x=\"159.570259\" xlink:href=\"#m9754e90b7b\" y=\"54.313206\"/>\n     <use style=\"fill-opacity:0;stroke:#ff7f0e;\" x=\"193.820422\" xlink:href=\"#m9754e90b7b\" y=\"32.087718\"/>\n     <use style=\"fill-opacity:0;stroke:#ff7f0e;\" x=\"154.174206\" xlink:href=\"#m9754e90b7b\" y=\"66.971481\"/>\n     <use style=\"fill-opacity:0;stroke:#ff7f0e;\" x=\"126.522493\" xlink:href=\"#m9754e90b7b\" y=\"47.89745\"/>\n     <use style=\"fill-opacity:0;stroke:#ff7f0e;\" x=\"123.959809\" xlink:href=\"#m9754e90b7b\" y=\"76.718833\"/>\n     <use style=\"fill-opacity:0;stroke:#ff7f0e;\" x=\"140.144294\" xlink:href=\"#m9754e90b7b\" y=\"65.088142\"/>\n     <use style=\"fill-opacity:0;stroke:#ff7f0e;\" x=\"194.680871\" xlink:href=\"#m9754e90b7b\" y=\"56.464973\"/>\n     <use style=\"fill-opacity:0;stroke:#ff7f0e;\" x=\"211.436747\" xlink:href=\"#m9754e90b7b\" y=\"68.082363\"/>\n     <use style=\"fill-opacity:0;stroke:#ff7f0e;\" x=\"108.91242\" xlink:href=\"#m9754e90b7b\" y=\"79.345352\"/>\n     <use style=\"fill-opacity:0;stroke:#ff7f0e;\" x=\"186.578864\" xlink:href=\"#m9754e90b7b\" y=\"89.668584\"/>\n     <use style=\"fill-opacity:0;stroke:#ff7f0e;\" x=\"95.883422\" xlink:href=\"#m9754e90b7b\" y=\"86.369084\"/>\n     <use style=\"fill-opacity:0;stroke:#ff7f0e;\" x=\"158.182832\" xlink:href=\"#m9754e90b7b\" y=\"84.567182\"/>\n     <use style=\"fill-opacity:0;stroke:#ff7f0e;\" x=\"147.05739\" xlink:href=\"#m9754e90b7b\" y=\"68.824276\"/>\n     <use style=\"fill-opacity:0;stroke:#ff7f0e;\" x=\"101.913698\" xlink:href=\"#m9754e90b7b\" y=\"74.136844\"/>\n     <use style=\"fill-opacity:0;stroke:#ff7f0e;\" x=\"125.651016\" xlink:href=\"#m9754e90b7b\" y=\"84.681037\"/>\n     <use style=\"fill-opacity:0;stroke:#ff7f0e;\" x=\"167.496367\" xlink:href=\"#m9754e90b7b\" y=\"36.506908\"/>\n     <use style=\"fill-opacity:0;stroke:#ff7f0e;\" x=\"143.36234\" xlink:href=\"#m9754e90b7b\" y=\"74.389078\"/>\n     <use style=\"fill-opacity:0;stroke:#ff7f0e;\" x=\"185.091476\" xlink:href=\"#m9754e90b7b\" y=\"12.141818\"/>\n     <use style=\"fill-opacity:0;stroke:#ff7f0e;\" x=\"167.507251\" xlink:href=\"#m9754e90b7b\" y=\"66.362025\"/>\n     <use style=\"fill-opacity:0;stroke:#ff7f0e;\" x=\"103.766793\" xlink:href=\"#m9754e90b7b\" y=\"108.398026\"/>\n     <use style=\"fill-opacity:0;stroke:#ff7f0e;\" x=\"163.511175\" xlink:href=\"#m9754e90b7b\" y=\"61.997664\"/>\n     <use style=\"fill-opacity:0;stroke:#ff7f0e;\" x=\"148.69695\" xlink:href=\"#m9754e90b7b\" y=\"55.384591\"/>\n     <use style=\"fill-opacity:0;stroke:#ff7f0e;\" x=\"56.463068\" xlink:href=\"#m9754e90b7b\" y=\"82.19175\"/>\n     <use style=\"fill-opacity:0;stroke:#ff7f0e;\" x=\"170.034471\" xlink:href=\"#m9754e90b7b\" y=\"66.726893\"/>\n     <use style=\"fill-opacity:0;stroke:#ff7f0e;\" x=\"198.03946\" xlink:href=\"#m9754e90b7b\" y=\"49.987839\"/>\n     <use style=\"fill-opacity:0;stroke:#ff7f0e;\" x=\"172.211977\" xlink:href=\"#m9754e90b7b\" y=\"63.649259\"/>\n    </g>\n   </g>\n   <g id=\"patch_3\">\n    <path d=\"M 43.78125 115.92 \nL 43.78125 7.2 \n\" style=\"fill:none;stroke:#000000;stroke-linecap:square;stroke-linejoin:miter;stroke-width:0.8;\"/>\n   </g>\n   <g id=\"patch_4\">\n    <path d=\"M 322.78125 115.92 \nL 322.78125 7.2 \n\" style=\"fill:none;stroke:#000000;stroke-linecap:square;stroke-linejoin:miter;stroke-width:0.8;\"/>\n   </g>\n   <g id=\"patch_5\">\n    <path d=\"M 43.78125 115.92 \nL 322.78125 115.92 \n\" style=\"fill:none;stroke:#000000;stroke-linecap:square;stroke-linejoin:miter;stroke-width:0.8;\"/>\n   </g>\n   <g id=\"patch_6\">\n    <path d=\"M 43.78125 7.2 \nL 322.78125 7.2 \n\" style=\"fill:none;stroke:#000000;stroke-linecap:square;stroke-linejoin:miter;stroke-width:0.8;\"/>\n   </g>\n   <g id=\"legend_1\">\n    <g id=\"patch_7\">\n     <path d=\"M 233.614062 110.92 \nL 315.78125 110.92 \nQ 317.78125 110.92 317.78125 108.92 \nL 317.78125 80.56375 \nQ 317.78125 78.56375 315.78125 78.56375 \nL 233.614062 78.56375 \nQ 231.614062 78.56375 231.614062 80.56375 \nL 231.614062 108.92 \nQ 231.614062 110.92 233.614062 110.92 \nz\n\" style=\"fill:#ffffff;opacity:0.8;stroke:#cccccc;stroke-linejoin:miter;\"/>\n    </g>\n    <g id=\"line2d_13\"/>\n    <g id=\"line2d_14\">\n     <g>\n      <use style=\"fill:#1f77b4;stroke:#1f77b4;\" x=\"245.614062\" xlink:href=\"#me36b63172f\" y=\"86.662188\"/>\n     </g>\n    </g>\n    <g id=\"text_13\">\n     <!-- data -->\n     <defs>\n      <path d=\"M 45.40625 46.390625 \nL 45.40625 75.984375 \nL 54.390625 75.984375 \nL 54.390625 0 \nL 45.40625 0 \nL 45.40625 8.203125 \nQ 42.578125 3.328125 38.25 0.953125 \nQ 33.9375 -1.421875 27.875 -1.421875 \nQ 17.96875 -1.421875 11.734375 6.484375 \nQ 5.515625 14.40625 5.515625 27.296875 \nQ 5.515625 40.1875 11.734375 48.09375 \nQ 17.96875 56 27.875 56 \nQ 33.9375 56 38.25 53.625 \nQ 42.578125 51.265625 45.40625 46.390625 \nz\nM 14.796875 27.296875 \nQ 14.796875 17.390625 18.875 11.75 \nQ 22.953125 6.109375 30.078125 6.109375 \nQ 37.203125 6.109375 41.296875 11.75 \nQ 45.40625 17.390625 45.40625 27.296875 \nQ 45.40625 37.203125 41.296875 42.84375 \nQ 37.203125 48.484375 30.078125 48.484375 \nQ 22.953125 48.484375 18.875 42.84375 \nQ 14.796875 37.203125 14.796875 27.296875 \nz\n\" id=\"DejaVuSans-100\"/>\n      <path d=\"M 34.28125 27.484375 \nQ 23.390625 27.484375 19.1875 25 \nQ 14.984375 22.515625 14.984375 16.5 \nQ 14.984375 11.71875 18.140625 8.90625 \nQ 21.296875 6.109375 26.703125 6.109375 \nQ 34.1875 6.109375 38.703125 11.40625 \nQ 43.21875 16.703125 43.21875 25.484375 \nL 43.21875 27.484375 \nz\nM 52.203125 31.203125 \nL 52.203125 0 \nL 43.21875 0 \nL 43.21875 8.296875 \nQ 40.140625 3.328125 35.546875 0.953125 \nQ 30.953125 -1.421875 24.3125 -1.421875 \nQ 15.921875 -1.421875 10.953125 3.296875 \nQ 6 8.015625 6 15.921875 \nQ 6 25.140625 12.171875 29.828125 \nQ 18.359375 34.515625 30.609375 34.515625 \nL 43.21875 34.515625 \nL 43.21875 35.40625 \nQ 43.21875 41.609375 39.140625 45 \nQ 35.0625 48.390625 27.6875 48.390625 \nQ 23 48.390625 18.546875 47.265625 \nQ 14.109375 46.140625 10.015625 43.890625 \nL 10.015625 52.203125 \nQ 14.9375 54.109375 19.578125 55.046875 \nQ 24.21875 56 28.609375 56 \nQ 40.484375 56 46.34375 49.84375 \nQ 52.203125 43.703125 52.203125 31.203125 \nz\n\" id=\"DejaVuSans-97\"/>\n      <path d=\"M 18.3125 70.21875 \nL 18.3125 54.6875 \nL 36.8125 54.6875 \nL 36.8125 47.703125 \nL 18.3125 47.703125 \nL 18.3125 18.015625 \nQ 18.3125 11.328125 20.140625 9.421875 \nQ 21.96875 7.515625 27.59375 7.515625 \nL 36.8125 7.515625 \nL 36.8125 0 \nL 27.59375 0 \nQ 17.1875 0 13.234375 3.875 \nQ 9.28125 7.765625 9.28125 18.015625 \nL 9.28125 47.703125 \nL 2.6875 47.703125 \nL 2.6875 54.6875 \nL 9.28125 54.6875 \nL 9.28125 70.21875 \nz\n\" id=\"DejaVuSans-116\"/>\n     </defs>\n     <g transform=\"translate(263.614062 90.162188)scale(0.1 -0.1)\">\n      <use xlink:href=\"#DejaVuSans-100\"/>\n      <use x=\"63.476562\" xlink:href=\"#DejaVuSans-97\"/>\n      <use x=\"124.755859\" xlink:href=\"#DejaVuSans-116\"/>\n      <use x=\"163.964844\" xlink:href=\"#DejaVuSans-97\"/>\n     </g>\n    </g>\n    <g id=\"line2d_15\"/>\n    <g id=\"line2d_16\">\n     <g>\n      <use style=\"fill-opacity:0;stroke:#ff7f0e;\" x=\"245.614062\" xlink:href=\"#m9754e90b7b\" y=\"101.340313\"/>\n     </g>\n    </g>\n    <g id=\"text_14\">\n     <!-- prediction -->\n     <defs>\n      <path d=\"M 18.109375 8.203125 \nL 18.109375 -20.796875 \nL 9.078125 -20.796875 \nL 9.078125 54.6875 \nL 18.109375 54.6875 \nL 18.109375 46.390625 \nQ 20.953125 51.265625 25.265625 53.625 \nQ 29.59375 56 35.59375 56 \nQ 45.5625 56 51.78125 48.09375 \nQ 58.015625 40.1875 58.015625 27.296875 \nQ 58.015625 14.40625 51.78125 6.484375 \nQ 45.5625 -1.421875 35.59375 -1.421875 \nQ 29.59375 -1.421875 25.265625 0.953125 \nQ 20.953125 3.328125 18.109375 8.203125 \nz\nM 48.6875 27.296875 \nQ 48.6875 37.203125 44.609375 42.84375 \nQ 40.53125 48.484375 33.40625 48.484375 \nQ 26.265625 48.484375 22.1875 42.84375 \nQ 18.109375 37.203125 18.109375 27.296875 \nQ 18.109375 17.390625 22.1875 11.75 \nQ 26.265625 6.109375 33.40625 6.109375 \nQ 40.53125 6.109375 44.609375 11.75 \nQ 48.6875 17.390625 48.6875 27.296875 \nz\n\" id=\"DejaVuSans-112\"/>\n      <path d=\"M 41.109375 46.296875 \nQ 39.59375 47.171875 37.8125 47.578125 \nQ 36.03125 48 33.890625 48 \nQ 26.265625 48 22.1875 43.046875 \nQ 18.109375 38.09375 18.109375 28.8125 \nL 18.109375 0 \nL 9.078125 0 \nL 9.078125 54.6875 \nL 18.109375 54.6875 \nL 18.109375 46.1875 \nQ 20.953125 51.171875 25.484375 53.578125 \nQ 30.03125 56 36.53125 56 \nQ 37.453125 56 38.578125 55.875 \nQ 39.703125 55.765625 41.0625 55.515625 \nz\n\" id=\"DejaVuSans-114\"/>\n      <path d=\"M 56.203125 29.59375 \nL 56.203125 25.203125 \nL 14.890625 25.203125 \nQ 15.484375 15.921875 20.484375 11.0625 \nQ 25.484375 6.203125 34.421875 6.203125 \nQ 39.59375 6.203125 44.453125 7.46875 \nQ 49.3125 8.734375 54.109375 11.28125 \nL 54.109375 2.78125 \nQ 49.265625 0.734375 44.1875 -0.34375 \nQ 39.109375 -1.421875 33.890625 -1.421875 \nQ 20.796875 -1.421875 13.15625 6.1875 \nQ 5.515625 13.8125 5.515625 26.8125 \nQ 5.515625 40.234375 12.765625 48.109375 \nQ 20.015625 56 32.328125 56 \nQ 43.359375 56 49.78125 48.890625 \nQ 56.203125 41.796875 56.203125 29.59375 \nz\nM 47.21875 32.234375 \nQ 47.125 39.59375 43.09375 43.984375 \nQ 39.0625 48.390625 32.421875 48.390625 \nQ 24.90625 48.390625 20.390625 44.140625 \nQ 15.875 39.890625 15.1875 32.171875 \nz\n\" id=\"DejaVuSans-101\"/>\n      <path d=\"M 9.421875 54.6875 \nL 18.40625 54.6875 \nL 18.40625 0 \nL 9.421875 0 \nz\nM 9.421875 75.984375 \nL 18.40625 75.984375 \nL 18.40625 64.59375 \nL 9.421875 64.59375 \nz\n\" id=\"DejaVuSans-105\"/>\n      <path d=\"M 48.78125 52.59375 \nL 48.78125 44.1875 \nQ 44.96875 46.296875 41.140625 47.34375 \nQ 37.3125 48.390625 33.40625 48.390625 \nQ 24.65625 48.390625 19.8125 42.84375 \nQ 14.984375 37.3125 14.984375 27.296875 \nQ 14.984375 17.28125 19.8125 11.734375 \nQ 24.65625 6.203125 33.40625 6.203125 \nQ 37.3125 6.203125 41.140625 7.25 \nQ 44.96875 8.296875 48.78125 10.40625 \nL 48.78125 2.09375 \nQ 45.015625 0.34375 40.984375 -0.53125 \nQ 36.96875 -1.421875 32.421875 -1.421875 \nQ 20.0625 -1.421875 12.78125 6.34375 \nQ 5.515625 14.109375 5.515625 27.296875 \nQ 5.515625 40.671875 12.859375 48.328125 \nQ 20.21875 56 33.015625 56 \nQ 37.15625 56 41.109375 55.140625 \nQ 45.0625 54.296875 48.78125 52.59375 \nz\n\" id=\"DejaVuSans-99\"/>\n      <path d=\"M 30.609375 48.390625 \nQ 23.390625 48.390625 19.1875 42.75 \nQ 14.984375 37.109375 14.984375 27.296875 \nQ 14.984375 17.484375 19.15625 11.84375 \nQ 23.34375 6.203125 30.609375 6.203125 \nQ 37.796875 6.203125 41.984375 11.859375 \nQ 46.1875 17.53125 46.1875 27.296875 \nQ 46.1875 37.015625 41.984375 42.703125 \nQ 37.796875 48.390625 30.609375 48.390625 \nz\nM 30.609375 56 \nQ 42.328125 56 49.015625 48.375 \nQ 55.71875 40.765625 55.71875 27.296875 \nQ 55.71875 13.875 49.015625 6.21875 \nQ 42.328125 -1.421875 30.609375 -1.421875 \nQ 18.84375 -1.421875 12.171875 6.21875 \nQ 5.515625 13.875 5.515625 27.296875 \nQ 5.515625 40.765625 12.171875 48.375 \nQ 18.84375 56 30.609375 56 \nz\n\" id=\"DejaVuSans-111\"/>\n      <path d=\"M 54.890625 33.015625 \nL 54.890625 0 \nL 45.90625 0 \nL 45.90625 32.71875 \nQ 45.90625 40.484375 42.875 44.328125 \nQ 39.84375 48.1875 33.796875 48.1875 \nQ 26.515625 48.1875 22.3125 43.546875 \nQ 18.109375 38.921875 18.109375 30.90625 \nL 18.109375 0 \nL 9.078125 0 \nL 9.078125 54.6875 \nL 18.109375 54.6875 \nL 18.109375 46.1875 \nQ 21.34375 51.125 25.703125 53.5625 \nQ 30.078125 56 35.796875 56 \nQ 45.21875 56 50.046875 50.171875 \nQ 54.890625 44.34375 54.890625 33.015625 \nz\n\" id=\"DejaVuSans-110\"/>\n     </defs>\n     <g transform=\"translate(263.614062 104.840313)scale(0.1 -0.1)\">\n      <use xlink:href=\"#DejaVuSans-112\"/>\n      <use x=\"63.476562\" xlink:href=\"#DejaVuSans-114\"/>\n      <use x=\"102.339844\" xlink:href=\"#DejaVuSans-101\"/>\n      <use x=\"163.863281\" xlink:href=\"#DejaVuSans-100\"/>\n      <use x=\"227.339844\" xlink:href=\"#DejaVuSans-105\"/>\n      <use x=\"255.123047\" xlink:href=\"#DejaVuSans-99\"/>\n      <use x=\"310.103516\" xlink:href=\"#DejaVuSans-116\"/>\n      <use x=\"349.3125\" xlink:href=\"#DejaVuSans-105\"/>\n      <use x=\"377.095703\" xlink:href=\"#DejaVuSans-111\"/>\n      <use x=\"438.277344\" xlink:href=\"#DejaVuSans-110\"/>\n     </g>\n    </g>\n   </g>\n  </g>\n </g>\n <defs>\n  <clipPath id=\"p7f0907d0b1\">\n   <rect height=\"108.72\" width=\"279\" x=\"43.78125\" y=\"7.2\"/>\n  </clipPath>\n </defs>\n</svg>\n"
          },
          "metadata": {
            "tags": [],
            "needs_background": "light"
          }
        },
        {
          "output_type": "execute_result",
          "data": {
            "text/plain": [
              "<matplotlib.legend.Legend at 0x7f246bf90950>"
            ]
          },
          "metadata": {
            "tags": []
          },
          "execution_count": 12
        }
      ]
    },
    {
      "cell_type": "markdown",
      "metadata": {
        "id": "d2acFJ_CLNYd"
      },
      "source": [
        "After fitting a regression model and obtaining the fitted coefficents, there are number of questions we can ask about the quality of the fit, and these often depend on exactly what we are using the results for. Often, we want to access how confident we are in the fitted model. This is often framed as: how likely is it that we would see these particular values of $a$ and $b$ by chance if the, for example, the $x$ and $y$ were not correlated? This question is addressed by $p$-values. \n",
        "\n",
        "We also often want to quantify how much of the variation is explained by the regression line. This is the role of the $R^2$ value. "
      ]
    },
    {
      "cell_type": "code",
      "metadata": {
        "colab": {
          "base_uri": "https://localhost:8080/"
        },
        "id": "bCOI_yJKXzVZ",
        "outputId": "538baf51-c1cb-4008-fb55-e2f4ee426f24"
      },
      "source": [
        "results.rsquared"
      ],
      "execution_count": null,
      "outputs": [
        {
          "output_type": "execute_result",
          "data": {
            "text/plain": [
              "0.19197956679447148"
            ]
          },
          "metadata": {
            "tags": []
          },
          "execution_count": 129
        }
      ]
    },
    {
      "cell_type": "markdown",
      "metadata": {
        "id": "up7xDdsyp1dt"
      },
      "source": [
        "**EXERCISES**\n",
        "\n",
        " \n",
        "1.  Using the code above, write a function `simulated_data_lr(a,b,sigma,n)` which does the following: First, it generates data from a simulated linear regression with slope `a`, intercept `b`, measurment noise `sigma` and `n` data points. It then performs a linear regression on the simulated data and outputs the estimated slope, intercept, the $R^2$ value, the $p$-value and the F statistic. \n",
        "2. Using your function, make a plot of the p-value vs. n using the values of a, b and sigma from above. Make the same plot with $a = 0.1$. Now repeat this but plotting $R^2$ instead of the $p$-values.  Can you explain why the behavoir of these plots makes sense? What does this imply about \n",
        "\n",
        "\n",
        "\n",
        "\n"
      ]
    },
    {
      "cell_type": "code",
      "metadata": {
        "id": "HO7yAyfhxISO"
      },
      "source": [
        "def sim(a,b,sigma,n):\n",
        "  x = np.linspace(0,1,n)\n",
        "  y = a*x + b + np.random.normal(0,sigma,len(x)) \n",
        "  model= sm.OLS(y,sm.add_constant(x)) \n",
        " # and this commend actually does the computations which give the results\n",
        "  results = model.fit() \n",
        "  return results.rsquared\n"
      ],
      "execution_count": null,
      "outputs": []
    },
    {
      "cell_type": "code",
      "metadata": {
        "id": "scm7yp6YxmDD"
      },
      "source": [
        "n_range = np.linspace(2,500,100,dtype=int)\n",
        "rsquareds = [sim(0,1,0.5,n) for n in n_range]"
      ],
      "execution_count": null,
      "outputs": []
    },
    {
      "cell_type": "code",
      "metadata": {
        "colab": {
          "base_uri": "https://localhost:8080/",
          "height": 369
        },
        "id": "gnPi9AA-x4s2",
        "outputId": "6c54e93b-3495-42f1-fdda-f28523665ee9"
      },
      "source": [
        "n_range = np.linspace(2,500,100,dtype=int)\n",
        "rsquareds = [sim(0,1,0.5,n) for n in n_range]\n",
        "\n",
        "plt.semilogy(n_range,rsquareds,'o',fillstyle=\"none\")"
      ],
      "execution_count": null,
      "outputs": [
        {
          "output_type": "execute_result",
          "data": {
            "text/plain": [
              "[<matplotlib.lines.Line2D at 0x7f27cac3f350>]"
            ]
          },
          "metadata": {
            "tags": []
          },
          "execution_count": 44
        },
        {
          "output_type": "display_data",
          "data": {
            "text/plain": [
              "<Figure size 432x288 with 1 Axes>"
            ],
            "image/svg+xml": "<?xml version=\"1.0\" encoding=\"utf-8\" standalone=\"no\"?>\n<!DOCTYPE svg PUBLIC \"-//W3C//DTD SVG 1.1//EN\"\n  \"http://www.w3.org/Graphics/SVG/1.1/DTD/svg11.dtd\">\n<!-- Created with matplotlib (https://matplotlib.org/) -->\n<svg height=\"248.518125pt\" version=\"1.1\" viewBox=\"0 0 379.7 248.518125\" width=\"379.7pt\" xmlns=\"http://www.w3.org/2000/svg\" xmlns:xlink=\"http://www.w3.org/1999/xlink\">\n <defs>\n  <style type=\"text/css\">\n*{stroke-linecap:butt;stroke-linejoin:round;}\n  </style>\n </defs>\n <g id=\"figure_1\">\n  <g id=\"patch_1\">\n   <path d=\"M 0 248.518125 \nL 379.7 248.518125 \nL 379.7 0 \nL 0 0 \nz\n\" style=\"fill:none;\"/>\n  </g>\n  <g id=\"axes_1\">\n   <g id=\"patch_2\">\n    <path d=\"M 37.7 224.64 \nL 372.5 224.64 \nL 372.5 7.2 \nL 37.7 7.2 \nz\n\" style=\"fill:#ffffff;\"/>\n   </g>\n   <g id=\"matplotlib.axis_1\">\n    <g id=\"xtick_1\">\n     <g id=\"line2d_1\">\n      <defs>\n       <path d=\"M 0 0 \nL 0 3.5 \n\" id=\"m7c98c9d7ce\" style=\"stroke:#000000;stroke-width:0.8;\"/>\n      </defs>\n      <g>\n       <use style=\"stroke:#000000;stroke-width:0.8;\" x=\"51.695838\" xlink:href=\"#m7c98c9d7ce\" y=\"224.64\"/>\n      </g>\n     </g>\n     <g id=\"text_1\">\n      <!-- 0 -->\n      <defs>\n       <path d=\"M 31.78125 66.40625 \nQ 24.171875 66.40625 20.328125 58.90625 \nQ 16.5 51.421875 16.5 36.375 \nQ 16.5 21.390625 20.328125 13.890625 \nQ 24.171875 6.390625 31.78125 6.390625 \nQ 39.453125 6.390625 43.28125 13.890625 \nQ 47.125 21.390625 47.125 36.375 \nQ 47.125 51.421875 43.28125 58.90625 \nQ 39.453125 66.40625 31.78125 66.40625 \nz\nM 31.78125 74.21875 \nQ 44.046875 74.21875 50.515625 64.515625 \nQ 56.984375 54.828125 56.984375 36.375 \nQ 56.984375 17.96875 50.515625 8.265625 \nQ 44.046875 -1.421875 31.78125 -1.421875 \nQ 19.53125 -1.421875 13.0625 8.265625 \nQ 6.59375 17.96875 6.59375 36.375 \nQ 6.59375 54.828125 13.0625 64.515625 \nQ 19.53125 74.21875 31.78125 74.21875 \nz\n\" id=\"DejaVuSans-48\"/>\n      </defs>\n      <g transform=\"translate(48.514588 239.238437)scale(0.1 -0.1)\">\n       <use xlink:href=\"#DejaVuSans-48\"/>\n      </g>\n     </g>\n    </g>\n    <g id=\"xtick_2\">\n     <g id=\"line2d_2\">\n      <g>\n       <use style=\"stroke:#000000;stroke-width:0.8;\" x=\"112.813034\" xlink:href=\"#m7c98c9d7ce\" y=\"224.64\"/>\n      </g>\n     </g>\n     <g id=\"text_2\">\n      <!-- 100 -->\n      <defs>\n       <path d=\"M 12.40625 8.296875 \nL 28.515625 8.296875 \nL 28.515625 63.921875 \nL 10.984375 60.40625 \nL 10.984375 69.390625 \nL 28.421875 72.90625 \nL 38.28125 72.90625 \nL 38.28125 8.296875 \nL 54.390625 8.296875 \nL 54.390625 0 \nL 12.40625 0 \nz\n\" id=\"DejaVuSans-49\"/>\n      </defs>\n      <g transform=\"translate(103.269284 239.238437)scale(0.1 -0.1)\">\n       <use xlink:href=\"#DejaVuSans-49\"/>\n       <use x=\"63.623047\" xlink:href=\"#DejaVuSans-48\"/>\n       <use x=\"127.246094\" xlink:href=\"#DejaVuSans-48\"/>\n      </g>\n     </g>\n    </g>\n    <g id=\"xtick_3\">\n     <g id=\"line2d_3\">\n      <g>\n       <use style=\"stroke:#000000;stroke-width:0.8;\" x=\"173.93023\" xlink:href=\"#m7c98c9d7ce\" y=\"224.64\"/>\n      </g>\n     </g>\n     <g id=\"text_3\">\n      <!-- 200 -->\n      <defs>\n       <path d=\"M 19.1875 8.296875 \nL 53.609375 8.296875 \nL 53.609375 0 \nL 7.328125 0 \nL 7.328125 8.296875 \nQ 12.9375 14.109375 22.625 23.890625 \nQ 32.328125 33.6875 34.8125 36.53125 \nQ 39.546875 41.84375 41.421875 45.53125 \nQ 43.3125 49.21875 43.3125 52.78125 \nQ 43.3125 58.59375 39.234375 62.25 \nQ 35.15625 65.921875 28.609375 65.921875 \nQ 23.96875 65.921875 18.8125 64.3125 \nQ 13.671875 62.703125 7.8125 59.421875 \nL 7.8125 69.390625 \nQ 13.765625 71.78125 18.9375 73 \nQ 24.125 74.21875 28.421875 74.21875 \nQ 39.75 74.21875 46.484375 68.546875 \nQ 53.21875 62.890625 53.21875 53.421875 \nQ 53.21875 48.921875 51.53125 44.890625 \nQ 49.859375 40.875 45.40625 35.40625 \nQ 44.1875 33.984375 37.640625 27.21875 \nQ 31.109375 20.453125 19.1875 8.296875 \nz\n\" id=\"DejaVuSans-50\"/>\n      </defs>\n      <g transform=\"translate(164.38648 239.238437)scale(0.1 -0.1)\">\n       <use xlink:href=\"#DejaVuSans-50\"/>\n       <use x=\"63.623047\" xlink:href=\"#DejaVuSans-48\"/>\n       <use x=\"127.246094\" xlink:href=\"#DejaVuSans-48\"/>\n      </g>\n     </g>\n    </g>\n    <g id=\"xtick_4\">\n     <g id=\"line2d_4\">\n      <g>\n       <use style=\"stroke:#000000;stroke-width:0.8;\" x=\"235.047426\" xlink:href=\"#m7c98c9d7ce\" y=\"224.64\"/>\n      </g>\n     </g>\n     <g id=\"text_4\">\n      <!-- 300 -->\n      <defs>\n       <path d=\"M 40.578125 39.3125 \nQ 47.65625 37.796875 51.625 33 \nQ 55.609375 28.21875 55.609375 21.1875 \nQ 55.609375 10.40625 48.1875 4.484375 \nQ 40.765625 -1.421875 27.09375 -1.421875 \nQ 22.515625 -1.421875 17.65625 -0.515625 \nQ 12.796875 0.390625 7.625 2.203125 \nL 7.625 11.71875 \nQ 11.71875 9.328125 16.59375 8.109375 \nQ 21.484375 6.890625 26.8125 6.890625 \nQ 36.078125 6.890625 40.9375 10.546875 \nQ 45.796875 14.203125 45.796875 21.1875 \nQ 45.796875 27.640625 41.28125 31.265625 \nQ 36.765625 34.90625 28.71875 34.90625 \nL 20.21875 34.90625 \nL 20.21875 43.015625 \nL 29.109375 43.015625 \nQ 36.375 43.015625 40.234375 45.921875 \nQ 44.09375 48.828125 44.09375 54.296875 \nQ 44.09375 59.90625 40.109375 62.90625 \nQ 36.140625 65.921875 28.71875 65.921875 \nQ 24.65625 65.921875 20.015625 65.03125 \nQ 15.375 64.15625 9.8125 62.3125 \nL 9.8125 71.09375 \nQ 15.4375 72.65625 20.34375 73.4375 \nQ 25.25 74.21875 29.59375 74.21875 \nQ 40.828125 74.21875 47.359375 69.109375 \nQ 53.90625 64.015625 53.90625 55.328125 \nQ 53.90625 49.265625 50.4375 45.09375 \nQ 46.96875 40.921875 40.578125 39.3125 \nz\n\" id=\"DejaVuSans-51\"/>\n      </defs>\n      <g transform=\"translate(225.503676 239.238437)scale(0.1 -0.1)\">\n       <use xlink:href=\"#DejaVuSans-51\"/>\n       <use x=\"63.623047\" xlink:href=\"#DejaVuSans-48\"/>\n       <use x=\"127.246094\" xlink:href=\"#DejaVuSans-48\"/>\n      </g>\n     </g>\n    </g>\n    <g id=\"xtick_5\">\n     <g id=\"line2d_5\">\n      <g>\n       <use style=\"stroke:#000000;stroke-width:0.8;\" x=\"296.164622\" xlink:href=\"#m7c98c9d7ce\" y=\"224.64\"/>\n      </g>\n     </g>\n     <g id=\"text_5\">\n      <!-- 400 -->\n      <defs>\n       <path d=\"M 37.796875 64.3125 \nL 12.890625 25.390625 \nL 37.796875 25.390625 \nz\nM 35.203125 72.90625 \nL 47.609375 72.90625 \nL 47.609375 25.390625 \nL 58.015625 25.390625 \nL 58.015625 17.1875 \nL 47.609375 17.1875 \nL 47.609375 0 \nL 37.796875 0 \nL 37.796875 17.1875 \nL 4.890625 17.1875 \nL 4.890625 26.703125 \nz\n\" id=\"DejaVuSans-52\"/>\n      </defs>\n      <g transform=\"translate(286.620872 239.238437)scale(0.1 -0.1)\">\n       <use xlink:href=\"#DejaVuSans-52\"/>\n       <use x=\"63.623047\" xlink:href=\"#DejaVuSans-48\"/>\n       <use x=\"127.246094\" xlink:href=\"#DejaVuSans-48\"/>\n      </g>\n     </g>\n    </g>\n    <g id=\"xtick_6\">\n     <g id=\"line2d_6\">\n      <g>\n       <use style=\"stroke:#000000;stroke-width:0.8;\" x=\"357.281818\" xlink:href=\"#m7c98c9d7ce\" y=\"224.64\"/>\n      </g>\n     </g>\n     <g id=\"text_6\">\n      <!-- 500 -->\n      <defs>\n       <path d=\"M 10.796875 72.90625 \nL 49.515625 72.90625 \nL 49.515625 64.59375 \nL 19.828125 64.59375 \nL 19.828125 46.734375 \nQ 21.96875 47.46875 24.109375 47.828125 \nQ 26.265625 48.1875 28.421875 48.1875 \nQ 40.625 48.1875 47.75 41.5 \nQ 54.890625 34.8125 54.890625 23.390625 \nQ 54.890625 11.625 47.5625 5.09375 \nQ 40.234375 -1.421875 26.90625 -1.421875 \nQ 22.3125 -1.421875 17.546875 -0.640625 \nQ 12.796875 0.140625 7.71875 1.703125 \nL 7.71875 11.625 \nQ 12.109375 9.234375 16.796875 8.0625 \nQ 21.484375 6.890625 26.703125 6.890625 \nQ 35.15625 6.890625 40.078125 11.328125 \nQ 45.015625 15.765625 45.015625 23.390625 \nQ 45.015625 31 40.078125 35.4375 \nQ 35.15625 39.890625 26.703125 39.890625 \nQ 22.75 39.890625 18.8125 39.015625 \nQ 14.890625 38.140625 10.796875 36.28125 \nz\n\" id=\"DejaVuSans-53\"/>\n      </defs>\n      <g transform=\"translate(347.738068 239.238437)scale(0.1 -0.1)\">\n       <use xlink:href=\"#DejaVuSans-53\"/>\n       <use x=\"63.623047\" xlink:href=\"#DejaVuSans-48\"/>\n       <use x=\"127.246094\" xlink:href=\"#DejaVuSans-48\"/>\n      </g>\n     </g>\n    </g>\n   </g>\n   <g id=\"matplotlib.axis_2\">\n    <g id=\"ytick_1\">\n     <g id=\"line2d_7\">\n      <defs>\n       <path d=\"M 0 0 \nL -3.5 0 \n\" id=\"m8555dd87ba\" style=\"stroke:#000000;stroke-width:0.8;\"/>\n      </defs>\n      <g>\n       <use style=\"stroke:#000000;stroke-width:0.8;\" x=\"37.7\" xlink:href=\"#m8555dd87ba\" y=\"210.485121\"/>\n      </g>\n     </g>\n     <g id=\"text_7\">\n      <!-- $\\mathdefault{10^{-6}}$ -->\n      <defs>\n       <path d=\"M 10.59375 35.5 \nL 73.1875 35.5 \nL 73.1875 27.203125 \nL 10.59375 27.203125 \nz\n\" id=\"DejaVuSans-8722\"/>\n       <path d=\"M 33.015625 40.375 \nQ 26.375 40.375 22.484375 35.828125 \nQ 18.609375 31.296875 18.609375 23.390625 \nQ 18.609375 15.53125 22.484375 10.953125 \nQ 26.375 6.390625 33.015625 6.390625 \nQ 39.65625 6.390625 43.53125 10.953125 \nQ 47.40625 15.53125 47.40625 23.390625 \nQ 47.40625 31.296875 43.53125 35.828125 \nQ 39.65625 40.375 33.015625 40.375 \nz\nM 52.59375 71.296875 \nL 52.59375 62.3125 \nQ 48.875 64.0625 45.09375 64.984375 \nQ 41.3125 65.921875 37.59375 65.921875 \nQ 27.828125 65.921875 22.671875 59.328125 \nQ 17.53125 52.734375 16.796875 39.40625 \nQ 19.671875 43.65625 24.015625 45.921875 \nQ 28.375 48.1875 33.59375 48.1875 \nQ 44.578125 48.1875 50.953125 41.515625 \nQ 57.328125 34.859375 57.328125 23.390625 \nQ 57.328125 12.15625 50.6875 5.359375 \nQ 44.046875 -1.421875 33.015625 -1.421875 \nQ 20.359375 -1.421875 13.671875 8.265625 \nQ 6.984375 17.96875 6.984375 36.375 \nQ 6.984375 53.65625 15.1875 63.9375 \nQ 23.390625 74.21875 37.203125 74.21875 \nQ 40.921875 74.21875 44.703125 73.484375 \nQ 48.484375 72.75 52.59375 71.296875 \nz\n\" id=\"DejaVuSans-54\"/>\n      </defs>\n      <g transform=\"translate(7.2 214.28434)scale(0.1 -0.1)\">\n       <use transform=\"translate(0 0.765625)\" xlink:href=\"#DejaVuSans-49\"/>\n       <use transform=\"translate(63.623047 0.765625)\" xlink:href=\"#DejaVuSans-48\"/>\n       <use transform=\"translate(128.203125 39.046875)scale(0.7)\" xlink:href=\"#DejaVuSans-8722\"/>\n       <use transform=\"translate(186.855469 39.046875)scale(0.7)\" xlink:href=\"#DejaVuSans-54\"/>\n      </g>\n     </g>\n    </g>\n    <g id=\"ytick_2\">\n     <g id=\"line2d_8\">\n      <g>\n       <use style=\"stroke:#000000;stroke-width:0.8;\" x=\"37.7\" xlink:href=\"#m8555dd87ba\" y=\"178.25154\"/>\n      </g>\n     </g>\n     <g id=\"text_8\">\n      <!-- $\\mathdefault{10^{-5}}$ -->\n      <g transform=\"translate(7.2 182.050759)scale(0.1 -0.1)\">\n       <use transform=\"translate(0 0.684375)\" xlink:href=\"#DejaVuSans-49\"/>\n       <use transform=\"translate(63.623047 0.684375)\" xlink:href=\"#DejaVuSans-48\"/>\n       <use transform=\"translate(128.203125 38.965625)scale(0.7)\" xlink:href=\"#DejaVuSans-8722\"/>\n       <use transform=\"translate(186.855469 38.965625)scale(0.7)\" xlink:href=\"#DejaVuSans-53\"/>\n      </g>\n     </g>\n    </g>\n    <g id=\"ytick_3\">\n     <g id=\"line2d_9\">\n      <g>\n       <use style=\"stroke:#000000;stroke-width:0.8;\" x=\"37.7\" xlink:href=\"#m8555dd87ba\" y=\"146.01796\"/>\n      </g>\n     </g>\n     <g id=\"text_9\">\n      <!-- $\\mathdefault{10^{-4}}$ -->\n      <g transform=\"translate(7.2 149.817178)scale(0.1 -0.1)\">\n       <use transform=\"translate(0 0.684375)\" xlink:href=\"#DejaVuSans-49\"/>\n       <use transform=\"translate(63.623047 0.684375)\" xlink:href=\"#DejaVuSans-48\"/>\n       <use transform=\"translate(128.203125 38.965625)scale(0.7)\" xlink:href=\"#DejaVuSans-8722\"/>\n       <use transform=\"translate(186.855469 38.965625)scale(0.7)\" xlink:href=\"#DejaVuSans-52\"/>\n      </g>\n     </g>\n    </g>\n    <g id=\"ytick_4\">\n     <g id=\"line2d_10\">\n      <g>\n       <use style=\"stroke:#000000;stroke-width:0.8;\" x=\"37.7\" xlink:href=\"#m8555dd87ba\" y=\"113.784379\"/>\n      </g>\n     </g>\n     <g id=\"text_10\">\n      <!-- $\\mathdefault{10^{-3}}$ -->\n      <g transform=\"translate(7.2 117.583597)scale(0.1 -0.1)\">\n       <use transform=\"translate(0 0.765625)\" xlink:href=\"#DejaVuSans-49\"/>\n       <use transform=\"translate(63.623047 0.765625)\" xlink:href=\"#DejaVuSans-48\"/>\n       <use transform=\"translate(128.203125 39.046875)scale(0.7)\" xlink:href=\"#DejaVuSans-8722\"/>\n       <use transform=\"translate(186.855469 39.046875)scale(0.7)\" xlink:href=\"#DejaVuSans-51\"/>\n      </g>\n     </g>\n    </g>\n    <g id=\"ytick_5\">\n     <g id=\"line2d_11\">\n      <g>\n       <use style=\"stroke:#000000;stroke-width:0.8;\" x=\"37.7\" xlink:href=\"#m8555dd87ba\" y=\"81.550798\"/>\n      </g>\n     </g>\n     <g id=\"text_11\">\n      <!-- $\\mathdefault{10^{-2}}$ -->\n      <g transform=\"translate(7.2 85.350017)scale(0.1 -0.1)\">\n       <use transform=\"translate(0 0.765625)\" xlink:href=\"#DejaVuSans-49\"/>\n       <use transform=\"translate(63.623047 0.765625)\" xlink:href=\"#DejaVuSans-48\"/>\n       <use transform=\"translate(128.203125 39.046875)scale(0.7)\" xlink:href=\"#DejaVuSans-8722\"/>\n       <use transform=\"translate(186.855469 39.046875)scale(0.7)\" xlink:href=\"#DejaVuSans-50\"/>\n      </g>\n     </g>\n    </g>\n    <g id=\"ytick_6\">\n     <g id=\"line2d_12\">\n      <g>\n       <use style=\"stroke:#000000;stroke-width:0.8;\" x=\"37.7\" xlink:href=\"#m8555dd87ba\" y=\"49.317217\"/>\n      </g>\n     </g>\n     <g id=\"text_12\">\n      <!-- $\\mathdefault{10^{-1}}$ -->\n      <g transform=\"translate(7.2 53.116436)scale(0.1 -0.1)\">\n       <use transform=\"translate(0 0.684375)\" xlink:href=\"#DejaVuSans-49\"/>\n       <use transform=\"translate(63.623047 0.684375)\" xlink:href=\"#DejaVuSans-48\"/>\n       <use transform=\"translate(128.203125 38.965625)scale(0.7)\" xlink:href=\"#DejaVuSans-8722\"/>\n       <use transform=\"translate(186.855469 38.965625)scale(0.7)\" xlink:href=\"#DejaVuSans-49\"/>\n      </g>\n     </g>\n    </g>\n    <g id=\"ytick_7\">\n     <g id=\"line2d_13\">\n      <g>\n       <use style=\"stroke:#000000;stroke-width:0.8;\" x=\"37.7\" xlink:href=\"#m8555dd87ba\" y=\"17.083636\"/>\n      </g>\n     </g>\n     <g id=\"text_13\">\n      <!-- $\\mathdefault{10^{0}}$ -->\n      <g transform=\"translate(13.1 20.882855)scale(0.1 -0.1)\">\n       <use transform=\"translate(0 0.765625)\" xlink:href=\"#DejaVuSans-49\"/>\n       <use transform=\"translate(63.623047 0.765625)\" xlink:href=\"#DejaVuSans-48\"/>\n       <use transform=\"translate(128.203125 39.046875)scale(0.7)\" xlink:href=\"#DejaVuSans-48\"/>\n      </g>\n     </g>\n    </g>\n    <g id=\"ytick_8\">\n     <g id=\"line2d_14\">\n      <defs>\n       <path d=\"M 0 0 \nL -2 0 \n\" id=\"m6fb9f281cc\" style=\"stroke:#000000;stroke-width:0.6;\"/>\n      </defs>\n      <g>\n       <use style=\"stroke:#000000;stroke-width:0.6;\" x=\"37.7\" xlink:href=\"#m6fb9f281cc\" y=\"223.312152\"/>\n      </g>\n     </g>\n    </g>\n    <g id=\"ytick_9\">\n     <g id=\"line2d_15\">\n      <g>\n       <use style=\"stroke:#000000;stroke-width:0.6;\" x=\"37.7\" xlink:href=\"#m6fb9f281cc\" y=\"220.188396\"/>\n      </g>\n     </g>\n    </g>\n    <g id=\"ytick_10\">\n     <g id=\"line2d_16\">\n      <g>\n       <use style=\"stroke:#000000;stroke-width:0.6;\" x=\"37.7\" xlink:href=\"#m6fb9f281cc\" y=\"217.636101\"/>\n      </g>\n     </g>\n    </g>\n    <g id=\"ytick_11\">\n     <g id=\"line2d_17\">\n      <g>\n       <use style=\"stroke:#000000;stroke-width:0.6;\" x=\"37.7\" xlink:href=\"#m6fb9f281cc\" y=\"215.478166\"/>\n      </g>\n     </g>\n    </g>\n    <g id=\"ytick_12\">\n     <g id=\"line2d_18\">\n      <g>\n       <use style=\"stroke:#000000;stroke-width:0.6;\" x=\"37.7\" xlink:href=\"#m6fb9f281cc\" y=\"213.608878\"/>\n      </g>\n     </g>\n    </g>\n    <g id=\"ytick_13\">\n     <g id=\"line2d_19\">\n      <g>\n       <use style=\"stroke:#000000;stroke-width:0.6;\" x=\"37.7\" xlink:href=\"#m6fb9f281cc\" y=\"211.960049\"/>\n      </g>\n     </g>\n    </g>\n    <g id=\"ytick_14\">\n     <g id=\"line2d_20\">\n      <g>\n       <use style=\"stroke:#000000;stroke-width:0.6;\" x=\"37.7\" xlink:href=\"#m6fb9f281cc\" y=\"200.781846\"/>\n      </g>\n     </g>\n    </g>\n    <g id=\"ytick_15\">\n     <g id=\"line2d_21\">\n      <g>\n       <use style=\"stroke:#000000;stroke-width:0.6;\" x=\"37.7\" xlink:href=\"#m6fb9f281cc\" y=\"195.105795\"/>\n      </g>\n     </g>\n    </g>\n    <g id=\"ytick_16\">\n     <g id=\"line2d_22\">\n      <g>\n       <use style=\"stroke:#000000;stroke-width:0.6;\" x=\"37.7\" xlink:href=\"#m6fb9f281cc\" y=\"191.078572\"/>\n      </g>\n     </g>\n    </g>\n    <g id=\"ytick_17\">\n     <g id=\"line2d_23\">\n      <g>\n       <use style=\"stroke:#000000;stroke-width:0.6;\" x=\"37.7\" xlink:href=\"#m6fb9f281cc\" y=\"187.954815\"/>\n      </g>\n     </g>\n    </g>\n    <g id=\"ytick_18\">\n     <g id=\"line2d_24\">\n      <g>\n       <use style=\"stroke:#000000;stroke-width:0.6;\" x=\"37.7\" xlink:href=\"#m6fb9f281cc\" y=\"185.40252\"/>\n      </g>\n     </g>\n    </g>\n    <g id=\"ytick_19\">\n     <g id=\"line2d_25\">\n      <g>\n       <use style=\"stroke:#000000;stroke-width:0.6;\" x=\"37.7\" xlink:href=\"#m6fb9f281cc\" y=\"183.244585\"/>\n      </g>\n     </g>\n    </g>\n    <g id=\"ytick_20\">\n     <g id=\"line2d_26\">\n      <g>\n       <use style=\"stroke:#000000;stroke-width:0.6;\" x=\"37.7\" xlink:href=\"#m6fb9f281cc\" y=\"181.375297\"/>\n      </g>\n     </g>\n    </g>\n    <g id=\"ytick_21\">\n     <g id=\"line2d_27\">\n      <g>\n       <use style=\"stroke:#000000;stroke-width:0.6;\" x=\"37.7\" xlink:href=\"#m6fb9f281cc\" y=\"179.726468\"/>\n      </g>\n     </g>\n    </g>\n    <g id=\"ytick_22\">\n     <g id=\"line2d_28\">\n      <g>\n       <use style=\"stroke:#000000;stroke-width:0.6;\" x=\"37.7\" xlink:href=\"#m6fb9f281cc\" y=\"168.548266\"/>\n      </g>\n     </g>\n    </g>\n    <g id=\"ytick_23\">\n     <g id=\"line2d_29\">\n      <g>\n       <use style=\"stroke:#000000;stroke-width:0.6;\" x=\"37.7\" xlink:href=\"#m6fb9f281cc\" y=\"162.872214\"/>\n      </g>\n     </g>\n    </g>\n    <g id=\"ytick_24\">\n     <g id=\"line2d_30\">\n      <g>\n       <use style=\"stroke:#000000;stroke-width:0.6;\" x=\"37.7\" xlink:href=\"#m6fb9f281cc\" y=\"158.844991\"/>\n      </g>\n     </g>\n    </g>\n    <g id=\"ytick_25\">\n     <g id=\"line2d_31\">\n      <g>\n       <use style=\"stroke:#000000;stroke-width:0.6;\" x=\"37.7\" xlink:href=\"#m6fb9f281cc\" y=\"155.721234\"/>\n      </g>\n     </g>\n    </g>\n    <g id=\"ytick_26\">\n     <g id=\"line2d_32\">\n      <g>\n       <use style=\"stroke:#000000;stroke-width:0.6;\" x=\"37.7\" xlink:href=\"#m6fb9f281cc\" y=\"153.168939\"/>\n      </g>\n     </g>\n    </g>\n    <g id=\"ytick_27\">\n     <g id=\"line2d_33\">\n      <g>\n       <use style=\"stroke:#000000;stroke-width:0.6;\" x=\"37.7\" xlink:href=\"#m6fb9f281cc\" y=\"151.011004\"/>\n      </g>\n     </g>\n    </g>\n    <g id=\"ytick_28\">\n     <g id=\"line2d_34\">\n      <g>\n       <use style=\"stroke:#000000;stroke-width:0.6;\" x=\"37.7\" xlink:href=\"#m6fb9f281cc\" y=\"149.141716\"/>\n      </g>\n     </g>\n    </g>\n    <g id=\"ytick_29\">\n     <g id=\"line2d_35\">\n      <g>\n       <use style=\"stroke:#000000;stroke-width:0.6;\" x=\"37.7\" xlink:href=\"#m6fb9f281cc\" y=\"147.492887\"/>\n      </g>\n     </g>\n    </g>\n    <g id=\"ytick_30\">\n     <g id=\"line2d_36\">\n      <g>\n       <use style=\"stroke:#000000;stroke-width:0.6;\" x=\"37.7\" xlink:href=\"#m6fb9f281cc\" y=\"136.314685\"/>\n      </g>\n     </g>\n    </g>\n    <g id=\"ytick_31\">\n     <g id=\"line2d_37\">\n      <g>\n       <use style=\"stroke:#000000;stroke-width:0.6;\" x=\"37.7\" xlink:href=\"#m6fb9f281cc\" y=\"130.638633\"/>\n      </g>\n     </g>\n    </g>\n    <g id=\"ytick_32\">\n     <g id=\"line2d_38\">\n      <g>\n       <use style=\"stroke:#000000;stroke-width:0.6;\" x=\"37.7\" xlink:href=\"#m6fb9f281cc\" y=\"126.61141\"/>\n      </g>\n     </g>\n    </g>\n    <g id=\"ytick_33\">\n     <g id=\"line2d_39\">\n      <g>\n       <use style=\"stroke:#000000;stroke-width:0.6;\" x=\"37.7\" xlink:href=\"#m6fb9f281cc\" y=\"123.487653\"/>\n      </g>\n     </g>\n    </g>\n    <g id=\"ytick_34\">\n     <g id=\"line2d_40\">\n      <g>\n       <use style=\"stroke:#000000;stroke-width:0.6;\" x=\"37.7\" xlink:href=\"#m6fb9f281cc\" y=\"120.935358\"/>\n      </g>\n     </g>\n    </g>\n    <g id=\"ytick_35\">\n     <g id=\"line2d_41\">\n      <g>\n       <use style=\"stroke:#000000;stroke-width:0.6;\" x=\"37.7\" xlink:href=\"#m6fb9f281cc\" y=\"118.777424\"/>\n      </g>\n     </g>\n    </g>\n    <g id=\"ytick_36\">\n     <g id=\"line2d_42\">\n      <g>\n       <use style=\"stroke:#000000;stroke-width:0.6;\" x=\"37.7\" xlink:href=\"#m6fb9f281cc\" y=\"116.908135\"/>\n      </g>\n     </g>\n    </g>\n    <g id=\"ytick_37\">\n     <g id=\"line2d_43\">\n      <g>\n       <use style=\"stroke:#000000;stroke-width:0.6;\" x=\"37.7\" xlink:href=\"#m6fb9f281cc\" y=\"115.259306\"/>\n      </g>\n     </g>\n    </g>\n    <g id=\"ytick_38\">\n     <g id=\"line2d_44\">\n      <g>\n       <use style=\"stroke:#000000;stroke-width:0.6;\" x=\"37.7\" xlink:href=\"#m6fb9f281cc\" y=\"104.081104\"/>\n      </g>\n     </g>\n    </g>\n    <g id=\"ytick_39\">\n     <g id=\"line2d_45\">\n      <g>\n       <use style=\"stroke:#000000;stroke-width:0.6;\" x=\"37.7\" xlink:href=\"#m6fb9f281cc\" y=\"98.405052\"/>\n      </g>\n     </g>\n    </g>\n    <g id=\"ytick_40\">\n     <g id=\"line2d_46\">\n      <g>\n       <use style=\"stroke:#000000;stroke-width:0.6;\" x=\"37.7\" xlink:href=\"#m6fb9f281cc\" y=\"94.377829\"/>\n      </g>\n     </g>\n    </g>\n    <g id=\"ytick_41\">\n     <g id=\"line2d_47\">\n      <g>\n       <use style=\"stroke:#000000;stroke-width:0.6;\" x=\"37.7\" xlink:href=\"#m6fb9f281cc\" y=\"91.254073\"/>\n      </g>\n     </g>\n    </g>\n    <g id=\"ytick_42\">\n     <g id=\"line2d_48\">\n      <g>\n       <use style=\"stroke:#000000;stroke-width:0.6;\" x=\"37.7\" xlink:href=\"#m6fb9f281cc\" y=\"88.701778\"/>\n      </g>\n     </g>\n    </g>\n    <g id=\"ytick_43\">\n     <g id=\"line2d_49\">\n      <g>\n       <use style=\"stroke:#000000;stroke-width:0.6;\" x=\"37.7\" xlink:href=\"#m6fb9f281cc\" y=\"86.543843\"/>\n      </g>\n     </g>\n    </g>\n    <g id=\"ytick_44\">\n     <g id=\"line2d_50\">\n      <g>\n       <use style=\"stroke:#000000;stroke-width:0.6;\" x=\"37.7\" xlink:href=\"#m6fb9f281cc\" y=\"84.674555\"/>\n      </g>\n     </g>\n    </g>\n    <g id=\"ytick_45\">\n     <g id=\"line2d_51\">\n      <g>\n       <use style=\"stroke:#000000;stroke-width:0.6;\" x=\"37.7\" xlink:href=\"#m6fb9f281cc\" y=\"83.025726\"/>\n      </g>\n     </g>\n    </g>\n    <g id=\"ytick_46\">\n     <g id=\"line2d_52\">\n      <g>\n       <use style=\"stroke:#000000;stroke-width:0.6;\" x=\"37.7\" xlink:href=\"#m6fb9f281cc\" y=\"71.847523\"/>\n      </g>\n     </g>\n    </g>\n    <g id=\"ytick_47\">\n     <g id=\"line2d_53\">\n      <g>\n       <use style=\"stroke:#000000;stroke-width:0.6;\" x=\"37.7\" xlink:href=\"#m6fb9f281cc\" y=\"66.171471\"/>\n      </g>\n     </g>\n    </g>\n    <g id=\"ytick_48\">\n     <g id=\"line2d_54\">\n      <g>\n       <use style=\"stroke:#000000;stroke-width:0.6;\" x=\"37.7\" xlink:href=\"#m6fb9f281cc\" y=\"62.144249\"/>\n      </g>\n     </g>\n    </g>\n    <g id=\"ytick_49\">\n     <g id=\"line2d_55\">\n      <g>\n       <use style=\"stroke:#000000;stroke-width:0.6;\" x=\"37.7\" xlink:href=\"#m6fb9f281cc\" y=\"59.020492\"/>\n      </g>\n     </g>\n    </g>\n    <g id=\"ytick_50\">\n     <g id=\"line2d_56\">\n      <g>\n       <use style=\"stroke:#000000;stroke-width:0.6;\" x=\"37.7\" xlink:href=\"#m6fb9f281cc\" y=\"56.468197\"/>\n      </g>\n     </g>\n    </g>\n    <g id=\"ytick_51\">\n     <g id=\"line2d_57\">\n      <g>\n       <use style=\"stroke:#000000;stroke-width:0.6;\" x=\"37.7\" xlink:href=\"#m6fb9f281cc\" y=\"54.310262\"/>\n      </g>\n     </g>\n    </g>\n    <g id=\"ytick_52\">\n     <g id=\"line2d_58\">\n      <g>\n       <use style=\"stroke:#000000;stroke-width:0.6;\" x=\"37.7\" xlink:href=\"#m6fb9f281cc\" y=\"52.440974\"/>\n      </g>\n     </g>\n    </g>\n    <g id=\"ytick_53\">\n     <g id=\"line2d_59\">\n      <g>\n       <use style=\"stroke:#000000;stroke-width:0.6;\" x=\"37.7\" xlink:href=\"#m6fb9f281cc\" y=\"50.792145\"/>\n      </g>\n     </g>\n    </g>\n    <g id=\"ytick_54\">\n     <g id=\"line2d_60\">\n      <g>\n       <use style=\"stroke:#000000;stroke-width:0.6;\" x=\"37.7\" xlink:href=\"#m6fb9f281cc\" y=\"39.613942\"/>\n      </g>\n     </g>\n    </g>\n    <g id=\"ytick_55\">\n     <g id=\"line2d_61\">\n      <g>\n       <use style=\"stroke:#000000;stroke-width:0.6;\" x=\"37.7\" xlink:href=\"#m6fb9f281cc\" y=\"33.937891\"/>\n      </g>\n     </g>\n    </g>\n    <g id=\"ytick_56\">\n     <g id=\"line2d_62\">\n      <g>\n       <use style=\"stroke:#000000;stroke-width:0.6;\" x=\"37.7\" xlink:href=\"#m6fb9f281cc\" y=\"29.910668\"/>\n      </g>\n     </g>\n    </g>\n    <g id=\"ytick_57\">\n     <g id=\"line2d_63\">\n      <g>\n       <use style=\"stroke:#000000;stroke-width:0.6;\" x=\"37.7\" xlink:href=\"#m6fb9f281cc\" y=\"26.786911\"/>\n      </g>\n     </g>\n    </g>\n    <g id=\"ytick_58\">\n     <g id=\"line2d_64\">\n      <g>\n       <use style=\"stroke:#000000;stroke-width:0.6;\" x=\"37.7\" xlink:href=\"#m6fb9f281cc\" y=\"24.234616\"/>\n      </g>\n     </g>\n    </g>\n    <g id=\"ytick_59\">\n     <g id=\"line2d_65\">\n      <g>\n       <use style=\"stroke:#000000;stroke-width:0.6;\" x=\"37.7\" xlink:href=\"#m6fb9f281cc\" y=\"22.076681\"/>\n      </g>\n     </g>\n    </g>\n    <g id=\"ytick_60\">\n     <g id=\"line2d_66\">\n      <g>\n       <use style=\"stroke:#000000;stroke-width:0.6;\" x=\"37.7\" xlink:href=\"#m6fb9f281cc\" y=\"20.207393\"/>\n      </g>\n     </g>\n    </g>\n    <g id=\"ytick_61\">\n     <g id=\"line2d_67\">\n      <g>\n       <use style=\"stroke:#000000;stroke-width:0.6;\" x=\"37.7\" xlink:href=\"#m6fb9f281cc\" y=\"18.558564\"/>\n      </g>\n     </g>\n    </g>\n    <g id=\"ytick_62\">\n     <g id=\"line2d_68\">\n      <g>\n       <use style=\"stroke:#000000;stroke-width:0.6;\" x=\"37.7\" xlink:href=\"#m6fb9f281cc\" y=\"7.380362\"/>\n      </g>\n     </g>\n    </g>\n   </g>\n   <g id=\"line2d_69\">\n    <defs>\n     <path d=\"M 0 3 \nC 0.795609 3 1.55874 2.683901 2.12132 2.12132 \nC 2.683901 1.55874 3 0.795609 3 0 \nC 3 -0.795609 2.683901 -1.55874 2.12132 -2.12132 \nC 1.55874 -2.683901 0.795609 -3 0 -3 \nC -0.795609 -3 -1.55874 -2.683901 -2.12132 -2.12132 \nC -2.683901 -1.55874 -3 -0.795609 -3 0 \nC -3 0.795609 -2.683901 1.55874 -2.12132 2.12132 \nC -1.55874 2.683901 -0.795609 3 0 3 \nz\n\" id=\"md0b9ece31b\" style=\"stroke:#1f77b4;\"/>\n    </defs>\n    <g clip-path=\"url(#pd4223fab12)\">\n     <use style=\"fill-opacity:0;stroke:#1f77b4;\" x=\"52.918182\" xlink:href=\"#md0b9ece31b\" y=\"17.083636\"/>\n     <use style=\"fill-opacity:0;stroke:#1f77b4;\" x=\"55.974042\" xlink:href=\"#md0b9ece31b\" y=\"82.350261\"/>\n     <use style=\"fill-opacity:0;stroke:#1f77b4;\" x=\"59.029901\" xlink:href=\"#md0b9ece31b\" y=\"63.630533\"/>\n     <use style=\"fill-opacity:0;stroke:#1f77b4;\" x=\"62.085761\" xlink:href=\"#md0b9ece31b\" y=\"82.453313\"/>\n     <use style=\"fill-opacity:0;stroke:#1f77b4;\" x=\"65.141621\" xlink:href=\"#md0b9ece31b\" y=\"105.174892\"/>\n     <use style=\"fill-opacity:0;stroke:#1f77b4;\" x=\"68.197481\" xlink:href=\"#md0b9ece31b\" y=\"62.297443\"/>\n     <use style=\"fill-opacity:0;stroke:#1f77b4;\" x=\"71.253341\" xlink:href=\"#md0b9ece31b\" y=\"71.270773\"/>\n     <use style=\"fill-opacity:0;stroke:#1f77b4;\" x=\"74.3092\" xlink:href=\"#md0b9ece31b\" y=\"103.640956\"/>\n     <use style=\"fill-opacity:0;stroke:#1f77b4;\" x=\"77.36506\" xlink:href=\"#md0b9ece31b\" y=\"122.448536\"/>\n     <use style=\"fill-opacity:0;stroke:#1f77b4;\" x=\"80.42092\" xlink:href=\"#md0b9ece31b\" y=\"97.629329\"/>\n     <use style=\"fill-opacity:0;stroke:#1f77b4;\" x=\"83.47678\" xlink:href=\"#md0b9ece31b\" y=\"156.08634\"/>\n     <use style=\"fill-opacity:0;stroke:#1f77b4;\" x=\"86.53264\" xlink:href=\"#md0b9ece31b\" y=\"98.640149\"/>\n     <use style=\"fill-opacity:0;stroke:#1f77b4;\" x=\"89.588499\" xlink:href=\"#md0b9ece31b\" y=\"75.290327\"/>\n     <use style=\"fill-opacity:0;stroke:#1f77b4;\" x=\"92.644359\" xlink:href=\"#md0b9ece31b\" y=\"164.849962\"/>\n     <use style=\"fill-opacity:0;stroke:#1f77b4;\" x=\"95.700219\" xlink:href=\"#md0b9ece31b\" y=\"60.007846\"/>\n     <use style=\"fill-opacity:0;stroke:#1f77b4;\" x=\"98.756079\" xlink:href=\"#md0b9ece31b\" y=\"123.430881\"/>\n     <use style=\"fill-opacity:0;stroke:#1f77b4;\" x=\"101.811939\" xlink:href=\"#md0b9ece31b\" y=\"94.09334\"/>\n     <use style=\"fill-opacity:0;stroke:#1f77b4;\" x=\"104.867798\" xlink:href=\"#md0b9ece31b\" y=\"86.593342\"/>\n     <use style=\"fill-opacity:0;stroke:#1f77b4;\" x=\"107.923658\" xlink:href=\"#md0b9ece31b\" y=\"85.014017\"/>\n     <use style=\"fill-opacity:0;stroke:#1f77b4;\" x=\"110.979518\" xlink:href=\"#md0b9ece31b\" y=\"126.914045\"/>\n     <use style=\"fill-opacity:0;stroke:#1f77b4;\" x=\"114.035378\" xlink:href=\"#md0b9ece31b\" y=\"214.756364\"/>\n     <use style=\"fill-opacity:0;stroke:#1f77b4;\" x=\"117.091238\" xlink:href=\"#md0b9ece31b\" y=\"119.65066\"/>\n     <use style=\"fill-opacity:0;stroke:#1f77b4;\" x=\"120.147097\" xlink:href=\"#md0b9ece31b\" y=\"88.545684\"/>\n     <use style=\"fill-opacity:0;stroke:#1f77b4;\" x=\"123.202957\" xlink:href=\"#md0b9ece31b\" y=\"96.70396\"/>\n     <use style=\"fill-opacity:0;stroke:#1f77b4;\" x=\"126.258817\" xlink:href=\"#md0b9ece31b\" y=\"163.001842\"/>\n     <use style=\"fill-opacity:0;stroke:#1f77b4;\" x=\"129.314677\" xlink:href=\"#md0b9ece31b\" y=\"128.342277\"/>\n     <use style=\"fill-opacity:0;stroke:#1f77b4;\" x=\"132.370537\" xlink:href=\"#md0b9ece31b\" y=\"69.95336\"/>\n     <use style=\"fill-opacity:0;stroke:#1f77b4;\" x=\"135.426396\" xlink:href=\"#md0b9ece31b\" y=\"91.662491\"/>\n     <use style=\"fill-opacity:0;stroke:#1f77b4;\" x=\"138.482256\" xlink:href=\"#md0b9ece31b\" y=\"83.721929\"/>\n     <use style=\"fill-opacity:0;stroke:#1f77b4;\" x=\"141.538116\" xlink:href=\"#md0b9ece31b\" y=\"73.163481\"/>\n     <use style=\"fill-opacity:0;stroke:#1f77b4;\" x=\"144.593976\" xlink:href=\"#md0b9ece31b\" y=\"119.510605\"/>\n     <use style=\"fill-opacity:0;stroke:#1f77b4;\" x=\"147.649836\" xlink:href=\"#md0b9ece31b\" y=\"79.900218\"/>\n     <use style=\"fill-opacity:0;stroke:#1f77b4;\" x=\"150.705696\" xlink:href=\"#md0b9ece31b\" y=\"102.287654\"/>\n     <use style=\"fill-opacity:0;stroke:#1f77b4;\" x=\"154.372727\" xlink:href=\"#md0b9ece31b\" y=\"94.200652\"/>\n     <use style=\"fill-opacity:0;stroke:#1f77b4;\" x=\"157.428587\" xlink:href=\"#md0b9ece31b\" y=\"87.677918\"/>\n     <use style=\"fill-opacity:0;stroke:#1f77b4;\" x=\"160.484447\" xlink:href=\"#md0b9ece31b\" y=\"101.800061\"/>\n     <use style=\"fill-opacity:0;stroke:#1f77b4;\" x=\"163.540307\" xlink:href=\"#md0b9ece31b\" y=\"108.714732\"/>\n     <use style=\"fill-opacity:0;stroke:#1f77b4;\" x=\"166.596166\" xlink:href=\"#md0b9ece31b\" y=\"170.305813\"/>\n     <use style=\"fill-opacity:0;stroke:#1f77b4;\" x=\"169.652026\" xlink:href=\"#md0b9ece31b\" y=\"80.882458\"/>\n     <use style=\"fill-opacity:0;stroke:#1f77b4;\" x=\"172.707886\" xlink:href=\"#md0b9ece31b\" y=\"118.244882\"/>\n     <use style=\"fill-opacity:0;stroke:#1f77b4;\" x=\"175.763746\" xlink:href=\"#md0b9ece31b\" y=\"113.881476\"/>\n     <use style=\"fill-opacity:0;stroke:#1f77b4;\" x=\"178.819606\" xlink:href=\"#md0b9ece31b\" y=\"68.222708\"/>\n     <use style=\"fill-opacity:0;stroke:#1f77b4;\" x=\"181.875465\" xlink:href=\"#md0b9ece31b\" y=\"90.839971\"/>\n     <use style=\"fill-opacity:0;stroke:#1f77b4;\" x=\"184.931325\" xlink:href=\"#md0b9ece31b\" y=\"93.576778\"/>\n     <use style=\"fill-opacity:0;stroke:#1f77b4;\" x=\"187.987185\" xlink:href=\"#md0b9ece31b\" y=\"78.285473\"/>\n     <use style=\"fill-opacity:0;stroke:#1f77b4;\" x=\"191.043045\" xlink:href=\"#md0b9ece31b\" y=\"99.571082\"/>\n     <use style=\"fill-opacity:0;stroke:#1f77b4;\" x=\"194.098905\" xlink:href=\"#md0b9ece31b\" y=\"128.280008\"/>\n     <use style=\"fill-opacity:0;stroke:#1f77b4;\" x=\"197.154765\" xlink:href=\"#md0b9ece31b\" y=\"169.640675\"/>\n     <use style=\"fill-opacity:0;stroke:#1f77b4;\" x=\"200.210624\" xlink:href=\"#md0b9ece31b\" y=\"94.410439\"/>\n     <use style=\"fill-opacity:0;stroke:#1f77b4;\" x=\"203.266484\" xlink:href=\"#md0b9ece31b\" y=\"94.255307\"/>\n     <use style=\"fill-opacity:0;stroke:#1f77b4;\" x=\"206.322344\" xlink:href=\"#md0b9ece31b\" y=\"116.093301\"/>\n     <use style=\"fill-opacity:0;stroke:#1f77b4;\" x=\"209.378204\" xlink:href=\"#md0b9ece31b\" y=\"76.862002\"/>\n     <use style=\"fill-opacity:0;stroke:#1f77b4;\" x=\"212.434064\" xlink:href=\"#md0b9ece31b\" y=\"142.922556\"/>\n     <use style=\"fill-opacity:0;stroke:#1f77b4;\" x=\"215.489923\" xlink:href=\"#md0b9ece31b\" y=\"118.20503\"/>\n     <use style=\"fill-opacity:0;stroke:#1f77b4;\" x=\"218.545783\" xlink:href=\"#md0b9ece31b\" y=\"99.919011\"/>\n     <use style=\"fill-opacity:0;stroke:#1f77b4;\" x=\"221.601643\" xlink:href=\"#md0b9ece31b\" y=\"81.065956\"/>\n     <use style=\"fill-opacity:0;stroke:#1f77b4;\" x=\"224.657503\" xlink:href=\"#md0b9ece31b\" y=\"82.938699\"/>\n     <use style=\"fill-opacity:0;stroke:#1f77b4;\" x=\"227.713363\" xlink:href=\"#md0b9ece31b\" y=\"83.409678\"/>\n     <use style=\"fill-opacity:0;stroke:#1f77b4;\" x=\"230.769222\" xlink:href=\"#md0b9ece31b\" y=\"83.779499\"/>\n     <use style=\"fill-opacity:0;stroke:#1f77b4;\" x=\"233.825082\" xlink:href=\"#md0b9ece31b\" y=\"126.48991\"/>\n     <use style=\"fill-opacity:0;stroke:#1f77b4;\" x=\"236.880942\" xlink:href=\"#md0b9ece31b\" y=\"74.530224\"/>\n     <use style=\"fill-opacity:0;stroke:#1f77b4;\" x=\"239.936802\" xlink:href=\"#md0b9ece31b\" y=\"100.141826\"/>\n     <use style=\"fill-opacity:0;stroke:#1f77b4;\" x=\"242.992662\" xlink:href=\"#md0b9ece31b\" y=\"105.269551\"/>\n     <use style=\"fill-opacity:0;stroke:#1f77b4;\" x=\"246.048521\" xlink:href=\"#md0b9ece31b\" y=\"126.742069\"/>\n     <use style=\"fill-opacity:0;stroke:#1f77b4;\" x=\"249.104381\" xlink:href=\"#md0b9ece31b\" y=\"126.246149\"/>\n     <use style=\"fill-opacity:0;stroke:#1f77b4;\" x=\"252.160241\" xlink:href=\"#md0b9ece31b\" y=\"201.683064\"/>\n     <use style=\"fill-opacity:0;stroke:#1f77b4;\" x=\"255.827273\" xlink:href=\"#md0b9ece31b\" y=\"102.358686\"/>\n     <use style=\"fill-opacity:0;stroke:#1f77b4;\" x=\"258.883133\" xlink:href=\"#md0b9ece31b\" y=\"129.544372\"/>\n     <use style=\"fill-opacity:0;stroke:#1f77b4;\" x=\"261.938992\" xlink:href=\"#md0b9ece31b\" y=\"118.247034\"/>\n     <use style=\"fill-opacity:0;stroke:#1f77b4;\" x=\"264.994852\" xlink:href=\"#md0b9ece31b\" y=\"195.70102\"/>\n     <use style=\"fill-opacity:0;stroke:#1f77b4;\" x=\"268.050712\" xlink:href=\"#md0b9ece31b\" y=\"88.849328\"/>\n     <use style=\"fill-opacity:0;stroke:#1f77b4;\" x=\"271.106572\" xlink:href=\"#md0b9ece31b\" y=\"82.473364\"/>\n     <use style=\"fill-opacity:0;stroke:#1f77b4;\" x=\"274.162432\" xlink:href=\"#md0b9ece31b\" y=\"98.037144\"/>\n     <use style=\"fill-opacity:0;stroke:#1f77b4;\" x=\"277.218291\" xlink:href=\"#md0b9ece31b\" y=\"106.21579\"/>\n     <use style=\"fill-opacity:0;stroke:#1f77b4;\" x=\"280.274151\" xlink:href=\"#md0b9ece31b\" y=\"108.679781\"/>\n     <use style=\"fill-opacity:0;stroke:#1f77b4;\" x=\"283.330011\" xlink:href=\"#md0b9ece31b\" y=\"113.433903\"/>\n     <use style=\"fill-opacity:0;stroke:#1f77b4;\" x=\"286.385871\" xlink:href=\"#md0b9ece31b\" y=\"92.041122\"/>\n     <use style=\"fill-opacity:0;stroke:#1f77b4;\" x=\"289.441731\" xlink:href=\"#md0b9ece31b\" y=\"95.858059\"/>\n     <use style=\"fill-opacity:0;stroke:#1f77b4;\" x=\"292.49759\" xlink:href=\"#md0b9ece31b\" y=\"129.313787\"/>\n     <use style=\"fill-opacity:0;stroke:#1f77b4;\" x=\"295.55345\" xlink:href=\"#md0b9ece31b\" y=\"122.040788\"/>\n     <use style=\"fill-opacity:0;stroke:#1f77b4;\" x=\"298.60931\" xlink:href=\"#md0b9ece31b\" y=\"95.971577\"/>\n     <use style=\"fill-opacity:0;stroke:#1f77b4;\" x=\"301.66517\" xlink:href=\"#md0b9ece31b\" y=\"101.305496\"/>\n     <use style=\"fill-opacity:0;stroke:#1f77b4;\" x=\"304.72103\" xlink:href=\"#md0b9ece31b\" y=\"133.828271\"/>\n     <use style=\"fill-opacity:0;stroke:#1f77b4;\" x=\"307.776889\" xlink:href=\"#md0b9ece31b\" y=\"145.003474\"/>\n     <use style=\"fill-opacity:0;stroke:#1f77b4;\" x=\"310.832749\" xlink:href=\"#md0b9ece31b\" y=\"95.554883\"/>\n     <use style=\"fill-opacity:0;stroke:#1f77b4;\" x=\"313.888609\" xlink:href=\"#md0b9ece31b\" y=\"86.351902\"/>\n     <use style=\"fill-opacity:0;stroke:#1f77b4;\" x=\"316.944469\" xlink:href=\"#md0b9ece31b\" y=\"89.489931\"/>\n     <use style=\"fill-opacity:0;stroke:#1f77b4;\" x=\"320.000329\" xlink:href=\"#md0b9ece31b\" y=\"157.953856\"/>\n     <use style=\"fill-opacity:0;stroke:#1f77b4;\" x=\"323.056188\" xlink:href=\"#md0b9ece31b\" y=\"103.525023\"/>\n     <use style=\"fill-opacity:0;stroke:#1f77b4;\" x=\"326.112048\" xlink:href=\"#md0b9ece31b\" y=\"80.74879\"/>\n     <use style=\"fill-opacity:0;stroke:#1f77b4;\" x=\"329.167908\" xlink:href=\"#md0b9ece31b\" y=\"112.626026\"/>\n     <use style=\"fill-opacity:0;stroke:#1f77b4;\" x=\"332.223768\" xlink:href=\"#md0b9ece31b\" y=\"93.763906\"/>\n     <use style=\"fill-opacity:0;stroke:#1f77b4;\" x=\"335.279628\" xlink:href=\"#md0b9ece31b\" y=\"95.597743\"/>\n     <use style=\"fill-opacity:0;stroke:#1f77b4;\" x=\"338.335487\" xlink:href=\"#md0b9ece31b\" y=\"160.659418\"/>\n     <use style=\"fill-opacity:0;stroke:#1f77b4;\" x=\"341.391347\" xlink:href=\"#md0b9ece31b\" y=\"107.487234\"/>\n     <use style=\"fill-opacity:0;stroke:#1f77b4;\" x=\"344.447207\" xlink:href=\"#md0b9ece31b\" y=\"129.575295\"/>\n     <use style=\"fill-opacity:0;stroke:#1f77b4;\" x=\"347.503067\" xlink:href=\"#md0b9ece31b\" y=\"153.594103\"/>\n     <use style=\"fill-opacity:0;stroke:#1f77b4;\" x=\"350.558927\" xlink:href=\"#md0b9ece31b\" y=\"134.235127\"/>\n     <use style=\"fill-opacity:0;stroke:#1f77b4;\" x=\"353.614786\" xlink:href=\"#md0b9ece31b\" y=\"123.25421\"/>\n     <use style=\"fill-opacity:0;stroke:#1f77b4;\" x=\"357.281818\" xlink:href=\"#md0b9ece31b\" y=\"124.865188\"/>\n    </g>\n   </g>\n   <g id=\"patch_3\">\n    <path d=\"M 37.7 224.64 \nL 37.7 7.2 \n\" style=\"fill:none;stroke:#000000;stroke-linecap:square;stroke-linejoin:miter;stroke-width:0.8;\"/>\n   </g>\n   <g id=\"patch_4\">\n    <path d=\"M 372.5 224.64 \nL 372.5 7.2 \n\" style=\"fill:none;stroke:#000000;stroke-linecap:square;stroke-linejoin:miter;stroke-width:0.8;\"/>\n   </g>\n   <g id=\"patch_5\">\n    <path d=\"M 37.7 224.64 \nL 372.5 224.64 \n\" style=\"fill:none;stroke:#000000;stroke-linecap:square;stroke-linejoin:miter;stroke-width:0.8;\"/>\n   </g>\n   <g id=\"patch_6\">\n    <path d=\"M 37.7 7.2 \nL 372.5 7.2 \n\" style=\"fill:none;stroke:#000000;stroke-linecap:square;stroke-linejoin:miter;stroke-width:0.8;\"/>\n   </g>\n  </g>\n </g>\n <defs>\n  <clipPath id=\"pd4223fab12\">\n   <rect height=\"217.44\" width=\"334.8\" x=\"37.7\" y=\"7.2\"/>\n  </clipPath>\n </defs>\n</svg>\n"
          },
          "metadata": {
            "tags": [],
            "needs_background": "light"
          }
        }
      ]
    },
    {
      "cell_type": "code",
      "metadata": {
        "colab": {
          "base_uri": "https://localhost:8080/",
          "height": 390
        },
        "id": "HHxYHihmx5u3",
        "outputId": "7202346c-1385-49fd-df84-d26eec57e942"
      },
      "source": [
        "n_range = np.linspace(2,500,100,dtype=int)\n",
        "rsquareds = [sim(0,0.1,0.5,n) for n in n_range]\n",
        "plt.semilogy(n_range,rsquareds,'o',fillstyle=\"none\")\n",
        "\n",
        "n_range = np.linspace(2,500,100,dtype=int)\n",
        "rsquareds = [sim(0,1,0.5,n) for n in n_range]\n",
        "\n",
        "plt.semilogy(n_range,rsquareds,'o',fillstyle=\"none\")"
      ],
      "execution_count": null,
      "outputs": [
        {
          "output_type": "execute_result",
          "data": {
            "text/plain": [
              "[<matplotlib.lines.Line2D at 0x7f8b76fdf4d0>]"
            ]
          },
          "metadata": {
            "tags": []
          },
          "execution_count": 13
        },
        {
          "output_type": "display_data",
          "data": {
            "image/svg+xml": "<?xml version=\"1.0\" encoding=\"utf-8\" standalone=\"no\"?>\n<!DOCTYPE svg PUBLIC \"-//W3C//DTD SVG 1.1//EN\"\n  \"http://www.w3.org/Graphics/SVG/1.1/DTD/svg11.dtd\">\n<!-- Created with matplotlib (https://matplotlib.org/) -->\n<svg height=\"248.518125pt\" version=\"1.1\" viewBox=\"0 0 379.7 248.518125\" width=\"379.7pt\" xmlns=\"http://www.w3.org/2000/svg\" xmlns:xlink=\"http://www.w3.org/1999/xlink\">\n <defs>\n  <style type=\"text/css\">\n*{stroke-linecap:butt;stroke-linejoin:round;}\n  </style>\n </defs>\n <g id=\"figure_1\">\n  <g id=\"patch_1\">\n   <path d=\"M 0 248.518125 \nL 379.7 248.518125 \nL 379.7 0 \nL 0 0 \nz\n\" style=\"fill:none;\"/>\n  </g>\n  <g id=\"axes_1\">\n   <g id=\"patch_2\">\n    <path d=\"M 37.7 224.64 \nL 372.5 224.64 \nL 372.5 7.2 \nL 37.7 7.2 \nz\n\" style=\"fill:#ffffff;\"/>\n   </g>\n   <g id=\"matplotlib.axis_1\">\n    <g id=\"xtick_1\">\n     <g id=\"line2d_1\">\n      <defs>\n       <path d=\"M 0 0 \nL 0 3.5 \n\" id=\"m6eed23bfe5\" style=\"stroke:#000000;stroke-width:0.8;\"/>\n      </defs>\n      <g>\n       <use style=\"stroke:#000000;stroke-width:0.8;\" x=\"51.695838\" xlink:href=\"#m6eed23bfe5\" y=\"224.64\"/>\n      </g>\n     </g>\n     <g id=\"text_1\">\n      <!-- 0 -->\n      <defs>\n       <path d=\"M 31.78125 66.40625 \nQ 24.171875 66.40625 20.328125 58.90625 \nQ 16.5 51.421875 16.5 36.375 \nQ 16.5 21.390625 20.328125 13.890625 \nQ 24.171875 6.390625 31.78125 6.390625 \nQ 39.453125 6.390625 43.28125 13.890625 \nQ 47.125 21.390625 47.125 36.375 \nQ 47.125 51.421875 43.28125 58.90625 \nQ 39.453125 66.40625 31.78125 66.40625 \nz\nM 31.78125 74.21875 \nQ 44.046875 74.21875 50.515625 64.515625 \nQ 56.984375 54.828125 56.984375 36.375 \nQ 56.984375 17.96875 50.515625 8.265625 \nQ 44.046875 -1.421875 31.78125 -1.421875 \nQ 19.53125 -1.421875 13.0625 8.265625 \nQ 6.59375 17.96875 6.59375 36.375 \nQ 6.59375 54.828125 13.0625 64.515625 \nQ 19.53125 74.21875 31.78125 74.21875 \nz\n\" id=\"DejaVuSans-48\"/>\n      </defs>\n      <g transform=\"translate(48.514588 239.238437)scale(0.1 -0.1)\">\n       <use xlink:href=\"#DejaVuSans-48\"/>\n      </g>\n     </g>\n    </g>\n    <g id=\"xtick_2\">\n     <g id=\"line2d_2\">\n      <g>\n       <use style=\"stroke:#000000;stroke-width:0.8;\" x=\"112.813034\" xlink:href=\"#m6eed23bfe5\" y=\"224.64\"/>\n      </g>\n     </g>\n     <g id=\"text_2\">\n      <!-- 100 -->\n      <defs>\n       <path d=\"M 12.40625 8.296875 \nL 28.515625 8.296875 \nL 28.515625 63.921875 \nL 10.984375 60.40625 \nL 10.984375 69.390625 \nL 28.421875 72.90625 \nL 38.28125 72.90625 \nL 38.28125 8.296875 \nL 54.390625 8.296875 \nL 54.390625 0 \nL 12.40625 0 \nz\n\" id=\"DejaVuSans-49\"/>\n      </defs>\n      <g transform=\"translate(103.269284 239.238437)scale(0.1 -0.1)\">\n       <use xlink:href=\"#DejaVuSans-49\"/>\n       <use x=\"63.623047\" xlink:href=\"#DejaVuSans-48\"/>\n       <use x=\"127.246094\" xlink:href=\"#DejaVuSans-48\"/>\n      </g>\n     </g>\n    </g>\n    <g id=\"xtick_3\">\n     <g id=\"line2d_3\">\n      <g>\n       <use style=\"stroke:#000000;stroke-width:0.8;\" x=\"173.93023\" xlink:href=\"#m6eed23bfe5\" y=\"224.64\"/>\n      </g>\n     </g>\n     <g id=\"text_3\">\n      <!-- 200 -->\n      <defs>\n       <path d=\"M 19.1875 8.296875 \nL 53.609375 8.296875 \nL 53.609375 0 \nL 7.328125 0 \nL 7.328125 8.296875 \nQ 12.9375 14.109375 22.625 23.890625 \nQ 32.328125 33.6875 34.8125 36.53125 \nQ 39.546875 41.84375 41.421875 45.53125 \nQ 43.3125 49.21875 43.3125 52.78125 \nQ 43.3125 58.59375 39.234375 62.25 \nQ 35.15625 65.921875 28.609375 65.921875 \nQ 23.96875 65.921875 18.8125 64.3125 \nQ 13.671875 62.703125 7.8125 59.421875 \nL 7.8125 69.390625 \nQ 13.765625 71.78125 18.9375 73 \nQ 24.125 74.21875 28.421875 74.21875 \nQ 39.75 74.21875 46.484375 68.546875 \nQ 53.21875 62.890625 53.21875 53.421875 \nQ 53.21875 48.921875 51.53125 44.890625 \nQ 49.859375 40.875 45.40625 35.40625 \nQ 44.1875 33.984375 37.640625 27.21875 \nQ 31.109375 20.453125 19.1875 8.296875 \nz\n\" id=\"DejaVuSans-50\"/>\n      </defs>\n      <g transform=\"translate(164.38648 239.238437)scale(0.1 -0.1)\">\n       <use xlink:href=\"#DejaVuSans-50\"/>\n       <use x=\"63.623047\" xlink:href=\"#DejaVuSans-48\"/>\n       <use x=\"127.246094\" xlink:href=\"#DejaVuSans-48\"/>\n      </g>\n     </g>\n    </g>\n    <g id=\"xtick_4\">\n     <g id=\"line2d_4\">\n      <g>\n       <use style=\"stroke:#000000;stroke-width:0.8;\" x=\"235.047426\" xlink:href=\"#m6eed23bfe5\" y=\"224.64\"/>\n      </g>\n     </g>\n     <g id=\"text_4\">\n      <!-- 300 -->\n      <defs>\n       <path d=\"M 40.578125 39.3125 \nQ 47.65625 37.796875 51.625 33 \nQ 55.609375 28.21875 55.609375 21.1875 \nQ 55.609375 10.40625 48.1875 4.484375 \nQ 40.765625 -1.421875 27.09375 -1.421875 \nQ 22.515625 -1.421875 17.65625 -0.515625 \nQ 12.796875 0.390625 7.625 2.203125 \nL 7.625 11.71875 \nQ 11.71875 9.328125 16.59375 8.109375 \nQ 21.484375 6.890625 26.8125 6.890625 \nQ 36.078125 6.890625 40.9375 10.546875 \nQ 45.796875 14.203125 45.796875 21.1875 \nQ 45.796875 27.640625 41.28125 31.265625 \nQ 36.765625 34.90625 28.71875 34.90625 \nL 20.21875 34.90625 \nL 20.21875 43.015625 \nL 29.109375 43.015625 \nQ 36.375 43.015625 40.234375 45.921875 \nQ 44.09375 48.828125 44.09375 54.296875 \nQ 44.09375 59.90625 40.109375 62.90625 \nQ 36.140625 65.921875 28.71875 65.921875 \nQ 24.65625 65.921875 20.015625 65.03125 \nQ 15.375 64.15625 9.8125 62.3125 \nL 9.8125 71.09375 \nQ 15.4375 72.65625 20.34375 73.4375 \nQ 25.25 74.21875 29.59375 74.21875 \nQ 40.828125 74.21875 47.359375 69.109375 \nQ 53.90625 64.015625 53.90625 55.328125 \nQ 53.90625 49.265625 50.4375 45.09375 \nQ 46.96875 40.921875 40.578125 39.3125 \nz\n\" id=\"DejaVuSans-51\"/>\n      </defs>\n      <g transform=\"translate(225.503676 239.238437)scale(0.1 -0.1)\">\n       <use xlink:href=\"#DejaVuSans-51\"/>\n       <use x=\"63.623047\" xlink:href=\"#DejaVuSans-48\"/>\n       <use x=\"127.246094\" xlink:href=\"#DejaVuSans-48\"/>\n      </g>\n     </g>\n    </g>\n    <g id=\"xtick_5\">\n     <g id=\"line2d_5\">\n      <g>\n       <use style=\"stroke:#000000;stroke-width:0.8;\" x=\"296.164622\" xlink:href=\"#m6eed23bfe5\" y=\"224.64\"/>\n      </g>\n     </g>\n     <g id=\"text_5\">\n      <!-- 400 -->\n      <defs>\n       <path d=\"M 37.796875 64.3125 \nL 12.890625 25.390625 \nL 37.796875 25.390625 \nz\nM 35.203125 72.90625 \nL 47.609375 72.90625 \nL 47.609375 25.390625 \nL 58.015625 25.390625 \nL 58.015625 17.1875 \nL 47.609375 17.1875 \nL 47.609375 0 \nL 37.796875 0 \nL 37.796875 17.1875 \nL 4.890625 17.1875 \nL 4.890625 26.703125 \nz\n\" id=\"DejaVuSans-52\"/>\n      </defs>\n      <g transform=\"translate(286.620872 239.238437)scale(0.1 -0.1)\">\n       <use xlink:href=\"#DejaVuSans-52\"/>\n       <use x=\"63.623047\" xlink:href=\"#DejaVuSans-48\"/>\n       <use x=\"127.246094\" xlink:href=\"#DejaVuSans-48\"/>\n      </g>\n     </g>\n    </g>\n    <g id=\"xtick_6\">\n     <g id=\"line2d_6\">\n      <g>\n       <use style=\"stroke:#000000;stroke-width:0.8;\" x=\"357.281818\" xlink:href=\"#m6eed23bfe5\" y=\"224.64\"/>\n      </g>\n     </g>\n     <g id=\"text_6\">\n      <!-- 500 -->\n      <defs>\n       <path d=\"M 10.796875 72.90625 \nL 49.515625 72.90625 \nL 49.515625 64.59375 \nL 19.828125 64.59375 \nL 19.828125 46.734375 \nQ 21.96875 47.46875 24.109375 47.828125 \nQ 26.265625 48.1875 28.421875 48.1875 \nQ 40.625 48.1875 47.75 41.5 \nQ 54.890625 34.8125 54.890625 23.390625 \nQ 54.890625 11.625 47.5625 5.09375 \nQ 40.234375 -1.421875 26.90625 -1.421875 \nQ 22.3125 -1.421875 17.546875 -0.640625 \nQ 12.796875 0.140625 7.71875 1.703125 \nL 7.71875 11.625 \nQ 12.109375 9.234375 16.796875 8.0625 \nQ 21.484375 6.890625 26.703125 6.890625 \nQ 35.15625 6.890625 40.078125 11.328125 \nQ 45.015625 15.765625 45.015625 23.390625 \nQ 45.015625 31 40.078125 35.4375 \nQ 35.15625 39.890625 26.703125 39.890625 \nQ 22.75 39.890625 18.8125 39.015625 \nQ 14.890625 38.140625 10.796875 36.28125 \nz\n\" id=\"DejaVuSans-53\"/>\n      </defs>\n      <g transform=\"translate(347.738068 239.238437)scale(0.1 -0.1)\">\n       <use xlink:href=\"#DejaVuSans-53\"/>\n       <use x=\"63.623047\" xlink:href=\"#DejaVuSans-48\"/>\n       <use x=\"127.246094\" xlink:href=\"#DejaVuSans-48\"/>\n      </g>\n     </g>\n    </g>\n   </g>\n   <g id=\"matplotlib.axis_2\">\n    <g id=\"ytick_1\">\n     <g id=\"line2d_7\">\n      <defs>\n       <path d=\"M 0 0 \nL -3.5 0 \n\" id=\"m2f90d20fc1\" style=\"stroke:#000000;stroke-width:0.8;\"/>\n      </defs>\n      <g>\n       <use style=\"stroke:#000000;stroke-width:0.8;\" x=\"37.7\" xlink:href=\"#m2f90d20fc1\" y=\"199.601632\"/>\n      </g>\n     </g>\n     <g id=\"text_7\">\n      <!-- $\\mathdefault{10^{-5}}$ -->\n      <defs>\n       <path d=\"M 10.59375 35.5 \nL 73.1875 35.5 \nL 73.1875 27.203125 \nL 10.59375 27.203125 \nz\n\" id=\"DejaVuSans-8722\"/>\n      </defs>\n      <g transform=\"translate(7.2 203.400851)scale(0.1 -0.1)\">\n       <use transform=\"translate(0 0.684375)\" xlink:href=\"#DejaVuSans-49\"/>\n       <use transform=\"translate(63.623047 0.684375)\" xlink:href=\"#DejaVuSans-48\"/>\n       <use transform=\"translate(128.203125 38.965625)scale(0.7)\" xlink:href=\"#DejaVuSans-8722\"/>\n       <use transform=\"translate(186.855469 38.965625)scale(0.7)\" xlink:href=\"#DejaVuSans-53\"/>\n      </g>\n     </g>\n    </g>\n    <g id=\"ytick_2\">\n     <g id=\"line2d_8\">\n      <g>\n       <use style=\"stroke:#000000;stroke-width:0.8;\" x=\"37.7\" xlink:href=\"#m2f90d20fc1\" y=\"163.098033\"/>\n      </g>\n     </g>\n     <g id=\"text_8\">\n      <!-- $\\mathdefault{10^{-4}}$ -->\n      <g transform=\"translate(7.2 166.897252)scale(0.1 -0.1)\">\n       <use transform=\"translate(0 0.684375)\" xlink:href=\"#DejaVuSans-49\"/>\n       <use transform=\"translate(63.623047 0.684375)\" xlink:href=\"#DejaVuSans-48\"/>\n       <use transform=\"translate(128.203125 38.965625)scale(0.7)\" xlink:href=\"#DejaVuSans-8722\"/>\n       <use transform=\"translate(186.855469 38.965625)scale(0.7)\" xlink:href=\"#DejaVuSans-52\"/>\n      </g>\n     </g>\n    </g>\n    <g id=\"ytick_3\">\n     <g id=\"line2d_9\">\n      <g>\n       <use style=\"stroke:#000000;stroke-width:0.8;\" x=\"37.7\" xlink:href=\"#m2f90d20fc1\" y=\"126.594434\"/>\n      </g>\n     </g>\n     <g id=\"text_9\">\n      <!-- $\\mathdefault{10^{-3}}$ -->\n      <g transform=\"translate(7.2 130.393653)scale(0.1 -0.1)\">\n       <use transform=\"translate(0 0.765625)\" xlink:href=\"#DejaVuSans-49\"/>\n       <use transform=\"translate(63.623047 0.765625)\" xlink:href=\"#DejaVuSans-48\"/>\n       <use transform=\"translate(128.203125 39.046875)scale(0.7)\" xlink:href=\"#DejaVuSans-8722\"/>\n       <use transform=\"translate(186.855469 39.046875)scale(0.7)\" xlink:href=\"#DejaVuSans-51\"/>\n      </g>\n     </g>\n    </g>\n    <g id=\"ytick_4\">\n     <g id=\"line2d_10\">\n      <g>\n       <use style=\"stroke:#000000;stroke-width:0.8;\" x=\"37.7\" xlink:href=\"#m2f90d20fc1\" y=\"90.090835\"/>\n      </g>\n     </g>\n     <g id=\"text_10\">\n      <!-- $\\mathdefault{10^{-2}}$ -->\n      <g transform=\"translate(7.2 93.890053)scale(0.1 -0.1)\">\n       <use transform=\"translate(0 0.765625)\" xlink:href=\"#DejaVuSans-49\"/>\n       <use transform=\"translate(63.623047 0.765625)\" xlink:href=\"#DejaVuSans-48\"/>\n       <use transform=\"translate(128.203125 39.046875)scale(0.7)\" xlink:href=\"#DejaVuSans-8722\"/>\n       <use transform=\"translate(186.855469 39.046875)scale(0.7)\" xlink:href=\"#DejaVuSans-50\"/>\n      </g>\n     </g>\n    </g>\n    <g id=\"ytick_5\">\n     <g id=\"line2d_11\">\n      <g>\n       <use style=\"stroke:#000000;stroke-width:0.8;\" x=\"37.7\" xlink:href=\"#m2f90d20fc1\" y=\"53.587236\"/>\n      </g>\n     </g>\n     <g id=\"text_11\">\n      <!-- $\\mathdefault{10^{-1}}$ -->\n      <g transform=\"translate(7.2 57.386454)scale(0.1 -0.1)\">\n       <use transform=\"translate(0 0.684375)\" xlink:href=\"#DejaVuSans-49\"/>\n       <use transform=\"translate(63.623047 0.684375)\" xlink:href=\"#DejaVuSans-48\"/>\n       <use transform=\"translate(128.203125 38.965625)scale(0.7)\" xlink:href=\"#DejaVuSans-8722\"/>\n       <use transform=\"translate(186.855469 38.965625)scale(0.7)\" xlink:href=\"#DejaVuSans-49\"/>\n      </g>\n     </g>\n    </g>\n    <g id=\"ytick_6\">\n     <g id=\"line2d_12\">\n      <g>\n       <use style=\"stroke:#000000;stroke-width:0.8;\" x=\"37.7\" xlink:href=\"#m2f90d20fc1\" y=\"17.083636\"/>\n      </g>\n     </g>\n     <g id=\"text_12\">\n      <!-- $\\mathdefault{10^{0}}$ -->\n      <g transform=\"translate(13.1 20.882855)scale(0.1 -0.1)\">\n       <use transform=\"translate(0 0.765625)\" xlink:href=\"#DejaVuSans-49\"/>\n       <use transform=\"translate(63.623047 0.765625)\" xlink:href=\"#DejaVuSans-48\"/>\n       <use transform=\"translate(128.203125 39.046875)scale(0.7)\" xlink:href=\"#DejaVuSans-48\"/>\n      </g>\n     </g>\n    </g>\n    <g id=\"ytick_7\">\n     <g id=\"line2d_13\">\n      <defs>\n       <path d=\"M 0 0 \nL -2 0 \n\" id=\"mcca49cc4d8\" style=\"stroke:#000000;stroke-width:0.6;\"/>\n      </defs>\n      <g>\n       <use style=\"stroke:#000000;stroke-width:0.6;\" x=\"37.7\" xlink:href=\"#mcca49cc4d8\" y=\"218.688588\"/>\n      </g>\n     </g>\n    </g>\n    <g id=\"ytick_8\">\n     <g id=\"line2d_14\">\n      <g>\n       <use style=\"stroke:#000000;stroke-width:0.6;\" x=\"37.7\" xlink:href=\"#mcca49cc4d8\" y=\"214.127875\"/>\n      </g>\n     </g>\n    </g>\n    <g id=\"ytick_9\">\n     <g id=\"line2d_15\">\n      <g>\n       <use style=\"stroke:#000000;stroke-width:0.6;\" x=\"37.7\" xlink:href=\"#mcca49cc4d8\" y=\"210.590311\"/>\n      </g>\n     </g>\n    </g>\n    <g id=\"ytick_10\">\n     <g id=\"line2d_16\">\n      <g>\n       <use style=\"stroke:#000000;stroke-width:0.6;\" x=\"37.7\" xlink:href=\"#mcca49cc4d8\" y=\"207.69991\"/>\n      </g>\n     </g>\n    </g>\n    <g id=\"ytick_11\">\n     <g id=\"line2d_17\">\n      <g>\n       <use style=\"stroke:#000000;stroke-width:0.6;\" x=\"37.7\" xlink:href=\"#mcca49cc4d8\" y=\"205.256111\"/>\n      </g>\n     </g>\n    </g>\n    <g id=\"ytick_12\">\n     <g id=\"line2d_18\">\n      <g>\n       <use style=\"stroke:#000000;stroke-width:0.6;\" x=\"37.7\" xlink:href=\"#mcca49cc4d8\" y=\"203.139197\"/>\n      </g>\n     </g>\n    </g>\n    <g id=\"ytick_13\">\n     <g id=\"line2d_19\">\n      <g>\n       <use style=\"stroke:#000000;stroke-width:0.6;\" x=\"37.7\" xlink:href=\"#mcca49cc4d8\" y=\"201.271945\"/>\n      </g>\n     </g>\n    </g>\n    <g id=\"ytick_14\">\n     <g id=\"line2d_20\">\n      <g>\n       <use style=\"stroke:#000000;stroke-width:0.6;\" x=\"37.7\" xlink:href=\"#mcca49cc4d8\" y=\"188.612954\"/>\n      </g>\n     </g>\n    </g>\n    <g id=\"ytick_15\">\n     <g id=\"line2d_21\">\n      <g>\n       <use style=\"stroke:#000000;stroke-width:0.6;\" x=\"37.7\" xlink:href=\"#mcca49cc4d8\" y=\"182.184989\"/>\n      </g>\n     </g>\n    </g>\n    <g id=\"ytick_16\">\n     <g id=\"line2d_22\">\n      <g>\n       <use style=\"stroke:#000000;stroke-width:0.6;\" x=\"37.7\" xlink:href=\"#mcca49cc4d8\" y=\"177.624276\"/>\n      </g>\n     </g>\n    </g>\n    <g id=\"ytick_17\">\n     <g id=\"line2d_23\">\n      <g>\n       <use style=\"stroke:#000000;stroke-width:0.6;\" x=\"37.7\" xlink:href=\"#mcca49cc4d8\" y=\"174.086711\"/>\n      </g>\n     </g>\n    </g>\n    <g id=\"ytick_18\">\n     <g id=\"line2d_24\">\n      <g>\n       <use style=\"stroke:#000000;stroke-width:0.6;\" x=\"37.7\" xlink:href=\"#mcca49cc4d8\" y=\"171.196311\"/>\n      </g>\n     </g>\n    </g>\n    <g id=\"ytick_19\">\n     <g id=\"line2d_25\">\n      <g>\n       <use style=\"stroke:#000000;stroke-width:0.6;\" x=\"37.7\" xlink:href=\"#mcca49cc4d8\" y=\"168.752512\"/>\n      </g>\n     </g>\n    </g>\n    <g id=\"ytick_20\">\n     <g id=\"line2d_26\">\n      <g>\n       <use style=\"stroke:#000000;stroke-width:0.6;\" x=\"37.7\" xlink:href=\"#mcca49cc4d8\" y=\"166.635597\"/>\n      </g>\n     </g>\n    </g>\n    <g id=\"ytick_21\">\n     <g id=\"line2d_27\">\n      <g>\n       <use style=\"stroke:#000000;stroke-width:0.6;\" x=\"37.7\" xlink:href=\"#mcca49cc4d8\" y=\"164.768346\"/>\n      </g>\n     </g>\n    </g>\n    <g id=\"ytick_22\">\n     <g id=\"line2d_28\">\n      <g>\n       <use style=\"stroke:#000000;stroke-width:0.6;\" x=\"37.7\" xlink:href=\"#mcca49cc4d8\" y=\"152.109355\"/>\n      </g>\n     </g>\n    </g>\n    <g id=\"ytick_23\">\n     <g id=\"line2d_29\">\n      <g>\n       <use style=\"stroke:#000000;stroke-width:0.6;\" x=\"37.7\" xlink:href=\"#mcca49cc4d8\" y=\"145.68139\"/>\n      </g>\n     </g>\n    </g>\n    <g id=\"ytick_24\">\n     <g id=\"line2d_30\">\n      <g>\n       <use style=\"stroke:#000000;stroke-width:0.6;\" x=\"37.7\" xlink:href=\"#mcca49cc4d8\" y=\"141.120677\"/>\n      </g>\n     </g>\n    </g>\n    <g id=\"ytick_25\">\n     <g id=\"line2d_31\">\n      <g>\n       <use style=\"stroke:#000000;stroke-width:0.6;\" x=\"37.7\" xlink:href=\"#mcca49cc4d8\" y=\"137.583112\"/>\n      </g>\n     </g>\n    </g>\n    <g id=\"ytick_26\">\n     <g id=\"line2d_32\">\n      <g>\n       <use style=\"stroke:#000000;stroke-width:0.6;\" x=\"37.7\" xlink:href=\"#mcca49cc4d8\" y=\"134.692712\"/>\n      </g>\n     </g>\n    </g>\n    <g id=\"ytick_27\">\n     <g id=\"line2d_33\">\n      <g>\n       <use style=\"stroke:#000000;stroke-width:0.6;\" x=\"37.7\" xlink:href=\"#mcca49cc4d8\" y=\"132.248913\"/>\n      </g>\n     </g>\n    </g>\n    <g id=\"ytick_28\">\n     <g id=\"line2d_34\">\n      <g>\n       <use style=\"stroke:#000000;stroke-width:0.6;\" x=\"37.7\" xlink:href=\"#mcca49cc4d8\" y=\"130.131998\"/>\n      </g>\n     </g>\n    </g>\n    <g id=\"ytick_29\">\n     <g id=\"line2d_35\">\n      <g>\n       <use style=\"stroke:#000000;stroke-width:0.6;\" x=\"37.7\" xlink:href=\"#mcca49cc4d8\" y=\"128.264747\"/>\n      </g>\n     </g>\n    </g>\n    <g id=\"ytick_30\">\n     <g id=\"line2d_36\">\n      <g>\n       <use style=\"stroke:#000000;stroke-width:0.6;\" x=\"37.7\" xlink:href=\"#mcca49cc4d8\" y=\"115.605756\"/>\n      </g>\n     </g>\n    </g>\n    <g id=\"ytick_31\">\n     <g id=\"line2d_37\">\n      <g>\n       <use style=\"stroke:#000000;stroke-width:0.6;\" x=\"37.7\" xlink:href=\"#mcca49cc4d8\" y=\"109.177791\"/>\n      </g>\n     </g>\n    </g>\n    <g id=\"ytick_32\">\n     <g id=\"line2d_38\">\n      <g>\n       <use style=\"stroke:#000000;stroke-width:0.6;\" x=\"37.7\" xlink:href=\"#mcca49cc4d8\" y=\"104.617077\"/>\n      </g>\n     </g>\n    </g>\n    <g id=\"ytick_33\">\n     <g id=\"line2d_39\">\n      <g>\n       <use style=\"stroke:#000000;stroke-width:0.6;\" x=\"37.7\" xlink:href=\"#mcca49cc4d8\" y=\"101.079513\"/>\n      </g>\n     </g>\n    </g>\n    <g id=\"ytick_34\">\n     <g id=\"line2d_40\">\n      <g>\n       <use style=\"stroke:#000000;stroke-width:0.6;\" x=\"37.7\" xlink:href=\"#mcca49cc4d8\" y=\"98.189113\"/>\n      </g>\n     </g>\n    </g>\n    <g id=\"ytick_35\">\n     <g id=\"line2d_41\">\n      <g>\n       <use style=\"stroke:#000000;stroke-width:0.6;\" x=\"37.7\" xlink:href=\"#mcca49cc4d8\" y=\"95.745314\"/>\n      </g>\n     </g>\n    </g>\n    <g id=\"ytick_36\">\n     <g id=\"line2d_42\">\n      <g>\n       <use style=\"stroke:#000000;stroke-width:0.6;\" x=\"37.7\" xlink:href=\"#mcca49cc4d8\" y=\"93.628399\"/>\n      </g>\n     </g>\n    </g>\n    <g id=\"ytick_37\">\n     <g id=\"line2d_43\">\n      <g>\n       <use style=\"stroke:#000000;stroke-width:0.6;\" x=\"37.7\" xlink:href=\"#mcca49cc4d8\" y=\"91.761148\"/>\n      </g>\n     </g>\n    </g>\n    <g id=\"ytick_38\">\n     <g id=\"line2d_44\">\n      <g>\n       <use style=\"stroke:#000000;stroke-width:0.6;\" x=\"37.7\" xlink:href=\"#mcca49cc4d8\" y=\"79.102156\"/>\n      </g>\n     </g>\n    </g>\n    <g id=\"ytick_39\">\n     <g id=\"line2d_45\">\n      <g>\n       <use style=\"stroke:#000000;stroke-width:0.6;\" x=\"37.7\" xlink:href=\"#mcca49cc4d8\" y=\"72.674192\"/>\n      </g>\n     </g>\n    </g>\n    <g id=\"ytick_40\">\n     <g id=\"line2d_46\">\n      <g>\n       <use style=\"stroke:#000000;stroke-width:0.6;\" x=\"37.7\" xlink:href=\"#mcca49cc4d8\" y=\"68.113478\"/>\n      </g>\n     </g>\n    </g>\n    <g id=\"ytick_41\">\n     <g id=\"line2d_47\">\n      <g>\n       <use style=\"stroke:#000000;stroke-width:0.6;\" x=\"37.7\" xlink:href=\"#mcca49cc4d8\" y=\"64.575914\"/>\n      </g>\n     </g>\n    </g>\n    <g id=\"ytick_42\">\n     <g id=\"line2d_48\">\n      <g>\n       <use style=\"stroke:#000000;stroke-width:0.6;\" x=\"37.7\" xlink:href=\"#mcca49cc4d8\" y=\"61.685513\"/>\n      </g>\n     </g>\n    </g>\n    <g id=\"ytick_43\">\n     <g id=\"line2d_49\">\n      <g>\n       <use style=\"stroke:#000000;stroke-width:0.6;\" x=\"37.7\" xlink:href=\"#mcca49cc4d8\" y=\"59.241715\"/>\n      </g>\n     </g>\n    </g>\n    <g id=\"ytick_44\">\n     <g id=\"line2d_50\">\n      <g>\n       <use style=\"stroke:#000000;stroke-width:0.6;\" x=\"37.7\" xlink:href=\"#mcca49cc4d8\" y=\"57.1248\"/>\n      </g>\n     </g>\n    </g>\n    <g id=\"ytick_45\">\n     <g id=\"line2d_51\">\n      <g>\n       <use style=\"stroke:#000000;stroke-width:0.6;\" x=\"37.7\" xlink:href=\"#mcca49cc4d8\" y=\"55.257549\"/>\n      </g>\n     </g>\n    </g>\n    <g id=\"ytick_46\">\n     <g id=\"line2d_52\">\n      <g>\n       <use style=\"stroke:#000000;stroke-width:0.6;\" x=\"37.7\" xlink:href=\"#mcca49cc4d8\" y=\"42.598557\"/>\n      </g>\n     </g>\n    </g>\n    <g id=\"ytick_47\">\n     <g id=\"line2d_53\">\n      <g>\n       <use style=\"stroke:#000000;stroke-width:0.6;\" x=\"37.7\" xlink:href=\"#mcca49cc4d8\" y=\"36.170593\"/>\n      </g>\n     </g>\n    </g>\n    <g id=\"ytick_48\">\n     <g id=\"line2d_54\">\n      <g>\n       <use style=\"stroke:#000000;stroke-width:0.6;\" x=\"37.7\" xlink:href=\"#mcca49cc4d8\" y=\"31.609879\"/>\n      </g>\n     </g>\n    </g>\n    <g id=\"ytick_49\">\n     <g id=\"line2d_55\">\n      <g>\n       <use style=\"stroke:#000000;stroke-width:0.6;\" x=\"37.7\" xlink:href=\"#mcca49cc4d8\" y=\"28.072315\"/>\n      </g>\n     </g>\n    </g>\n    <g id=\"ytick_50\">\n     <g id=\"line2d_56\">\n      <g>\n       <use style=\"stroke:#000000;stroke-width:0.6;\" x=\"37.7\" xlink:href=\"#mcca49cc4d8\" y=\"25.181914\"/>\n      </g>\n     </g>\n    </g>\n    <g id=\"ytick_51\">\n     <g id=\"line2d_57\">\n      <g>\n       <use style=\"stroke:#000000;stroke-width:0.6;\" x=\"37.7\" xlink:href=\"#mcca49cc4d8\" y=\"22.738115\"/>\n      </g>\n     </g>\n    </g>\n    <g id=\"ytick_52\">\n     <g id=\"line2d_58\">\n      <g>\n       <use style=\"stroke:#000000;stroke-width:0.6;\" x=\"37.7\" xlink:href=\"#mcca49cc4d8\" y=\"20.621201\"/>\n      </g>\n     </g>\n    </g>\n    <g id=\"ytick_53\">\n     <g id=\"line2d_59\">\n      <g>\n       <use style=\"stroke:#000000;stroke-width:0.6;\" x=\"37.7\" xlink:href=\"#mcca49cc4d8\" y=\"18.753949\"/>\n      </g>\n     </g>\n    </g>\n   </g>\n   <g id=\"line2d_60\">\n    <defs>\n     <path d=\"M 0 3 \nC 0.795609 3 1.55874 2.683901 2.12132 2.12132 \nC 2.683901 1.55874 3 0.795609 3 0 \nC 3 -0.795609 2.683901 -1.55874 2.12132 -2.12132 \nC 1.55874 -2.683901 0.795609 -3 0 -3 \nC -0.795609 -3 -1.55874 -2.683901 -2.12132 -2.12132 \nC -2.683901 -1.55874 -3 -0.795609 -3 0 \nC -3 0.795609 -2.683901 1.55874 -2.12132 2.12132 \nC -1.55874 2.683901 -0.795609 3 0 3 \nz\n\" id=\"m7ec6612134\" style=\"stroke:#1f77b4;\"/>\n    </defs>\n    <g clip-path=\"url(#p1b685db52a)\">\n     <use style=\"fill-opacity:0;stroke:#1f77b4;\" x=\"52.918182\" xlink:href=\"#m7ec6612134\" y=\"17.083636\"/>\n     <use style=\"fill-opacity:0;stroke:#1f77b4;\" x=\"55.974042\" xlink:href=\"#m7ec6612134\" y=\"80.397238\"/>\n     <use style=\"fill-opacity:0;stroke:#1f77b4;\" x=\"59.029901\" xlink:href=\"#m7ec6612134\" y=\"131.651106\"/>\n     <use style=\"fill-opacity:0;stroke:#1f77b4;\" x=\"62.085761\" xlink:href=\"#m7ec6612134\" y=\"59.777701\"/>\n     <use style=\"fill-opacity:0;stroke:#1f77b4;\" x=\"65.141621\" xlink:href=\"#m7ec6612134\" y=\"73.900788\"/>\n     <use style=\"fill-opacity:0;stroke:#1f77b4;\" x=\"68.197481\" xlink:href=\"#m7ec6612134\" y=\"134.401254\"/>\n     <use style=\"fill-opacity:0;stroke:#1f77b4;\" x=\"71.253341\" xlink:href=\"#m7ec6612134\" y=\"91.688941\"/>\n     <use style=\"fill-opacity:0;stroke:#1f77b4;\" x=\"74.3092\" xlink:href=\"#m7ec6612134\" y=\"92.018518\"/>\n     <use style=\"fill-opacity:0;stroke:#1f77b4;\" x=\"77.36506\" xlink:href=\"#m7ec6612134\" y=\"66.510144\"/>\n     <use style=\"fill-opacity:0;stroke:#1f77b4;\" x=\"80.42092\" xlink:href=\"#m7ec6612134\" y=\"93.668967\"/>\n     <use style=\"fill-opacity:0;stroke:#1f77b4;\" x=\"83.47678\" xlink:href=\"#m7ec6612134\" y=\"53.498929\"/>\n     <use style=\"fill-opacity:0;stroke:#1f77b4;\" x=\"86.53264\" xlink:href=\"#m7ec6612134\" y=\"138.661652\"/>\n     <use style=\"fill-opacity:0;stroke:#1f77b4;\" x=\"89.588499\" xlink:href=\"#m7ec6612134\" y=\"63.876967\"/>\n     <use style=\"fill-opacity:0;stroke:#1f77b4;\" x=\"92.644359\" xlink:href=\"#m7ec6612134\" y=\"72.343336\"/>\n     <use style=\"fill-opacity:0;stroke:#1f77b4;\" x=\"95.700219\" xlink:href=\"#m7ec6612134\" y=\"104.86112\"/>\n     <use style=\"fill-opacity:0;stroke:#1f77b4;\" x=\"98.756079\" xlink:href=\"#m7ec6612134\" y=\"80.389336\"/>\n     <use style=\"fill-opacity:0;stroke:#1f77b4;\" x=\"101.811939\" xlink:href=\"#m7ec6612134\" y=\"120.58509\"/>\n     <use style=\"fill-opacity:0;stroke:#1f77b4;\" x=\"104.867798\" xlink:href=\"#m7ec6612134\" y=\"78.775678\"/>\n     <use style=\"fill-opacity:0;stroke:#1f77b4;\" x=\"107.923658\" xlink:href=\"#m7ec6612134\" y=\"105.966683\"/>\n     <use style=\"fill-opacity:0;stroke:#1f77b4;\" x=\"110.979518\" xlink:href=\"#m7ec6612134\" y=\"89.555703\"/>\n     <use style=\"fill-opacity:0;stroke:#1f77b4;\" x=\"114.035378\" xlink:href=\"#m7ec6612134\" y=\"79.899715\"/>\n     <use style=\"fill-opacity:0;stroke:#1f77b4;\" x=\"117.091238\" xlink:href=\"#m7ec6612134\" y=\"105.286685\"/>\n     <use style=\"fill-opacity:0;stroke:#1f77b4;\" x=\"120.147097\" xlink:href=\"#m7ec6612134\" y=\"199.247304\"/>\n     <use style=\"fill-opacity:0;stroke:#1f77b4;\" x=\"123.202957\" xlink:href=\"#m7ec6612134\" y=\"91.792288\"/>\n     <use style=\"fill-opacity:0;stroke:#1f77b4;\" x=\"126.258817\" xlink:href=\"#m7ec6612134\" y=\"111.86246\"/>\n     <use style=\"fill-opacity:0;stroke:#1f77b4;\" x=\"129.314677\" xlink:href=\"#m7ec6612134\" y=\"169.796931\"/>\n     <use style=\"fill-opacity:0;stroke:#1f77b4;\" x=\"132.370537\" xlink:href=\"#m7ec6612134\" y=\"109.400617\"/>\n     <use style=\"fill-opacity:0;stroke:#1f77b4;\" x=\"135.426396\" xlink:href=\"#m7ec6612134\" y=\"105.821957\"/>\n     <use style=\"fill-opacity:0;stroke:#1f77b4;\" x=\"138.482256\" xlink:href=\"#m7ec6612134\" y=\"79.761775\"/>\n     <use style=\"fill-opacity:0;stroke:#1f77b4;\" x=\"141.538116\" xlink:href=\"#m7ec6612134\" y=\"114.549208\"/>\n     <use style=\"fill-opacity:0;stroke:#1f77b4;\" x=\"144.593976\" xlink:href=\"#m7ec6612134\" y=\"138.628801\"/>\n     <use style=\"fill-opacity:0;stroke:#1f77b4;\" x=\"147.649836\" xlink:href=\"#m7ec6612134\" y=\"159.984416\"/>\n     <use style=\"fill-opacity:0;stroke:#1f77b4;\" x=\"150.705696\" xlink:href=\"#m7ec6612134\" y=\"117.093295\"/>\n     <use style=\"fill-opacity:0;stroke:#1f77b4;\" x=\"154.372727\" xlink:href=\"#m7ec6612134\" y=\"75.910928\"/>\n     <use style=\"fill-opacity:0;stroke:#1f77b4;\" x=\"157.428587\" xlink:href=\"#m7ec6612134\" y=\"121.155415\"/>\n     <use style=\"fill-opacity:0;stroke:#1f77b4;\" x=\"160.484447\" xlink:href=\"#m7ec6612134\" y=\"84.186406\"/>\n     <use style=\"fill-opacity:0;stroke:#1f77b4;\" x=\"163.540307\" xlink:href=\"#m7ec6612134\" y=\"208.886327\"/>\n     <use style=\"fill-opacity:0;stroke:#1f77b4;\" x=\"166.596166\" xlink:href=\"#m7ec6612134\" y=\"214.443818\"/>\n     <use style=\"fill-opacity:0;stroke:#1f77b4;\" x=\"169.652026\" xlink:href=\"#m7ec6612134\" y=\"108.108153\"/>\n     <use style=\"fill-opacity:0;stroke:#1f77b4;\" x=\"172.707886\" xlink:href=\"#m7ec6612134\" y=\"110.008694\"/>\n     <use style=\"fill-opacity:0;stroke:#1f77b4;\" x=\"175.763746\" xlink:href=\"#m7ec6612134\" y=\"85.919344\"/>\n     <use style=\"fill-opacity:0;stroke:#1f77b4;\" x=\"178.819606\" xlink:href=\"#m7ec6612134\" y=\"130.801939\"/>\n     <use style=\"fill-opacity:0;stroke:#1f77b4;\" x=\"181.875465\" xlink:href=\"#m7ec6612134\" y=\"123.871165\"/>\n     <use style=\"fill-opacity:0;stroke:#1f77b4;\" x=\"184.931325\" xlink:href=\"#m7ec6612134\" y=\"187.438111\"/>\n     <use style=\"fill-opacity:0;stroke:#1f77b4;\" x=\"187.987185\" xlink:href=\"#m7ec6612134\" y=\"154.278576\"/>\n     <use style=\"fill-opacity:0;stroke:#1f77b4;\" x=\"191.043045\" xlink:href=\"#m7ec6612134\" y=\"98.756145\"/>\n     <use style=\"fill-opacity:0;stroke:#1f77b4;\" x=\"194.098905\" xlink:href=\"#m7ec6612134\" y=\"88.39248\"/>\n     <use style=\"fill-opacity:0;stroke:#1f77b4;\" x=\"197.154765\" xlink:href=\"#m7ec6612134\" y=\"89.825573\"/>\n     <use style=\"fill-opacity:0;stroke:#1f77b4;\" x=\"200.210624\" xlink:href=\"#m7ec6612134\" y=\"119.872322\"/>\n     <use style=\"fill-opacity:0;stroke:#1f77b4;\" x=\"203.266484\" xlink:href=\"#m7ec6612134\" y=\"98.005721\"/>\n     <use style=\"fill-opacity:0;stroke:#1f77b4;\" x=\"206.322344\" xlink:href=\"#m7ec6612134\" y=\"165.286156\"/>\n     <use style=\"fill-opacity:0;stroke:#1f77b4;\" x=\"209.378204\" xlink:href=\"#m7ec6612134\" y=\"107.269432\"/>\n     <use style=\"fill-opacity:0;stroke:#1f77b4;\" x=\"212.434064\" xlink:href=\"#m7ec6612134\" y=\"72.167645\"/>\n     <use style=\"fill-opacity:0;stroke:#1f77b4;\" x=\"215.489923\" xlink:href=\"#m7ec6612134\" y=\"97.47599\"/>\n     <use style=\"fill-opacity:0;stroke:#1f77b4;\" x=\"218.545783\" xlink:href=\"#m7ec6612134\" y=\"190.746497\"/>\n     <use style=\"fill-opacity:0;stroke:#1f77b4;\" x=\"221.601643\" xlink:href=\"#m7ec6612134\" y=\"101.554194\"/>\n     <use style=\"fill-opacity:0;stroke:#1f77b4;\" x=\"224.657503\" xlink:href=\"#m7ec6612134\" y=\"167.533446\"/>\n     <use style=\"fill-opacity:0;stroke:#1f77b4;\" x=\"227.713363\" xlink:href=\"#m7ec6612134\" y=\"129.792324\"/>\n     <use style=\"fill-opacity:0;stroke:#1f77b4;\" x=\"230.769222\" xlink:href=\"#m7ec6612134\" y=\"124.91993\"/>\n     <use style=\"fill-opacity:0;stroke:#1f77b4;\" x=\"233.825082\" xlink:href=\"#m7ec6612134\" y=\"106.567521\"/>\n     <use style=\"fill-opacity:0;stroke:#1f77b4;\" x=\"236.880942\" xlink:href=\"#m7ec6612134\" y=\"155.74417\"/>\n     <use style=\"fill-opacity:0;stroke:#1f77b4;\" x=\"239.936802\" xlink:href=\"#m7ec6612134\" y=\"95.323331\"/>\n     <use style=\"fill-opacity:0;stroke:#1f77b4;\" x=\"242.992662\" xlink:href=\"#m7ec6612134\" y=\"214.756364\"/>\n     <use style=\"fill-opacity:0;stroke:#1f77b4;\" x=\"246.048521\" xlink:href=\"#m7ec6612134\" y=\"124.776967\"/>\n     <use style=\"fill-opacity:0;stroke:#1f77b4;\" x=\"249.104381\" xlink:href=\"#m7ec6612134\" y=\"192.402916\"/>\n     <use style=\"fill-opacity:0;stroke:#1f77b4;\" x=\"252.160241\" xlink:href=\"#m7ec6612134\" y=\"155.371254\"/>\n     <use style=\"fill-opacity:0;stroke:#1f77b4;\" x=\"255.827273\" xlink:href=\"#m7ec6612134\" y=\"118.852887\"/>\n     <use style=\"fill-opacity:0;stroke:#1f77b4;\" x=\"258.883133\" xlink:href=\"#m7ec6612134\" y=\"144.475003\"/>\n     <use style=\"fill-opacity:0;stroke:#1f77b4;\" x=\"261.938992\" xlink:href=\"#m7ec6612134\" y=\"103.608338\"/>\n     <use style=\"fill-opacity:0;stroke:#1f77b4;\" x=\"264.994852\" xlink:href=\"#m7ec6612134\" y=\"108.791149\"/>\n     <use style=\"fill-opacity:0;stroke:#1f77b4;\" x=\"268.050712\" xlink:href=\"#m7ec6612134\" y=\"124.480314\"/>\n     <use style=\"fill-opacity:0;stroke:#1f77b4;\" x=\"271.106572\" xlink:href=\"#m7ec6612134\" y=\"90.300771\"/>\n     <use style=\"fill-opacity:0;stroke:#1f77b4;\" x=\"274.162432\" xlink:href=\"#m7ec6612134\" y=\"149.705812\"/>\n     <use style=\"fill-opacity:0;stroke:#1f77b4;\" x=\"277.218291\" xlink:href=\"#m7ec6612134\" y=\"106.428978\"/>\n     <use style=\"fill-opacity:0;stroke:#1f77b4;\" x=\"280.274151\" xlink:href=\"#m7ec6612134\" y=\"155.553826\"/>\n     <use style=\"fill-opacity:0;stroke:#1f77b4;\" x=\"283.330011\" xlink:href=\"#m7ec6612134\" y=\"131.767097\"/>\n     <use style=\"fill-opacity:0;stroke:#1f77b4;\" x=\"286.385871\" xlink:href=\"#m7ec6612134\" y=\"182.898934\"/>\n     <use style=\"fill-opacity:0;stroke:#1f77b4;\" x=\"289.441731\" xlink:href=\"#m7ec6612134\" y=\"123.642937\"/>\n     <use style=\"fill-opacity:0;stroke:#1f77b4;\" x=\"292.49759\" xlink:href=\"#m7ec6612134\" y=\"116.830202\"/>\n     <use style=\"fill-opacity:0;stroke:#1f77b4;\" x=\"295.55345\" xlink:href=\"#m7ec6612134\" y=\"198.862974\"/>\n     <use style=\"fill-opacity:0;stroke:#1f77b4;\" x=\"298.60931\" xlink:href=\"#m7ec6612134\" y=\"151.250705\"/>\n     <use style=\"fill-opacity:0;stroke:#1f77b4;\" x=\"301.66517\" xlink:href=\"#m7ec6612134\" y=\"181.587052\"/>\n     <use style=\"fill-opacity:0;stroke:#1f77b4;\" x=\"304.72103\" xlink:href=\"#m7ec6612134\" y=\"103.280493\"/>\n     <use style=\"fill-opacity:0;stroke:#1f77b4;\" x=\"307.776889\" xlink:href=\"#m7ec6612134\" y=\"96.949955\"/>\n     <use style=\"fill-opacity:0;stroke:#1f77b4;\" x=\"310.832749\" xlink:href=\"#m7ec6612134\" y=\"168.016479\"/>\n     <use style=\"fill-opacity:0;stroke:#1f77b4;\" x=\"313.888609\" xlink:href=\"#m7ec6612134\" y=\"107.23856\"/>\n     <use style=\"fill-opacity:0;stroke:#1f77b4;\" x=\"316.944469\" xlink:href=\"#m7ec6612134\" y=\"117.506401\"/>\n     <use style=\"fill-opacity:0;stroke:#1f77b4;\" x=\"320.000329\" xlink:href=\"#m7ec6612134\" y=\"157.631591\"/>\n     <use style=\"fill-opacity:0;stroke:#1f77b4;\" x=\"323.056188\" xlink:href=\"#m7ec6612134\" y=\"170.89527\"/>\n     <use style=\"fill-opacity:0;stroke:#1f77b4;\" x=\"326.112048\" xlink:href=\"#m7ec6612134\" y=\"107.057688\"/>\n     <use style=\"fill-opacity:0;stroke:#1f77b4;\" x=\"329.167908\" xlink:href=\"#m7ec6612134\" y=\"155.575581\"/>\n     <use style=\"fill-opacity:0;stroke:#1f77b4;\" x=\"332.223768\" xlink:href=\"#m7ec6612134\" y=\"103.505919\"/>\n     <use style=\"fill-opacity:0;stroke:#1f77b4;\" x=\"335.279628\" xlink:href=\"#m7ec6612134\" y=\"114.097523\"/>\n     <use style=\"fill-opacity:0;stroke:#1f77b4;\" x=\"338.335487\" xlink:href=\"#m7ec6612134\" y=\"128.37724\"/>\n     <use style=\"fill-opacity:0;stroke:#1f77b4;\" x=\"341.391347\" xlink:href=\"#m7ec6612134\" y=\"201.657856\"/>\n     <use style=\"fill-opacity:0;stroke:#1f77b4;\" x=\"344.447207\" xlink:href=\"#m7ec6612134\" y=\"173.1671\"/>\n     <use style=\"fill-opacity:0;stroke:#1f77b4;\" x=\"347.503067\" xlink:href=\"#m7ec6612134\" y=\"145.835173\"/>\n     <use style=\"fill-opacity:0;stroke:#1f77b4;\" x=\"350.558927\" xlink:href=\"#m7ec6612134\" y=\"134.544732\"/>\n     <use style=\"fill-opacity:0;stroke:#1f77b4;\" x=\"353.614786\" xlink:href=\"#m7ec6612134\" y=\"128.957324\"/>\n     <use style=\"fill-opacity:0;stroke:#1f77b4;\" x=\"357.281818\" xlink:href=\"#m7ec6612134\" y=\"114.576417\"/>\n    </g>\n   </g>\n   <g id=\"line2d_61\">\n    <defs>\n     <path d=\"M 0 3 \nC 0.795609 3 1.55874 2.683901 2.12132 2.12132 \nC 2.683901 1.55874 3 0.795609 3 0 \nC 3 -0.795609 2.683901 -1.55874 2.12132 -2.12132 \nC 1.55874 -2.683901 0.795609 -3 0 -3 \nC -0.795609 -3 -1.55874 -2.683901 -2.12132 -2.12132 \nC -2.683901 -1.55874 -3 -0.795609 -3 0 \nC -3 0.795609 -2.683901 1.55874 -2.12132 2.12132 \nC -1.55874 2.683901 -0.795609 3 0 3 \nz\n\" id=\"me42521f3b2\" style=\"stroke:#ff7f0e;\"/>\n    </defs>\n    <g clip-path=\"url(#p1b685db52a)\">\n     <use style=\"fill-opacity:0;stroke:#ff7f0e;\" x=\"52.918182\" xlink:href=\"#me42521f3b2\" y=\"17.083636\"/>\n     <use style=\"fill-opacity:0;stroke:#ff7f0e;\" x=\"55.974042\" xlink:href=\"#me42521f3b2\" y=\"34.555493\"/>\n     <use style=\"fill-opacity:0;stroke:#ff7f0e;\" x=\"59.029901\" xlink:href=\"#me42521f3b2\" y=\"91.641571\"/>\n     <use style=\"fill-opacity:0;stroke:#ff7f0e;\" x=\"62.085761\" xlink:href=\"#me42521f3b2\" y=\"142.573186\"/>\n     <use style=\"fill-opacity:0;stroke:#ff7f0e;\" x=\"65.141621\" xlink:href=\"#me42521f3b2\" y=\"94.180294\"/>\n     <use style=\"fill-opacity:0;stroke:#ff7f0e;\" x=\"68.197481\" xlink:href=\"#me42521f3b2\" y=\"72.462893\"/>\n     <use style=\"fill-opacity:0;stroke:#ff7f0e;\" x=\"71.253341\" xlink:href=\"#me42521f3b2\" y=\"147.118584\"/>\n     <use style=\"fill-opacity:0;stroke:#ff7f0e;\" x=\"74.3092\" xlink:href=\"#me42521f3b2\" y=\"136.86325\"/>\n     <use style=\"fill-opacity:0;stroke:#ff7f0e;\" x=\"77.36506\" xlink:href=\"#me42521f3b2\" y=\"73.452546\"/>\n     <use style=\"fill-opacity:0;stroke:#ff7f0e;\" x=\"80.42092\" xlink:href=\"#me42521f3b2\" y=\"95.220333\"/>\n     <use style=\"fill-opacity:0;stroke:#ff7f0e;\" x=\"83.47678\" xlink:href=\"#me42521f3b2\" y=\"63.042005\"/>\n     <use style=\"fill-opacity:0;stroke:#ff7f0e;\" x=\"86.53264\" xlink:href=\"#me42521f3b2\" y=\"174.624202\"/>\n     <use style=\"fill-opacity:0;stroke:#ff7f0e;\" x=\"89.588499\" xlink:href=\"#me42521f3b2\" y=\"78.390284\"/>\n     <use style=\"fill-opacity:0;stroke:#ff7f0e;\" x=\"92.644359\" xlink:href=\"#me42521f3b2\" y=\"157.502665\"/>\n     <use style=\"fill-opacity:0;stroke:#ff7f0e;\" x=\"95.700219\" xlink:href=\"#me42521f3b2\" y=\"140.879497\"/>\n     <use style=\"fill-opacity:0;stroke:#ff7f0e;\" x=\"98.756079\" xlink:href=\"#me42521f3b2\" y=\"105.383466\"/>\n     <use style=\"fill-opacity:0;stroke:#ff7f0e;\" x=\"101.811939\" xlink:href=\"#me42521f3b2\" y=\"73.594524\"/>\n     <use style=\"fill-opacity:0;stroke:#ff7f0e;\" x=\"104.867798\" xlink:href=\"#me42521f3b2\" y=\"102.013358\"/>\n     <use style=\"fill-opacity:0;stroke:#ff7f0e;\" x=\"107.923658\" xlink:href=\"#me42521f3b2\" y=\"76.272713\"/>\n     <use style=\"fill-opacity:0;stroke:#ff7f0e;\" x=\"110.979518\" xlink:href=\"#me42521f3b2\" y=\"84.010252\"/>\n     <use style=\"fill-opacity:0;stroke:#ff7f0e;\" x=\"114.035378\" xlink:href=\"#me42521f3b2\" y=\"59.821612\"/>\n     <use style=\"fill-opacity:0;stroke:#ff7f0e;\" x=\"117.091238\" xlink:href=\"#me42521f3b2\" y=\"100.074611\"/>\n     <use style=\"fill-opacity:0;stroke:#ff7f0e;\" x=\"120.147097\" xlink:href=\"#me42521f3b2\" y=\"65.514362\"/>\n     <use style=\"fill-opacity:0;stroke:#ff7f0e;\" x=\"123.202957\" xlink:href=\"#me42521f3b2\" y=\"190.755047\"/>\n     <use style=\"fill-opacity:0;stroke:#ff7f0e;\" x=\"126.258817\" xlink:href=\"#me42521f3b2\" y=\"111.778774\"/>\n     <use style=\"fill-opacity:0;stroke:#ff7f0e;\" x=\"129.314677\" xlink:href=\"#me42521f3b2\" y=\"205.276013\"/>\n     <use style=\"fill-opacity:0;stroke:#ff7f0e;\" x=\"132.370537\" xlink:href=\"#me42521f3b2\" y=\"212.709591\"/>\n     <use style=\"fill-opacity:0;stroke:#ff7f0e;\" x=\"135.426396\" xlink:href=\"#me42521f3b2\" y=\"88.748778\"/>\n     <use style=\"fill-opacity:0;stroke:#ff7f0e;\" x=\"138.482256\" xlink:href=\"#me42521f3b2\" y=\"78.61751\"/>\n     <use style=\"fill-opacity:0;stroke:#ff7f0e;\" x=\"141.538116\" xlink:href=\"#me42521f3b2\" y=\"190.171335\"/>\n     <use style=\"fill-opacity:0;stroke:#ff7f0e;\" x=\"144.593976\" xlink:href=\"#me42521f3b2\" y=\"121.638358\"/>\n     <use style=\"fill-opacity:0;stroke:#ff7f0e;\" x=\"147.649836\" xlink:href=\"#me42521f3b2\" y=\"91.013675\"/>\n     <use style=\"fill-opacity:0;stroke:#ff7f0e;\" x=\"150.705696\" xlink:href=\"#me42521f3b2\" y=\"139.499113\"/>\n     <use style=\"fill-opacity:0;stroke:#ff7f0e;\" x=\"154.372727\" xlink:href=\"#me42521f3b2\" y=\"102.015449\"/>\n     <use style=\"fill-opacity:0;stroke:#ff7f0e;\" x=\"157.428587\" xlink:href=\"#me42521f3b2\" y=\"133.191003\"/>\n     <use style=\"fill-opacity:0;stroke:#ff7f0e;\" x=\"160.484447\" xlink:href=\"#me42521f3b2\" y=\"94.85868\"/>\n     <use style=\"fill-opacity:0;stroke:#ff7f0e;\" x=\"163.540307\" xlink:href=\"#me42521f3b2\" y=\"78.468254\"/>\n     <use style=\"fill-opacity:0;stroke:#ff7f0e;\" x=\"166.596166\" xlink:href=\"#me42521f3b2\" y=\"108.367027\"/>\n     <use style=\"fill-opacity:0;stroke:#ff7f0e;\" x=\"169.652026\" xlink:href=\"#me42521f3b2\" y=\"132.620513\"/>\n     <use style=\"fill-opacity:0;stroke:#ff7f0e;\" x=\"172.707886\" xlink:href=\"#me42521f3b2\" y=\"141.849617\"/>\n     <use style=\"fill-opacity:0;stroke:#ff7f0e;\" x=\"175.763746\" xlink:href=\"#me42521f3b2\" y=\"126.887504\"/>\n     <use style=\"fill-opacity:0;stroke:#ff7f0e;\" x=\"178.819606\" xlink:href=\"#me42521f3b2\" y=\"135.670726\"/>\n     <use style=\"fill-opacity:0;stroke:#ff7f0e;\" x=\"181.875465\" xlink:href=\"#me42521f3b2\" y=\"134.110034\"/>\n     <use style=\"fill-opacity:0;stroke:#ff7f0e;\" x=\"184.931325\" xlink:href=\"#me42521f3b2\" y=\"80.60695\"/>\n     <use style=\"fill-opacity:0;stroke:#ff7f0e;\" x=\"187.987185\" xlink:href=\"#me42521f3b2\" y=\"97.400677\"/>\n     <use style=\"fill-opacity:0;stroke:#ff7f0e;\" x=\"191.043045\" xlink:href=\"#me42521f3b2\" y=\"113.426434\"/>\n     <use style=\"fill-opacity:0;stroke:#ff7f0e;\" x=\"194.098905\" xlink:href=\"#me42521f3b2\" y=\"147.208011\"/>\n     <use style=\"fill-opacity:0;stroke:#ff7f0e;\" x=\"197.154765\" xlink:href=\"#me42521f3b2\" y=\"100.064211\"/>\n     <use style=\"fill-opacity:0;stroke:#ff7f0e;\" x=\"200.210624\" xlink:href=\"#me42521f3b2\" y=\"95.201645\"/>\n     <use style=\"fill-opacity:0;stroke:#ff7f0e;\" x=\"203.266484\" xlink:href=\"#me42521f3b2\" y=\"142.75262\"/>\n     <use style=\"fill-opacity:0;stroke:#ff7f0e;\" x=\"206.322344\" xlink:href=\"#me42521f3b2\" y=\"170.569575\"/>\n     <use style=\"fill-opacity:0;stroke:#ff7f0e;\" x=\"209.378204\" xlink:href=\"#me42521f3b2\" y=\"102.868154\"/>\n     <use style=\"fill-opacity:0;stroke:#ff7f0e;\" x=\"212.434064\" xlink:href=\"#me42521f3b2\" y=\"170.974504\"/>\n     <use style=\"fill-opacity:0;stroke:#ff7f0e;\" x=\"215.489923\" xlink:href=\"#me42521f3b2\" y=\"111.2457\"/>\n     <use style=\"fill-opacity:0;stroke:#ff7f0e;\" x=\"218.545783\" xlink:href=\"#me42521f3b2\" y=\"104.543913\"/>\n     <use style=\"fill-opacity:0;stroke:#ff7f0e;\" x=\"221.601643\" xlink:href=\"#me42521f3b2\" y=\"100.82451\"/>\n     <use style=\"fill-opacity:0;stroke:#ff7f0e;\" x=\"224.657503\" xlink:href=\"#me42521f3b2\" y=\"130.297837\"/>\n     <use style=\"fill-opacity:0;stroke:#ff7f0e;\" x=\"227.713363\" xlink:href=\"#me42521f3b2\" y=\"135.216255\"/>\n     <use style=\"fill-opacity:0;stroke:#ff7f0e;\" x=\"230.769222\" xlink:href=\"#me42521f3b2\" y=\"117.969801\"/>\n     <use style=\"fill-opacity:0;stroke:#ff7f0e;\" x=\"233.825082\" xlink:href=\"#me42521f3b2\" y=\"115.917407\"/>\n     <use style=\"fill-opacity:0;stroke:#ff7f0e;\" x=\"236.880942\" xlink:href=\"#me42521f3b2\" y=\"99.304034\"/>\n     <use style=\"fill-opacity:0;stroke:#ff7f0e;\" x=\"239.936802\" xlink:href=\"#me42521f3b2\" y=\"140.813631\"/>\n     <use style=\"fill-opacity:0;stroke:#ff7f0e;\" x=\"242.992662\" xlink:href=\"#me42521f3b2\" y=\"95.530016\"/>\n     <use style=\"fill-opacity:0;stroke:#ff7f0e;\" x=\"246.048521\" xlink:href=\"#me42521f3b2\" y=\"126.441314\"/>\n     <use style=\"fill-opacity:0;stroke:#ff7f0e;\" x=\"249.104381\" xlink:href=\"#me42521f3b2\" y=\"179.844362\"/>\n     <use style=\"fill-opacity:0;stroke:#ff7f0e;\" x=\"252.160241\" xlink:href=\"#me42521f3b2\" y=\"111.622635\"/>\n     <use style=\"fill-opacity:0;stroke:#ff7f0e;\" x=\"255.827273\" xlink:href=\"#me42521f3b2\" y=\"170.539647\"/>\n     <use style=\"fill-opacity:0;stroke:#ff7f0e;\" x=\"258.883133\" xlink:href=\"#me42521f3b2\" y=\"136.038427\"/>\n     <use style=\"fill-opacity:0;stroke:#ff7f0e;\" x=\"261.938992\" xlink:href=\"#me42521f3b2\" y=\"147.37839\"/>\n     <use style=\"fill-opacity:0;stroke:#ff7f0e;\" x=\"264.994852\" xlink:href=\"#me42521f3b2\" y=\"92.610382\"/>\n     <use style=\"fill-opacity:0;stroke:#ff7f0e;\" x=\"268.050712\" xlink:href=\"#me42521f3b2\" y=\"116.949226\"/>\n     <use style=\"fill-opacity:0;stroke:#ff7f0e;\" x=\"271.106572\" xlink:href=\"#me42521f3b2\" y=\"110.319476\"/>\n     <use style=\"fill-opacity:0;stroke:#ff7f0e;\" x=\"274.162432\" xlink:href=\"#me42521f3b2\" y=\"129.659826\"/>\n     <use style=\"fill-opacity:0;stroke:#ff7f0e;\" x=\"277.218291\" xlink:href=\"#me42521f3b2\" y=\"111.450091\"/>\n     <use style=\"fill-opacity:0;stroke:#ff7f0e;\" x=\"280.274151\" xlink:href=\"#me42521f3b2\" y=\"120.242342\"/>\n     <use style=\"fill-opacity:0;stroke:#ff7f0e;\" x=\"283.330011\" xlink:href=\"#me42521f3b2\" y=\"96.297541\"/>\n     <use style=\"fill-opacity:0;stroke:#ff7f0e;\" x=\"286.385871\" xlink:href=\"#me42521f3b2\" y=\"211.379103\"/>\n     <use style=\"fill-opacity:0;stroke:#ff7f0e;\" x=\"289.441731\" xlink:href=\"#me42521f3b2\" y=\"134.33838\"/>\n     <use style=\"fill-opacity:0;stroke:#ff7f0e;\" x=\"292.49759\" xlink:href=\"#me42521f3b2\" y=\"143.199389\"/>\n     <use style=\"fill-opacity:0;stroke:#ff7f0e;\" x=\"295.55345\" xlink:href=\"#me42521f3b2\" y=\"81.336713\"/>\n     <use style=\"fill-opacity:0;stroke:#ff7f0e;\" x=\"298.60931\" xlink:href=\"#me42521f3b2\" y=\"111.482045\"/>\n     <use style=\"fill-opacity:0;stroke:#ff7f0e;\" x=\"301.66517\" xlink:href=\"#me42521f3b2\" y=\"144.925208\"/>\n     <use style=\"fill-opacity:0;stroke:#ff7f0e;\" x=\"304.72103\" xlink:href=\"#me42521f3b2\" y=\"160.975638\"/>\n     <use style=\"fill-opacity:0;stroke:#ff7f0e;\" x=\"307.776889\" xlink:href=\"#me42521f3b2\" y=\"130.905053\"/>\n     <use style=\"fill-opacity:0;stroke:#ff7f0e;\" x=\"310.832749\" xlink:href=\"#me42521f3b2\" y=\"156.401852\"/>\n     <use style=\"fill-opacity:0;stroke:#ff7f0e;\" x=\"313.888609\" xlink:href=\"#me42521f3b2\" y=\"147.774404\"/>\n     <use style=\"fill-opacity:0;stroke:#ff7f0e;\" x=\"316.944469\" xlink:href=\"#me42521f3b2\" y=\"140.447529\"/>\n     <use style=\"fill-opacity:0;stroke:#ff7f0e;\" x=\"320.000329\" xlink:href=\"#me42521f3b2\" y=\"99.237037\"/>\n     <use style=\"fill-opacity:0;stroke:#ff7f0e;\" x=\"323.056188\" xlink:href=\"#me42521f3b2\" y=\"105.031277\"/>\n     <use style=\"fill-opacity:0;stroke:#ff7f0e;\" x=\"326.112048\" xlink:href=\"#me42521f3b2\" y=\"92.282804\"/>\n     <use style=\"fill-opacity:0;stroke:#ff7f0e;\" x=\"329.167908\" xlink:href=\"#me42521f3b2\" y=\"153.079842\"/>\n     <use style=\"fill-opacity:0;stroke:#ff7f0e;\" x=\"332.223768\" xlink:href=\"#me42521f3b2\" y=\"90.81855\"/>\n     <use style=\"fill-opacity:0;stroke:#ff7f0e;\" x=\"335.279628\" xlink:href=\"#me42521f3b2\" y=\"111.702034\"/>\n     <use style=\"fill-opacity:0;stroke:#ff7f0e;\" x=\"338.335487\" xlink:href=\"#me42521f3b2\" y=\"105.74691\"/>\n     <use style=\"fill-opacity:0;stroke:#ff7f0e;\" x=\"341.391347\" xlink:href=\"#me42521f3b2\" y=\"189.628773\"/>\n     <use style=\"fill-opacity:0;stroke:#ff7f0e;\" x=\"344.447207\" xlink:href=\"#me42521f3b2\" y=\"144.700234\"/>\n     <use style=\"fill-opacity:0;stroke:#ff7f0e;\" x=\"347.503067\" xlink:href=\"#me42521f3b2\" y=\"162.044175\"/>\n     <use style=\"fill-opacity:0;stroke:#ff7f0e;\" x=\"350.558927\" xlink:href=\"#me42521f3b2\" y=\"118.441456\"/>\n     <use style=\"fill-opacity:0;stroke:#ff7f0e;\" x=\"353.614786\" xlink:href=\"#me42521f3b2\" y=\"121.695503\"/>\n     <use style=\"fill-opacity:0;stroke:#ff7f0e;\" x=\"357.281818\" xlink:href=\"#me42521f3b2\" y=\"172.627038\"/>\n    </g>\n   </g>\n   <g id=\"patch_3\">\n    <path d=\"M 37.7 224.64 \nL 37.7 7.2 \n\" style=\"fill:none;stroke:#000000;stroke-linecap:square;stroke-linejoin:miter;stroke-width:0.8;\"/>\n   </g>\n   <g id=\"patch_4\">\n    <path d=\"M 372.5 224.64 \nL 372.5 7.2 \n\" style=\"fill:none;stroke:#000000;stroke-linecap:square;stroke-linejoin:miter;stroke-width:0.8;\"/>\n   </g>\n   <g id=\"patch_5\">\n    <path d=\"M 37.7 224.64 \nL 372.5 224.64 \n\" style=\"fill:none;stroke:#000000;stroke-linecap:square;stroke-linejoin:miter;stroke-width:0.8;\"/>\n   </g>\n   <g id=\"patch_6\">\n    <path d=\"M 37.7 7.2 \nL 372.5 7.2 \n\" style=\"fill:none;stroke:#000000;stroke-linecap:square;stroke-linejoin:miter;stroke-width:0.8;\"/>\n   </g>\n  </g>\n </g>\n <defs>\n  <clipPath id=\"p1b685db52a\">\n   <rect height=\"217.44\" width=\"334.8\" x=\"37.7\" y=\"7.2\"/>\n  </clipPath>\n </defs>\n</svg>\n",
            "text/plain": [
              "<Figure size 432x288 with 1 Axes>"
            ]
          },
          "metadata": {
            "tags": []
          }
        }
      ]
    },
    {
      "cell_type": "markdown",
      "metadata": {
        "id": "jpLcvAve04_C"
      },
      "source": [
        "# Example: Election and economy"
      ]
    },
    {
      "cell_type": "markdown",
      "metadata": {
        "id": "xzI5BbLFeauB"
      },
      "source": [
        "In this example we will work with the elections and economy dataset from discussed in Chapter 7 of Gelman, Hill and Vehtari. The data set contains the incumbent party's vote share of US presdential elections from 1952 to 2012 along with a measure of economic growth. The idea is that one can do a surprisingly good job of forcasting elections solely based on the state of the economy during the previous presidents term."
      ]
    },
    {
      "cell_type": "code",
      "metadata": {
        "colab": {
          "base_uri": "https://localhost:8080/"
        },
        "id": "p0txX_y408Qd",
        "outputId": "57ee1f79-8278-431e-9ab1-ac73c1446dda"
      },
      "source": [
        "# we start by getting the data from one of the author websites\n",
        "# we use pandas to read it into a DataFrame object, which is simply\n",
        "# a nice way to store tabular data\n",
        "url = \"https://raw.githubusercontent.com/avehtari/ROS-Examples/master/ElectionsEconomy/data/hibbs.dat\"\n",
        "data = pd.read_csv(url,sep=\"\\s+\");\n",
        "\n",
        "# here is what the data looks like\n",
        "print(data)"
      ],
      "execution_count": null,
      "outputs": [
        {
          "output_type": "stream",
          "text": [
            "    year  growth   vote inc_party_candidate other_candidate\n",
            "0   1952    2.40  44.60           Stevenson      Eisenhower\n",
            "1   1956    2.89  57.76          Eisenhower       Stevenson\n",
            "2   1960    0.85  49.91               Nixon         Kennedy\n",
            "3   1964    4.21  61.34             Johnson       Goldwater\n",
            "4   1968    3.02  49.60            Humphrey           Nixon\n",
            "5   1972    3.62  61.79               Nixon        McGovern\n",
            "6   1976    1.08  48.95                Ford          Carter\n",
            "7   1980   -0.39  44.70              Carter          Reagan\n",
            "8   1984    3.86  59.17              Reagan         Mondale\n",
            "9   1988    2.27  53.94           Bush, Sr.         Dukakis\n",
            "10  1992    0.38  46.55           Bush, Sr.         Clinton\n",
            "11  1996    1.04  54.74             Clinton            Dole\n",
            "12  2000    2.36  50.27                Gore       Bush, Jr.\n",
            "13  2004    1.72  51.24           Bush, Jr.           Kerry\n",
            "14  2008    0.10  46.32              McCain           Obama\n",
            "15  2012    0.95  52.00               Obama          Romney\n"
          ],
          "name": "stdout"
        }
      ]
    },
    {
      "cell_type": "code",
      "metadata": {
        "id": "GGCoK-8Z4Wuj",
        "colab": {
          "base_uri": "https://localhost:8080/",
          "height": 390
        },
        "outputId": "7ab1fd26-0bc2-475a-c743-c94bad97ffcd"
      },
      "source": [
        "# in this case our x variable is economic growth \n",
        "x = data.growth\n",
        "y = data.vote\n",
        "\n",
        "fig,ax = plt.subplots(figsize=(4,4))\n",
        "ax.plot(x,y,\"o\",fillstyle=\"none\")\n",
        "ax.set_xlabel(\"economic growth\")\n",
        "ax.set_ylabel(\"vote share\")"
      ],
      "execution_count": null,
      "outputs": [
        {
          "output_type": "execute_result",
          "data": {
            "text/plain": [
              "Text(0, 0.5, 'vote share')"
            ]
          },
          "metadata": {
            "tags": []
          },
          "execution_count": 105
        },
        {
          "output_type": "display_data",
          "data": {
            "text/plain": [
              "<Figure size 288x288 with 1 Axes>"
            ],
            "image/svg+xml": "<?xml version=\"1.0\" encoding=\"utf-8\" standalone=\"no\"?>\n<!DOCTYPE svg PUBLIC \"-//W3C//DTD SVG 1.1//EN\"\n  \"http://www.w3.org/Graphics/SVG/1.1/DTD/svg11.dtd\">\n<!-- Created with matplotlib (https://matplotlib.org/) -->\n<svg height=\"264.276325pt\" version=\"1.1\" viewBox=\"0 0 280.54375 264.276325\" width=\"280.54375pt\" xmlns=\"http://www.w3.org/2000/svg\" xmlns:xlink=\"http://www.w3.org/1999/xlink\">\n <defs>\n  <style type=\"text/css\">\n*{stroke-linecap:butt;stroke-linejoin:round;}\n  </style>\n </defs>\n <g id=\"figure_1\">\n  <g id=\"patch_1\">\n   <path d=\"M 0 264.276325 \nL 280.54375 264.276325 \nL 280.54375 0 \nL 0 0 \nz\n\" style=\"fill:none;\"/>\n  </g>\n  <g id=\"axes_1\">\n   <g id=\"patch_2\">\n    <path d=\"M 50.14375 226.720075 \nL 273.34375 226.720075 \nL 273.34375 9.280075 \nL 50.14375 9.280075 \nz\n\" style=\"fill:#ffffff;\"/>\n   </g>\n   <g id=\"matplotlib.axis_1\">\n    <g id=\"xtick_1\">\n     <g id=\"line2d_1\">\n      <defs>\n       <path d=\"M 0 0 \nL 0 3.5 \n\" id=\"mb05176174b\" style=\"stroke:#000000;stroke-width:0.8;\"/>\n      </defs>\n      <g>\n       <use style=\"stroke:#000000;stroke-width:0.8;\" x=\"77.492367\" xlink:href=\"#mb05176174b\" y=\"226.720075\"/>\n      </g>\n     </g>\n     <g id=\"text_1\">\n      <!-- 0 -->\n      <defs>\n       <path d=\"M 31.78125 66.40625 \nQ 24.171875 66.40625 20.328125 58.90625 \nQ 16.5 51.421875 16.5 36.375 \nQ 16.5 21.390625 20.328125 13.890625 \nQ 24.171875 6.390625 31.78125 6.390625 \nQ 39.453125 6.390625 43.28125 13.890625 \nQ 47.125 21.390625 47.125 36.375 \nQ 47.125 51.421875 43.28125 58.90625 \nQ 39.453125 66.40625 31.78125 66.40625 \nz\nM 31.78125 74.21875 \nQ 44.046875 74.21875 50.515625 64.515625 \nQ 56.984375 54.828125 56.984375 36.375 \nQ 56.984375 17.96875 50.515625 8.265625 \nQ 44.046875 -1.421875 31.78125 -1.421875 \nQ 19.53125 -1.421875 13.0625 8.265625 \nQ 6.59375 17.96875 6.59375 36.375 \nQ 6.59375 54.828125 13.0625 64.515625 \nQ 19.53125 74.21875 31.78125 74.21875 \nz\n\" id=\"DejaVuSans-48\"/>\n      </defs>\n      <g transform=\"translate(74.311117 241.318513)scale(0.1 -0.1)\">\n       <use xlink:href=\"#DejaVuSans-48\"/>\n      </g>\n     </g>\n    </g>\n    <g id=\"xtick_2\">\n     <g id=\"line2d_2\">\n      <g>\n       <use style=\"stroke:#000000;stroke-width:0.8;\" x=\"121.603039\" xlink:href=\"#mb05176174b\" y=\"226.720075\"/>\n      </g>\n     </g>\n     <g id=\"text_2\">\n      <!-- 1 -->\n      <defs>\n       <path d=\"M 12.40625 8.296875 \nL 28.515625 8.296875 \nL 28.515625 63.921875 \nL 10.984375 60.40625 \nL 10.984375 69.390625 \nL 28.421875 72.90625 \nL 38.28125 72.90625 \nL 38.28125 8.296875 \nL 54.390625 8.296875 \nL 54.390625 0 \nL 12.40625 0 \nz\n\" id=\"DejaVuSans-49\"/>\n      </defs>\n      <g transform=\"translate(118.421789 241.318513)scale(0.1 -0.1)\">\n       <use xlink:href=\"#DejaVuSans-49\"/>\n      </g>\n     </g>\n    </g>\n    <g id=\"xtick_3\">\n     <g id=\"line2d_3\">\n      <g>\n       <use style=\"stroke:#000000;stroke-width:0.8;\" x=\"165.71371\" xlink:href=\"#mb05176174b\" y=\"226.720075\"/>\n      </g>\n     </g>\n     <g id=\"text_3\">\n      <!-- 2 -->\n      <defs>\n       <path d=\"M 19.1875 8.296875 \nL 53.609375 8.296875 \nL 53.609375 0 \nL 7.328125 0 \nL 7.328125 8.296875 \nQ 12.9375 14.109375 22.625 23.890625 \nQ 32.328125 33.6875 34.8125 36.53125 \nQ 39.546875 41.84375 41.421875 45.53125 \nQ 43.3125 49.21875 43.3125 52.78125 \nQ 43.3125 58.59375 39.234375 62.25 \nQ 35.15625 65.921875 28.609375 65.921875 \nQ 23.96875 65.921875 18.8125 64.3125 \nQ 13.671875 62.703125 7.8125 59.421875 \nL 7.8125 69.390625 \nQ 13.765625 71.78125 18.9375 73 \nQ 24.125 74.21875 28.421875 74.21875 \nQ 39.75 74.21875 46.484375 68.546875 \nQ 53.21875 62.890625 53.21875 53.421875 \nQ 53.21875 48.921875 51.53125 44.890625 \nQ 49.859375 40.875 45.40625 35.40625 \nQ 44.1875 33.984375 37.640625 27.21875 \nQ 31.109375 20.453125 19.1875 8.296875 \nz\n\" id=\"DejaVuSans-50\"/>\n      </defs>\n      <g transform=\"translate(162.53246 241.318513)scale(0.1 -0.1)\">\n       <use xlink:href=\"#DejaVuSans-50\"/>\n      </g>\n     </g>\n    </g>\n    <g id=\"xtick_4\">\n     <g id=\"line2d_4\">\n      <g>\n       <use style=\"stroke:#000000;stroke-width:0.8;\" x=\"209.824382\" xlink:href=\"#mb05176174b\" y=\"226.720075\"/>\n      </g>\n     </g>\n     <g id=\"text_4\">\n      <!-- 3 -->\n      <defs>\n       <path d=\"M 40.578125 39.3125 \nQ 47.65625 37.796875 51.625 33 \nQ 55.609375 28.21875 55.609375 21.1875 \nQ 55.609375 10.40625 48.1875 4.484375 \nQ 40.765625 -1.421875 27.09375 -1.421875 \nQ 22.515625 -1.421875 17.65625 -0.515625 \nQ 12.796875 0.390625 7.625 2.203125 \nL 7.625 11.71875 \nQ 11.71875 9.328125 16.59375 8.109375 \nQ 21.484375 6.890625 26.8125 6.890625 \nQ 36.078125 6.890625 40.9375 10.546875 \nQ 45.796875 14.203125 45.796875 21.1875 \nQ 45.796875 27.640625 41.28125 31.265625 \nQ 36.765625 34.90625 28.71875 34.90625 \nL 20.21875 34.90625 \nL 20.21875 43.015625 \nL 29.109375 43.015625 \nQ 36.375 43.015625 40.234375 45.921875 \nQ 44.09375 48.828125 44.09375 54.296875 \nQ 44.09375 59.90625 40.109375 62.90625 \nQ 36.140625 65.921875 28.71875 65.921875 \nQ 24.65625 65.921875 20.015625 65.03125 \nQ 15.375 64.15625 9.8125 62.3125 \nL 9.8125 71.09375 \nQ 15.4375 72.65625 20.34375 73.4375 \nQ 25.25 74.21875 29.59375 74.21875 \nQ 40.828125 74.21875 47.359375 69.109375 \nQ 53.90625 64.015625 53.90625 55.328125 \nQ 53.90625 49.265625 50.4375 45.09375 \nQ 46.96875 40.921875 40.578125 39.3125 \nz\n\" id=\"DejaVuSans-51\"/>\n      </defs>\n      <g transform=\"translate(206.643132 241.318513)scale(0.1 -0.1)\">\n       <use xlink:href=\"#DejaVuSans-51\"/>\n      </g>\n     </g>\n    </g>\n    <g id=\"xtick_5\">\n     <g id=\"line2d_5\">\n      <g>\n       <use style=\"stroke:#000000;stroke-width:0.8;\" x=\"253.935054\" xlink:href=\"#mb05176174b\" y=\"226.720075\"/>\n      </g>\n     </g>\n     <g id=\"text_5\">\n      <!-- 4 -->\n      <defs>\n       <path d=\"M 37.796875 64.3125 \nL 12.890625 25.390625 \nL 37.796875 25.390625 \nz\nM 35.203125 72.90625 \nL 47.609375 72.90625 \nL 47.609375 25.390625 \nL 58.015625 25.390625 \nL 58.015625 17.1875 \nL 47.609375 17.1875 \nL 47.609375 0 \nL 37.796875 0 \nL 37.796875 17.1875 \nL 4.890625 17.1875 \nL 4.890625 26.703125 \nz\n\" id=\"DejaVuSans-52\"/>\n      </defs>\n      <g transform=\"translate(250.753804 241.318513)scale(0.1 -0.1)\">\n       <use xlink:href=\"#DejaVuSans-52\"/>\n      </g>\n     </g>\n    </g>\n    <g id=\"text_6\">\n     <!-- economic growth -->\n     <defs>\n      <path d=\"M 56.203125 29.59375 \nL 56.203125 25.203125 \nL 14.890625 25.203125 \nQ 15.484375 15.921875 20.484375 11.0625 \nQ 25.484375 6.203125 34.421875 6.203125 \nQ 39.59375 6.203125 44.453125 7.46875 \nQ 49.3125 8.734375 54.109375 11.28125 \nL 54.109375 2.78125 \nQ 49.265625 0.734375 44.1875 -0.34375 \nQ 39.109375 -1.421875 33.890625 -1.421875 \nQ 20.796875 -1.421875 13.15625 6.1875 \nQ 5.515625 13.8125 5.515625 26.8125 \nQ 5.515625 40.234375 12.765625 48.109375 \nQ 20.015625 56 32.328125 56 \nQ 43.359375 56 49.78125 48.890625 \nQ 56.203125 41.796875 56.203125 29.59375 \nz\nM 47.21875 32.234375 \nQ 47.125 39.59375 43.09375 43.984375 \nQ 39.0625 48.390625 32.421875 48.390625 \nQ 24.90625 48.390625 20.390625 44.140625 \nQ 15.875 39.890625 15.1875 32.171875 \nz\n\" id=\"DejaVuSans-101\"/>\n      <path d=\"M 48.78125 52.59375 \nL 48.78125 44.1875 \nQ 44.96875 46.296875 41.140625 47.34375 \nQ 37.3125 48.390625 33.40625 48.390625 \nQ 24.65625 48.390625 19.8125 42.84375 \nQ 14.984375 37.3125 14.984375 27.296875 \nQ 14.984375 17.28125 19.8125 11.734375 \nQ 24.65625 6.203125 33.40625 6.203125 \nQ 37.3125 6.203125 41.140625 7.25 \nQ 44.96875 8.296875 48.78125 10.40625 \nL 48.78125 2.09375 \nQ 45.015625 0.34375 40.984375 -0.53125 \nQ 36.96875 -1.421875 32.421875 -1.421875 \nQ 20.0625 -1.421875 12.78125 6.34375 \nQ 5.515625 14.109375 5.515625 27.296875 \nQ 5.515625 40.671875 12.859375 48.328125 \nQ 20.21875 56 33.015625 56 \nQ 37.15625 56 41.109375 55.140625 \nQ 45.0625 54.296875 48.78125 52.59375 \nz\n\" id=\"DejaVuSans-99\"/>\n      <path d=\"M 30.609375 48.390625 \nQ 23.390625 48.390625 19.1875 42.75 \nQ 14.984375 37.109375 14.984375 27.296875 \nQ 14.984375 17.484375 19.15625 11.84375 \nQ 23.34375 6.203125 30.609375 6.203125 \nQ 37.796875 6.203125 41.984375 11.859375 \nQ 46.1875 17.53125 46.1875 27.296875 \nQ 46.1875 37.015625 41.984375 42.703125 \nQ 37.796875 48.390625 30.609375 48.390625 \nz\nM 30.609375 56 \nQ 42.328125 56 49.015625 48.375 \nQ 55.71875 40.765625 55.71875 27.296875 \nQ 55.71875 13.875 49.015625 6.21875 \nQ 42.328125 -1.421875 30.609375 -1.421875 \nQ 18.84375 -1.421875 12.171875 6.21875 \nQ 5.515625 13.875 5.515625 27.296875 \nQ 5.515625 40.765625 12.171875 48.375 \nQ 18.84375 56 30.609375 56 \nz\n\" id=\"DejaVuSans-111\"/>\n      <path d=\"M 54.890625 33.015625 \nL 54.890625 0 \nL 45.90625 0 \nL 45.90625 32.71875 \nQ 45.90625 40.484375 42.875 44.328125 \nQ 39.84375 48.1875 33.796875 48.1875 \nQ 26.515625 48.1875 22.3125 43.546875 \nQ 18.109375 38.921875 18.109375 30.90625 \nL 18.109375 0 \nL 9.078125 0 \nL 9.078125 54.6875 \nL 18.109375 54.6875 \nL 18.109375 46.1875 \nQ 21.34375 51.125 25.703125 53.5625 \nQ 30.078125 56 35.796875 56 \nQ 45.21875 56 50.046875 50.171875 \nQ 54.890625 44.34375 54.890625 33.015625 \nz\n\" id=\"DejaVuSans-110\"/>\n      <path d=\"M 52 44.1875 \nQ 55.375 50.25 60.0625 53.125 \nQ 64.75 56 71.09375 56 \nQ 79.640625 56 84.28125 50.015625 \nQ 88.921875 44.046875 88.921875 33.015625 \nL 88.921875 0 \nL 79.890625 0 \nL 79.890625 32.71875 \nQ 79.890625 40.578125 77.09375 44.375 \nQ 74.3125 48.1875 68.609375 48.1875 \nQ 61.625 48.1875 57.5625 43.546875 \nQ 53.515625 38.921875 53.515625 30.90625 \nL 53.515625 0 \nL 44.484375 0 \nL 44.484375 32.71875 \nQ 44.484375 40.625 41.703125 44.40625 \nQ 38.921875 48.1875 33.109375 48.1875 \nQ 26.21875 48.1875 22.15625 43.53125 \nQ 18.109375 38.875 18.109375 30.90625 \nL 18.109375 0 \nL 9.078125 0 \nL 9.078125 54.6875 \nL 18.109375 54.6875 \nL 18.109375 46.1875 \nQ 21.1875 51.21875 25.484375 53.609375 \nQ 29.78125 56 35.6875 56 \nQ 41.65625 56 45.828125 52.96875 \nQ 50 49.953125 52 44.1875 \nz\n\" id=\"DejaVuSans-109\"/>\n      <path d=\"M 9.421875 54.6875 \nL 18.40625 54.6875 \nL 18.40625 0 \nL 9.421875 0 \nz\nM 9.421875 75.984375 \nL 18.40625 75.984375 \nL 18.40625 64.59375 \nL 9.421875 64.59375 \nz\n\" id=\"DejaVuSans-105\"/>\n      <path id=\"DejaVuSans-32\"/>\n      <path d=\"M 45.40625 27.984375 \nQ 45.40625 37.75 41.375 43.109375 \nQ 37.359375 48.484375 30.078125 48.484375 \nQ 22.859375 48.484375 18.828125 43.109375 \nQ 14.796875 37.75 14.796875 27.984375 \nQ 14.796875 18.265625 18.828125 12.890625 \nQ 22.859375 7.515625 30.078125 7.515625 \nQ 37.359375 7.515625 41.375 12.890625 \nQ 45.40625 18.265625 45.40625 27.984375 \nz\nM 54.390625 6.78125 \nQ 54.390625 -7.171875 48.1875 -13.984375 \nQ 42 -20.796875 29.203125 -20.796875 \nQ 24.46875 -20.796875 20.265625 -20.09375 \nQ 16.0625 -19.390625 12.109375 -17.921875 \nL 12.109375 -9.1875 \nQ 16.0625 -11.328125 19.921875 -12.34375 \nQ 23.78125 -13.375 27.78125 -13.375 \nQ 36.625 -13.375 41.015625 -8.765625 \nQ 45.40625 -4.15625 45.40625 5.171875 \nL 45.40625 9.625 \nQ 42.625 4.78125 38.28125 2.390625 \nQ 33.9375 0 27.875 0 \nQ 17.828125 0 11.671875 7.65625 \nQ 5.515625 15.328125 5.515625 27.984375 \nQ 5.515625 40.671875 11.671875 48.328125 \nQ 17.828125 56 27.875 56 \nQ 33.9375 56 38.28125 53.609375 \nQ 42.625 51.21875 45.40625 46.390625 \nL 45.40625 54.6875 \nL 54.390625 54.6875 \nz\n\" id=\"DejaVuSans-103\"/>\n      <path d=\"M 41.109375 46.296875 \nQ 39.59375 47.171875 37.8125 47.578125 \nQ 36.03125 48 33.890625 48 \nQ 26.265625 48 22.1875 43.046875 \nQ 18.109375 38.09375 18.109375 28.8125 \nL 18.109375 0 \nL 9.078125 0 \nL 9.078125 54.6875 \nL 18.109375 54.6875 \nL 18.109375 46.1875 \nQ 20.953125 51.171875 25.484375 53.578125 \nQ 30.03125 56 36.53125 56 \nQ 37.453125 56 38.578125 55.875 \nQ 39.703125 55.765625 41.0625 55.515625 \nz\n\" id=\"DejaVuSans-114\"/>\n      <path d=\"M 4.203125 54.6875 \nL 13.1875 54.6875 \nL 24.421875 12.015625 \nL 35.59375 54.6875 \nL 46.1875 54.6875 \nL 57.421875 12.015625 \nL 68.609375 54.6875 \nL 77.59375 54.6875 \nL 63.28125 0 \nL 52.6875 0 \nL 40.921875 44.828125 \nL 29.109375 0 \nL 18.5 0 \nz\n\" id=\"DejaVuSans-119\"/>\n      <path d=\"M 18.3125 70.21875 \nL 18.3125 54.6875 \nL 36.8125 54.6875 \nL 36.8125 47.703125 \nL 18.3125 47.703125 \nL 18.3125 18.015625 \nQ 18.3125 11.328125 20.140625 9.421875 \nQ 21.96875 7.515625 27.59375 7.515625 \nL 36.8125 7.515625 \nL 36.8125 0 \nL 27.59375 0 \nQ 17.1875 0 13.234375 3.875 \nQ 9.28125 7.765625 9.28125 18.015625 \nL 9.28125 47.703125 \nL 2.6875 47.703125 \nL 2.6875 54.6875 \nL 9.28125 54.6875 \nL 9.28125 70.21875 \nz\n\" id=\"DejaVuSans-116\"/>\n      <path d=\"M 54.890625 33.015625 \nL 54.890625 0 \nL 45.90625 0 \nL 45.90625 32.71875 \nQ 45.90625 40.484375 42.875 44.328125 \nQ 39.84375 48.1875 33.796875 48.1875 \nQ 26.515625 48.1875 22.3125 43.546875 \nQ 18.109375 38.921875 18.109375 30.90625 \nL 18.109375 0 \nL 9.078125 0 \nL 9.078125 75.984375 \nL 18.109375 75.984375 \nL 18.109375 46.1875 \nQ 21.34375 51.125 25.703125 53.5625 \nQ 30.078125 56 35.796875 56 \nQ 45.21875 56 50.046875 50.171875 \nQ 54.890625 44.34375 54.890625 33.015625 \nz\n\" id=\"DejaVuSans-104\"/>\n     </defs>\n     <g transform=\"translate(118.638281 254.996638)scale(0.1 -0.1)\">\n      <use xlink:href=\"#DejaVuSans-101\"/>\n      <use x=\"61.523438\" xlink:href=\"#DejaVuSans-99\"/>\n      <use x=\"116.503906\" xlink:href=\"#DejaVuSans-111\"/>\n      <use x=\"177.685547\" xlink:href=\"#DejaVuSans-110\"/>\n      <use x=\"241.064453\" xlink:href=\"#DejaVuSans-111\"/>\n      <use x=\"302.246094\" xlink:href=\"#DejaVuSans-109\"/>\n      <use x=\"399.658203\" xlink:href=\"#DejaVuSans-105\"/>\n      <use x=\"427.441406\" xlink:href=\"#DejaVuSans-99\"/>\n      <use x=\"482.421875\" xlink:href=\"#DejaVuSans-32\"/>\n      <use x=\"514.208984\" xlink:href=\"#DejaVuSans-103\"/>\n      <use x=\"577.685547\" xlink:href=\"#DejaVuSans-114\"/>\n      <use x=\"616.548828\" xlink:href=\"#DejaVuSans-111\"/>\n      <use x=\"677.730469\" xlink:href=\"#DejaVuSans-119\"/>\n      <use x=\"759.517578\" xlink:href=\"#DejaVuSans-116\"/>\n      <use x=\"798.726562\" xlink:href=\"#DejaVuSans-104\"/>\n     </g>\n    </g>\n   </g>\n   <g id=\"matplotlib.axis_2\">\n    <g id=\"ytick_1\">\n     <g id=\"line2d_6\">\n      <defs>\n       <path d=\"M 0 0 \nL -3.5 0 \n\" id=\"mf2b11ab281\" style=\"stroke:#000000;stroke-width:0.8;\"/>\n      </defs>\n      <g>\n       <use style=\"stroke:#000000;stroke-width:0.8;\" x=\"50.14375\" xlink:href=\"#mf2b11ab281\" y=\"212.236725\"/>\n      </g>\n     </g>\n     <g id=\"text_7\">\n      <!-- 45.0 -->\n      <defs>\n       <path d=\"M 10.796875 72.90625 \nL 49.515625 72.90625 \nL 49.515625 64.59375 \nL 19.828125 64.59375 \nL 19.828125 46.734375 \nQ 21.96875 47.46875 24.109375 47.828125 \nQ 26.265625 48.1875 28.421875 48.1875 \nQ 40.625 48.1875 47.75 41.5 \nQ 54.890625 34.8125 54.890625 23.390625 \nQ 54.890625 11.625 47.5625 5.09375 \nQ 40.234375 -1.421875 26.90625 -1.421875 \nQ 22.3125 -1.421875 17.546875 -0.640625 \nQ 12.796875 0.140625 7.71875 1.703125 \nL 7.71875 11.625 \nQ 12.109375 9.234375 16.796875 8.0625 \nQ 21.484375 6.890625 26.703125 6.890625 \nQ 35.15625 6.890625 40.078125 11.328125 \nQ 45.015625 15.765625 45.015625 23.390625 \nQ 45.015625 31 40.078125 35.4375 \nQ 35.15625 39.890625 26.703125 39.890625 \nQ 22.75 39.890625 18.8125 39.015625 \nQ 14.890625 38.140625 10.796875 36.28125 \nz\n\" id=\"DejaVuSans-53\"/>\n       <path d=\"M 10.6875 12.40625 \nL 21 12.40625 \nL 21 0 \nL 10.6875 0 \nz\n\" id=\"DejaVuSans-46\"/>\n      </defs>\n      <g transform=\"translate(20.878125 216.035943)scale(0.1 -0.1)\">\n       <use xlink:href=\"#DejaVuSans-52\"/>\n       <use x=\"63.623047\" xlink:href=\"#DejaVuSans-53\"/>\n       <use x=\"127.246094\" xlink:href=\"#DejaVuSans-46\"/>\n       <use x=\"159.033203\" xlink:href=\"#DejaVuSans-48\"/>\n      </g>\n     </g>\n    </g>\n    <g id=\"ytick_2\">\n     <g id=\"line2d_7\">\n      <g>\n       <use style=\"stroke:#000000;stroke-width:0.8;\" x=\"50.14375\" xlink:href=\"#mf2b11ab281\" y=\"183.48851\"/>\n      </g>\n     </g>\n     <g id=\"text_8\">\n      <!-- 47.5 -->\n      <defs>\n       <path d=\"M 8.203125 72.90625 \nL 55.078125 72.90625 \nL 55.078125 68.703125 \nL 28.609375 0 \nL 18.3125 0 \nL 43.21875 64.59375 \nL 8.203125 64.59375 \nz\n\" id=\"DejaVuSans-55\"/>\n      </defs>\n      <g transform=\"translate(20.878125 187.287728)scale(0.1 -0.1)\">\n       <use xlink:href=\"#DejaVuSans-52\"/>\n       <use x=\"63.623047\" xlink:href=\"#DejaVuSans-55\"/>\n       <use x=\"127.246094\" xlink:href=\"#DejaVuSans-46\"/>\n       <use x=\"159.033203\" xlink:href=\"#DejaVuSans-53\"/>\n      </g>\n     </g>\n    </g>\n    <g id=\"ytick_3\">\n     <g id=\"line2d_8\">\n      <g>\n       <use style=\"stroke:#000000;stroke-width:0.8;\" x=\"50.14375\" xlink:href=\"#mf2b11ab281\" y=\"154.740294\"/>\n      </g>\n     </g>\n     <g id=\"text_9\">\n      <!-- 50.0 -->\n      <g transform=\"translate(20.878125 158.539513)scale(0.1 -0.1)\">\n       <use xlink:href=\"#DejaVuSans-53\"/>\n       <use x=\"63.623047\" xlink:href=\"#DejaVuSans-48\"/>\n       <use x=\"127.246094\" xlink:href=\"#DejaVuSans-46\"/>\n       <use x=\"159.033203\" xlink:href=\"#DejaVuSans-48\"/>\n      </g>\n     </g>\n    </g>\n    <g id=\"ytick_4\">\n     <g id=\"line2d_9\">\n      <g>\n       <use style=\"stroke:#000000;stroke-width:0.8;\" x=\"50.14375\" xlink:href=\"#mf2b11ab281\" y=\"125.992079\"/>\n      </g>\n     </g>\n     <g id=\"text_10\">\n      <!-- 52.5 -->\n      <g transform=\"translate(20.878125 129.791298)scale(0.1 -0.1)\">\n       <use xlink:href=\"#DejaVuSans-53\"/>\n       <use x=\"63.623047\" xlink:href=\"#DejaVuSans-50\"/>\n       <use x=\"127.246094\" xlink:href=\"#DejaVuSans-46\"/>\n       <use x=\"159.033203\" xlink:href=\"#DejaVuSans-53\"/>\n      </g>\n     </g>\n    </g>\n    <g id=\"ytick_5\">\n     <g id=\"line2d_10\">\n      <g>\n       <use style=\"stroke:#000000;stroke-width:0.8;\" x=\"50.14375\" xlink:href=\"#mf2b11ab281\" y=\"97.243864\"/>\n      </g>\n     </g>\n     <g id=\"text_11\">\n      <!-- 55.0 -->\n      <g transform=\"translate(20.878125 101.043083)scale(0.1 -0.1)\">\n       <use xlink:href=\"#DejaVuSans-53\"/>\n       <use x=\"63.623047\" xlink:href=\"#DejaVuSans-53\"/>\n       <use x=\"127.246094\" xlink:href=\"#DejaVuSans-46\"/>\n       <use x=\"159.033203\" xlink:href=\"#DejaVuSans-48\"/>\n      </g>\n     </g>\n    </g>\n    <g id=\"ytick_6\">\n     <g id=\"line2d_11\">\n      <g>\n       <use style=\"stroke:#000000;stroke-width:0.8;\" x=\"50.14375\" xlink:href=\"#mf2b11ab281\" y=\"68.495649\"/>\n      </g>\n     </g>\n     <g id=\"text_12\">\n      <!-- 57.5 -->\n      <g transform=\"translate(20.878125 72.294868)scale(0.1 -0.1)\">\n       <use xlink:href=\"#DejaVuSans-53\"/>\n       <use x=\"63.623047\" xlink:href=\"#DejaVuSans-55\"/>\n       <use x=\"127.246094\" xlink:href=\"#DejaVuSans-46\"/>\n       <use x=\"159.033203\" xlink:href=\"#DejaVuSans-53\"/>\n      </g>\n     </g>\n    </g>\n    <g id=\"ytick_7\">\n     <g id=\"line2d_12\">\n      <g>\n       <use style=\"stroke:#000000;stroke-width:0.8;\" x=\"50.14375\" xlink:href=\"#mf2b11ab281\" y=\"39.747434\"/>\n      </g>\n     </g>\n     <g id=\"text_13\">\n      <!-- 60.0 -->\n      <defs>\n       <path d=\"M 33.015625 40.375 \nQ 26.375 40.375 22.484375 35.828125 \nQ 18.609375 31.296875 18.609375 23.390625 \nQ 18.609375 15.53125 22.484375 10.953125 \nQ 26.375 6.390625 33.015625 6.390625 \nQ 39.65625 6.390625 43.53125 10.953125 \nQ 47.40625 15.53125 47.40625 23.390625 \nQ 47.40625 31.296875 43.53125 35.828125 \nQ 39.65625 40.375 33.015625 40.375 \nz\nM 52.59375 71.296875 \nL 52.59375 62.3125 \nQ 48.875 64.0625 45.09375 64.984375 \nQ 41.3125 65.921875 37.59375 65.921875 \nQ 27.828125 65.921875 22.671875 59.328125 \nQ 17.53125 52.734375 16.796875 39.40625 \nQ 19.671875 43.65625 24.015625 45.921875 \nQ 28.375 48.1875 33.59375 48.1875 \nQ 44.578125 48.1875 50.953125 41.515625 \nQ 57.328125 34.859375 57.328125 23.390625 \nQ 57.328125 12.15625 50.6875 5.359375 \nQ 44.046875 -1.421875 33.015625 -1.421875 \nQ 20.359375 -1.421875 13.671875 8.265625 \nQ 6.984375 17.96875 6.984375 36.375 \nQ 6.984375 53.65625 15.1875 63.9375 \nQ 23.390625 74.21875 37.203125 74.21875 \nQ 40.921875 74.21875 44.703125 73.484375 \nQ 48.484375 72.75 52.59375 71.296875 \nz\n\" id=\"DejaVuSans-54\"/>\n      </defs>\n      <g transform=\"translate(20.878125 43.546653)scale(0.1 -0.1)\">\n       <use xlink:href=\"#DejaVuSans-54\"/>\n       <use x=\"63.623047\" xlink:href=\"#DejaVuSans-48\"/>\n       <use x=\"127.246094\" xlink:href=\"#DejaVuSans-46\"/>\n       <use x=\"159.033203\" xlink:href=\"#DejaVuSans-48\"/>\n      </g>\n     </g>\n    </g>\n    <g id=\"ytick_8\">\n     <g id=\"line2d_13\">\n      <g>\n       <use style=\"stroke:#000000;stroke-width:0.8;\" x=\"50.14375\" xlink:href=\"#mf2b11ab281\" y=\"10.999219\"/>\n      </g>\n     </g>\n     <g id=\"text_14\">\n      <!-- 62.5 -->\n      <g transform=\"translate(20.878125 14.798437)scale(0.1 -0.1)\">\n       <use xlink:href=\"#DejaVuSans-54\"/>\n       <use x=\"63.623047\" xlink:href=\"#DejaVuSans-50\"/>\n       <use x=\"127.246094\" xlink:href=\"#DejaVuSans-46\"/>\n       <use x=\"159.033203\" xlink:href=\"#DejaVuSans-53\"/>\n      </g>\n     </g>\n    </g>\n    <g id=\"text_15\">\n     <!-- vote share -->\n     <defs>\n      <path d=\"M 2.984375 54.6875 \nL 12.5 54.6875 \nL 29.59375 8.796875 \nL 46.6875 54.6875 \nL 56.203125 54.6875 \nL 35.6875 0 \nL 23.484375 0 \nz\n\" id=\"DejaVuSans-118\"/>\n      <path d=\"M 44.28125 53.078125 \nL 44.28125 44.578125 \nQ 40.484375 46.53125 36.375 47.5 \nQ 32.28125 48.484375 27.875 48.484375 \nQ 21.1875 48.484375 17.84375 46.4375 \nQ 14.5 44.390625 14.5 40.28125 \nQ 14.5 37.15625 16.890625 35.375 \nQ 19.28125 33.59375 26.515625 31.984375 \nL 29.59375 31.296875 \nQ 39.15625 29.25 43.1875 25.515625 \nQ 47.21875 21.78125 47.21875 15.09375 \nQ 47.21875 7.46875 41.1875 3.015625 \nQ 35.15625 -1.421875 24.609375 -1.421875 \nQ 20.21875 -1.421875 15.453125 -0.5625 \nQ 10.6875 0.296875 5.421875 2 \nL 5.421875 11.28125 \nQ 10.40625 8.6875 15.234375 7.390625 \nQ 20.0625 6.109375 24.8125 6.109375 \nQ 31.15625 6.109375 34.5625 8.28125 \nQ 37.984375 10.453125 37.984375 14.40625 \nQ 37.984375 18.0625 35.515625 20.015625 \nQ 33.0625 21.96875 24.703125 23.78125 \nL 21.578125 24.515625 \nQ 13.234375 26.265625 9.515625 29.90625 \nQ 5.8125 33.546875 5.8125 39.890625 \nQ 5.8125 47.609375 11.28125 51.796875 \nQ 16.75 56 26.8125 56 \nQ 31.78125 56 36.171875 55.265625 \nQ 40.578125 54.546875 44.28125 53.078125 \nz\n\" id=\"DejaVuSans-115\"/>\n      <path d=\"M 34.28125 27.484375 \nQ 23.390625 27.484375 19.1875 25 \nQ 14.984375 22.515625 14.984375 16.5 \nQ 14.984375 11.71875 18.140625 8.90625 \nQ 21.296875 6.109375 26.703125 6.109375 \nQ 34.1875 6.109375 38.703125 11.40625 \nQ 43.21875 16.703125 43.21875 25.484375 \nL 43.21875 27.484375 \nz\nM 52.203125 31.203125 \nL 52.203125 0 \nL 43.21875 0 \nL 43.21875 8.296875 \nQ 40.140625 3.328125 35.546875 0.953125 \nQ 30.953125 -1.421875 24.3125 -1.421875 \nQ 15.921875 -1.421875 10.953125 3.296875 \nQ 6 8.015625 6 15.921875 \nQ 6 25.140625 12.171875 29.828125 \nQ 18.359375 34.515625 30.609375 34.515625 \nL 43.21875 34.515625 \nL 43.21875 35.40625 \nQ 43.21875 41.609375 39.140625 45 \nQ 35.0625 48.390625 27.6875 48.390625 \nQ 23 48.390625 18.546875 47.265625 \nQ 14.109375 46.140625 10.015625 43.890625 \nL 10.015625 52.203125 \nQ 14.9375 54.109375 19.578125 55.046875 \nQ 24.21875 56 28.609375 56 \nQ 40.484375 56 46.34375 49.84375 \nQ 52.203125 43.703125 52.203125 31.203125 \nz\n\" id=\"DejaVuSans-97\"/>\n     </defs>\n     <g transform=\"translate(14.798438 144.501638)rotate(-90)scale(0.1 -0.1)\">\n      <use xlink:href=\"#DejaVuSans-118\"/>\n      <use x=\"59.179688\" xlink:href=\"#DejaVuSans-111\"/>\n      <use x=\"120.361328\" xlink:href=\"#DejaVuSans-116\"/>\n      <use x=\"159.570312\" xlink:href=\"#DejaVuSans-101\"/>\n      <use x=\"221.09375\" xlink:href=\"#DejaVuSans-32\"/>\n      <use x=\"252.880859\" xlink:href=\"#DejaVuSans-115\"/>\n      <use x=\"304.980469\" xlink:href=\"#DejaVuSans-104\"/>\n      <use x=\"368.359375\" xlink:href=\"#DejaVuSans-97\"/>\n      <use x=\"429.638672\" xlink:href=\"#DejaVuSans-114\"/>\n      <use x=\"468.501953\" xlink:href=\"#DejaVuSans-101\"/>\n     </g>\n    </g>\n   </g>\n   <g id=\"line2d_14\">\n    <defs>\n     <path d=\"M 0 3 \nC 0.795609 3 1.55874 2.683901 2.12132 2.12132 \nC 2.683901 1.55874 3 0.795609 3 0 \nC 3 -0.795609 2.683901 -1.55874 2.12132 -2.12132 \nC 1.55874 -2.683901 0.795609 -3 0 -3 \nC -0.795609 -3 -1.55874 -2.683901 -2.12132 -2.12132 \nC -2.683901 -1.55874 -3 -0.795609 -3 0 \nC -3 0.795609 -2.683901 1.55874 -2.12132 2.12132 \nC -1.55874 2.683901 -0.795609 3 0 3 \nz\n\" id=\"m77c2edb87a\" style=\"stroke:#1f77b4;\"/>\n    </defs>\n    <g clip-path=\"url(#p0fe4d215c1)\">\n     <use style=\"fill-opacity:0;stroke:#1f77b4;\" x=\"183.357979\" xlink:href=\"#m77c2edb87a\" y=\"216.836439\"/>\n     <use style=\"fill-opacity:0;stroke:#1f77b4;\" x=\"204.972208\" xlink:href=\"#m77c2edb87a\" y=\"65.505835\"/>\n     <use style=\"fill-opacity:0;stroke:#1f77b4;\" x=\"114.986438\" xlink:href=\"#m77c2edb87a\" y=\"155.77523\"/>\n     <use style=\"fill-opacity:0;stroke:#1f77b4;\" x=\"263.198295\" xlink:href=\"#m77c2edb87a\" y=\"24.338391\"/>\n     <use style=\"fill-opacity:0;stroke:#1f77b4;\" x=\"210.706596\" xlink:href=\"#m77c2edb87a\" y=\"159.340009\"/>\n     <use style=\"fill-opacity:0;stroke:#1f77b4;\" x=\"237.172999\" xlink:href=\"#m77c2edb87a\" y=\"19.163712\"/>\n     <use style=\"fill-opacity:0;stroke:#1f77b4;\" x=\"125.131892\" xlink:href=\"#m77c2edb87a\" y=\"166.814545\"/>\n     <use style=\"fill-opacity:0;stroke:#1f77b4;\" x=\"60.289205\" xlink:href=\"#m77c2edb87a\" y=\"215.686511\"/>\n     <use style=\"fill-opacity:0;stroke:#1f77b4;\" x=\"247.75956\" xlink:href=\"#m77c2edb87a\" y=\"49.291841\"/>\n     <use style=\"fill-opacity:0;stroke:#1f77b4;\" x=\"177.623592\" xlink:href=\"#m77c2edb87a\" y=\"109.433107\"/>\n     <use style=\"fill-opacity:0;stroke:#1f77b4;\" x=\"94.254422\" xlink:href=\"#m77c2edb87a\" y=\"194.412831\"/>\n     <use style=\"fill-opacity:0;stroke:#1f77b4;\" x=\"123.367465\" xlink:href=\"#m77c2edb87a\" y=\"100.233679\"/>\n     <use style=\"fill-opacity:0;stroke:#1f77b4;\" x=\"181.593552\" xlink:href=\"#m77c2edb87a\" y=\"151.635487\"/>\n     <use style=\"fill-opacity:0;stroke:#1f77b4;\" x=\"153.362722\" xlink:href=\"#m77c2edb87a\" y=\"140.48118\"/>\n     <use style=\"fill-opacity:0;stroke:#1f77b4;\" x=\"81.903434\" xlink:href=\"#m77c2edb87a\" y=\"197.057667\"/>\n     <use style=\"fill-opacity:0;stroke:#1f77b4;\" x=\"119.397505\" xlink:href=\"#m77c2edb87a\" y=\"131.741722\"/>\n    </g>\n   </g>\n   <g id=\"patch_3\">\n    <path d=\"M 50.14375 226.720075 \nL 50.14375 9.280075 \n\" style=\"fill:none;stroke:#000000;stroke-linecap:square;stroke-linejoin:miter;stroke-width:0.8;\"/>\n   </g>\n   <g id=\"patch_4\">\n    <path d=\"M 273.34375 226.720075 \nL 273.34375 9.280075 \n\" style=\"fill:none;stroke:#000000;stroke-linecap:square;stroke-linejoin:miter;stroke-width:0.8;\"/>\n   </g>\n   <g id=\"patch_5\">\n    <path d=\"M 50.14375 226.720075 \nL 273.34375 226.720075 \n\" style=\"fill:none;stroke:#000000;stroke-linecap:square;stroke-linejoin:miter;stroke-width:0.8;\"/>\n   </g>\n   <g id=\"patch_6\">\n    <path d=\"M 50.14375 9.280075 \nL 273.34375 9.280075 \n\" style=\"fill:none;stroke:#000000;stroke-linecap:square;stroke-linejoin:miter;stroke-width:0.8;\"/>\n   </g>\n  </g>\n </g>\n <defs>\n  <clipPath id=\"p0fe4d215c1\">\n   <rect height=\"217.44\" width=\"223.2\" x=\"50.14375\" y=\"9.280075\"/>\n  </clipPath>\n </defs>\n</svg>\n"
          },
          "metadata": {
            "tags": [],
            "needs_background": "light"
          }
        }
      ]
    },
    {
      "cell_type": "markdown",
      "metadata": {
        "id": "FEf2R56w7F7t"
      },
      "source": [
        "**EXERCISES**\n",
        "\n",
        "1.  Perform a linear regression on vote share vs. economic growth. What is the equation you get for the regression line? (the fit will be slightly different than textbook, since they use Bayesian algorithms from the start.)\n",
        "2. Suppose you wanted to predict the outcome of an election using this model. In order to be at least $90$% confident of your prediction, what would range would the economic growth have to fall in?  That is, you should provide a minumum value of $x$ needed to call the election of the incumbent and a maximum value needed to call the election for the non-incumbent. When answering this question, you should neglect any uncertainty in the fitted model (ignore the ``std err`` values).  \n",
        "3. Generate simulated data to confirm your answer to the previous question. In other words, \"simulate\" elections for the values of economic growth you computed and show that indeed the incumbent/non-incumbent candidate wins in $90$% of them.  \n",
        "4. Later we will see how to **propogate error** from the uncertainty in the measured coefficents. Without doing any math or coding, how do you think including this uncertainty would change the results?\n",
        "5. In the previous example, we discussed we applied the linear regression in an idealized sceneario where the data satisfied exactly the assumptions of the linear model. In what ways might this data set violate the assumptions of the linear regression? To answer this question, think about how the $x$ and $y$ variabls are measured. \n",
        "<!-- 5. In this data, income is weighted measure of the income over the four years proceeding the election. You've already seen how to simulated a simple version of the model.  -->"
      ]
    },
    {
      "cell_type": "markdown",
      "metadata": {
        "id": "sNqU_o1gP6zA"
      },
      "source": [
        "# Example: Test scores and mother education\n",
        "\n"
      ]
    },
    {
      "cell_type": "markdown",
      "metadata": {
        "id": "VykPZf-8m1vT"
      },
      "source": [
        "So far we have been working with regression problems where the predictor variables (x) are continous, that is, they are decimal numbers. It's comment however to make preditions based on discrete variables. For example, we might want to understand how the efficacy of a drug depends on the sex of a patient. Such variables are sometimes called **idicator variables**. Everything we've done actually generalizes very easily to this setting -- remember, there was nothing in our model that assumes $x$ is continous. \n",
        "\n",
        "To illusrate this, we will work with a data consisting of kids test scores and their mother's high school education (whether they graduated or not). Acutally, there is more information in this data set, but for now, we will only focus on this one variable. "
      ]
    },
    {
      "cell_type": "code",
      "metadata": {
        "id": "7BsA63jx9Vcq"
      },
      "source": [
        "data = pd.read_csv(\"https://raw.githubusercontent.com/avehtari/ROS-Examples/master/KidIQ/data/kidiq.csv\")"
      ],
      "execution_count": null,
      "outputs": []
    },
    {
      "cell_type": "code",
      "metadata": {
        "colab": {
          "base_uri": "https://localhost:8080/"
        },
        "id": "meUkosWAQEaR",
        "outputId": "44a0100b-c87a-459b-b330-1a89eaaf240b"
      },
      "source": [
        "print(data)"
      ],
      "execution_count": null,
      "outputs": [
        {
          "output_type": "stream",
          "text": [
            "     kid_score  mom_hs      mom_iq  mom_work  mom_age\n",
            "0           65       1  121.117529         4       27\n",
            "1           98       1   89.361882         4       25\n",
            "2           85       1  115.443165         4       27\n",
            "3           83       1   99.449639         3       25\n",
            "4          115       1   92.745710         4       27\n",
            "..         ...     ...         ...       ...      ...\n",
            "429         94       0   84.877412         4       21\n",
            "430         76       1   92.990392         4       23\n",
            "431         50       0   94.859708         2       24\n",
            "432         88       1   96.856624         2       21\n",
            "433         70       1   91.253336         2       25\n",
            "\n",
            "[434 rows x 5 columns]\n"
          ],
          "name": "stdout"
        }
      ]
    },
    {
      "cell_type": "code",
      "metadata": {
        "id": "A6XjRPOCQMXs",
        "colab": {
          "base_uri": "https://localhost:8080/"
        },
        "outputId": "acb9040c-d0fc-4ab5-bcca-69dae03ae92b"
      },
      "source": [
        "# there is more information here, but let's start by just looking at \n",
        "# how the mother's high school education correlates with scores\n",
        "x = np.array(data[\"mom_hs\"])\n",
        "y = np.array(data[\"kid_score\"])\n",
        "\n",
        "model= sm.OLS(y,sm.add_constant(x)) \n",
        " # and this commend actually does the computations which give the results\n",
        "results = model.fit()\n",
        "\n",
        "# as expected everything works just the same as before\n",
        "print(results.summary())"
      ],
      "execution_count": null,
      "outputs": [
        {
          "output_type": "stream",
          "text": [
            "                            OLS Regression Results                            \n",
            "==============================================================================\n",
            "Dep. Variable:                      y   R-squared:                       0.056\n",
            "Model:                            OLS   Adj. R-squared:                  0.054\n",
            "Method:                 Least Squares   F-statistic:                     25.69\n",
            "Date:                Wed, 11 Aug 2021   Prob (F-statistic):           5.96e-07\n",
            "Time:                        20:22:37   Log-Likelihood:                -1911.8\n",
            "No. Observations:                 434   AIC:                             3828.\n",
            "Df Residuals:                     432   BIC:                             3836.\n",
            "Df Model:                           1                                         \n",
            "Covariance Type:            nonrobust                                         \n",
            "==============================================================================\n",
            "                 coef    std err          t      P>|t|      [0.025      0.975]\n",
            "------------------------------------------------------------------------------\n",
            "const         77.5484      2.059     37.670      0.000      73.502      81.595\n",
            "x1            11.7713      2.322      5.069      0.000       7.207      16.336\n",
            "==============================================================================\n",
            "Omnibus:                       11.077   Durbin-Watson:                   1.464\n",
            "Prob(Omnibus):                  0.004   Jarque-Bera (JB):               11.316\n",
            "Skew:                          -0.373   Prob(JB):                      0.00349\n",
            "Kurtosis:                       2.738   Cond. No.                         4.11\n",
            "==============================================================================\n",
            "\n",
            "Warnings:\n",
            "[1] Standard Errors assume that the covariance matrix of the errors is correctly specified.\n"
          ],
          "name": "stdout"
        }
      ]
    },
    {
      "cell_type": "markdown",
      "metadata": {
        "id": "AVwTAASM4fDk"
      },
      "source": [
        "Plotting this data is a little different than we are used to with continous predictors. If we just plot as usual, we get something that is a little difficult to interpret. Instead, we will use a boxplot. The boxplot takes a list of lists, and plots the mean and standard deviation of each element in this list. "
      ]
    },
    {
      "cell_type": "code",
      "metadata": {
        "colab": {
          "base_uri": "https://localhost:8080/",
          "height": 351
        },
        "id": "KuMYcbUDRltj",
        "outputId": "969d0e69-5a99-4c1d-dcef-f223b85ee510"
      },
      "source": [
        "fig,ax = plt.subplots(figsize=(5,3))\n",
        "plt.boxplot([y[x ==0],y[x ==1]]);\n",
        "\n",
        "b_fit,a_fit = results.params\n",
        "plt.plot()"
      ],
      "execution_count": null,
      "outputs": [
        {
          "output_type": "stream",
          "text": [
            "/usr/local/lib/python3.7/dist-packages/numpy/core/_asarray.py:83: VisibleDeprecationWarning: Creating an ndarray from ragged nested sequences (which is a list-or-tuple of lists-or-tuples-or ndarrays with different lengths or shapes) is deprecated. If you meant to do this, you must specify 'dtype=object' when creating the ndarray\n",
            "  return array(a, dtype, copy=False, order=order)\n"
          ],
          "name": "stderr"
        },
        {
          "output_type": "execute_result",
          "data": {
            "text/plain": [
              "[]"
            ]
          },
          "metadata": {
            "tags": []
          },
          "execution_count": 30
        },
        {
          "output_type": "display_data",
          "data": {
            "text/plain": [
              "<Figure size 360x216 with 1 Axes>"
            ],
            "image/svg+xml": "<?xml version=\"1.0\" encoding=\"utf-8\" standalone=\"no\"?>\n<!DOCTYPE svg PUBLIC \"-//W3C//DTD SVG 1.1//EN\"\n  \"http://www.w3.org/Graphics/SVG/1.1/DTD/svg11.dtd\">\n<!-- Created with matplotlib (https://matplotlib.org/) -->\n<svg height=\"194.158125pt\" version=\"1.1\" viewBox=\"0 0 319.4875 194.158125\" width=\"319.4875pt\" xmlns=\"http://www.w3.org/2000/svg\" xmlns:xlink=\"http://www.w3.org/1999/xlink\">\n <defs>\n  <style type=\"text/css\">\n*{stroke-linecap:butt;stroke-linejoin:round;}\n  </style>\n </defs>\n <g id=\"figure_1\">\n  <g id=\"patch_1\">\n   <path d=\"M -0 194.158125 \nL 319.4875 194.158125 \nL 319.4875 0 \nL -0 0 \nz\n\" style=\"fill:none;\"/>\n  </g>\n  <g id=\"axes_1\">\n   <g id=\"patch_2\">\n    <path d=\"M 33.2875 170.28 \nL 312.2875 170.28 \nL 312.2875 7.2 \nL 33.2875 7.2 \nz\n\" style=\"fill:#ffffff;\"/>\n   </g>\n   <g id=\"matplotlib.axis_1\">\n    <g id=\"xtick_1\">\n     <g id=\"line2d_1\">\n      <defs>\n       <path d=\"M 0 0 \nL 0 3.5 \n\" id=\"m68f0251c89\" style=\"stroke:#000000;stroke-width:0.8;\"/>\n      </defs>\n      <g>\n       <use style=\"stroke:#000000;stroke-width:0.8;\" x=\"103.0375\" xlink:href=\"#m68f0251c89\" y=\"170.28\"/>\n      </g>\n     </g>\n     <g id=\"text_1\">\n      <!-- 1 -->\n      <defs>\n       <path d=\"M 12.40625 8.296875 \nL 28.515625 8.296875 \nL 28.515625 63.921875 \nL 10.984375 60.40625 \nL 10.984375 69.390625 \nL 28.421875 72.90625 \nL 38.28125 72.90625 \nL 38.28125 8.296875 \nL 54.390625 8.296875 \nL 54.390625 0 \nL 12.40625 0 \nz\n\" id=\"DejaVuSans-49\"/>\n      </defs>\n      <g transform=\"translate(99.85625 184.878438)scale(0.1 -0.1)\">\n       <use xlink:href=\"#DejaVuSans-49\"/>\n      </g>\n     </g>\n    </g>\n    <g id=\"xtick_2\">\n     <g id=\"line2d_2\">\n      <g>\n       <use style=\"stroke:#000000;stroke-width:0.8;\" x=\"242.5375\" xlink:href=\"#m68f0251c89\" y=\"170.28\"/>\n      </g>\n     </g>\n     <g id=\"text_2\">\n      <!-- 2 -->\n      <defs>\n       <path d=\"M 19.1875 8.296875 \nL 53.609375 8.296875 \nL 53.609375 0 \nL 7.328125 0 \nL 7.328125 8.296875 \nQ 12.9375 14.109375 22.625 23.890625 \nQ 32.328125 33.6875 34.8125 36.53125 \nQ 39.546875 41.84375 41.421875 45.53125 \nQ 43.3125 49.21875 43.3125 52.78125 \nQ 43.3125 58.59375 39.234375 62.25 \nQ 35.15625 65.921875 28.609375 65.921875 \nQ 23.96875 65.921875 18.8125 64.3125 \nQ 13.671875 62.703125 7.8125 59.421875 \nL 7.8125 69.390625 \nQ 13.765625 71.78125 18.9375 73 \nQ 24.125 74.21875 28.421875 74.21875 \nQ 39.75 74.21875 46.484375 68.546875 \nQ 53.21875 62.890625 53.21875 53.421875 \nQ 53.21875 48.921875 51.53125 44.890625 \nQ 49.859375 40.875 45.40625 35.40625 \nQ 44.1875 33.984375 37.640625 27.21875 \nQ 31.109375 20.453125 19.1875 8.296875 \nz\n\" id=\"DejaVuSans-50\"/>\n      </defs>\n      <g transform=\"translate(239.35625 184.878438)scale(0.1 -0.1)\">\n       <use xlink:href=\"#DejaVuSans-50\"/>\n      </g>\n     </g>\n    </g>\n   </g>\n   <g id=\"matplotlib.axis_2\">\n    <g id=\"ytick_1\">\n     <g id=\"line2d_3\">\n      <defs>\n       <path d=\"M 0 0 \nL -3.5 0 \n\" id=\"mda54dbe36d\" style=\"stroke:#000000;stroke-width:0.8;\"/>\n      </defs>\n      <g>\n       <use style=\"stroke:#000000;stroke-width:0.8;\" x=\"33.2875\" xlink:href=\"#mda54dbe36d\" y=\"162.867273\"/>\n      </g>\n     </g>\n     <g id=\"text_3\">\n      <!-- 20 -->\n      <defs>\n       <path d=\"M 31.78125 66.40625 \nQ 24.171875 66.40625 20.328125 58.90625 \nQ 16.5 51.421875 16.5 36.375 \nQ 16.5 21.390625 20.328125 13.890625 \nQ 24.171875 6.390625 31.78125 6.390625 \nQ 39.453125 6.390625 43.28125 13.890625 \nQ 47.125 21.390625 47.125 36.375 \nQ 47.125 51.421875 43.28125 58.90625 \nQ 39.453125 66.40625 31.78125 66.40625 \nz\nM 31.78125 74.21875 \nQ 44.046875 74.21875 50.515625 64.515625 \nQ 56.984375 54.828125 56.984375 36.375 \nQ 56.984375 17.96875 50.515625 8.265625 \nQ 44.046875 -1.421875 31.78125 -1.421875 \nQ 19.53125 -1.421875 13.0625 8.265625 \nQ 6.59375 17.96875 6.59375 36.375 \nQ 6.59375 54.828125 13.0625 64.515625 \nQ 19.53125 74.21875 31.78125 74.21875 \nz\n\" id=\"DejaVuSans-48\"/>\n      </defs>\n      <g transform=\"translate(13.5625 166.666491)scale(0.1 -0.1)\">\n       <use xlink:href=\"#DejaVuSans-50\"/>\n       <use x=\"63.623047\" xlink:href=\"#DejaVuSans-48\"/>\n      </g>\n     </g>\n    </g>\n    <g id=\"ytick_2\">\n     <g id=\"line2d_4\">\n      <g>\n       <use style=\"stroke:#000000;stroke-width:0.8;\" x=\"33.2875\" xlink:href=\"#mda54dbe36d\" y=\"138.955249\"/>\n      </g>\n     </g>\n     <g id=\"text_4\">\n      <!-- 40 -->\n      <defs>\n       <path d=\"M 37.796875 64.3125 \nL 12.890625 25.390625 \nL 37.796875 25.390625 \nz\nM 35.203125 72.90625 \nL 47.609375 72.90625 \nL 47.609375 25.390625 \nL 58.015625 25.390625 \nL 58.015625 17.1875 \nL 47.609375 17.1875 \nL 47.609375 0 \nL 37.796875 0 \nL 37.796875 17.1875 \nL 4.890625 17.1875 \nL 4.890625 26.703125 \nz\n\" id=\"DejaVuSans-52\"/>\n      </defs>\n      <g transform=\"translate(13.5625 142.754468)scale(0.1 -0.1)\">\n       <use xlink:href=\"#DejaVuSans-52\"/>\n       <use x=\"63.623047\" xlink:href=\"#DejaVuSans-48\"/>\n      </g>\n     </g>\n    </g>\n    <g id=\"ytick_3\">\n     <g id=\"line2d_5\">\n      <g>\n       <use style=\"stroke:#000000;stroke-width:0.8;\" x=\"33.2875\" xlink:href=\"#mda54dbe36d\" y=\"115.043226\"/>\n      </g>\n     </g>\n     <g id=\"text_5\">\n      <!-- 60 -->\n      <defs>\n       <path d=\"M 33.015625 40.375 \nQ 26.375 40.375 22.484375 35.828125 \nQ 18.609375 31.296875 18.609375 23.390625 \nQ 18.609375 15.53125 22.484375 10.953125 \nQ 26.375 6.390625 33.015625 6.390625 \nQ 39.65625 6.390625 43.53125 10.953125 \nQ 47.40625 15.53125 47.40625 23.390625 \nQ 47.40625 31.296875 43.53125 35.828125 \nQ 39.65625 40.375 33.015625 40.375 \nz\nM 52.59375 71.296875 \nL 52.59375 62.3125 \nQ 48.875 64.0625 45.09375 64.984375 \nQ 41.3125 65.921875 37.59375 65.921875 \nQ 27.828125 65.921875 22.671875 59.328125 \nQ 17.53125 52.734375 16.796875 39.40625 \nQ 19.671875 43.65625 24.015625 45.921875 \nQ 28.375 48.1875 33.59375 48.1875 \nQ 44.578125 48.1875 50.953125 41.515625 \nQ 57.328125 34.859375 57.328125 23.390625 \nQ 57.328125 12.15625 50.6875 5.359375 \nQ 44.046875 -1.421875 33.015625 -1.421875 \nQ 20.359375 -1.421875 13.671875 8.265625 \nQ 6.984375 17.96875 6.984375 36.375 \nQ 6.984375 53.65625 15.1875 63.9375 \nQ 23.390625 74.21875 37.203125 74.21875 \nQ 40.921875 74.21875 44.703125 73.484375 \nQ 48.484375 72.75 52.59375 71.296875 \nz\n\" id=\"DejaVuSans-54\"/>\n      </defs>\n      <g transform=\"translate(13.5625 118.842445)scale(0.1 -0.1)\">\n       <use xlink:href=\"#DejaVuSans-54\"/>\n       <use x=\"63.623047\" xlink:href=\"#DejaVuSans-48\"/>\n      </g>\n     </g>\n    </g>\n    <g id=\"ytick_4\">\n     <g id=\"line2d_6\">\n      <g>\n       <use style=\"stroke:#000000;stroke-width:0.8;\" x=\"33.2875\" xlink:href=\"#mda54dbe36d\" y=\"91.131202\"/>\n      </g>\n     </g>\n     <g id=\"text_6\">\n      <!-- 80 -->\n      <defs>\n       <path d=\"M 31.78125 34.625 \nQ 24.75 34.625 20.71875 30.859375 \nQ 16.703125 27.09375 16.703125 20.515625 \nQ 16.703125 13.921875 20.71875 10.15625 \nQ 24.75 6.390625 31.78125 6.390625 \nQ 38.8125 6.390625 42.859375 10.171875 \nQ 46.921875 13.96875 46.921875 20.515625 \nQ 46.921875 27.09375 42.890625 30.859375 \nQ 38.875 34.625 31.78125 34.625 \nz\nM 21.921875 38.8125 \nQ 15.578125 40.375 12.03125 44.71875 \nQ 8.5 49.078125 8.5 55.328125 \nQ 8.5 64.0625 14.71875 69.140625 \nQ 20.953125 74.21875 31.78125 74.21875 \nQ 42.671875 74.21875 48.875 69.140625 \nQ 55.078125 64.0625 55.078125 55.328125 \nQ 55.078125 49.078125 51.53125 44.71875 \nQ 48 40.375 41.703125 38.8125 \nQ 48.828125 37.15625 52.796875 32.3125 \nQ 56.78125 27.484375 56.78125 20.515625 \nQ 56.78125 9.90625 50.3125 4.234375 \nQ 43.84375 -1.421875 31.78125 -1.421875 \nQ 19.734375 -1.421875 13.25 4.234375 \nQ 6.78125 9.90625 6.78125 20.515625 \nQ 6.78125 27.484375 10.78125 32.3125 \nQ 14.796875 37.15625 21.921875 38.8125 \nz\nM 18.3125 54.390625 \nQ 18.3125 48.734375 21.84375 45.5625 \nQ 25.390625 42.390625 31.78125 42.390625 \nQ 38.140625 42.390625 41.71875 45.5625 \nQ 45.3125 48.734375 45.3125 54.390625 \nQ 45.3125 60.0625 41.71875 63.234375 \nQ 38.140625 66.40625 31.78125 66.40625 \nQ 25.390625 66.40625 21.84375 63.234375 \nQ 18.3125 60.0625 18.3125 54.390625 \nz\n\" id=\"DejaVuSans-56\"/>\n      </defs>\n      <g transform=\"translate(13.5625 94.930421)scale(0.1 -0.1)\">\n       <use xlink:href=\"#DejaVuSans-56\"/>\n       <use x=\"63.623047\" xlink:href=\"#DejaVuSans-48\"/>\n      </g>\n     </g>\n    </g>\n    <g id=\"ytick_5\">\n     <g id=\"line2d_7\">\n      <g>\n       <use style=\"stroke:#000000;stroke-width:0.8;\" x=\"33.2875\" xlink:href=\"#mda54dbe36d\" y=\"67.219179\"/>\n      </g>\n     </g>\n     <g id=\"text_7\">\n      <!-- 100 -->\n      <g transform=\"translate(7.2 71.018398)scale(0.1 -0.1)\">\n       <use xlink:href=\"#DejaVuSans-49\"/>\n       <use x=\"63.623047\" xlink:href=\"#DejaVuSans-48\"/>\n       <use x=\"127.246094\" xlink:href=\"#DejaVuSans-48\"/>\n      </g>\n     </g>\n    </g>\n    <g id=\"ytick_6\">\n     <g id=\"line2d_8\">\n      <g>\n       <use style=\"stroke:#000000;stroke-width:0.8;\" x=\"33.2875\" xlink:href=\"#mda54dbe36d\" y=\"43.307155\"/>\n      </g>\n     </g>\n     <g id=\"text_8\">\n      <!-- 120 -->\n      <g transform=\"translate(7.2 47.106374)scale(0.1 -0.1)\">\n       <use xlink:href=\"#DejaVuSans-49\"/>\n       <use x=\"63.623047\" xlink:href=\"#DejaVuSans-50\"/>\n       <use x=\"127.246094\" xlink:href=\"#DejaVuSans-48\"/>\n      </g>\n     </g>\n    </g>\n    <g id=\"ytick_7\">\n     <g id=\"line2d_9\">\n      <g>\n       <use style=\"stroke:#000000;stroke-width:0.8;\" x=\"33.2875\" xlink:href=\"#mda54dbe36d\" y=\"19.395132\"/>\n      </g>\n     </g>\n     <g id=\"text_9\">\n      <!-- 140 -->\n      <g transform=\"translate(7.2 23.194351)scale(0.1 -0.1)\">\n       <use xlink:href=\"#DejaVuSans-49\"/>\n       <use x=\"63.623047\" xlink:href=\"#DejaVuSans-52\"/>\n       <use x=\"127.246094\" xlink:href=\"#DejaVuSans-48\"/>\n      </g>\n     </g>\n    </g>\n   </g>\n   <g id=\"line2d_10\">\n    <path clip-path=\"url(#pbdebb7c9d6)\" d=\"M 92.575 117.434428 \nL 113.5 117.434428 \nL 113.5 73.197185 \nL 92.575 73.197185 \nL 92.575 117.434428 \n\" style=\"fill:none;stroke:#000000;stroke-linecap:square;\"/>\n   </g>\n   <g id=\"line2d_11\">\n    <path clip-path=\"url(#pbdebb7c9d6)\" d=\"M 103.0375 117.434428 \nL 103.0375 162.867273 \n\" style=\"fill:none;stroke:#000000;stroke-linecap:square;\"/>\n   </g>\n   <g id=\"line2d_12\">\n    <path clip-path=\"url(#pbdebb7c9d6)\" d=\"M 103.0375 73.197185 \nL 103.0375 24.177537 \n\" style=\"fill:none;stroke:#000000;stroke-linecap:square;\"/>\n   </g>\n   <g id=\"line2d_13\">\n    <path clip-path=\"url(#pbdebb7c9d6)\" d=\"M 97.80625 162.867273 \nL 108.26875 162.867273 \n\" style=\"fill:none;stroke:#000000;stroke-linecap:square;\"/>\n   </g>\n   <g id=\"line2d_14\">\n    <path clip-path=\"url(#pbdebb7c9d6)\" d=\"M 97.80625 24.177537 \nL 108.26875 24.177537 \n\" style=\"fill:none;stroke:#000000;stroke-linecap:square;\"/>\n   </g>\n   <g id=\"line2d_15\"/>\n   <g id=\"line2d_16\">\n    <path clip-path=\"url(#pbdebb7c9d6)\" d=\"M 232.075 94.718006 \nL 253 94.718006 \nL 253 63.632375 \nL 232.075 63.632375 \nL 232.075 94.718006 \n\" style=\"fill:none;stroke:#000000;stroke-linecap:square;\"/>\n   </g>\n   <g id=\"line2d_17\">\n    <path clip-path=\"url(#pbdebb7c9d6)\" d=\"M 242.5375 94.718006 \nL 242.5375 141.346452 \n\" style=\"fill:none;stroke:#000000;stroke-linecap:square;\"/>\n   </g>\n   <g id=\"line2d_18\">\n    <path clip-path=\"url(#pbdebb7c9d6)\" d=\"M 242.5375 63.632375 \nL 242.5375 24.177537 \n\" style=\"fill:none;stroke:#000000;stroke-linecap:square;\"/>\n   </g>\n   <g id=\"line2d_19\">\n    <path clip-path=\"url(#pbdebb7c9d6)\" d=\"M 237.30625 141.346452 \nL 247.76875 141.346452 \n\" style=\"fill:none;stroke:#000000;stroke-linecap:square;\"/>\n   </g>\n   <g id=\"line2d_20\">\n    <path clip-path=\"url(#pbdebb7c9d6)\" d=\"M 237.30625 24.177537 \nL 247.76875 24.177537 \n\" style=\"fill:none;stroke:#000000;stroke-linecap:square;\"/>\n   </g>\n   <g id=\"line2d_21\">\n    <defs>\n     <path d=\"M 0 3 \nC 0.795609 3 1.55874 2.683901 2.12132 2.12132 \nC 2.683901 1.55874 3 0.795609 3 0 \nC 3 -0.795609 2.683901 -1.55874 2.12132 -2.12132 \nC 1.55874 -2.683901 0.795609 -3 0 -3 \nC -0.795609 -3 -1.55874 -2.683901 -2.12132 -2.12132 \nC -2.683901 -1.55874 -3 -0.795609 -3 0 \nC -3 0.795609 -2.683901 1.55874 -2.12132 2.12132 \nC -1.55874 2.683901 -0.795609 3 0 3 \nz\n\" id=\"ma90861ddaa\" style=\"stroke:#000000;\"/>\n    </defs>\n    <g clip-path=\"url(#pbdebb7c9d6)\">\n     <use style=\"fill-opacity:0;stroke:#000000;\" x=\"242.5375\" xlink:href=\"#ma90861ddaa\" y=\"14.612727\"/>\n    </g>\n   </g>\n   <g id=\"line2d_22\">\n    <path clip-path=\"url(#pbdebb7c9d6)\" d=\"M 92.575 91.131202 \nL 113.5 91.131202 \n\" style=\"fill:none;stroke:#ff7f0e;stroke-linecap:square;\"/>\n   </g>\n   <g id=\"line2d_23\">\n    <path clip-path=\"url(#pbdebb7c9d6)\" d=\"M 232.075 76.783988 \nL 253 76.783988 \n\" style=\"fill:none;stroke:#ff7f0e;stroke-linecap:square;\"/>\n   </g>\n   <g id=\"patch_3\">\n    <path d=\"M 33.2875 170.28 \nL 33.2875 7.2 \n\" style=\"fill:none;stroke:#000000;stroke-linecap:square;stroke-linejoin:miter;stroke-width:0.8;\"/>\n   </g>\n   <g id=\"patch_4\">\n    <path d=\"M 312.2875 170.28 \nL 312.2875 7.2 \n\" style=\"fill:none;stroke:#000000;stroke-linecap:square;stroke-linejoin:miter;stroke-width:0.8;\"/>\n   </g>\n   <g id=\"patch_5\">\n    <path d=\"M 33.2875 170.28 \nL 312.2875 170.28 \n\" style=\"fill:none;stroke:#000000;stroke-linecap:square;stroke-linejoin:miter;stroke-width:0.8;\"/>\n   </g>\n   <g id=\"patch_6\">\n    <path d=\"M 33.2875 7.2 \nL 312.2875 7.2 \n\" style=\"fill:none;stroke:#000000;stroke-linecap:square;stroke-linejoin:miter;stroke-width:0.8;\"/>\n   </g>\n  </g>\n </g>\n <defs>\n  <clipPath id=\"pbdebb7c9d6\">\n   <rect height=\"163.08\" width=\"279\" x=\"33.2875\" y=\"7.2\"/>\n  </clipPath>\n </defs>\n</svg>\n"
          },
          "metadata": {
            "tags": [],
            "needs_background": "light"
          }
        }
      ]
    },
    {
      "cell_type": "code",
      "metadata": {
        "colab": {
          "base_uri": "https://localhost:8080/"
        },
        "id": "K8XNq7LDDMZ1",
        "outputId": "91ebeb64-e6c1-4fa3-814c-d88b9cc65552"
      },
      "source": [
        "results.rsquared"
      ],
      "execution_count": null,
      "outputs": [
        {
          "output_type": "execute_result",
          "data": {
            "text/plain": [
              "0.05612939624873492"
            ]
          },
          "metadata": {
            "tags": []
          },
          "execution_count": 33
        }
      ]
    },
    {
      "cell_type": "markdown",
      "metadata": {
        "id": "bP6eevPlU4Q8"
      },
      "source": [
        "**EXERCISES**\n",
        "1. The model predicts that, on average, children of mothers who graduated high school will perform better on tests. But if we select a random child from a mother who graduated high school, how likely is it that they perform better than a random child from a mother who did not attend high school? Note we are asking about the model prediction, not the chance of this happening in the actual sampled data. \n",
        "2. Comment on (i) whether you believe there is a real effect of mother education on the kids test scores and (ii) the size of this effect. What role do the $R^2$ value and $p$-values play in your interpretation. \n",
        "<!-- 3. Write a function to generate fake data which looks like the test score data (just the test scores and mother high school idicator) and perform the regression. You will want to use the python function `np.random.choice` to generate the mother's high school eduation.  -->\n"
      ]
    },
    {
      "cell_type": "code",
      "metadata": {
        "id": "e8-_V6PwzueD"
      },
      "source": [
        ""
      ],
      "execution_count": null,
      "outputs": []
    },
    {
      "cell_type": "markdown",
      "metadata": {
        "id": "YZ6IcTKW5Y_l"
      },
      "source": [
        "# Example: Politicalization of COVID Vaccines\n"
      ]
    },
    {
      "cell_type": "code",
      "metadata": {
        "id": "_eZcaDkM0SK2"
      },
      "source": [
        "data = pd.read_excel(\"https://static-content.springer.com/esm/art%3A10.1038%2Fs41467-020-19057-5/MediaObjects/41467_2020_19057_MOESM3_ESM.xlsx\")"
      ],
      "execution_count": null,
      "outputs": []
    },
    {
      "cell_type": "code",
      "metadata": {
        "colab": {
          "base_uri": "https://localhost:8080/"
        },
        "id": "bHlKqxbB5g2-",
        "outputId": "124c96f5-179c-41b6-c2e0-bdebba743c92"
      },
      "source": [
        "print(data)"
      ],
      "execution_count": null,
      "outputs": [
        {
          "output_type": "stream",
          "text": [
            "        PID  Age Sex  ...         mig        IL4         IL8\n",
            "0    106013   36   M  ...         NaN        NaN         NaN\n",
            "1    108429   42   M  ...         NaN        NaN         NaN\n",
            "2    111148   69   F  ...  331.193572  62.959853   42.384296\n",
            "3    111148   69   F  ...  214.498376  62.017862   48.851175\n",
            "4    121966   93   F  ...         NaN        NaN         NaN\n",
            "..      ...  ...  ..  ...         ...        ...         ...\n",
            "157  951931   39   M  ...  124.907747  60.747098   58.588559\n",
            "158  960880   59   M  ...  285.934336  58.044882   74.289377\n",
            "159  981247   30   F  ...         NaN        NaN         NaN\n",
            "160  981247   30   F  ...   60.077891  60.662538   16.981702\n",
            "161  985972   68   M  ...  300.575201  61.931712  171.967212\n",
            "\n",
            "[162 rows x 63 columns]\n"
          ],
          "name": "stdout"
        }
      ]
    },
    {
      "cell_type": "code",
      "metadata": {
        "colab": {
          "base_uri": "https://localhost:8080/"
        },
        "id": "a23CPXHW5r2m",
        "outputId": "36524a97-4095-4bc3-991e-3da7d0d086e3"
      },
      "source": [
        "data.columns"
      ],
      "execution_count": null,
      "outputs": [
        {
          "output_type": "execute_result",
          "data": {
            "text/plain": [
              "Index(['PID', 'Age', 'Sex', 'Race_Ethnicity', 'O2_on_date', 'Sx_Onset_to_SC',\n",
              "       'Use In 1st TP Analysis', 'NP_VL', 'OP_PBS_VL', 'OP_VTM_VL',\n",
              "       'Sputum_VL', 'Plasma_VL', 'Urine_VL', 'Pregnancy', 'HTN',\n",
              "       'Active_cancer ', 'CLD', 'Diabetes ', 'BMI', 'Comorbidity', 'CRP_draw',\n",
              "       'Lym_draw', 'Ever_Remdesivir ', 'Days_between_SC_intubation',\n",
              "       'Days_between_SC_Extubation', 'Days_between_SC_Discharge',\n",
              "       'Days_between_SC_death', 'Death', 'fgf-basic', 'IL-1beta', 'gcsf',\n",
              "       'il10', 'IL13', 'IL6', 'IL12', 'rantes', 'eotaxin', 'IL17a',\n",
              "       'mip-1alpha', 'gmcsf', 'mip-1beta', 'mcp1', 'IL15', 'egf', 'IL5', 'hgf',\n",
              "       'vegfa', 'IL1alpha', 'iFN gamma', 'IL17f', 'interferon alpha', 'IL9',\n",
              "       'IL1ra', 'tnf alpha', 'IL-3', 'IL2', 'IL7', 'Ip10', 'IL-2r', 'IL22',\n",
              "       'mig', 'IL4', 'IL8'],\n",
              "      dtype='object')"
            ]
          },
          "metadata": {
            "tags": []
          },
          "execution_count": 87
        }
      ]
    },
    {
      "cell_type": "code",
      "metadata": {
        "id": "NcWVH1Jg5vUo"
      },
      "source": [
        "x = data[\"Death\"].values\n",
        "y = data[\"eotaxin\"].values\n",
        "y = y[x != \"NaN\"]\n",
        "x = x[x != \"NaN\"]"
      ],
      "execution_count": null,
      "outputs": []
    },
    {
      "cell_type": "code",
      "metadata": {
        "colab": {
          "base_uri": "https://localhost:8080/",
          "height": 664
        },
        "id": "leDwES-_6jdM",
        "outputId": "0d2ae2f3-4912-4361-b987-a8f673672937"
      },
      "source": [
        "plt.plot(x,y,\"o\")"
      ],
      "execution_count": null,
      "outputs": [
        {
          "output_type": "error",
          "ename": "TypeError",
          "evalue": "ignored",
          "traceback": [
            "\u001b[0;31m---------------------------------------------------------------------------\u001b[0m",
            "\u001b[0;31mTypeError\u001b[0m                                 Traceback (most recent call last)",
            "\u001b[0;32m<ipython-input-84-c92e0dbd00b8>\u001b[0m in \u001b[0;36m<module>\u001b[0;34m()\u001b[0m\n\u001b[0;32m----> 1\u001b[0;31m \u001b[0mplt\u001b[0m\u001b[0;34m.\u001b[0m\u001b[0mplot\u001b[0m\u001b[0;34m(\u001b[0m\u001b[0mx\u001b[0m\u001b[0;34m,\u001b[0m\u001b[0my\u001b[0m\u001b[0;34m,\u001b[0m\u001b[0;34m\"o\"\u001b[0m\u001b[0;34m)\u001b[0m\u001b[0;34m\u001b[0m\u001b[0;34m\u001b[0m\u001b[0m\n\u001b[0m",
            "\u001b[0;32m/usr/local/lib/python3.7/dist-packages/matplotlib/pyplot.py\u001b[0m in \u001b[0;36mplot\u001b[0;34m(scalex, scaley, data, *args, **kwargs)\u001b[0m\n\u001b[1;32m   2761\u001b[0m     return gca().plot(\n\u001b[1;32m   2762\u001b[0m         *args, scalex=scalex, scaley=scaley, **({\"data\": data} if data\n\u001b[0;32m-> 2763\u001b[0;31m         is not None else {}), **kwargs)\n\u001b[0m\u001b[1;32m   2764\u001b[0m \u001b[0;34m\u001b[0m\u001b[0m\n\u001b[1;32m   2765\u001b[0m \u001b[0;34m\u001b[0m\u001b[0m\n",
            "\u001b[0;32m/usr/local/lib/python3.7/dist-packages/matplotlib/axes/_axes.py\u001b[0m in \u001b[0;36mplot\u001b[0;34m(self, scalex, scaley, data, *args, **kwargs)\u001b[0m\n\u001b[1;32m   1645\u001b[0m         \"\"\"\n\u001b[1;32m   1646\u001b[0m         \u001b[0mkwargs\u001b[0m \u001b[0;34m=\u001b[0m \u001b[0mcbook\u001b[0m\u001b[0;34m.\u001b[0m\u001b[0mnormalize_kwargs\u001b[0m\u001b[0;34m(\u001b[0m\u001b[0mkwargs\u001b[0m\u001b[0;34m,\u001b[0m \u001b[0mmlines\u001b[0m\u001b[0;34m.\u001b[0m\u001b[0mLine2D\u001b[0m\u001b[0;34m)\u001b[0m\u001b[0;34m\u001b[0m\u001b[0;34m\u001b[0m\u001b[0m\n\u001b[0;32m-> 1647\u001b[0;31m         \u001b[0mlines\u001b[0m \u001b[0;34m=\u001b[0m \u001b[0;34m[\u001b[0m\u001b[0;34m*\u001b[0m\u001b[0mself\u001b[0m\u001b[0;34m.\u001b[0m\u001b[0m_get_lines\u001b[0m\u001b[0;34m(\u001b[0m\u001b[0;34m*\u001b[0m\u001b[0margs\u001b[0m\u001b[0;34m,\u001b[0m \u001b[0mdata\u001b[0m\u001b[0;34m=\u001b[0m\u001b[0mdata\u001b[0m\u001b[0;34m,\u001b[0m \u001b[0;34m**\u001b[0m\u001b[0mkwargs\u001b[0m\u001b[0;34m)\u001b[0m\u001b[0;34m]\u001b[0m\u001b[0;34m\u001b[0m\u001b[0;34m\u001b[0m\u001b[0m\n\u001b[0m\u001b[1;32m   1648\u001b[0m         \u001b[0;32mfor\u001b[0m \u001b[0mline\u001b[0m \u001b[0;32min\u001b[0m \u001b[0mlines\u001b[0m\u001b[0;34m:\u001b[0m\u001b[0;34m\u001b[0m\u001b[0;34m\u001b[0m\u001b[0m\n\u001b[1;32m   1649\u001b[0m             \u001b[0mself\u001b[0m\u001b[0;34m.\u001b[0m\u001b[0madd_line\u001b[0m\u001b[0;34m(\u001b[0m\u001b[0mline\u001b[0m\u001b[0;34m)\u001b[0m\u001b[0;34m\u001b[0m\u001b[0;34m\u001b[0m\u001b[0m\n",
            "\u001b[0;32m/usr/local/lib/python3.7/dist-packages/matplotlib/axes/_base.py\u001b[0m in \u001b[0;36m__call__\u001b[0;34m(self, *args, **kwargs)\u001b[0m\n\u001b[1;32m    214\u001b[0m                 \u001b[0mthis\u001b[0m \u001b[0;34m+=\u001b[0m \u001b[0margs\u001b[0m\u001b[0;34m[\u001b[0m\u001b[0;36m0\u001b[0m\u001b[0;34m]\u001b[0m\u001b[0;34m,\u001b[0m\u001b[0;34m\u001b[0m\u001b[0;34m\u001b[0m\u001b[0m\n\u001b[1;32m    215\u001b[0m                 \u001b[0margs\u001b[0m \u001b[0;34m=\u001b[0m \u001b[0margs\u001b[0m\u001b[0;34m[\u001b[0m\u001b[0;36m1\u001b[0m\u001b[0;34m:\u001b[0m\u001b[0;34m]\u001b[0m\u001b[0;34m\u001b[0m\u001b[0;34m\u001b[0m\u001b[0m\n\u001b[0;32m--> 216\u001b[0;31m             \u001b[0;32myield\u001b[0m \u001b[0;32mfrom\u001b[0m \u001b[0mself\u001b[0m\u001b[0;34m.\u001b[0m\u001b[0m_plot_args\u001b[0m\u001b[0;34m(\u001b[0m\u001b[0mthis\u001b[0m\u001b[0;34m,\u001b[0m \u001b[0mkwargs\u001b[0m\u001b[0;34m)\u001b[0m\u001b[0;34m\u001b[0m\u001b[0;34m\u001b[0m\u001b[0m\n\u001b[0m\u001b[1;32m    217\u001b[0m \u001b[0;34m\u001b[0m\u001b[0m\n\u001b[1;32m    218\u001b[0m     \u001b[0;32mdef\u001b[0m \u001b[0mget_next_color\u001b[0m\u001b[0;34m(\u001b[0m\u001b[0mself\u001b[0m\u001b[0;34m)\u001b[0m\u001b[0;34m:\u001b[0m\u001b[0;34m\u001b[0m\u001b[0;34m\u001b[0m\u001b[0m\n",
            "\u001b[0;32m/usr/local/lib/python3.7/dist-packages/matplotlib/axes/_base.py\u001b[0m in \u001b[0;36m_plot_args\u001b[0;34m(self, tup, kwargs)\u001b[0m\n\u001b[1;32m    335\u001b[0m \u001b[0;34m\u001b[0m\u001b[0m\n\u001b[1;32m    336\u001b[0m         \u001b[0;32mif\u001b[0m \u001b[0mself\u001b[0m\u001b[0;34m.\u001b[0m\u001b[0maxes\u001b[0m\u001b[0;34m.\u001b[0m\u001b[0mxaxis\u001b[0m \u001b[0;32mis\u001b[0m \u001b[0;32mnot\u001b[0m \u001b[0;32mNone\u001b[0m\u001b[0;34m:\u001b[0m\u001b[0;34m\u001b[0m\u001b[0;34m\u001b[0m\u001b[0m\n\u001b[0;32m--> 337\u001b[0;31m             \u001b[0mself\u001b[0m\u001b[0;34m.\u001b[0m\u001b[0maxes\u001b[0m\u001b[0;34m.\u001b[0m\u001b[0mxaxis\u001b[0m\u001b[0;34m.\u001b[0m\u001b[0mupdate_units\u001b[0m\u001b[0;34m(\u001b[0m\u001b[0mx\u001b[0m\u001b[0;34m)\u001b[0m\u001b[0;34m\u001b[0m\u001b[0;34m\u001b[0m\u001b[0m\n\u001b[0m\u001b[1;32m    338\u001b[0m         \u001b[0;32mif\u001b[0m \u001b[0mself\u001b[0m\u001b[0;34m.\u001b[0m\u001b[0maxes\u001b[0m\u001b[0;34m.\u001b[0m\u001b[0myaxis\u001b[0m \u001b[0;32mis\u001b[0m \u001b[0;32mnot\u001b[0m \u001b[0;32mNone\u001b[0m\u001b[0;34m:\u001b[0m\u001b[0;34m\u001b[0m\u001b[0;34m\u001b[0m\u001b[0m\n\u001b[1;32m    339\u001b[0m             \u001b[0mself\u001b[0m\u001b[0;34m.\u001b[0m\u001b[0maxes\u001b[0m\u001b[0;34m.\u001b[0m\u001b[0myaxis\u001b[0m\u001b[0;34m.\u001b[0m\u001b[0mupdate_units\u001b[0m\u001b[0;34m(\u001b[0m\u001b[0my\u001b[0m\u001b[0;34m)\u001b[0m\u001b[0;34m\u001b[0m\u001b[0;34m\u001b[0m\u001b[0m\n",
            "\u001b[0;32m/usr/local/lib/python3.7/dist-packages/matplotlib/axis.py\u001b[0m in \u001b[0;36mupdate_units\u001b[0;34m(self, data)\u001b[0m\n\u001b[1;32m   1514\u001b[0m         \u001b[0mneednew\u001b[0m \u001b[0;34m=\u001b[0m \u001b[0mself\u001b[0m\u001b[0;34m.\u001b[0m\u001b[0mconverter\u001b[0m \u001b[0;34m!=\u001b[0m \u001b[0mconverter\u001b[0m\u001b[0;34m\u001b[0m\u001b[0;34m\u001b[0m\u001b[0m\n\u001b[1;32m   1515\u001b[0m         \u001b[0mself\u001b[0m\u001b[0;34m.\u001b[0m\u001b[0mconverter\u001b[0m \u001b[0;34m=\u001b[0m \u001b[0mconverter\u001b[0m\u001b[0;34m\u001b[0m\u001b[0;34m\u001b[0m\u001b[0m\n\u001b[0;32m-> 1516\u001b[0;31m         \u001b[0mdefault\u001b[0m \u001b[0;34m=\u001b[0m \u001b[0mself\u001b[0m\u001b[0;34m.\u001b[0m\u001b[0mconverter\u001b[0m\u001b[0;34m.\u001b[0m\u001b[0mdefault_units\u001b[0m\u001b[0;34m(\u001b[0m\u001b[0mdata\u001b[0m\u001b[0;34m,\u001b[0m \u001b[0mself\u001b[0m\u001b[0;34m)\u001b[0m\u001b[0;34m\u001b[0m\u001b[0;34m\u001b[0m\u001b[0m\n\u001b[0m\u001b[1;32m   1517\u001b[0m         \u001b[0;32mif\u001b[0m \u001b[0mdefault\u001b[0m \u001b[0;32mis\u001b[0m \u001b[0;32mnot\u001b[0m \u001b[0;32mNone\u001b[0m \u001b[0;32mand\u001b[0m \u001b[0mself\u001b[0m\u001b[0;34m.\u001b[0m\u001b[0munits\u001b[0m \u001b[0;32mis\u001b[0m \u001b[0;32mNone\u001b[0m\u001b[0;34m:\u001b[0m\u001b[0;34m\u001b[0m\u001b[0;34m\u001b[0m\u001b[0m\n\u001b[1;32m   1518\u001b[0m             \u001b[0mself\u001b[0m\u001b[0;34m.\u001b[0m\u001b[0mset_units\u001b[0m\u001b[0;34m(\u001b[0m\u001b[0mdefault\u001b[0m\u001b[0;34m)\u001b[0m\u001b[0;34m\u001b[0m\u001b[0;34m\u001b[0m\u001b[0m\n",
            "\u001b[0;32m/usr/local/lib/python3.7/dist-packages/matplotlib/category.py\u001b[0m in \u001b[0;36mdefault_units\u001b[0;34m(data, axis)\u001b[0m\n\u001b[1;32m    105\u001b[0m         \u001b[0;31m# the conversion call stack is default_units -> axis_info -> convert\u001b[0m\u001b[0;34m\u001b[0m\u001b[0;34m\u001b[0m\u001b[0;34m\u001b[0m\u001b[0m\n\u001b[1;32m    106\u001b[0m         \u001b[0;32mif\u001b[0m \u001b[0maxis\u001b[0m\u001b[0;34m.\u001b[0m\u001b[0munits\u001b[0m \u001b[0;32mis\u001b[0m \u001b[0;32mNone\u001b[0m\u001b[0;34m:\u001b[0m\u001b[0;34m\u001b[0m\u001b[0;34m\u001b[0m\u001b[0m\n\u001b[0;32m--> 107\u001b[0;31m             \u001b[0maxis\u001b[0m\u001b[0;34m.\u001b[0m\u001b[0mset_units\u001b[0m\u001b[0;34m(\u001b[0m\u001b[0mUnitData\u001b[0m\u001b[0;34m(\u001b[0m\u001b[0mdata\u001b[0m\u001b[0;34m)\u001b[0m\u001b[0;34m)\u001b[0m\u001b[0;34m\u001b[0m\u001b[0;34m\u001b[0m\u001b[0m\n\u001b[0m\u001b[1;32m    108\u001b[0m         \u001b[0;32melse\u001b[0m\u001b[0;34m:\u001b[0m\u001b[0;34m\u001b[0m\u001b[0;34m\u001b[0m\u001b[0m\n\u001b[1;32m    109\u001b[0m             \u001b[0maxis\u001b[0m\u001b[0;34m.\u001b[0m\u001b[0munits\u001b[0m\u001b[0;34m.\u001b[0m\u001b[0mupdate\u001b[0m\u001b[0;34m(\u001b[0m\u001b[0mdata\u001b[0m\u001b[0;34m)\u001b[0m\u001b[0;34m\u001b[0m\u001b[0;34m\u001b[0m\u001b[0m\n",
            "\u001b[0;32m/usr/local/lib/python3.7/dist-packages/matplotlib/category.py\u001b[0m in \u001b[0;36m__init__\u001b[0;34m(self, data)\u001b[0m\n\u001b[1;32m    173\u001b[0m         \u001b[0mself\u001b[0m\u001b[0;34m.\u001b[0m\u001b[0m_counter\u001b[0m \u001b[0;34m=\u001b[0m \u001b[0mitertools\u001b[0m\u001b[0;34m.\u001b[0m\u001b[0mcount\u001b[0m\u001b[0;34m(\u001b[0m\u001b[0;34m)\u001b[0m\u001b[0;34m\u001b[0m\u001b[0;34m\u001b[0m\u001b[0m\n\u001b[1;32m    174\u001b[0m         \u001b[0;32mif\u001b[0m \u001b[0mdata\u001b[0m \u001b[0;32mis\u001b[0m \u001b[0;32mnot\u001b[0m \u001b[0;32mNone\u001b[0m\u001b[0;34m:\u001b[0m\u001b[0;34m\u001b[0m\u001b[0;34m\u001b[0m\u001b[0m\n\u001b[0;32m--> 175\u001b[0;31m             \u001b[0mself\u001b[0m\u001b[0;34m.\u001b[0m\u001b[0mupdate\u001b[0m\u001b[0;34m(\u001b[0m\u001b[0mdata\u001b[0m\u001b[0;34m)\u001b[0m\u001b[0;34m\u001b[0m\u001b[0;34m\u001b[0m\u001b[0m\n\u001b[0m\u001b[1;32m    176\u001b[0m \u001b[0;34m\u001b[0m\u001b[0m\n\u001b[1;32m    177\u001b[0m     \u001b[0;34m@\u001b[0m\u001b[0mstaticmethod\u001b[0m\u001b[0;34m\u001b[0m\u001b[0;34m\u001b[0m\u001b[0m\n",
            "\u001b[0;32m/usr/local/lib/python3.7/dist-packages/matplotlib/category.py\u001b[0m in \u001b[0;36mupdate\u001b[0;34m(self, data)\u001b[0m\n\u001b[1;32m    210\u001b[0m         \u001b[0;32mfor\u001b[0m \u001b[0mval\u001b[0m \u001b[0;32min\u001b[0m \u001b[0mOrderedDict\u001b[0m\u001b[0;34m.\u001b[0m\u001b[0mfromkeys\u001b[0m\u001b[0;34m(\u001b[0m\u001b[0mdata\u001b[0m\u001b[0;34m)\u001b[0m\u001b[0;34m:\u001b[0m\u001b[0;34m\u001b[0m\u001b[0;34m\u001b[0m\u001b[0m\n\u001b[1;32m    211\u001b[0m             \u001b[0;31m# OrderedDict just iterates over unique values in data.\u001b[0m\u001b[0;34m\u001b[0m\u001b[0;34m\u001b[0m\u001b[0;34m\u001b[0m\u001b[0m\n\u001b[0;32m--> 212\u001b[0;31m             \u001b[0mcbook\u001b[0m\u001b[0;34m.\u001b[0m\u001b[0m_check_isinstance\u001b[0m\u001b[0;34m(\u001b[0m\u001b[0;34m(\u001b[0m\u001b[0mstr\u001b[0m\u001b[0;34m,\u001b[0m \u001b[0mbytes\u001b[0m\u001b[0;34m)\u001b[0m\u001b[0;34m,\u001b[0m \u001b[0mvalue\u001b[0m\u001b[0;34m=\u001b[0m\u001b[0mval\u001b[0m\u001b[0;34m)\u001b[0m\u001b[0;34m\u001b[0m\u001b[0;34m\u001b[0m\u001b[0m\n\u001b[0m\u001b[1;32m    213\u001b[0m             \u001b[0;32mif\u001b[0m \u001b[0mconvertible\u001b[0m\u001b[0;34m:\u001b[0m\u001b[0;34m\u001b[0m\u001b[0;34m\u001b[0m\u001b[0m\n\u001b[1;32m    214\u001b[0m                 \u001b[0;31m# this will only be called so long as convertible is True.\u001b[0m\u001b[0;34m\u001b[0m\u001b[0;34m\u001b[0m\u001b[0;34m\u001b[0m\u001b[0m\n",
            "\u001b[0;32m/usr/local/lib/python3.7/dist-packages/matplotlib/cbook/__init__.py\u001b[0m in \u001b[0;36m_check_isinstance\u001b[0;34m(_types, **kwargs)\u001b[0m\n\u001b[1;32m   2126\u001b[0m                     \u001b[0;34m\", \"\u001b[0m\u001b[0;34m.\u001b[0m\u001b[0mjoin\u001b[0m\u001b[0;34m(\u001b[0m\u001b[0mnames\u001b[0m\u001b[0;34m[\u001b[0m\u001b[0;34m:\u001b[0m\u001b[0;34m-\u001b[0m\u001b[0;36m1\u001b[0m\u001b[0;34m]\u001b[0m\u001b[0;34m)\u001b[0m \u001b[0;34m+\u001b[0m \u001b[0;34m\" or \"\u001b[0m \u001b[0;34m+\u001b[0m \u001b[0mnames\u001b[0m\u001b[0;34m[\u001b[0m\u001b[0;34m-\u001b[0m\u001b[0;36m1\u001b[0m\u001b[0;34m]\u001b[0m\u001b[0;34m\u001b[0m\u001b[0;34m\u001b[0m\u001b[0m\n\u001b[1;32m   2127\u001b[0m                     \u001b[0;32mif\u001b[0m \u001b[0mlen\u001b[0m\u001b[0;34m(\u001b[0m\u001b[0mnames\u001b[0m\u001b[0;34m)\u001b[0m \u001b[0;34m>\u001b[0m \u001b[0;36m1\u001b[0m \u001b[0;32melse\u001b[0m \u001b[0mnames\u001b[0m\u001b[0;34m[\u001b[0m\u001b[0;36m0\u001b[0m\u001b[0;34m]\u001b[0m\u001b[0;34m,\u001b[0m\u001b[0;34m\u001b[0m\u001b[0;34m\u001b[0m\u001b[0m\n\u001b[0;32m-> 2128\u001b[0;31m                     type_name(type(v))))\n\u001b[0m\u001b[1;32m   2129\u001b[0m \u001b[0;34m\u001b[0m\u001b[0m\n\u001b[1;32m   2130\u001b[0m \u001b[0;34m\u001b[0m\u001b[0m\n",
            "\u001b[0;31mTypeError\u001b[0m: 'value' must be an instance of str or bytes, not a float"
          ]
        },
        {
          "output_type": "display_data",
          "data": {
            "text/plain": [
              "<Figure size 432x288 with 1 Axes>"
            ],
            "image/svg+xml": "<?xml version=\"1.0\" encoding=\"utf-8\" standalone=\"no\"?>\n<!DOCTYPE svg PUBLIC \"-//W3C//DTD SVG 1.1//EN\"\n  \"http://www.w3.org/Graphics/SVG/1.1/DTD/svg11.dtd\">\n<!-- Created with matplotlib (https://matplotlib.org/) -->\n<svg height=\"252.317344pt\" version=\"1.1\" viewBox=\"0 0 380.054687 252.317344\" width=\"380.054687pt\" xmlns=\"http://www.w3.org/2000/svg\" xmlns:xlink=\"http://www.w3.org/1999/xlink\">\n <defs>\n  <style type=\"text/css\">\n*{stroke-linecap:butt;stroke-linejoin:round;}\n  </style>\n </defs>\n <g id=\"figure_1\">\n  <g id=\"patch_1\">\n   <path d=\"M 0 252.317344 \nL 380.054687 252.317344 \nL 380.054687 0 \nL 0 0 \nz\n\" style=\"fill:none;\"/>\n  </g>\n  <g id=\"axes_1\">\n   <g id=\"patch_2\">\n    <path d=\"M 30.103125 228.439219 \nL 364.903125 228.439219 \nL 364.903125 10.999219 \nL 30.103125 10.999219 \nz\n\" style=\"fill:#ffffff;\"/>\n   </g>\n   <g id=\"matplotlib.axis_1\">\n    <g id=\"xtick_1\">\n     <g id=\"line2d_1\">\n      <defs>\n       <path d=\"M 0 0 \nL 0 3.5 \n\" id=\"m040e655ef6\" style=\"stroke:#000000;stroke-width:0.8;\"/>\n      </defs>\n      <g>\n       <use style=\"stroke:#000000;stroke-width:0.8;\" x=\"30.103125\" xlink:href=\"#m040e655ef6\" y=\"228.439219\"/>\n      </g>\n     </g>\n     <g id=\"text_1\">\n      <!-- 0.0 -->\n      <defs>\n       <path d=\"M 31.78125 66.40625 \nQ 24.171875 66.40625 20.328125 58.90625 \nQ 16.5 51.421875 16.5 36.375 \nQ 16.5 21.390625 20.328125 13.890625 \nQ 24.171875 6.390625 31.78125 6.390625 \nQ 39.453125 6.390625 43.28125 13.890625 \nQ 47.125 21.390625 47.125 36.375 \nQ 47.125 51.421875 43.28125 58.90625 \nQ 39.453125 66.40625 31.78125 66.40625 \nz\nM 31.78125 74.21875 \nQ 44.046875 74.21875 50.515625 64.515625 \nQ 56.984375 54.828125 56.984375 36.375 \nQ 56.984375 17.96875 50.515625 8.265625 \nQ 44.046875 -1.421875 31.78125 -1.421875 \nQ 19.53125 -1.421875 13.0625 8.265625 \nQ 6.59375 17.96875 6.59375 36.375 \nQ 6.59375 54.828125 13.0625 64.515625 \nQ 19.53125 74.21875 31.78125 74.21875 \nz\n\" id=\"DejaVuSans-48\"/>\n       <path d=\"M 10.6875 12.40625 \nL 21 12.40625 \nL 21 0 \nL 10.6875 0 \nz\n\" id=\"DejaVuSans-46\"/>\n      </defs>\n      <g transform=\"translate(22.151563 243.037656)scale(0.1 -0.1)\">\n       <use xlink:href=\"#DejaVuSans-48\"/>\n       <use x=\"63.623047\" xlink:href=\"#DejaVuSans-46\"/>\n       <use x=\"95.410156\" xlink:href=\"#DejaVuSans-48\"/>\n      </g>\n     </g>\n    </g>\n    <g id=\"xtick_2\">\n     <g id=\"line2d_2\">\n      <g>\n       <use style=\"stroke:#000000;stroke-width:0.8;\" x=\"97.063125\" xlink:href=\"#m040e655ef6\" y=\"228.439219\"/>\n      </g>\n     </g>\n     <g id=\"text_2\">\n      <!-- 0.2 -->\n      <defs>\n       <path d=\"M 19.1875 8.296875 \nL 53.609375 8.296875 \nL 53.609375 0 \nL 7.328125 0 \nL 7.328125 8.296875 \nQ 12.9375 14.109375 22.625 23.890625 \nQ 32.328125 33.6875 34.8125 36.53125 \nQ 39.546875 41.84375 41.421875 45.53125 \nQ 43.3125 49.21875 43.3125 52.78125 \nQ 43.3125 58.59375 39.234375 62.25 \nQ 35.15625 65.921875 28.609375 65.921875 \nQ 23.96875 65.921875 18.8125 64.3125 \nQ 13.671875 62.703125 7.8125 59.421875 \nL 7.8125 69.390625 \nQ 13.765625 71.78125 18.9375 73 \nQ 24.125 74.21875 28.421875 74.21875 \nQ 39.75 74.21875 46.484375 68.546875 \nQ 53.21875 62.890625 53.21875 53.421875 \nQ 53.21875 48.921875 51.53125 44.890625 \nQ 49.859375 40.875 45.40625 35.40625 \nQ 44.1875 33.984375 37.640625 27.21875 \nQ 31.109375 20.453125 19.1875 8.296875 \nz\n\" id=\"DejaVuSans-50\"/>\n      </defs>\n      <g transform=\"translate(89.111563 243.037656)scale(0.1 -0.1)\">\n       <use xlink:href=\"#DejaVuSans-48\"/>\n       <use x=\"63.623047\" xlink:href=\"#DejaVuSans-46\"/>\n       <use x=\"95.410156\" xlink:href=\"#DejaVuSans-50\"/>\n      </g>\n     </g>\n    </g>\n    <g id=\"xtick_3\">\n     <g id=\"line2d_3\">\n      <g>\n       <use style=\"stroke:#000000;stroke-width:0.8;\" x=\"164.023125\" xlink:href=\"#m040e655ef6\" y=\"228.439219\"/>\n      </g>\n     </g>\n     <g id=\"text_3\">\n      <!-- 0.4 -->\n      <defs>\n       <path d=\"M 37.796875 64.3125 \nL 12.890625 25.390625 \nL 37.796875 25.390625 \nz\nM 35.203125 72.90625 \nL 47.609375 72.90625 \nL 47.609375 25.390625 \nL 58.015625 25.390625 \nL 58.015625 17.1875 \nL 47.609375 17.1875 \nL 47.609375 0 \nL 37.796875 0 \nL 37.796875 17.1875 \nL 4.890625 17.1875 \nL 4.890625 26.703125 \nz\n\" id=\"DejaVuSans-52\"/>\n      </defs>\n      <g transform=\"translate(156.071563 243.037656)scale(0.1 -0.1)\">\n       <use xlink:href=\"#DejaVuSans-48\"/>\n       <use x=\"63.623047\" xlink:href=\"#DejaVuSans-46\"/>\n       <use x=\"95.410156\" xlink:href=\"#DejaVuSans-52\"/>\n      </g>\n     </g>\n    </g>\n    <g id=\"xtick_4\">\n     <g id=\"line2d_4\">\n      <g>\n       <use style=\"stroke:#000000;stroke-width:0.8;\" x=\"230.983125\" xlink:href=\"#m040e655ef6\" y=\"228.439219\"/>\n      </g>\n     </g>\n     <g id=\"text_4\">\n      <!-- 0.6 -->\n      <defs>\n       <path d=\"M 33.015625 40.375 \nQ 26.375 40.375 22.484375 35.828125 \nQ 18.609375 31.296875 18.609375 23.390625 \nQ 18.609375 15.53125 22.484375 10.953125 \nQ 26.375 6.390625 33.015625 6.390625 \nQ 39.65625 6.390625 43.53125 10.953125 \nQ 47.40625 15.53125 47.40625 23.390625 \nQ 47.40625 31.296875 43.53125 35.828125 \nQ 39.65625 40.375 33.015625 40.375 \nz\nM 52.59375 71.296875 \nL 52.59375 62.3125 \nQ 48.875 64.0625 45.09375 64.984375 \nQ 41.3125 65.921875 37.59375 65.921875 \nQ 27.828125 65.921875 22.671875 59.328125 \nQ 17.53125 52.734375 16.796875 39.40625 \nQ 19.671875 43.65625 24.015625 45.921875 \nQ 28.375 48.1875 33.59375 48.1875 \nQ 44.578125 48.1875 50.953125 41.515625 \nQ 57.328125 34.859375 57.328125 23.390625 \nQ 57.328125 12.15625 50.6875 5.359375 \nQ 44.046875 -1.421875 33.015625 -1.421875 \nQ 20.359375 -1.421875 13.671875 8.265625 \nQ 6.984375 17.96875 6.984375 36.375 \nQ 6.984375 53.65625 15.1875 63.9375 \nQ 23.390625 74.21875 37.203125 74.21875 \nQ 40.921875 74.21875 44.703125 73.484375 \nQ 48.484375 72.75 52.59375 71.296875 \nz\n\" id=\"DejaVuSans-54\"/>\n      </defs>\n      <g transform=\"translate(223.031563 243.037656)scale(0.1 -0.1)\">\n       <use xlink:href=\"#DejaVuSans-48\"/>\n       <use x=\"63.623047\" xlink:href=\"#DejaVuSans-46\"/>\n       <use x=\"95.410156\" xlink:href=\"#DejaVuSans-54\"/>\n      </g>\n     </g>\n    </g>\n    <g id=\"xtick_5\">\n     <g id=\"line2d_5\">\n      <g>\n       <use style=\"stroke:#000000;stroke-width:0.8;\" x=\"297.943125\" xlink:href=\"#m040e655ef6\" y=\"228.439219\"/>\n      </g>\n     </g>\n     <g id=\"text_5\">\n      <!-- 0.8 -->\n      <defs>\n       <path d=\"M 31.78125 34.625 \nQ 24.75 34.625 20.71875 30.859375 \nQ 16.703125 27.09375 16.703125 20.515625 \nQ 16.703125 13.921875 20.71875 10.15625 \nQ 24.75 6.390625 31.78125 6.390625 \nQ 38.8125 6.390625 42.859375 10.171875 \nQ 46.921875 13.96875 46.921875 20.515625 \nQ 46.921875 27.09375 42.890625 30.859375 \nQ 38.875 34.625 31.78125 34.625 \nz\nM 21.921875 38.8125 \nQ 15.578125 40.375 12.03125 44.71875 \nQ 8.5 49.078125 8.5 55.328125 \nQ 8.5 64.0625 14.71875 69.140625 \nQ 20.953125 74.21875 31.78125 74.21875 \nQ 42.671875 74.21875 48.875 69.140625 \nQ 55.078125 64.0625 55.078125 55.328125 \nQ 55.078125 49.078125 51.53125 44.71875 \nQ 48 40.375 41.703125 38.8125 \nQ 48.828125 37.15625 52.796875 32.3125 \nQ 56.78125 27.484375 56.78125 20.515625 \nQ 56.78125 9.90625 50.3125 4.234375 \nQ 43.84375 -1.421875 31.78125 -1.421875 \nQ 19.734375 -1.421875 13.25 4.234375 \nQ 6.78125 9.90625 6.78125 20.515625 \nQ 6.78125 27.484375 10.78125 32.3125 \nQ 14.796875 37.15625 21.921875 38.8125 \nz\nM 18.3125 54.390625 \nQ 18.3125 48.734375 21.84375 45.5625 \nQ 25.390625 42.390625 31.78125 42.390625 \nQ 38.140625 42.390625 41.71875 45.5625 \nQ 45.3125 48.734375 45.3125 54.390625 \nQ 45.3125 60.0625 41.71875 63.234375 \nQ 38.140625 66.40625 31.78125 66.40625 \nQ 25.390625 66.40625 21.84375 63.234375 \nQ 18.3125 60.0625 18.3125 54.390625 \nz\n\" id=\"DejaVuSans-56\"/>\n      </defs>\n      <g transform=\"translate(289.991563 243.037656)scale(0.1 -0.1)\">\n       <use xlink:href=\"#DejaVuSans-48\"/>\n       <use x=\"63.623047\" xlink:href=\"#DejaVuSans-46\"/>\n       <use x=\"95.410156\" xlink:href=\"#DejaVuSans-56\"/>\n      </g>\n     </g>\n    </g>\n    <g id=\"xtick_6\">\n     <g id=\"line2d_6\">\n      <g>\n       <use style=\"stroke:#000000;stroke-width:0.8;\" x=\"364.903125\" xlink:href=\"#m040e655ef6\" y=\"228.439219\"/>\n      </g>\n     </g>\n     <g id=\"text_6\">\n      <!-- 1.0 -->\n      <defs>\n       <path d=\"M 12.40625 8.296875 \nL 28.515625 8.296875 \nL 28.515625 63.921875 \nL 10.984375 60.40625 \nL 10.984375 69.390625 \nL 28.421875 72.90625 \nL 38.28125 72.90625 \nL 38.28125 8.296875 \nL 54.390625 8.296875 \nL 54.390625 0 \nL 12.40625 0 \nz\n\" id=\"DejaVuSans-49\"/>\n      </defs>\n      <g transform=\"translate(356.951563 243.037656)scale(0.1 -0.1)\">\n       <use xlink:href=\"#DejaVuSans-49\"/>\n       <use x=\"63.623047\" xlink:href=\"#DejaVuSans-46\"/>\n       <use x=\"95.410156\" xlink:href=\"#DejaVuSans-48\"/>\n      </g>\n     </g>\n    </g>\n   </g>\n   <g id=\"matplotlib.axis_2\">\n    <g id=\"ytick_1\">\n     <g id=\"line2d_7\">\n      <defs>\n       <path d=\"M 0 0 \nL -3.5 0 \n\" id=\"ma7185b43fa\" style=\"stroke:#000000;stroke-width:0.8;\"/>\n      </defs>\n      <g>\n       <use style=\"stroke:#000000;stroke-width:0.8;\" x=\"30.103125\" xlink:href=\"#ma7185b43fa\" y=\"228.439219\"/>\n      </g>\n     </g>\n     <g id=\"text_7\">\n      <!-- 0.0 -->\n      <g transform=\"translate(7.2 232.238437)scale(0.1 -0.1)\">\n       <use xlink:href=\"#DejaVuSans-48\"/>\n       <use x=\"63.623047\" xlink:href=\"#DejaVuSans-46\"/>\n       <use x=\"95.410156\" xlink:href=\"#DejaVuSans-48\"/>\n      </g>\n     </g>\n    </g>\n    <g id=\"ytick_2\">\n     <g id=\"line2d_8\">\n      <g>\n       <use style=\"stroke:#000000;stroke-width:0.8;\" x=\"30.103125\" xlink:href=\"#ma7185b43fa\" y=\"184.951219\"/>\n      </g>\n     </g>\n     <g id=\"text_8\">\n      <!-- 0.2 -->\n      <g transform=\"translate(7.2 188.750437)scale(0.1 -0.1)\">\n       <use xlink:href=\"#DejaVuSans-48\"/>\n       <use x=\"63.623047\" xlink:href=\"#DejaVuSans-46\"/>\n       <use x=\"95.410156\" xlink:href=\"#DejaVuSans-50\"/>\n      </g>\n     </g>\n    </g>\n    <g id=\"ytick_3\">\n     <g id=\"line2d_9\">\n      <g>\n       <use style=\"stroke:#000000;stroke-width:0.8;\" x=\"30.103125\" xlink:href=\"#ma7185b43fa\" y=\"141.463219\"/>\n      </g>\n     </g>\n     <g id=\"text_9\">\n      <!-- 0.4 -->\n      <g transform=\"translate(7.2 145.262437)scale(0.1 -0.1)\">\n       <use xlink:href=\"#DejaVuSans-48\"/>\n       <use x=\"63.623047\" xlink:href=\"#DejaVuSans-46\"/>\n       <use x=\"95.410156\" xlink:href=\"#DejaVuSans-52\"/>\n      </g>\n     </g>\n    </g>\n    <g id=\"ytick_4\">\n     <g id=\"line2d_10\">\n      <g>\n       <use style=\"stroke:#000000;stroke-width:0.8;\" x=\"30.103125\" xlink:href=\"#ma7185b43fa\" y=\"97.975219\"/>\n      </g>\n     </g>\n     <g id=\"text_10\">\n      <!-- 0.6 -->\n      <g transform=\"translate(7.2 101.774437)scale(0.1 -0.1)\">\n       <use xlink:href=\"#DejaVuSans-48\"/>\n       <use x=\"63.623047\" xlink:href=\"#DejaVuSans-46\"/>\n       <use x=\"95.410156\" xlink:href=\"#DejaVuSans-54\"/>\n      </g>\n     </g>\n    </g>\n    <g id=\"ytick_5\">\n     <g id=\"line2d_11\">\n      <g>\n       <use style=\"stroke:#000000;stroke-width:0.8;\" x=\"30.103125\" xlink:href=\"#ma7185b43fa\" y=\"54.487219\"/>\n      </g>\n     </g>\n     <g id=\"text_11\">\n      <!-- 0.8 -->\n      <g transform=\"translate(7.2 58.286437)scale(0.1 -0.1)\">\n       <use xlink:href=\"#DejaVuSans-48\"/>\n       <use x=\"63.623047\" xlink:href=\"#DejaVuSans-46\"/>\n       <use x=\"95.410156\" xlink:href=\"#DejaVuSans-56\"/>\n      </g>\n     </g>\n    </g>\n    <g id=\"ytick_6\">\n     <g id=\"line2d_12\">\n      <g>\n       <use style=\"stroke:#000000;stroke-width:0.8;\" x=\"30.103125\" xlink:href=\"#ma7185b43fa\" y=\"10.999219\"/>\n      </g>\n     </g>\n     <g id=\"text_12\">\n      <!-- 1.0 -->\n      <g transform=\"translate(7.2 14.798437)scale(0.1 -0.1)\">\n       <use xlink:href=\"#DejaVuSans-49\"/>\n       <use x=\"63.623047\" xlink:href=\"#DejaVuSans-46\"/>\n       <use x=\"95.410156\" xlink:href=\"#DejaVuSans-48\"/>\n      </g>\n     </g>\n    </g>\n   </g>\n   <g id=\"patch_3\">\n    <path d=\"M 30.103125 228.439219 \nL 30.103125 10.999219 \n\" style=\"fill:none;stroke:#000000;stroke-linecap:square;stroke-linejoin:miter;stroke-width:0.8;\"/>\n   </g>\n   <g id=\"patch_4\">\n    <path d=\"M 364.903125 228.439219 \nL 364.903125 10.999219 \n\" style=\"fill:none;stroke:#000000;stroke-linecap:square;stroke-linejoin:miter;stroke-width:0.8;\"/>\n   </g>\n   <g id=\"patch_5\">\n    <path d=\"M 30.103125 228.439219 \nL 364.903125 228.439219 \n\" style=\"fill:none;stroke:#000000;stroke-linecap:square;stroke-linejoin:miter;stroke-width:0.8;\"/>\n   </g>\n   <g id=\"patch_6\">\n    <path d=\"M 30.103125 10.999219 \nL 364.903125 10.999219 \n\" style=\"fill:none;stroke:#000000;stroke-linecap:square;stroke-linejoin:miter;stroke-width:0.8;\"/>\n   </g>\n  </g>\n </g>\n</svg>\n"
          },
          "metadata": {
            "tags": [],
            "needs_background": "light"
          }
        }
      ]
    },
    {
      "cell_type": "code",
      "metadata": {
        "colab": {
          "base_uri": "https://localhost:8080/"
        },
        "id": "nJpf3RPr6z3t",
        "outputId": "a987d994-b52e-4b00-d5c9-82aa2dc77507"
      },
      "source": [
        "y"
      ],
      "execution_count": null,
      "outputs": [
        {
          "output_type": "execute_result",
          "data": {
            "text/plain": [
              "array([         nan,          nan, 133.07113301,  86.85868711,\n",
              "                nan, 118.62958094,          nan,          nan,\n",
              "        13.39020391,  35.98980763,  55.56982991,  32.95868359,\n",
              "        58.51244263,  49.49744618, 101.69736004, 142.80424155,\n",
              "        82.42752513,          nan,          nan,          nan,\n",
              "        37.11440922,  40.00196556,          nan,          nan,\n",
              "        57.54583584,  51.96688883,  79.96739739,  46.98349145,\n",
              "                nan, 116.67131972,  59.71690709, 152.96177129,\n",
              "        48.47730129,          nan,          nan,  44.42763619,\n",
              "        38.17936278,  84.49855865,  78.59879305,          nan,\n",
              "                nan,  87.96019007,  48.80926447,  66.4751931 ,\n",
              "        99.15219282,          nan,          nan,          nan,\n",
              "        42.14973885,          nan, 108.82929711, 133.6917893 ,\n",
              "        40.59026349, 111.43742358,  84.79026294,          nan,\n",
              "        24.74000486,  49.88088898,  25.24304261,  30.86731045,\n",
              "                nan,  84.25719651,          nan,  68.43270416,\n",
              "        74.34505919,  66.22656189,          nan,          nan,\n",
              "        95.47607053,          nan,  89.15387665,          nan,\n",
              "                nan,  47.69839211,  31.22434561, 102.08568117,\n",
              "        95.16203573,          nan,  58.0362357 ,  67.67598383,\n",
              "                nan,  51.69805184,  60.20163658,  27.37561449,\n",
              "        29.91766232,  89.44325689,  32.76882096,  70.45672659,\n",
              "        55.67443898,          nan,  65.27988588,          nan,\n",
              "                nan, 140.2313016 ,  92.55481758,          nan,\n",
              "        42.11582014,          nan,          nan,          nan,\n",
              "        80.34253988,  17.85955428,  51.2666714 ,  72.83115259,\n",
              "                nan,  30.29579781,  30.86731045,  85.19838024,\n",
              "       130.22069003, 102.09781841,  89.63617966,  36.40564789,\n",
              "       103.20288363,  55.75284941,  73.62525686,  89.03330251,\n",
              "        77.0338648 , 135.15233792,          nan, 107.4404105 ,\n",
              "        59.41005316,          nan,  92.77198761, 101.09087669,\n",
              "       188.10560851,          nan,          nan,  97.21632173,\n",
              "       112.69368623,  33.33825653,  51.06671546,  69.35222778,\n",
              "       100.38147785,  42.72667826,  48.04688353,          nan,\n",
              "        77.37379377,  85.80154185,  18.19183477,          nan,\n",
              "                nan,  40.64812885,  36.0762482 , 133.0346252 ,\n",
              "                nan, 113.51744015,  64.07956819,          nan,\n",
              "                nan,  64.59617353,  99.3226956 ,  83.27023621,\n",
              "        68.5234831 ,  84.28133383,          nan,          nan,\n",
              "        60.43858604, 200.75238507, 100.72713932,          nan,\n",
              "        72.78224506,  71.11644527])"
            ]
          },
          "metadata": {
            "tags": []
          },
          "execution_count": 86
        }
      ]
    },
    {
      "cell_type": "code",
      "metadata": {
        "id": "Vs2Qb3737tQc"
      },
      "source": [
        "data = pd.read_csv(\"https://raw.githubusercontent.com/owid/covid-19-data/master/public/data/vaccinations/us_state_vaccinations.csv\")"
      ],
      "execution_count": null,
      "outputs": []
    },
    {
      "cell_type": "code",
      "metadata": {
        "colab": {
          "base_uri": "https://localhost:8080/"
        },
        "id": "uklEKhFwAZ1Z",
        "outputId": "b6d29333-e0a2-43d4-8434-613b3daafebd"
      },
      "source": [
        "print(data)\n",
        "data.columns"
      ],
      "execution_count": null,
      "outputs": [
        {
          "output_type": "stream",
          "text": [
            "             date location  ...  daily_vaccinations_per_million  share_doses_used\n",
            "0      2021-01-12  Alabama  ...                             NaN             0.207\n",
            "1      2021-01-13  Alabama  ...                          1205.0             0.222\n",
            "2      2021-01-14  Alabama  ...                          1445.0             0.212\n",
            "3      2021-01-15  Alabama  ...                          1525.0             0.226\n",
            "4      2021-01-16  Alabama  ...                          1529.0               NaN\n",
            "...           ...      ...  ...                             ...               ...\n",
            "13863  2021-08-08  Wyoming  ...                          1123.0             0.840\n",
            "13864  2021-08-09  Wyoming  ...                          1125.0             0.840\n",
            "13865  2021-08-10  Wyoming  ...                          1693.0             0.844\n",
            "13866  2021-08-11  Wyoming  ...                          1894.0             0.845\n",
            "13867  2021-08-12  Wyoming  ...                          2125.0             0.844\n",
            "\n",
            "[13868 rows x 14 columns]\n"
          ],
          "name": "stdout"
        },
        {
          "output_type": "execute_result",
          "data": {
            "text/plain": [
              "Index(['date', 'location', 'total_vaccinations', 'total_distributed',\n",
              "       'people_vaccinated', 'people_fully_vaccinated_per_hundred',\n",
              "       'total_vaccinations_per_hundred', 'people_fully_vaccinated',\n",
              "       'people_vaccinated_per_hundred', 'distributed_per_hundred',\n",
              "       'daily_vaccinations_raw', 'daily_vaccinations',\n",
              "       'daily_vaccinations_per_million', 'share_doses_used'],\n",
              "      dtype='object')"
            ]
          },
          "metadata": {
            "tags": []
          },
          "execution_count": 91
        }
      ]
    },
    {
      "cell_type": "code",
      "metadata": {
        "id": "RD-6RzgXAaaP"
      },
      "source": [
        "vote_data = pd.read_csv(\"https://docs.google.com/spreadsheets/d/e/2PACX-1vS3Z8Rq9xqOLISwoKdK0n6CFLBuPSCoXbbLeY8vhi-rzFS3ZFNEtR0BCdEbHcS-2Tlh5aPcnZbwBLao/pub?output=csv\")"
      ],
      "execution_count": null,
      "outputs": []
    },
    {
      "cell_type": "code",
      "metadata": {
        "colab": {
          "base_uri": "https://localhost:8080/",
          "height": 524
        },
        "id": "BpHUYRCPA-KJ",
        "outputId": "c25e707a-271c-4505-94c9-e4c6b13c43f0"
      },
      "source": [
        "vote_data"
      ],
      "execution_count": null,
      "outputs": [
        {
          "output_type": "execute_result",
          "data": {
            "text/html": [
              "<div>\n",
              "<style scoped>\n",
              "    .dataframe tbody tr th:only-of-type {\n",
              "        vertical-align: middle;\n",
              "    }\n",
              "\n",
              "    .dataframe tbody tr th {\n",
              "        vertical-align: top;\n",
              "    }\n",
              "\n",
              "    .dataframe thead th {\n",
              "        text-align: right;\n",
              "    }\n",
              "</style>\n",
              "<table border=\"1\" class=\"dataframe\">\n",
              "  <thead>\n",
              "    <tr style=\"text-align: right;\">\n",
              "      <th></th>\n",
              "      <th>state</th>\n",
              "      <th>called</th>\n",
              "      <th>final</th>\n",
              "      <th>dem_votes</th>\n",
              "      <th>rep_votes</th>\n",
              "      <th>other_votes</th>\n",
              "      <th>dem_percent</th>\n",
              "      <th>rep_percent</th>\n",
              "      <th>other_percent</th>\n",
              "      <th>dem_this_margin</th>\n",
              "      <th>margin_shift</th>\n",
              "      <th>vote_change</th>\n",
              "      <th>stateid</th>\n",
              "      <th>EV</th>\n",
              "      <th>X</th>\n",
              "      <th>Y</th>\n",
              "      <th>State_num</th>\n",
              "      <th>Center_X</th>\n",
              "      <th>Center_Y</th>\n",
              "      <th>Unnamed: 19</th>\n",
              "      <th>2016 Margin</th>\n",
              "      <th>Total 2016 Votes</th>\n",
              "    </tr>\n",
              "  </thead>\n",
              "  <tbody>\n",
              "    <tr>\n",
              "      <th>0</th>\n",
              "      <td>U.S. Total</td>\n",
              "      <td>D</td>\n",
              "      <td>Yes</td>\n",
              "      <td>81,282,916</td>\n",
              "      <td>74,223,369</td>\n",
              "      <td>2,891,441</td>\n",
              "      <td>51.3%</td>\n",
              "      <td>46.9%</td>\n",
              "      <td>1.8%</td>\n",
              "      <td>4.5%</td>\n",
              "      <td>2.4%</td>\n",
              "      <td>15.9%</td>\n",
              "      <td>NaN</td>\n",
              "      <td>NaN</td>\n",
              "      <td>NaN</td>\n",
              "      <td>NaN</td>\n",
              "      <td>NaN</td>\n",
              "      <td>NaN</td>\n",
              "      <td>NaN</td>\n",
              "      <td>NaN</td>\n",
              "      <td>0.020995</td>\n",
              "      <td>136,639,848</td>\n",
              "    </tr>\n",
              "    <tr>\n",
              "      <th>1</th>\n",
              "      <td>15 Key Battlegrounds</td>\n",
              "      <td>NaN</td>\n",
              "      <td>NaN</td>\n",
              "      <td>31,908,248</td>\n",
              "      <td>33,002,287</td>\n",
              "      <td>950,354</td>\n",
              "      <td>48.4%</td>\n",
              "      <td>50.1%</td>\n",
              "      <td>1.4%</td>\n",
              "      <td>-1.7%</td>\n",
              "      <td>2.0%</td>\n",
              "      <td>17.2%</td>\n",
              "      <td>NaN</td>\n",
              "      <td>NaN</td>\n",
              "      <td>NaN</td>\n",
              "      <td>NaN</td>\n",
              "      <td>NaN</td>\n",
              "      <td>NaN</td>\n",
              "      <td>NaN</td>\n",
              "      <td>NaN</td>\n",
              "      <td>-0.036220</td>\n",
              "      <td>56,209,173</td>\n",
              "    </tr>\n",
              "    <tr>\n",
              "      <th>2</th>\n",
              "      <td>Non-Battlegrounds</td>\n",
              "      <td>NaN</td>\n",
              "      <td>NaN</td>\n",
              "      <td>49,374,668</td>\n",
              "      <td>41,221,082</td>\n",
              "      <td>1,941,087</td>\n",
              "      <td>53.4%</td>\n",
              "      <td>44.5%</td>\n",
              "      <td>2.1%</td>\n",
              "      <td>8.8%</td>\n",
              "      <td>2.7%</td>\n",
              "      <td>15.1%</td>\n",
              "      <td>NaN</td>\n",
              "      <td>NaN</td>\n",
              "      <td>NaN</td>\n",
              "      <td>NaN</td>\n",
              "      <td>NaN</td>\n",
              "      <td>NaN</td>\n",
              "      <td>NaN</td>\n",
              "      <td>NaN</td>\n",
              "      <td>0.060978</td>\n",
              "      <td>80,430,331</td>\n",
              "    </tr>\n",
              "    <tr>\n",
              "      <th>3</th>\n",
              "      <td>15 Key Battlegrounds</td>\n",
              "      <td>NaN</td>\n",
              "      <td>NaN</td>\n",
              "      <td>NaN</td>\n",
              "      <td>NaN</td>\n",
              "      <td>NaN</td>\n",
              "      <td>NaN</td>\n",
              "      <td>NaN</td>\n",
              "      <td>NaN</td>\n",
              "      <td>NaN</td>\n",
              "      <td>NaN</td>\n",
              "      <td>NaN</td>\n",
              "      <td>NaN</td>\n",
              "      <td>NaN</td>\n",
              "      <td>NaN</td>\n",
              "      <td>NaN</td>\n",
              "      <td>NaN</td>\n",
              "      <td>NaN</td>\n",
              "      <td>NaN</td>\n",
              "      <td>NaN</td>\n",
              "      <td>NaN</td>\n",
              "      <td>NaN</td>\n",
              "    </tr>\n",
              "    <tr>\n",
              "      <th>4</th>\n",
              "      <td>Arizona</td>\n",
              "      <td>D</td>\n",
              "      <td>Yes</td>\n",
              "      <td>1,672,143</td>\n",
              "      <td>1,661,686</td>\n",
              "      <td>53,497</td>\n",
              "      <td>49.4%</td>\n",
              "      <td>49.1%</td>\n",
              "      <td>1.6%</td>\n",
              "      <td>0.3%</td>\n",
              "      <td>3.9%</td>\n",
              "      <td>31.6%</td>\n",
              "      <td>AZ</td>\n",
              "      <td>11.0</td>\n",
              "      <td>2.0</td>\n",
              "      <td>2.0</td>\n",
              "      <td>4.0</td>\n",
              "      <td>205.0</td>\n",
              "      <td>374.0</td>\n",
              "      <td>NaN</td>\n",
              "      <td>-0.035456</td>\n",
              "      <td>2,573,165</td>\n",
              "    </tr>\n",
              "    <tr>\n",
              "      <th>...</th>\n",
              "      <td>...</td>\n",
              "      <td>...</td>\n",
              "      <td>...</td>\n",
              "      <td>...</td>\n",
              "      <td>...</td>\n",
              "      <td>...</td>\n",
              "      <td>...</td>\n",
              "      <td>...</td>\n",
              "      <td>...</td>\n",
              "      <td>...</td>\n",
              "      <td>...</td>\n",
              "      <td>...</td>\n",
              "      <td>...</td>\n",
              "      <td>...</td>\n",
              "      <td>...</td>\n",
              "      <td>...</td>\n",
              "      <td>...</td>\n",
              "      <td>...</td>\n",
              "      <td>...</td>\n",
              "      <td>...</td>\n",
              "      <td>...</td>\n",
              "      <td>...</td>\n",
              "    </tr>\n",
              "    <tr>\n",
              "      <th>56</th>\n",
              "      <td>Vermont</td>\n",
              "      <td>D</td>\n",
              "      <td>Yes</td>\n",
              "      <td>242,820</td>\n",
              "      <td>112,704</td>\n",
              "      <td>11,904</td>\n",
              "      <td>66.1%</td>\n",
              "      <td>30.7%</td>\n",
              "      <td>3.2%</td>\n",
              "      <td>35.4%</td>\n",
              "      <td>9.0%</td>\n",
              "      <td>16.6%</td>\n",
              "      <td>VT</td>\n",
              "      <td>3.0</td>\n",
              "      <td>10.0</td>\n",
              "      <td>6.0</td>\n",
              "      <td>50.0</td>\n",
              "      <td>873.0</td>\n",
              "      <td>134.0</td>\n",
              "      <td>NaN</td>\n",
              "      <td>0.264084</td>\n",
              "      <td>315,067</td>\n",
              "    </tr>\n",
              "    <tr>\n",
              "      <th>57</th>\n",
              "      <td>Virginia</td>\n",
              "      <td>D</td>\n",
              "      <td>Yes</td>\n",
              "      <td>2,413,568</td>\n",
              "      <td>1,962,430</td>\n",
              "      <td>84,526</td>\n",
              "      <td>54.1%</td>\n",
              "      <td>44.0%</td>\n",
              "      <td>1.9%</td>\n",
              "      <td>10.1%</td>\n",
              "      <td>4.8%</td>\n",
              "      <td>12.0%</td>\n",
              "      <td>VA</td>\n",
              "      <td>13.0</td>\n",
              "      <td>8.0</td>\n",
              "      <td>3.0</td>\n",
              "      <td>51.0</td>\n",
              "      <td>809.0</td>\n",
              "      <td>299.0</td>\n",
              "      <td>NaN</td>\n",
              "      <td>0.053212</td>\n",
              "      <td>3,982,752</td>\n",
              "    </tr>\n",
              "    <tr>\n",
              "      <th>58</th>\n",
              "      <td>Washington</td>\n",
              "      <td>D</td>\n",
              "      <td>Yes</td>\n",
              "      <td>2,369,612</td>\n",
              "      <td>1,584,651</td>\n",
              "      <td>133,368</td>\n",
              "      <td>58.0%</td>\n",
              "      <td>38.8%</td>\n",
              "      <td>3.3%</td>\n",
              "      <td>19.2%</td>\n",
              "      <td>3.5%</td>\n",
              "      <td>21.5%</td>\n",
              "      <td>WA</td>\n",
              "      <td>12.0</td>\n",
              "      <td>1.0</td>\n",
              "      <td>5.0</td>\n",
              "      <td>53.0</td>\n",
              "      <td>128.0</td>\n",
              "      <td>58.0</td>\n",
              "      <td>NaN</td>\n",
              "      <td>0.157060</td>\n",
              "      <td>3,365,644</td>\n",
              "    </tr>\n",
              "    <tr>\n",
              "      <th>59</th>\n",
              "      <td>West Virginia</td>\n",
              "      <td>R</td>\n",
              "      <td>Yes</td>\n",
              "      <td>235,984</td>\n",
              "      <td>545,382</td>\n",
              "      <td>13,286</td>\n",
              "      <td>29.7%</td>\n",
              "      <td>68.6%</td>\n",
              "      <td>1.7%</td>\n",
              "      <td>-38.9%</td>\n",
              "      <td>3.1%</td>\n",
              "      <td>11.4%</td>\n",
              "      <td>WV</td>\n",
              "      <td>5.0</td>\n",
              "      <td>7.0</td>\n",
              "      <td>3.0</td>\n",
              "      <td>54.0</td>\n",
              "      <td>765.0</td>\n",
              "      <td>284.0</td>\n",
              "      <td>NaN</td>\n",
              "      <td>-0.420727</td>\n",
              "      <td>713,051</td>\n",
              "    </tr>\n",
              "    <tr>\n",
              "      <th>60</th>\n",
              "      <td>Wyoming</td>\n",
              "      <td>R</td>\n",
              "      <td>Yes</td>\n",
              "      <td>73,491</td>\n",
              "      <td>193,559</td>\n",
              "      <td>9,715</td>\n",
              "      <td>26.6%</td>\n",
              "      <td>69.9%</td>\n",
              "      <td>3.5%</td>\n",
              "      <td>-43.4%</td>\n",
              "      <td>2.9%</td>\n",
              "      <td>8.2%</td>\n",
              "      <td>WY</td>\n",
              "      <td>3.0</td>\n",
              "      <td>3.0</td>\n",
              "      <td>4.0</td>\n",
              "      <td>56.0</td>\n",
              "      <td>306.0</td>\n",
              "      <td>187.0</td>\n",
              "      <td>NaN</td>\n",
              "      <td>-0.462953</td>\n",
              "      <td>255,849</td>\n",
              "    </tr>\n",
              "  </tbody>\n",
              "</table>\n",
              "<p>61 rows × 22 columns</p>\n",
              "</div>"
            ],
            "text/plain": [
              "                   state called  ... 2016 Margin Total 2016 Votes\n",
              "0             U.S. Total      D  ...    0.020995      136,639,848\n",
              "1   15 Key Battlegrounds    NaN  ...   -0.036220       56,209,173\n",
              "2      Non-Battlegrounds    NaN  ...    0.060978       80,430,331\n",
              "3   15 Key Battlegrounds    NaN  ...         NaN              NaN\n",
              "4                Arizona      D  ...   -0.035456        2,573,165\n",
              "..                   ...    ...  ...         ...              ...\n",
              "56               Vermont      D  ...    0.264084          315,067\n",
              "57              Virginia      D  ...    0.053212        3,982,752\n",
              "58            Washington      D  ...    0.157060        3,365,644\n",
              "59         West Virginia      R  ...   -0.420727          713,051\n",
              "60               Wyoming      R  ...   -0.462953          255,849\n",
              "\n",
              "[61 rows x 22 columns]"
            ]
          },
          "metadata": {
            "tags": []
          },
          "execution_count": 95
        }
      ]
    },
    {
      "cell_type": "code",
      "metadata": {
        "id": "2RdI7QQPA_Hh"
      },
      "source": [
        ""
      ],
      "execution_count": null,
      "outputs": []
    }
  ]
}